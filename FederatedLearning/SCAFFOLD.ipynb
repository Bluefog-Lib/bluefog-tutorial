{
 "cells": [
  {
   "cell_type": "code",
   "execution_count": 1,
   "metadata": {
    "id": "e2d726b39c13"
   },
   "outputs": [],
   "source": [
    "import numpy as np\n",
    "import torch\n",
    "from sklearn.preprocessing import normalize\n",
    "import cvxpy as cvx\n",
    "import matplotlib.pyplot as plt\n",
    "import torch.nn.functional as F \n",
    "%matplotlib inline\n",
    "%load_ext autoreload\n",
    "%autoreload 2"
   ]
  },
  {
   "cell_type": "code",
   "execution_count": 2,
   "metadata": {
    "id": "58ba41104ab2"
   },
   "outputs": [
    {
     "data": {
      "text/plain": [
       "[0, 1, 2, 3]"
      ]
     },
     "execution_count": 2,
     "metadata": {},
     "output_type": "execute_result"
    }
   ],
   "source": [
    "import ipyparallel as ipp\n",
    "rc = ipp.Client(profile=\"bluefog\")\n",
    "rc.ids"
   ]
  },
  {
   "cell_type": "markdown",
   "metadata": {
    "id": "95df17cf675d"
   },
   "source": [
    "# Federated Averaging Simulation"
   ]
  },
  {
   "cell_type": "code",
   "execution_count": 3,
   "metadata": {
    "id": "599cb45ce7a6"
   },
   "outputs": [],
   "source": [
    "# Generate data and write auxilary functions.\n",
    "def sigmoid(x):\n",
    "    return 1 / (1 + np.exp(-x))\n",
    "\"\"\"\n",
    "Global Parameters:\n",
    "    N (int) := Number of data points.\n",
    "    dim (int) := Dimension of a data point.\n",
    "    reg (float) := Regularization parameter.\n",
    "    w (np.array) := Parameters of size (dim, 1).\n",
    "    X (np.array) := Data of size (N, dim).\n",
    "    y (np.array) := Labels of data of size (dim, 1).\n",
    "    ss (float) := Step-size.\n",
    "    ep (int) := Number of epochs in between a round of communication.\n",
    "    batch (int) := Batch size.\n",
    "    exp (int) := Number of experiments.\n",
    "    comms (int) := Number of communications.\n",
    "    num_workers (int) := Number of workers.\n",
    "\"\"\"\n",
    "N = 8000\n",
    "dim = 10\n",
    "reg = 1e-4\n",
    "np.random.seed(0)\n",
    "\n",
    "w = np.random.multivariate_normal([0.0]*dim, np.eye(dim), 1).T\n",
    "X = np.random.multivariate_normal([0.0]*dim, np.eye(dim), size = N)\n",
    "X = normalize(X, axis = 1, norm = 'l2')\n",
    "y = 2 * (np.random.uniform(size = (N, 1)) < sigmoid(X @ w)) - 1\n",
    "ss = 0.1\n",
    "ep = 1\n",
    "batch = 50\n",
    "exp = 5\n",
    "comms = 100\n",
    "num_workers = len(rc.ids)"
   ]
  },
  {
   "cell_type": "code",
   "execution_count": 4,
   "metadata": {
    "id": "d0c838fed487"
   },
   "outputs": [
    {
     "name": "stdout",
     "output_type": "stream",
     "text": [
      "Optimal objective function value is: 0.558468913332832\n"
     ]
    }
   ],
   "source": [
    "# Solve using CVX to find the optimal solution.\n",
    "w_star = cvx.Variable((dim, 1))\n",
    "loss = 1/N * cvx.sum(cvx.logistic(-cvx.multiply(y, X @ w_star))) + reg/2 * cvx.sum_squares(w_star)\n",
    "problem = cvx.Problem(cvx.Minimize(loss))\n",
    "problem.solve(verbose = False, abstol = 1e-15)\n",
    "opt = problem.value\n",
    "print(f'Optimal objective function value is: {opt}')"
   ]
  },
  {
   "cell_type": "code",
   "execution_count": 5,
   "metadata": {
    "id": "be5338aad7ec"
   },
   "outputs": [],
   "source": [
    "# Convert numpy arrays to PyTorch tensor.\n",
    "w_star_tensor = torch.from_numpy(w_star.value)\n",
    "X_tensor = torch.Tensor(X).to(torch.float32)\n",
    "y_tensor = torch.Tensor(y).to(torch.float32)"
   ]
  },
  {
   "cell_type": "code",
   "execution_count": 6,
   "metadata": {
    "id": "5f11cfefad3a"
   },
   "outputs": [
    {
     "data": {
      "text/plain": [
       "[None, None, None, None]"
      ]
     },
     "execution_count": 6,
     "metadata": {},
     "output_type": "execute_result"
    }
   ],
   "source": [
    "dview = rc[:]\n",
    "dview.block=True\n",
    "dview.push({'number_workers':len(rc.ids)})\n",
    "dview.push({'w_star_tensor': w_star_tensor})\n",
    "dview.push({'X_tensor': X_tensor})\n",
    "dview.push({'y_tensor': y_tensor})\n",
    "dview.push({'reg': reg})\n",
    "dview.push({'step_size': ss})\n",
    "dview.push({'epochs': ep})\n",
    "dview.push({'batch': batch})\n",
    "dview.push({'comms': comms})"
   ]
  },
  {
   "cell_type": "code",
   "execution_count": 7,
   "metadata": {
    "id": "373b0c2750a7"
   },
   "outputs": [],
   "source": [
    "import bluefog.torch as bf\n",
    "bf.init()\n",
    "import torch"
   ]
  },
  {
   "cell_type": "code",
   "execution_count": 8,
   "metadata": {
    "id": "3d1c27e7fc6d"
   },
   "outputs": [
    {
     "name": "stdout",
     "output_type": "stream",
     "text": [
      "[stdout:0] \n",
      "The autoreload extension is already loaded. To reload it, use:\n",
      "  %reload_ext autoreload\n",
      "[stdout:1] \n",
      "The autoreload extension is already loaded. To reload it, use:\n",
      "  %reload_ext autoreload\n",
      "[stdout:2] \n",
      "The autoreload extension is already loaded. To reload it, use:\n",
      "  %reload_ext autoreload\n",
      "[stdout:3] \n",
      "The autoreload extension is already loaded. To reload it, use:\n",
      "  %reload_ext autoreload\n"
     ]
    }
   ],
   "source": [
    "%%px\n",
    "import Documents.tutorials.classifier as classifier\n",
    "%load_ext autoreload\n",
    "%autoreload 2\n",
    "solver = classifier.LogReg(w_star_tensor)"
   ]
  },
  {
   "cell_type": "code",
   "execution_count": 9,
   "metadata": {
    "id": "b6e65d38f6dc"
   },
   "outputs": [],
   "source": [
    "MSE = torch.zeros((comms, 1))\n",
    "for j in range(exp):\n",
    "    for i in range(comms):\n",
    "        aggregate_w = torch.zeros((dim , 1))\n",
    "        %px _, _, _ = solver.SGD(X_tensor, y_tensor, step_size=step_size, epochs=epochs, batch_size=batch)\n",
    "        for j in range(num_workers):\n",
    "            aggregate_w += dview.pull('solver.w', block=True, targets=j)\n",
    "        aggregate_w /= num_workers\n",
    "        dview.push({'solver.w': aggregate_w})\n",
    "#         if i % 10 == 0:\n",
    "#             print(f'Server Parameter: {aggregate_w}')\n",
    "#             %px print(f'Local Parameter: {solver.w}')\n",
    "        MSE[i] += (torch.norm(aggregate_w-w_star_tensor, p=2))\n",
    "MSE = 10 * torch.log(MSE/exp)"
   ]
  },
  {
   "cell_type": "code",
   "execution_count": 10,
   "metadata": {
    "id": "14aaf5fca378"
   },
   "outputs": [
    {
     "data": {
      "text/plain": [
       "[<matplotlib.lines.Line2D at 0x7efc94ca9fd0>]"
      ]
     },
     "execution_count": 10,
     "metadata": {},
     "output_type": "execute_result"
    },
    {
     "data": {
      "image/png": "[encoded data removed]",
      "text/plain": [
       "<Figure size 432x288 with 1 Axes>"
      ]
     },
     "metadata": {
      "needs_background": "light"
     },
     "output_type": "display_data"
    }
   ],
   "source": [
    "plt.plot(MSE)"
   ]
  },
  {
   "cell_type": "code",
   "execution_count": null,
   "metadata": {
    "id": "11dd8e65671b"
   },
   "outputs": [],
   "source": [
    "%%px\n",
    "print(solver.obj(X_tensor, y_tensor, reg))"
   ]
  },
  {
   "cell_type": "markdown",
   "metadata": {
    "id": "b979c2140e79"
   },
   "source": [
    "# SCAFFOLD Simulation"
   ]
  },
  {
   "cell_type": "code",
   "execution_count": null,
   "metadata": {
    "id": "e931672348be"
   },
   "outputs": [],
   "source": [
    "# Generate data and write auxilary functions.\n",
    "def sigmoid(x):\n",
    "    return 1 / (1 + np.exp(-x))\n",
    "\"\"\"\n",
    "Global Parameters:\n",
    "    N (int) := Number of data points.\n",
    "    dim (int) := Dimension of a data point.\n",
    "    reg (float) := Regularization parameter.\n",
    "    w (np.array) := Parameters of size (dim, 1).\n",
    "    X (np.array) := Data of size (N, dim).\n",
    "    y (np.array) := Labels of data of size (dim, 1).\n",
    "    ss (float) := Step-size.\n",
    "    ep (int) := Number of epochs in between a round of communication.\n",
    "    batch (int) := Batch size.\n",
    "    exp (int) := Number of experiments.\n",
    "    comms (int) := Number of communications.\n",
    "    num_workers (int) := Number of workers.\n",
    "\"\"\"\n",
    "N = 8000\n",
    "dim = 10\n",
    "reg = 1e-4\n",
    "np.random.seed(0)\n",
    "\n",
    "w = np.random.multivariate_normal([0.0]*dim, np.eye(dim), 1).T\n",
    "X = np.random.multivariate_normal([0.0]*dim, np.eye(dim), size = N)\n",
    "X = normalize(X, axis = 1, norm = 'l2')\n",
    "y = 2 * (np.random.uniform(size = (N, 1)) < sigmoid(X @ w)) - 1\n",
    "ss = 0.1\n",
    "ep = 1\n",
    "batch = 50\n",
    "exp = 1\n",
    "comms = 100\n",
    "num_workers = len(rc.ids)"
   ]
  },
  {
   "cell_type": "code",
   "execution_count": null,
   "metadata": {
    "id": "c1379b3dbd20"
   },
   "outputs": [],
   "source": [
    "# Solve using CVX to find the optimal solution.\n",
    "w_star = cvx.Variable((dim, 1))\n",
    "loss = 1/N * cvx.sum(cvx.logistic(-cvx.multiply(y, X @ w_star))) + reg/2 * cvx.sum_squares(w_star)\n",
    "problem = cvx.Problem(cvx.Minimize(loss))\n",
    "problem.solve(verbose = False, abstol = 1e-15)\n",
    "opt = problem.value\n",
    "print(f'Optimal objective function value is: {opt}')"
   ]
  },
  {
   "cell_type": "code",
   "execution_count": null,
   "metadata": {
    "id": "cb33a1eae55f"
   },
   "outputs": [],
   "source": [
    "# Convert numpy arrays to PyTorch tensor.\n",
    "w_star_tensor = torch.from_numpy(w_star.value)\n",
    "X_tensor = torch.Tensor(X).to(torch.float32)\n",
    "y_tensor = torch.Tensor(y).to(torch.float32)"
   ]
  },
  {
   "cell_type": "code",
   "execution_count": null,
   "metadata": {
    "id": "6ada889be507"
   },
   "outputs": [],
   "source": [
    "dview = rc[:]\n",
    "dview.block=True\n",
    "dview.push({'number_workers':len(rc.ids)})\n",
    "dview.push({'w_star_tensor': w_star_tensor})\n",
    "dview.push({'X_tensor': X_tensor})\n",
    "dview.push({'y_tensor': y_tensor})\n",
    "dview.push({'reg': reg})\n",
    "dview.push({'step_size': ss})\n",
    "dview.push({'epochs': ep})\n",
    "dview.push({'batch': batch})\n",
    "dview.push({'comms': comms})"
   ]
  },
  {
   "cell_type": "code",
   "execution_count": null,
   "metadata": {
    "id": "900a5a6aa657"
   },
   "outputs": [],
   "source": [
    "import bluefog.torch as bf\n",
    "bf.init()\n",
    "import torch"
   ]
  },
  {
   "cell_type": "code",
   "execution_count": null,
   "metadata": {
    "id": "ff6efc7dc0e7"
   },
   "outputs": [],
   "source": [
    "%%px\n",
    "import Documents.tutorials.classifier as classifier\n",
    "solver = classifier.LogReg(w_star_tensor)"
   ]
  },
  {
   "cell_type": "code",
   "execution_count": null,
   "metadata": {
    "id": "9a986e139270"
   },
   "outputs": [],
   "source": [
    "MSE = torch.zeros((comms, 1))\n",
    "for j in range(exp):\n",
    "    server_w = torch.rand((dim, 1))\n",
    "    c_server = 0.0\n",
    "    for i in range(comms):\n",
    "        # Push server variables to clients.\n",
    "        dview.push({'server_w': server_w})\n",
    "        dview.push({'c_server': c_server})\n",
    "        # Create storage variables for aggregates.\n",
    "        aggregate_w_delta = torch.zeros((dim, 1))\n",
    "        aggregate_c_delta = 0.0\n",
    "        # Run local updates.\n",
    "        %px delta_w, delta_c = solver.SCAFFOLD_Local(X_tensor, y_tensor, server_w, c_server, step_size=0.1, reg=1e-4, iterations=100, batch_size=50)\n",
    "        for j in range(num_workers):\n",
    "            aggregate_w_delta += dview.pull('delta_w', block=True, targets=j)\n",
    "            aggregate_c_delta += dview.pull('delta_c', block=True, targets=j)\n",
    "        aggregate_w_delta /= num_workers\n",
    "        aggregate_c_delta /= num_workers\n",
    "        server_w = server_w + .5 * aggregate_w_delta\n",
    "        c_server = c_server + aggregate_c_delta\n",
    "        MSE[i] += (torch.norm(server_w-w_star_tensor, p=2))\n",
    "MSE = 10 * torch.log(MSE/exp)"
   ]
  },
  {
   "cell_type": "code",
   "execution_count": null,
   "metadata": {
    "id": "82ff57b58548"
   },
   "outputs": [],
   "source": [
    "plt.plot(MSE)"
   ]
  },
  {
   "cell_type": "code",
   "execution_count": null,
   "metadata": {
    "id": "7b649642cc92"
   },
   "outputs": [],
   "source": [
    "# %%px\n",
    "# bf.suspend()"
   ]
  },
  {
   "cell_type": "code",
   "execution_count": null,
   "metadata": {
    "id": "3da3ae77b1b0"
   },
   "outputs": [],
   "source": [
    "# %%px\n",
    "# import os\n",
    "\n",
    "# print(os.getcwd())"
   ]
  }
 ],
 "metadata": {
  "colab": {
   "name": "SCAFFOLD.ipynb",
   "toc_visible": true
  },
  "kernelspec": {
   "display_name": "Python 3",
   "name": "python3"
  }
 },
 "nbformat": 4,
 "nbformat_minor": 0
}

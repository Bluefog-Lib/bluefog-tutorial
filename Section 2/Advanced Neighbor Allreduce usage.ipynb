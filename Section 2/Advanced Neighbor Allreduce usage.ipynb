{
 "cells": [
  {
   "cell_type": "markdown",
   "id": "agricultural-steel",
   "metadata": {
    "id": "e6b89238ca3a"
   },
   "source": [
    "# Introduce more about the send\\_neighbors and neighbor\\_weights"
   ]
  }
 ],
 "metadata": {
  "colab": {
   "name": "Advanced Neighbor Allreduce usage.ipynb",
   "toc_visible": true
  },
  "kernelspec": {
   "display_name": "Python 3",
   "name": "python3"
  }
 },
 "nbformat": 4,
 "nbformat_minor": 0
}

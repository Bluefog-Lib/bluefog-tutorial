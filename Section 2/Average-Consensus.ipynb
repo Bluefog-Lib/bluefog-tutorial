{
 "cells": [
  {
   "cell_type": "markdown",
   "id": "successful-terrace",
   "metadata": {},
   "source": [
    "# Average Consensus\n",
    "\n",
    "## Background the problem setting\n",
    "\n",
    "Find $\\bar{x} = \\sum(x_i)$ for all agent $i$ defined over graph.\n",
    "Application example? Page-rank? Markov-chain?\n",
    "\n",
    "\n",
    "## Graph Definition\n",
    "\n",
    "Talk about \n",
    "- graph definition $\\mathcal{G} = (V,E)$\n",
    "- directional and undirectional graph\n",
    "- incoming neighbors and outgoing neighbors\n",
    "- Stochastic matrix\n",
    "\n",
    "BlueFog about\n",
    "\n",
    "- `bf.set_topology()`\n",
    "- Common topologies examples\n",
    "- Weights and is_weighted Setting\n",
    "\n",
    "## Communication over graph and Consensus algorithm\n",
    "\n",
    "Algorithm:\n",
    "- simply $x_{k+1} = W x_k$ iteration\n",
    "\n",
    "BlueFog \n",
    "- `bf.neighbor_allreduce()`\n",
    "- Collective communication -- BSP pattern (Bulk synchronized processing)\n",
    "\n",
    "Analysis:\n",
    "- Spectrum of Combination matrix $W$\n",
    "- Convergence proof and speed discussion"
   ]
  },
  {
   "cell_type": "code",
   "execution_count": null,
   "id": "indian-laugh",
   "metadata": {},
   "outputs": [],
   "source": []
  },
  {
   "cell_type": "code",
   "execution_count": null,
   "id": "sensitive-parcel",
   "metadata": {},
   "outputs": [],
   "source": []
  },
  {
   "cell_type": "code",
   "execution_count": null,
   "id": "collectible-alcohol",
   "metadata": {},
   "outputs": [],
   "source": []
  }
 ],
 "metadata": {
  "kernelspec": {
   "display_name": "Python 3.7.3 64-bit ('base': conda)",
   "language": "python",
   "name": "python37364bitbasecondab45000257b1d4579a7afc8c939c94805"
  },
  "language_info": {
   "codemirror_mode": {
    "name": "ipython",
    "version": 3
   },
   "file_extension": ".py",
   "mimetype": "text/x-python",
   "name": "python",
   "nbconvert_exporter": "python",
   "pygments_lexer": "ipython3",
   "version": "3.7.3"
  },
  "toc": {
   "base_numbering": 1,
   "nav_menu": {},
   "number_sections": true,
   "sideBar": true,
   "skip_h1_title": false,
   "title_cell": "Table of Contents",
   "title_sidebar": "Contents",
   "toc_cell": false,
   "toc_position": {},
   "toc_section_display": true,
   "toc_window_display": false
  }
 },
 "nbformat": 4,
 "nbformat_minor": 5
}

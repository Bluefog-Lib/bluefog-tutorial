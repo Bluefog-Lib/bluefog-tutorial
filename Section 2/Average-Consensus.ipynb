{
 "cells": [
  {
   "cell_type": "markdown",
   "metadata": {},
   "source": [
    "# Average Consensus\n",
    "\n",
    "## Background the problem setting\n",
    "\n",
    "Find $\\bar{x} = \\sum(x_i)$ for all agent $i$ defined over graph.\n",
    "Application example? Page-rank? Markov-chain?\n",
    "\n",
    "\n",
    "## Graph Definition\n",
    "\n",
    "Talk about \n",
    "- graph definition $\\mathcal{G} = (V,E)$\n",
    "- directional and undirectional graph\n",
    "- incoming neighbors and outgoing neighbors\n",
    "- Stochastic matrix\n",
    "\n",
    "BlueFog about\n",
    "\n",
    "- `bf.set_topology()`\n",
    "- Common topologies examples\n",
    "- Weights and is_weighted Setting\n",
    "\n",
    "## Communication over graph and Consensus algorithm\n",
    "\n",
    "Algorithm:\n",
    "- simply $x_{k+1} = W x_k$ iteration\n",
    "\n",
    "BlueFog \n",
    "- `bf.neighbor_allreduce()`\n",
    "- Collective communication -- BSP pattern (Bulk synchronized processing)\n",
    "\n",
    "Analysis:\n",
    "- Spectrum of Combination matrix $W$\n",
    "- Convergence proof and speed discussion"
   ]
  },
  {
   "cell_type": "code",
   "execution_count": 1,
   "metadata": {},
   "outputs": [],
   "source": [
    "import ipyparallel as ipp\n",
    "import numpy as np\n",
    "import torch\n",
    "import networkx as nx   # nx will be used for network topology creating and plotting\n",
    "import matplotlib.pyplot as plt\n",
    "%matplotlib inline"
   ]
  },
  {
   "cell_type": "code",
   "execution_count": 2,
   "metadata": {},
   "outputs": [
    {
     "data": {
      "text/plain": [
       "[0, 1, 2, 3]"
      ]
     },
     "execution_count": 2,
     "metadata": {},
     "output_type": "execute_result"
    }
   ],
   "source": [
    "rc = ipp.Client(profile='bluefog')\n",
    "rc.ids"
   ]
  },
  {
   "cell_type": "code",
   "execution_count": 3,
   "metadata": {},
   "outputs": [
    {
     "name": "stdout",
     "output_type": "stream",
     "text": [
      "[stdout:0] Hello, I am 0 among 4 processes\n",
      "[stdout:1] Hello, I am 1 among 4 processes\n",
      "[stdout:2] Hello, I am 3 among 4 processes\n",
      "[stdout:3] Hello, I am 2 among 4 processes\n"
     ]
    }
   ],
   "source": [
    "%%px\n",
    "import numpy as np\n",
    "import bluefog.torch as bf\n",
    "import torch\n",
    "from bluefog.common import topology_util\n",
    "import networkx as nx\n",
    "\n",
    "bf.init()\n",
    "print(f\"Hello, I am {bf.rank()} among {bf.size()} processes\")"
   ]
  },
  {
   "cell_type": "code",
   "execution_count": 4,
   "metadata": {},
   "outputs": [],
   "source": [
    "dview = rc[:] # A DirectView of all engines\n",
    "dview.block=True"
   ]
  },
  {
   "cell_type": "code",
   "execution_count": 5,
   "metadata": {},
   "outputs": [
    {
     "data": {
      "text/plain": [
       "[None, None, None, None]"
      ]
     },
     "execution_count": 5,
     "metadata": {},
     "output_type": "execute_result"
    }
   ],
   "source": [
    "# Push the data into all workers\n",
    "dview.push({'seed': 2021}, block=True)"
   ]
  },
  {
   "cell_type": "code",
   "execution_count": 6,
   "metadata": {},
   "outputs": [
    {
     "name": "stdout",
     "output_type": "stream",
     "text": [
      "[stdout:0] I received seed as value:  2021\n",
      "[stdout:1] I received seed as value:  2021\n",
      "[stdout:2] I received seed as value:  2021\n",
      "[stdout:3] I received seed as value:  2021\n"
     ]
    }
   ],
   "source": [
    "%%px\n",
    "print(\"I received seed as value: \", seed)"
   ]
  },
  {
   "cell_type": "code",
   "execution_count": 7,
   "metadata": {},
   "outputs": [],
   "source": [
    "%%px \n",
    "# Generate parameters \n",
    "d = 10     # Dimension of parameter\n",
    "x = torch.randn((d, 1))     # Randomly generate set of parameters."
   ]
  },
  {
   "cell_type": "code",
   "execution_count": 8,
   "metadata": {},
   "outputs": [
    {
     "data": {
      "text/plain": [
       "[None, None, None, None]"
      ]
     },
     "execution_count": 8,
     "metadata": {},
     "output_type": "execute_result"
    }
   ],
   "source": [
    "d = dview.pull('d', block=True, targets=0)\n",
    "x_sol = torch.zeros((d, 1))\n",
    "for j in range(len(rc.ids)):\n",
    "    x_sol += dview.pull('x', block=True, targets=j)     # Determine optimal solution.\n",
    "x_sol /= len(rc.ids)\n",
    "dview.push({'x_sol': x_sol})     # Push the optimal solution onto the workers."
   ]
  },
  {
   "cell_type": "markdown",
   "metadata": {},
   "source": [
    "A graph ($\\mathcal{G} = (V,E)$) is a structure that contains a set of related objects. These objects are mathematically abstracted as vertices denoted as $V$. Pairs of related vertices are an edge denoted as $E$. If there are two related vertices $V_1$ and $V_2$, an edge would be defined as ($V_1$, $V_2$). A graph can be further classified as undirected or directed. In an undirected graph, edges indicate a two-way relationship meaning that each edge can be traversed in either direction. On the other hand, a directed graph has edges with direction meaning a one-way relationship. To explain the difference between an incoming neighbor and outgoing neighbor, we will use the notation for an edge defined before. An incoming neighbor is one that is on the receiving end of the traversal which for an edge ($V_1$, $V_2$) would be $V_2$. An outgoing neighbor is one that is at the beginning of the edge traversal which for an edge ($V_1$, $V_2$) would be $V_1$."
   ]
  },
  {
   "cell_type": "markdown",
   "metadata": {},
   "source": [
    "Graphs can be represented by an adjacency matrix $W$ of sixe $N \\times N$ where $N$ is the number of vertices. A index of $W_{i, j}$ indicates that there is an edge between vertices $V_i$ and $V_j$. Some adjacency matrices have the special property of being stochastic. For a row-stochastic matrix, this means that the values in each row sum to 1. For a column-stochastic matrix, this means that the values in each column sum to one."
   ]
  },
  {
   "cell_type": "markdown",
   "metadata": {},
   "source": [
    "In the below code block, we generate an example graph that we will use to test the Consensus algorithm. The below graph is generated using the ExponentialTwoGraph() function provided. It takes as input the number of processes found using bf.size() and creates a graph with that many vertices such that each vertex connects to a point such that the index difference is the power of 2."
   ]
  },
  {
   "cell_type": "code",
   "execution_count": 9,
   "metadata": {},
   "outputs": [
    {
     "data": {
      "image/png": "[encoded data removed]",
      "text/plain": [
       "<Figure size 432x288 with 1 Axes>"
      ]
     },
     "metadata": {},
     "output_type": "display_data"
    }
   ],
   "source": [
    "# Generate topology.\n",
    "\n",
    "# Plot figure\n",
    "%px G = topology_util.ExponentialTwoGraph(bf.size())\n",
    "\n",
    "G_0 = dview.pull('G', block=True, targets=0)\n",
    "nx.draw_circular(G_0)"
   ]
  },
  {
   "cell_type": "markdown",
   "metadata": {},
   "source": [
    "We then use the set_topology() function to set the virtual topology MPI uses to graph we generated before. The load_toplogy() function then returns the virtual topology MSI is using. Afterwards, we use the GetRecvWeights() function to return the weight of the vertex itself as well as the weights of its neighbors."
   ]
  },
  {
   "cell_type": "code",
   "execution_count": 10,
   "metadata": {},
   "outputs": [],
   "source": [
    "%%px\n",
    "\n",
    "# Set topology as exponential-2 graph.\n",
    "bf.set_topology(G)\n",
    "topology = bf.load_topology()\n",
    "self_weight, neighbor_weights = topology_util.GetRecvWeights(topology, bf.rank())"
   ]
  },
  {
   "cell_type": "markdown",
   "metadata": {},
   "source": [
    "In the following cell, we output the weight of one vertex and that of its neighbors. From this output, we can see that for the default graph we generated, a vertex gives itself and its neighbors equal weight."
   ]
  },
  {
   "cell_type": "code",
   "execution_count": 11,
   "metadata": {},
   "outputs": [
    {
     "name": "stdout",
     "output_type": "stream",
     "text": [
      "[stdout:0] \n",
      "self weights: 0.3333333333333333\n",
      "\n",
      "neighbor weights:\n",
      "2 0.3333333333333333\n",
      "3 0.3333333333333333\n"
     ]
    }
   ],
   "source": [
    "%%px\n",
    "if bf.rank() == 0:\n",
    "    print('self weights: {}\\n'.format(self_weight))\n",
    "    print('neighbor weights:')\n",
    "    for k, v in neighbor_weights.items():\n",
    "        print(k, v)"
   ]
  },
  {
   "cell_type": "markdown",
   "metadata": {},
   "source": [
    "We now introduce the average consensus algorithm. The algorithm is extremely simple. Each vertex updates it parameters by taking a weighted average of its own set of parameters with its neighbors' parameters. Formally, the algorithm can be expressed as $x_{k+1} = W x_k$ where $x_k$ is the parameters from each neighbors and $W$ is a stochastic matrix as described before."
   ]
  },
  {
   "cell_type": "code",
   "execution_count": 12,
   "metadata": {},
   "outputs": [],
   "source": [
    "%%px \n",
    "\n",
    "def avg_consensus(x):\n",
    "    x_new = bf.neighbor_allreduce(x, self_weight, neighbor_weights)\n",
    "    return x_new, torch.norm(x_new-x_sol, p=2)"
   ]
  },
  {
   "cell_type": "markdown",
   "metadata": {},
   "source": [
    "To implement the average consensus algorithm, we used the function neighbor_allreduce(). This is a function that performs weighted averaging of the input tensor over the neighbors and itself in the Bluefog processes. The default behavior is (uniformly) average. This function operates according to the BSP pattern (bulk synchronized processing). What this means is that each vertex has:\n",
    "\n",
    "1) Local processing. \\\n",
    "2) Ability to communicate with its neighbors. \\\n",
    "3) A method to synchronize with is neighbors. "
   ]
  },
  {
   "cell_type": "code",
   "execution_count": 13,
   "metadata": {},
   "outputs": [
    {
     "name": "stdout",
     "output_type": "stream",
     "text": [
      "[stdout:0] Progress 0/50\n"
     ]
    }
   ],
   "source": [
    "%%px\n",
    "\n",
    "maxite = 50\n",
    "\n",
    "MSE = torch.zeros((maxite, 1))\n",
    "for ite in range(maxite):\n",
    "    \n",
    "    if bf.rank()==0:\n",
    "        if ite%100 == 0:\n",
    "            print('Progress {}/{}'.format(ite, maxite))\n",
    "        \n",
    "    x, MSE[ite] = avg_consensus(x)"
   ]
  },
  {
   "cell_type": "code",
   "execution_count": 14,
   "metadata": {},
   "outputs": [
    {
     "data": {
      "text/plain": [
       "[<matplotlib.lines.Line2D at 0x7f6d6ebe3730>]"
      ]
     },
     "execution_count": 14,
     "metadata": {},
     "output_type": "execute_result"
    },
    {
     "data": {
      "image/png": "[encoded data removed]",
      "text/plain": [
       "<Figure size 432x288 with 1 Axes>"
      ]
     },
     "metadata": {
      "needs_background": "light"
     },
     "output_type": "display_data"
    }
   ],
   "source": [
    "%px MSE = 10 * torch.log(MSE)\n",
    "MSE = dview.pull('MSE', block=True, targets=0)\n",
    "plt.plot(MSE)"
   ]
  },
  {
   "cell_type": "code",
   "execution_count": null,
   "metadata": {},
   "outputs": [],
   "source": []
  }
 ],
 "metadata": {
  "kernelspec": {
   "display_name": "Python 3",
   "language": "python",
   "name": "python3"
  },
  "language_info": {
   "codemirror_mode": {
    "name": "ipython",
    "version": 3
   },
   "file_extension": ".py",
   "mimetype": "text/x-python",
   "name": "python",
   "nbconvert_exporter": "python",
   "pygments_lexer": "ipython3",
   "version": "3.8.5"
  },
  "toc": {
   "base_numbering": 1,
   "nav_menu": {},
   "number_sections": true,
   "sideBar": true,
   "skip_h1_title": false,
   "title_cell": "Table of Contents",
   "title_sidebar": "Contents",
   "toc_cell": false,
   "toc_position": {},
   "toc_section_display": true,
   "toc_window_display": false
  }
 },
 "nbformat": 4,
 "nbformat_minor": 5
}

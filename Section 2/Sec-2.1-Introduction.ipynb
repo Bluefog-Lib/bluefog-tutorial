{
 "cells": [
  {
   "cell_type": "markdown",
   "metadata": {
    "id": "bc9a15795053"
   },
   "source": [
    "## 2.1 Introduction\n",
    "\n",
    "Assume there exist $n$ computing agents such as CPU or GPU, and each agent $i$ holds a local variable $x_i \\in \\mathbb{R}^d$. In distributed computing, one of the most important operation is **all-reduce** that let each agent $i$ achieve the global average of all local variables, i.e., $\\bar{x} = \\frac{1}{n}\\sum_{i=1}^n x_i$. Such all-reduce operation is the step that requires significant communication among agents. It is usually the bottelneck that hinders the scalability of distributed systems.\n",
    "\n",
    "There are many approaches to achieving all-reduce, some well-known methods are parameter-server or ring-allreduce. These approaches require global synchoronization across all agents and hence are regarded as **centralized** methods. They typically suffer from either significant bandwidth cost or high communication latency, see \\[1\\]. This motivates **decentralized** approaches in which the bottelneck of global synchonization can be relieved.\n",
    "\n",
    "**Average consensus** is the most popular decentralized algorithm to achieve global average. Average consensus is based on partial averaging, in which each agent will compute the average of the nodes in its neighborhood. Repeating a series of such local actions can recover the global average of all the nodes in the network. Partial averaging was inspired by the similar processes in biology, animal behavior, and brain neuron [2, 3, 4]. No node maintains any global information in the entire updating process. The following figure illustrates decentralized communication. \n",
    "\n",
    "<center>\n",
    "    <img src=\"./figures/decen_comm.png\" alt=\"decen_comm\" width=\"300\"/>\n",
    "    <br>\n",
    "    <div style=\"color:orange; display: inline-block;\n",
    "    color: #999;\n",
    "    padding: 1px;\">Fig.1 All agents exchange information over edges; they do not relay information. As an example, agents $i$ and $n$ collect information from their own neighborhoods. Other nodes do the same but not depicted.</div>\n",
    "</center>\n",
    "\n",
    "Average consensus is the foundation of decentralized optimization that we will discuss in later sections. In this section, we will describe the avearge consensus algorithm, discuss its convergence properties, and show how to implement it over the real distributed CPU clusters with BlueFog. We will also explore how the network topology will affect the convergence rate and communication efficiency of average consensus.\n",
    "\n",
    "### 2.1.1 Organization\n",
    "\n",
    "The organization of Section 2 is as follows: \\[Will add link when these sections are ready\\]\n",
    "\n",
    "- **Sec. 2.2 Network topology**\n",
    "\n",
    "\n",
    "- **Sec. 2.3 Combination matrix**\n",
    "\n",
    "\n",
    "- **Sec. 2.4 Average consensus algorithm: implementation**\n",
    "\n",
    "\n",
    "- **Sec. 2.5 Average consensus algorithm: convergence property**\n",
    "\n",
    "\n",
    "- **Sec. 2.6 The influence of network topology**\n",
    "\n",
    "\n",
    "- **Sec. 2.7 Advanced topic: push-sum average consensus**\n",
    "\n",
    "### 2.1.2 Notation\n",
    "\n",
    "- We let $(i,j)$ denote an edge of the network that starts from agent $i$ to agent $j$.\n",
    "\n",
    "- Give a set $\\mathcal{S}$, we let $|\\mathcal{S}|$ denote its cardinality, i.e., the number of its elements.\n",
    "\n",
    "### 2.1.3 Initialize BlueFog and test it\n",
    "\n",
    "All contents in this section are displayed in Jupyter notebook, and all experimental examples are written with BlueFog and iParallel. Readers not familiar with how to run BlueFog in ipython notebook environment is encouraged to read Sec. [HelloWorld section] first. In the following codes, we will initialize BlueFog and test whether it works normally."
   ]
  },
  {
   "cell_type": "markdown",
   "metadata": {
    "id": "99288842cbfc"
   },
   "source": [
    "In the following code, you should be able to see the id of your CPUs. We use 8 CPUs to conduct the following experiment."
   ]
  },
  {
   "cell_type": "code",
   "execution_count": 1,
   "metadata": {
    "id": "b16e1bd3d1af"
   },
   "outputs": [
    {
     "data": {
      "text/plain": [
       "[0, 1, 2, 3, 4, 5, 6, 7]"
      ]
     },
     "execution_count": 1,
     "metadata": {},
     "output_type": "execute_result"
    }
   ],
   "source": [
    "import ipyparallel as ipp\n",
    "\n",
    "rc = ipp.Client(profile='bluefog')\n",
    "rc.ids"
   ]
  },
  {
   "cell_type": "markdown",
   "metadata": {
    "id": "34c1fb3feb70"
   },
   "source": [
    "Let each agent import necessary modules and then initialize BlueFog. You should be able to see the printed information like:  \n",
    "\n",
    "> \\[stdout:0\\] Hello, I am 1 among 8 processes\n",
    "> \n",
    "> ..."
   ]
  },
  {
   "cell_type": "code",
   "execution_count": 2,
   "metadata": {
    "id": "285d2de8bb29"
   },
   "outputs": [
    {
     "name": "stdout",
     "output_type": "stream",
     "text": [
      "[stdout:0] Hello, I am 2 among 8 processes\n",
      "[stdout:1] Hello, I am 1 among 8 processes\n",
      "[stdout:2] Hello, I am 3 among 8 processes\n",
      "[stdout:3] Hello, I am 4 among 8 processes\n",
      "[stdout:4] Hello, I am 7 among 8 processes\n",
      "[stdout:5] Hello, I am 6 among 8 processes\n",
      "[stdout:6] Hello, I am 5 among 8 processes\n",
      "[stdout:7] Hello, I am 0 among 8 processes\n"
     ]
    }
   ],
   "source": [
    "%%px\n",
    "import numpy as np\n",
    "import bluefog.torch as bf\n",
    "import torch\n",
    "from bluefog.common import topology_util\n",
    "import networkx as nx\n",
    "\n",
    "bf.init()\n",
    "print(f\"Hello, I am {bf.rank()} among {bf.size()} processes\")"
   ]
  },
  {
   "cell_type": "markdown",
   "metadata": {
    "id": "5ae092f10fe1"
   },
   "source": [
    "Push seed to each agent so that the simulation can be reproduced."
   ]
  },
  {
   "cell_type": "code",
   "execution_count": 3,
   "metadata": {
    "id": "b26079401553"
   },
   "outputs": [
    {
     "data": {
      "text/plain": [
       "[None, None, None, None, None, None, None, None]"
      ]
     },
     "execution_count": 3,
     "metadata": {},
     "output_type": "execute_result"
    }
   ],
   "source": [
    "dview = rc[:] # A DirectView of all engines\n",
    "dview.block=True\n",
    "\n",
    "# Push the data into all workers\n",
    "dview.push({'seed': 2021}, block=True)"
   ]
  },
  {
   "cell_type": "markdown",
   "metadata": {
    "id": "e4b9b731bfaf"
   },
   "source": [
    "After running the following code, you should be able to see the printed information like \n",
    "\n",
    "> \\[stdout:0\\] I received seed as value:  2021\n",
    "> \n",
    "> ..."
   ]
  },
  {
   "cell_type": "code",
   "execution_count": 4,
   "metadata": {
    "id": "b064510a2d5e"
   },
   "outputs": [
    {
     "name": "stdout",
     "output_type": "stream",
     "text": [
      "[stdout:0] I received seed as value:  2021\n",
      "[stdout:1] I received seed as value:  2021\n",
      "[stdout:2] I received seed as value:  2021\n",
      "[stdout:3] I received seed as value:  2021\n",
      "[stdout:4] I received seed as value:  2021\n",
      "[stdout:5] I received seed as value:  2021\n",
      "[stdout:6] I received seed as value:  2021\n",
      "[stdout:7] I received seed as value:  2021\n"
     ]
    }
   ],
   "source": [
    "%%px\n",
    "print(\"I received seed as value: \", seed)"
   ]
  },
  {
   "cell_type": "markdown",
   "metadata": {
    "id": "323033863160"
   },
   "source": [
    "Congratulations! Your BlueFog is initialized and tested successfully."
   ]
  }
 ],
 "metadata": {
  "colab": {
   "name": "Sec-2.1-Introduction.ipynb",
   "toc_visible": true
  },
  "kernelspec": {
   "display_name": "Python 3",
   "name": "python3"
  }
 },
 "nbformat": 4,
 "nbformat_minor": 0
}

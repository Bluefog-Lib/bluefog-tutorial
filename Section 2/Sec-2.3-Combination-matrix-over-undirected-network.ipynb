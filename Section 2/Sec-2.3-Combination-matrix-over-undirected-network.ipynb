{
 "cells": [
  {
   "cell_type": "markdown",
   "metadata": {
    "id": "289e83e48cce"
   },
   "source": [
    "## 2.3 Combination Matrix over undirected network"
   ]
  },
  {
   "cell_type": "markdown",
   "metadata": {
    "id": "1353f44417a3"
   },
   "source": [
    "### 2.3.1 Weight\n",
    "\n",
    "We now associate each edge with a positive weight. This weight is used to scale information following over the associated edge.\n",
    "\n",
    "For a given topology, we define $w_{ij}$, the weight to scale information flowing from agent $j$ to agent $i$, as follows:\n",
    "\n",
    "\\begin{align}\\label{wij}\n",
    "w_{ij}\n",
    "\\begin{cases}\n",
    "> 0 & \\mbox{if $(j,i) \\in \\mathcal{E}$, or $i=j$;} \\\\\n",
    "= 0 & \\mbox{otherwise.} \n",
    "\\end{cases}\n",
    "\\end{align}\n",
    "\n",
    "### 2.3.2 Combination matrix and a fundamental assumption\n",
    "\n",
    "We further define the combination matrix $W = [w_{ij}]_{i,j=1}^{n} \\in \\mathbb{R}^{n\\times n}$ to stack all weights into a matrix. Such matrix $W$ will characterize the sparsity and connectivity of the underlying network topology. Throughout this section, we assume the combination matrix $W$ satisfies the following important assumption.\n",
    "\n",
    "> **Assumption 1 (Doubly stochastic)** We assume $W$ is a doubly stochastic matrix, i.e., \n",
    "$W \\mathbf{1} = \\mathbf{1}$ and $\\mathbf{1}^T W = \\mathbf{1}^T$.\n",
    "\n",
    "The above assumption essentially implies that both the row sum and the column sum of matrix $W$ are $1$, i.e., $\\sum_{j=1}^n w_{ij} = 1$ and $\\sum_{i=1}^n w_{ij} = 1$. This assumption indicates that each agent is taking a wighted local average in this neighborhood, and it is fundamental to guarantee that average consensus will converge to the global average $\\bar{x}$ asymtotically.\n",
    "\n",
    "### 2.3.3 Combination matrix over the undirected network\n",
    "\n",
    "In a undirected network, the edges $(i,j)$ and $(j,i)$ will appear in a pari-wise manner. Undirected network is very common in nature. In a [random geometric graph](https://networkx.org/documentation/stable/auto_examples/drawing/plot_random_geometric_graph.html), two agents $i$ and $j$ within a certain distance are regarded neighbors. Apparently, both edges $(i,j)$ and $(j,i)$ exist for this scenario. Given a undirected network topology, there are many rules that can help generate combination matrix satisfying Assumption 1. The most well-known rule is the Metropolis-Hastings rule \\[Refs\\]:\n",
    "\n",
    "> **Metropolis-Hastings rule.** Providing a undirected and connected topology $\\mathcal{G}$, we select $w_{ij}$ as\n",
    "> \n",
    ">\\begin{align}\n",
    "\\hspace{-3mm}\tw_{ij}=\n",
    "\t\\begin{cases}\n",
    "\t\t\\begin{array}{ll}\\displaystyle\n",
    "\t\t\t\\hspace{-2mm}\\frac{1}{1 + \\max\\{d_i, d_j \\}},& \\mbox{if $j \\in \\mathcal{N}(i)$}, \\\\\n",
    "\t\t\t\\hspace{-2mm}\\displaystyle 1 - \\sum_{j\\in \\mathcal{N}(i)}w_{ij}, & \\mbox{if $i = j$},\\\\\n",
    "\t\t\t\\hspace{-2mm}0,& \\mbox{if $j \\notin \\mathcal{N}(i)$  and $j\\neq i$}.\n",
    "\t\t\\end{array}\n",
    "\t\\end{cases}\n",
    "\\end{align}\n",
    ">\n",
    "> where $d_i = |\\mathcal{N}(i)|$ (the number of incoming neighbors of agent $k$). It is easy to verify such $W$ is always doubly-stochastic.\n",
    "\n",
    "The other popular approaches can be found in Table 14.1 of reference \\[Refs\\]."
   ]
  },
  {
   "cell_type": "markdown",
   "metadata": {
    "id": "caf7ede27707"
   },
   "source": [
    "#### 2.3.3.1 Example I: Commonly-used topology and associated combination matrix\n",
    "\n",
    "In BlueFog, we support various commonly-used undirected topologies such as ring, star, 2D-mesh, fully-connected graph, hierarchical graph, etc. One can organize his clusters into any of these topopology easily with the function ```bluefog.common.topology_util```, see the deatil in the [user manual](https://bluefog-lib.github.io/bluefog/topo_api.html?highlight=topology#module-bluefog.common.topology_util). In addition, BlueFog also provides the associated combination matrix for these topologies. These matrices are guaranteed to be symmetric and doubly stochas\n",
    "\n",
    "**Note:** The reader not familiar with how to run BlueFog in ipython notebook environment is encouraged to read Sec. \\[HelloWorld section\\] first."
   ]
  },
  {
   "cell_type": "markdown",
   "metadata": {
    "id": "dbde2064b81c"
   },
   "source": [
    "- **A: Test whether BlueFog works normally (the same steps as illustrated in Sec. 2.1)**\n",
    "\n",
    "In the following code, you should be able to see the id of your CPUs. We use 8 CPUs to conduct the following experiment."
   ]
  },
  {
   "cell_type": "code",
   "execution_count": 1,
   "metadata": {
    "ExecuteTime": {
     "end_time": "2021-03-28T04:06:45.725210Z",
     "start_time": "2021-03-28T04:06:44.059921Z"
    },
    "id": "c205d9a4adaf"
   },
   "outputs": [
    {
     "data": {
      "text/plain": [
       "[0, 1, 2, 3]"
      ]
     },
     "execution_count": 1,
     "metadata": {},
     "output_type": "execute_result"
    }
   ],
   "source": [
    "import numpy as np\n",
    "import bluefog.torch as bf\n",
    "import torch\n",
    "import networkx as nx   # nx will be used for network topology creating and plotting\n",
    "from bluefog.common import topology_util\n",
    "import matplotlib.pyplot as plt\n",
    "%matplotlib inline\n",
    "import ipyparallel as ipp\n",
    "\n",
    "np.set_printoptions(precision=3, suppress=True, linewidth=200)\n",
    "\n",
    "rc = ipp.Client(profile='bluefog')\n",
    "rc.ids"
   ]
  },
  {
   "cell_type": "code",
   "execution_count": 3,
   "metadata": {
    "ExecuteTime": {
     "end_time": "2021-03-28T04:07:46.667218Z",
     "start_time": "2021-03-28T04:07:46.596807Z"
    },
    "id": "d62f87cd7f1d"
   },
   "outputs": [
    {
     "ename": "CompositeError",
     "evalue": "one or more exceptions from call to method: execute\n[0:execute]: TypeError: topology must be a networkx.DiGraph obejct with same number of nodes as bf.size().\n[1:execute]: TypeError: topology must be a networkx.DiGraph obejct with same number of nodes as bf.size().\n[2:execute]: TypeError: topology must be a networkx.DiGraph obejct with same number of nodes as bf.size().\n[3:execute]: TypeError: topology must be a networkx.DiGraph obejct with same number of nodes as bf.size().",
     "output_type": "error",
     "traceback": [
      "[0:execute]: ",
      "\u001b[0;31m\u001b[0m\u001b[0;31mTypeError\u001b[0mTraceback (most recent call last)\u001b[0;32m<ipython-input-2-49f971ecdd37>\u001b[0m in \u001b[0;36m<module>\u001b[0;34m\u001b[0m",
      "\u001b[1;32m      5\u001b[0m \u001b[0;32mimport\u001b[0m \u001b[0mnetworkx\u001b[0m \u001b[0;32mas\u001b[0m \u001b[0mnx\u001b[0m\u001b[0;34m\u001b[0m\u001b[0;34m\u001b[0m\u001b[0m",
      "\u001b[1;32m      6\u001b[0m \u001b[0;34m\u001b[0m\u001b[0m",
      "\u001b[0;32m----> 7\u001b[0;31m \u001b[0mbf\u001b[0m\u001b[0;34m.\u001b[0m\u001b[0minit\u001b[0m\u001b[0;34m(\u001b[0m\u001b[0;34m)\u001b[0m\u001b[0;34m\u001b[0m\u001b[0;34m\u001b[0m\u001b[0m",
      "\u001b[0m\u001b[0;32m~/Documents/github/Bluefog/bluefog/common/basics.py\u001b[0m in \u001b[0;36minit\u001b[0;34m(self, topology_fn, is_weighted)\u001b[0m",
      "\u001b[1;32m     67\u001b[0m         \u001b[0;32melse\u001b[0m\u001b[0;34m:\u001b[0m\u001b[0;34m\u001b[0m\u001b[0;34m\u001b[0m\u001b[0m",
      "\u001b[1;32m     68\u001b[0m             \u001b[0mtopo\u001b[0m \u001b[0;34m=\u001b[0m \u001b[0mtopology_util\u001b[0m\u001b[0;34m.\u001b[0m\u001b[0mExponentialGraph\u001b[0m\u001b[0;34m(\u001b[0m\u001b[0mself\u001b[0m\u001b[0;34m.\u001b[0m\u001b[0msize\u001b[0m\u001b[0;34m(\u001b[0m\u001b[0;34m)\u001b[0m\u001b[0;34m)\u001b[0m\u001b[0;34m\u001b[0m\u001b[0;34m\u001b[0m\u001b[0m",
      "\u001b[0;32m---> 69\u001b[0;31m         \u001b[0mself\u001b[0m\u001b[0;34m.\u001b[0m\u001b[0mset_topology\u001b[0m\u001b[0;34m(\u001b[0m\u001b[0mtopo\u001b[0m\u001b[0;34m,\u001b[0m \u001b[0mis_weighted\u001b[0m\u001b[0;34m)\u001b[0m\u001b[0;34m\u001b[0m\u001b[0;34m\u001b[0m\u001b[0m",
      "\u001b[0m\u001b[1;32m     70\u001b[0m         \u001b[0matexit\u001b[0m\u001b[0;34m.\u001b[0m\u001b[0mregister\u001b[0m\u001b[0;34m(\u001b[0m\u001b[0mself\u001b[0m\u001b[0;34m.\u001b[0m\u001b[0mshutdown\u001b[0m\u001b[0;34m)\u001b[0m\u001b[0;34m\u001b[0m\u001b[0;34m\u001b[0m\u001b[0m",
      "\u001b[1;32m     71\u001b[0m \u001b[0;34m\u001b[0m\u001b[0m",
      "\u001b[0;32m~/Documents/github/Bluefog/bluefog/common/basics.py\u001b[0m in \u001b[0;36mset_topology\u001b[0;34m(self, topology, is_weighted)\u001b[0m",
      "\u001b[1;32m    342\u001b[0m         \u001b[0;32mif\u001b[0m \u001b[0mtopology\u001b[0m\u001b[0;34m.\u001b[0m\u001b[0mnumber_of_nodes\u001b[0m \u001b[0;34m!=\u001b[0m \u001b[0mself\u001b[0m\u001b[0;34m.\u001b[0m\u001b[0msize\u001b[0m\u001b[0;34m(\u001b[0m\u001b[0;34m)\u001b[0m\u001b[0;34m:\u001b[0m\u001b[0;34m\u001b[0m\u001b[0;34m\u001b[0m\u001b[0m",
      "\u001b[1;32m    343\u001b[0m             \u001b[0mprint\u001b[0m\u001b[0;34m(\u001b[0m\u001b[0mtopology\u001b[0m\u001b[0;34m.\u001b[0m\u001b[0mnumber_of_nodes\u001b[0m\u001b[0;34m)\u001b[0m\u001b[0;34m\u001b[0m\u001b[0;34m\u001b[0m\u001b[0m",
      "\u001b[0;32m--> 344\u001b[0;31m             raise TypeError(",
      "\u001b[0m\u001b[1;32m    345\u001b[0m                 \u001b[0;34m\"topology must be a networkx.DiGraph obejct with same number of nodes as bf.size().\"\u001b[0m\u001b[0;34m\u001b[0m\u001b[0;34m\u001b[0m\u001b[0m",
      "\u001b[1;32m    346\u001b[0m             )",
      "\u001b[0;31mTypeError\u001b[0m: topology must be a networkx.DiGraph obejct with same number of nodes as bf.size().",
      "",
      "[1:execute]: ",
      "\u001b[0;31m\u001b[0m\u001b[0;31mTypeError\u001b[0mTraceback (most recent call last)\u001b[0;32m<ipython-input-2-49f971ecdd37>\u001b[0m in \u001b[0;36m<module>\u001b[0;34m\u001b[0m",
      "\u001b[1;32m      5\u001b[0m \u001b[0;32mimport\u001b[0m \u001b[0mnetworkx\u001b[0m \u001b[0;32mas\u001b[0m \u001b[0mnx\u001b[0m\u001b[0;34m\u001b[0m\u001b[0;34m\u001b[0m\u001b[0m",
      "\u001b[1;32m      6\u001b[0m \u001b[0;34m\u001b[0m\u001b[0m",
      "\u001b[0;32m----> 7\u001b[0;31m \u001b[0mbf\u001b[0m\u001b[0;34m.\u001b[0m\u001b[0minit\u001b[0m\u001b[0;34m(\u001b[0m\u001b[0;34m)\u001b[0m\u001b[0;34m\u001b[0m\u001b[0;34m\u001b[0m\u001b[0m",
      "\u001b[0m\u001b[0;32m~/Documents/github/Bluefog/bluefog/common/basics.py\u001b[0m in \u001b[0;36minit\u001b[0;34m(self, topology_fn, is_weighted)\u001b[0m",
      "\u001b[1;32m     67\u001b[0m         \u001b[0;32melse\u001b[0m\u001b[0;34m:\u001b[0m\u001b[0;34m\u001b[0m\u001b[0;34m\u001b[0m\u001b[0m",
      "\u001b[1;32m     68\u001b[0m             \u001b[0mtopo\u001b[0m \u001b[0;34m=\u001b[0m \u001b[0mtopology_util\u001b[0m\u001b[0;34m.\u001b[0m\u001b[0mExponentialGraph\u001b[0m\u001b[0;34m(\u001b[0m\u001b[0mself\u001b[0m\u001b[0;34m.\u001b[0m\u001b[0msize\u001b[0m\u001b[0;34m(\u001b[0m\u001b[0;34m)\u001b[0m\u001b[0;34m)\u001b[0m\u001b[0;34m\u001b[0m\u001b[0;34m\u001b[0m\u001b[0m",
      "\u001b[0;32m---> 69\u001b[0;31m         \u001b[0mself\u001b[0m\u001b[0;34m.\u001b[0m\u001b[0mset_topology\u001b[0m\u001b[0;34m(\u001b[0m\u001b[0mtopo\u001b[0m\u001b[0;34m,\u001b[0m \u001b[0mis_weighted\u001b[0m\u001b[0;34m)\u001b[0m\u001b[0;34m\u001b[0m\u001b[0;34m\u001b[0m\u001b[0m",
      "\u001b[0m\u001b[1;32m     70\u001b[0m         \u001b[0matexit\u001b[0m\u001b[0;34m.\u001b[0m\u001b[0mregister\u001b[0m\u001b[0;34m(\u001b[0m\u001b[0mself\u001b[0m\u001b[0;34m.\u001b[0m\u001b[0mshutdown\u001b[0m\u001b[0;34m)\u001b[0m\u001b[0;34m\u001b[0m\u001b[0;34m\u001b[0m\u001b[0m",
      "\u001b[1;32m     71\u001b[0m \u001b[0;34m\u001b[0m\u001b[0m",
      "\u001b[0;32m~/Documents/github/Bluefog/bluefog/common/basics.py\u001b[0m in \u001b[0;36mset_topology\u001b[0;34m(self, topology, is_weighted)\u001b[0m",
      "\u001b[1;32m    342\u001b[0m         \u001b[0;32mif\u001b[0m \u001b[0mtopology\u001b[0m\u001b[0;34m.\u001b[0m\u001b[0mnumber_of_nodes\u001b[0m \u001b[0;34m!=\u001b[0m \u001b[0mself\u001b[0m\u001b[0;34m.\u001b[0m\u001b[0msize\u001b[0m\u001b[0;34m(\u001b[0m\u001b[0;34m)\u001b[0m\u001b[0;34m:\u001b[0m\u001b[0;34m\u001b[0m\u001b[0;34m\u001b[0m\u001b[0m",
      "\u001b[1;32m    343\u001b[0m             \u001b[0mprint\u001b[0m\u001b[0;34m(\u001b[0m\u001b[0mtopology\u001b[0m\u001b[0;34m.\u001b[0m\u001b[0mnumber_of_nodes\u001b[0m\u001b[0;34m)\u001b[0m\u001b[0;34m\u001b[0m\u001b[0;34m\u001b[0m\u001b[0m",
      "\u001b[0;32m--> 344\u001b[0;31m             raise TypeError(",
      "\u001b[0m\u001b[1;32m    345\u001b[0m                 \u001b[0;34m\"topology must be a networkx.DiGraph obejct with same number of nodes as bf.size().\"\u001b[0m\u001b[0;34m\u001b[0m\u001b[0;34m\u001b[0m\u001b[0m",
      "\u001b[1;32m    346\u001b[0m             )",
      "\u001b[0;31mTypeError\u001b[0m: topology must be a networkx.DiGraph obejct with same number of nodes as bf.size().",
      "",
      "[2:execute]: ",
      "\u001b[0;31m\u001b[0m\u001b[0;31mTypeError\u001b[0mTraceback (most recent call last)\u001b[0;32m<ipython-input-2-49f971ecdd37>\u001b[0m in \u001b[0;36m<module>\u001b[0;34m\u001b[0m",
      "\u001b[1;32m      5\u001b[0m \u001b[0;32mimport\u001b[0m \u001b[0mnetworkx\u001b[0m \u001b[0;32mas\u001b[0m \u001b[0mnx\u001b[0m\u001b[0;34m\u001b[0m\u001b[0;34m\u001b[0m\u001b[0m",
      "\u001b[1;32m      6\u001b[0m \u001b[0;34m\u001b[0m\u001b[0m",
      "\u001b[0;32m----> 7\u001b[0;31m \u001b[0mbf\u001b[0m\u001b[0;34m.\u001b[0m\u001b[0minit\u001b[0m\u001b[0;34m(\u001b[0m\u001b[0;34m)\u001b[0m\u001b[0;34m\u001b[0m\u001b[0;34m\u001b[0m\u001b[0m",
      "\u001b[0m\u001b[0;32m~/Documents/github/Bluefog/bluefog/common/basics.py\u001b[0m in \u001b[0;36minit\u001b[0;34m(self, topology_fn, is_weighted)\u001b[0m",
      "\u001b[1;32m     67\u001b[0m         \u001b[0;32melse\u001b[0m\u001b[0;34m:\u001b[0m\u001b[0;34m\u001b[0m\u001b[0;34m\u001b[0m\u001b[0m",
      "\u001b[1;32m     68\u001b[0m             \u001b[0mtopo\u001b[0m \u001b[0;34m=\u001b[0m \u001b[0mtopology_util\u001b[0m\u001b[0;34m.\u001b[0m\u001b[0mExponentialGraph\u001b[0m\u001b[0;34m(\u001b[0m\u001b[0mself\u001b[0m\u001b[0;34m.\u001b[0m\u001b[0msize\u001b[0m\u001b[0;34m(\u001b[0m\u001b[0;34m)\u001b[0m\u001b[0;34m)\u001b[0m\u001b[0;34m\u001b[0m\u001b[0;34m\u001b[0m\u001b[0m",
      "\u001b[0;32m---> 69\u001b[0;31m         \u001b[0mself\u001b[0m\u001b[0;34m.\u001b[0m\u001b[0mset_topology\u001b[0m\u001b[0;34m(\u001b[0m\u001b[0mtopo\u001b[0m\u001b[0;34m,\u001b[0m \u001b[0mis_weighted\u001b[0m\u001b[0;34m)\u001b[0m\u001b[0;34m\u001b[0m\u001b[0;34m\u001b[0m\u001b[0m",
      "\u001b[0m\u001b[1;32m     70\u001b[0m         \u001b[0matexit\u001b[0m\u001b[0;34m.\u001b[0m\u001b[0mregister\u001b[0m\u001b[0;34m(\u001b[0m\u001b[0mself\u001b[0m\u001b[0;34m.\u001b[0m\u001b[0mshutdown\u001b[0m\u001b[0;34m)\u001b[0m\u001b[0;34m\u001b[0m\u001b[0;34m\u001b[0m\u001b[0m",
      "\u001b[1;32m     71\u001b[0m \u001b[0;34m\u001b[0m\u001b[0m",
      "\u001b[0;32m~/Documents/github/Bluefog/bluefog/common/basics.py\u001b[0m in \u001b[0;36mset_topology\u001b[0;34m(self, topology, is_weighted)\u001b[0m",
      "\u001b[1;32m    342\u001b[0m         \u001b[0;32mif\u001b[0m \u001b[0mtopology\u001b[0m\u001b[0;34m.\u001b[0m\u001b[0mnumber_of_nodes\u001b[0m \u001b[0;34m!=\u001b[0m \u001b[0mself\u001b[0m\u001b[0;34m.\u001b[0m\u001b[0msize\u001b[0m\u001b[0;34m(\u001b[0m\u001b[0;34m)\u001b[0m\u001b[0;34m:\u001b[0m\u001b[0;34m\u001b[0m\u001b[0;34m\u001b[0m\u001b[0m",
      "\u001b[1;32m    343\u001b[0m             \u001b[0mprint\u001b[0m\u001b[0;34m(\u001b[0m\u001b[0mtopology\u001b[0m\u001b[0;34m.\u001b[0m\u001b[0mnumber_of_nodes\u001b[0m\u001b[0;34m)\u001b[0m\u001b[0;34m\u001b[0m\u001b[0;34m\u001b[0m\u001b[0m",
      "\u001b[0;32m--> 344\u001b[0;31m             raise TypeError(",
      "\u001b[0m\u001b[1;32m    345\u001b[0m                 \u001b[0;34m\"topology must be a networkx.DiGraph obejct with same number of nodes as bf.size().\"\u001b[0m\u001b[0;34m\u001b[0m\u001b[0;34m\u001b[0m\u001b[0m",
      "\u001b[1;32m    346\u001b[0m             )",
      "\u001b[0;31mTypeError\u001b[0m: topology must be a networkx.DiGraph obejct with same number of nodes as bf.size().",
      "",
      "[3:execute]: ",
      "\u001b[0;31m\u001b[0m\u001b[0;31mTypeError\u001b[0mTraceback (most recent call last)\u001b[0;32m<ipython-input-2-49f971ecdd37>\u001b[0m in \u001b[0;36m<module>\u001b[0;34m\u001b[0m",
      "\u001b[1;32m      5\u001b[0m \u001b[0;32mimport\u001b[0m \u001b[0mnetworkx\u001b[0m \u001b[0;32mas\u001b[0m \u001b[0mnx\u001b[0m\u001b[0;34m\u001b[0m\u001b[0;34m\u001b[0m\u001b[0m",
      "\u001b[1;32m      6\u001b[0m \u001b[0;34m\u001b[0m\u001b[0m",
      "\u001b[0;32m----> 7\u001b[0;31m \u001b[0mbf\u001b[0m\u001b[0;34m.\u001b[0m\u001b[0minit\u001b[0m\u001b[0;34m(\u001b[0m\u001b[0;34m)\u001b[0m\u001b[0;34m\u001b[0m\u001b[0;34m\u001b[0m\u001b[0m",
      "\u001b[0m\u001b[0;32m~/Documents/github/Bluefog/bluefog/common/basics.py\u001b[0m in \u001b[0;36minit\u001b[0;34m(self, topology_fn, is_weighted)\u001b[0m",
      "\u001b[1;32m     67\u001b[0m         \u001b[0;32melse\u001b[0m\u001b[0;34m:\u001b[0m\u001b[0;34m\u001b[0m\u001b[0;34m\u001b[0m\u001b[0m",
      "\u001b[1;32m     68\u001b[0m             \u001b[0mtopo\u001b[0m \u001b[0;34m=\u001b[0m \u001b[0mtopology_util\u001b[0m\u001b[0;34m.\u001b[0m\u001b[0mExponentialGraph\u001b[0m\u001b[0;34m(\u001b[0m\u001b[0mself\u001b[0m\u001b[0;34m.\u001b[0m\u001b[0msize\u001b[0m\u001b[0;34m(\u001b[0m\u001b[0;34m)\u001b[0m\u001b[0;34m)\u001b[0m\u001b[0;34m\u001b[0m\u001b[0;34m\u001b[0m\u001b[0m",
      "\u001b[0;32m---> 69\u001b[0;31m         \u001b[0mself\u001b[0m\u001b[0;34m.\u001b[0m\u001b[0mset_topology\u001b[0m\u001b[0;34m(\u001b[0m\u001b[0mtopo\u001b[0m\u001b[0;34m,\u001b[0m \u001b[0mis_weighted\u001b[0m\u001b[0;34m)\u001b[0m\u001b[0;34m\u001b[0m\u001b[0;34m\u001b[0m\u001b[0m",
      "\u001b[0m\u001b[1;32m     70\u001b[0m         \u001b[0matexit\u001b[0m\u001b[0;34m.\u001b[0m\u001b[0mregister\u001b[0m\u001b[0;34m(\u001b[0m\u001b[0mself\u001b[0m\u001b[0;34m.\u001b[0m\u001b[0mshutdown\u001b[0m\u001b[0;34m)\u001b[0m\u001b[0;34m\u001b[0m\u001b[0;34m\u001b[0m\u001b[0m",
      "\u001b[1;32m     71\u001b[0m \u001b[0;34m\u001b[0m\u001b[0m",
      "\u001b[0;32m~/Documents/github/Bluefog/bluefog/common/basics.py\u001b[0m in \u001b[0;36mset_topology\u001b[0;34m(self, topology, is_weighted)\u001b[0m",
      "\u001b[1;32m    342\u001b[0m         \u001b[0;32mif\u001b[0m \u001b[0mtopology\u001b[0m\u001b[0;34m.\u001b[0m\u001b[0mnumber_of_nodes\u001b[0m \u001b[0;34m!=\u001b[0m \u001b[0mself\u001b[0m\u001b[0;34m.\u001b[0m\u001b[0msize\u001b[0m\u001b[0;34m(\u001b[0m\u001b[0;34m)\u001b[0m\u001b[0;34m:\u001b[0m\u001b[0;34m\u001b[0m\u001b[0;34m\u001b[0m\u001b[0m",
      "\u001b[1;32m    343\u001b[0m             \u001b[0mprint\u001b[0m\u001b[0;34m(\u001b[0m\u001b[0mtopology\u001b[0m\u001b[0;34m.\u001b[0m\u001b[0mnumber_of_nodes\u001b[0m\u001b[0;34m)\u001b[0m\u001b[0;34m\u001b[0m\u001b[0;34m\u001b[0m\u001b[0m",
      "\u001b[0;32m--> 344\u001b[0;31m             raise TypeError(",
      "\u001b[0m\u001b[1;32m    345\u001b[0m                 \u001b[0;34m\"topology must be a networkx.DiGraph obejct with same number of nodes as bf.size().\"\u001b[0m\u001b[0;34m\u001b[0m\u001b[0;34m\u001b[0m\u001b[0m",
      "\u001b[1;32m    346\u001b[0m             )",
      "\u001b[0;31mTypeError\u001b[0m: topology must be a networkx.DiGraph obejct with same number of nodes as bf.size().",
      ""
     ]
    }
   ],
   "source": [
    "%%px\n",
    "import numpy as np\n",
    "import bluefog.torch as bf\n",
    "import torch\n",
    "from bluefog.common import topology_util\n",
    "import networkx as nx\n",
    "\n",
    "bf.init()"
   ]
  },
  {
   "cell_type": "markdown",
   "metadata": {
    "id": "d5134ca0b341"
   },
   "source": [
    "- **B: Undirected Ring topology and associated combination matrix**\n",
    "\n",
    "We now construct a ring topology. Note that to plot the topology, we have to pull the topology information from the agent to the Jupyter engine. That is why we have to use ```dview.pull```. In the following code, ```bf.size()``` will return the size of the network."
   ]
  },
  {
   "cell_type": "code",
   "execution_count": null,
   "metadata": {
    "ExecuteTime": {
     "end_time": "2021-03-28T04:06:46.842516Z",
     "start_time": "2021-03-28T04:06:44.056Z"
    },
    "id": "8ed530b2d224"
   },
   "outputs": [],
   "source": [
    "# Generate topology.\n",
    "\n",
    "# Plot figure\n",
    "%px G = topology_util.RingGraph(bf.size())\n",
    "dview = rc[:]\n",
    "G_0 = dview.pull('G', block=True, targets=0)\n",
    "nx.draw_circular(G_0)"
   ]
  },
  {
   "cell_type": "markdown",
   "metadata": {
    "id": "54cc883257ca"
   },
   "source": [
    "When the topology is generated through BlueFog utilities (such as ```RingGraph()```, ```ExponentialTwoGraph()```, ```MeshGrid2DGraph()``` and others in the [user manual](https://bluefog-lib.github.io/bluefog/topo_api.html?highlight=topology#module-bluefog.common.topology_util)), the associated combination matrix is provided automatically. \n",
    "Now we examine the self weight and neighbor weights of each agent in the ring topology. To this end, we can use ```GetRecvWeights()``` to get these information. In the following code, ```bf.rank()``` will return the label of that agent. Note that all agents will run the following code in parallel (One can see that from the magic command ```%%px```). "
   ]
  },
  {
   "cell_type": "code",
   "execution_count": null,
   "metadata": {
    "ExecuteTime": {
     "end_time": "2021-03-28T04:06:46.843468Z",
     "start_time": "2021-03-28T04:06:44.058Z"
    },
    "id": "358669f20beb"
   },
   "outputs": [],
   "source": [
    "%%px\n",
    "\n",
    "self_weight, neighbor_weights = topology_util.GetRecvWeights(G, bf.rank())"
   ]
  },
  {
   "cell_type": "markdown",
   "metadata": {
    "id": "da08674d71f8"
   },
   "source": [
    "Now we examine the self weight and neighbor weights of agent $0$."
   ]
  },
  {
   "cell_type": "code",
   "execution_count": null,
   "metadata": {
    "ExecuteTime": {
     "end_time": "2021-03-28T04:06:46.844673Z",
     "start_time": "2021-03-28T04:06:44.059Z"
    },
    "id": "034c13955155"
   },
   "outputs": [],
   "source": [
    "%%px\n",
    "if bf.rank() == 0:\n",
    "    print('self weights: {}\\n'.format(self_weight))\n",
    "    print('neighbor weights:')\n",
    "    for k, v in neighbor_weights.items():\n",
    "        print('neighbor id:{}, weight:{}'.format(k, v))"
   ]
  },
  {
   "cell_type": "markdown",
   "metadata": {
    "id": "d4e21429940f"
   },
   "source": [
    "We can even construct the combination matrix $W$ and examine its property. To this end, we will pull the weights of each agent into the Jupyter engine and then construct the combination matrix. The method to pull information from agent is \n",
    "\n",
    "```dview.pull(information_to_pull, targets=agent_idx)```\n",
    "\n",
    "It should be noted that ```agent_idx``` is not the rank of each agent. Instead, it is essentially the order that the engine collects information from each agent. We need to establish a mapping between rank and agent_idx."
   ]
  },
  {
   "cell_type": "code",
   "execution_count": null,
   "metadata": {
    "ExecuteTime": {
     "end_time": "2021-03-28T04:06:46.845676Z",
     "start_time": "2021-03-28T04:06:44.061Z"
    },
    "id": "0c09b9617be6"
   },
   "outputs": [],
   "source": [
    "network_size = dview.pull('bf.size()', block=True, targets=0)\n",
    "agentID_to_rank = {}\n",
    "for idx in range(network_size):\n",
    "    agentID_to_rank[idx] = dview.pull('bf.rank()', block=True, targets=idx)\n",
    "    \n",
    "for k,v in agentID_to_rank.items():\n",
    "    print('id:{}, rank:{}'.format(k, v))"
   ]
  },
  {
   "cell_type": "markdown",
   "metadata": {
    "id": "f8177bc1982a"
   },
   "source": [
    "Now we construct the combination matrix $W$."
   ]
  },
  {
   "cell_type": "code",
   "execution_count": null,
   "metadata": {
    "ExecuteTime": {
     "end_time": "2021-03-28T04:06:46.846675Z",
     "start_time": "2021-03-28T04:06:44.062Z"
    },
    "id": "f3271483af8a"
   },
   "outputs": [],
   "source": [
    "W = np.zeros((network_size, network_size))\n",
    "\n",
    "for idx in range(network_size):\n",
    "    self_weight = dview.pull('self_weight', block=True, targets=idx)\n",
    "    neighbor_weights = dview.pull('neighbor_weights', block=True, targets=idx)\n",
    "    \n",
    "    W[agentID_to_rank[idx],agentID_to_rank[idx]] = self_weight\n",
    "    for k, v in neighbor_weights.items():\n",
    "        W[agentID_to_rank[idx],k] = v\n",
    "\n",
    "print('The matrix W is:')\n",
    "print(W)\n",
    "\n",
    "# check the row sum and column sum\n",
    "print('\\nRow sum of W is:', np.sum(W, axis=1))\n",
    "print('Col sum of W is:', np.sum(W, axis=0))\n",
    "\n",
    "if np.sum(W, axis=1).all() and np.sum(W, axis=0).all():\n",
    "    print('The above W is doubly stochastic.')"
   ]
  },
  {
   "cell_type": "markdown",
   "metadata": {
    "id": "f1c239004f2c"
   },
   "source": [
    "- **I-C: Undirected Star topology and associated combination matrix**\n",
    "\n",
    "We can follow the above codes to draw the star topology and its associated combination matrix"
   ]
  },
  {
   "cell_type": "code",
   "execution_count": null,
   "metadata": {
    "ExecuteTime": {
     "end_time": "2021-03-28T04:06:46.847514Z",
     "start_time": "2021-03-28T04:06:44.064Z"
    },
    "id": "60c1955e74b5"
   },
   "outputs": [],
   "source": [
    "# Generate topology.\n",
    "\n",
    "# Plot figure\n",
    "%px G = topology_util.StarGraph(bf.size())\n",
    "\n",
    "G_0 = dview.pull('G', block=True, targets=0)\n",
    "nx.draw_circular(G_0)"
   ]
  },
  {
   "cell_type": "code",
   "execution_count": null,
   "metadata": {
    "ExecuteTime": {
     "end_time": "2021-03-28T04:06:46.848958Z",
     "start_time": "2021-03-28T04:06:44.065Z"
    },
    "id": "10579eaaaa58"
   },
   "outputs": [],
   "source": [
    "%%px\n",
    "\n",
    "self_weight, neighbor_weights = topology_util.GetRecvWeights(G, bf.rank())"
   ]
  },
  {
   "cell_type": "code",
   "execution_count": null,
   "metadata": {
    "ExecuteTime": {
     "end_time": "2021-03-28T04:06:46.850127Z",
     "start_time": "2021-03-28T04:06:44.066Z"
    },
    "id": "b4c342255b77"
   },
   "outputs": [],
   "source": [
    "network_size = dview.pull('bf.size()', block=True, targets=0)\n",
    "W = np.zeros((network_size, network_size))\n",
    "\n",
    "for idx in range(network_size):\n",
    "    self_weight = dview.pull('self_weight', block=True, targets=idx)\n",
    "    neighbor_weights = dview.pull('neighbor_weights', block=True, targets=idx)\n",
    "    \n",
    "    W[agentID_to_rank[idx],agentID_to_rank[idx]] = self_weight\n",
    "    for k, v in neighbor_weights.items():\n",
    "        W[agentID_to_rank[idx],k] = v\n",
    "\n",
    "print('The matrix W is:')\n",
    "print(W)\n",
    "\n",
    "# check the row sum and column sum\n",
    "print('\\nRow sum of W is:', np.sum(W, axis=1))\n",
    "print('Col sum of W is:', np.sum(W, axis=0))\n",
    "\n",
    "if np.sum(W, axis=1).all() and np.sum(W, axis=0).all():\n",
    "    print('The above W is doubly stochastic.')"
   ]
  },
  {
   "cell_type": "markdown",
   "metadata": {
    "id": "4b8391537360"
   },
   "source": [
    "- **I-D: Undirected 2D-Mesh topology and associated combination matrix**"
   ]
  },
  {
   "cell_type": "code",
   "execution_count": null,
   "metadata": {
    "ExecuteTime": {
     "end_time": "2021-03-28T04:06:46.851182Z",
     "start_time": "2021-03-28T04:06:44.068Z"
    },
    "id": "015c61f20836"
   },
   "outputs": [],
   "source": [
    "# Generate topology.\n",
    "\n",
    "# Plot figure\n",
    "%px G = topology_util.MeshGrid2DGraph(bf.size())\n",
    "\n",
    "G_0 = dview.pull('G', block=True, targets=0)\n",
    "nx.draw_spring(G_0)"
   ]
  },
  {
   "cell_type": "code",
   "execution_count": null,
   "metadata": {
    "ExecuteTime": {
     "end_time": "2021-03-28T04:06:46.852235Z",
     "start_time": "2021-03-28T04:06:44.070Z"
    },
    "id": "ef06d79cf377"
   },
   "outputs": [],
   "source": [
    "%%px\n",
    "\n",
    "self_weight, neighbor_weights = topology_util.GetRecvWeights(G, bf.rank())"
   ]
  },
  {
   "cell_type": "code",
   "execution_count": null,
   "metadata": {
    "ExecuteTime": {
     "end_time": "2021-03-28T04:06:46.853419Z",
     "start_time": "2021-03-28T04:06:44.072Z"
    },
    "id": "56fc83b8bc34"
   },
   "outputs": [],
   "source": [
    "network_size = dview.pull('bf.size()', block=True, targets=0)\n",
    "W = np.zeros((network_size, network_size))\n",
    "\n",
    "for idx in range(network_size):\n",
    "    self_weight = dview.pull('self_weight', block=True, targets=idx)\n",
    "    neighbor_weights = dview.pull('neighbor_weights', block=True, targets=idx)\n",
    "    \n",
    "    W[agentID_to_rank[idx],agentID_to_rank[idx]] = self_weight\n",
    "    for k, v in neighbor_weights.items():\n",
    "        W[agentID_to_rank[idx],k] = v\n",
    "\n",
    "print('The matrix W is:')\n",
    "print(W)\n",
    "\n",
    "# check the row sum and column sum\n",
    "print('\\nRow sum of W is:', np.sum(W, axis=1))\n",
    "print('Col sum of W is:', np.sum(W, axis=0))\n",
    "\n",
    "if np.sum(W, axis=1).all() and np.sum(W, axis=0).all():\n",
    "    print('The above W is doubly stochastic.')"
   ]
  },
  {
   "cell_type": "markdown",
   "metadata": {
    "id": "8df08bcaf60e"
   },
   "source": [
    "- **I-E: Undirected 2D-Mesh topology and associated combination matrix**"
   ]
  },
  {
   "cell_type": "code",
   "execution_count": null,
   "metadata": {
    "ExecuteTime": {
     "end_time": "2021-03-28T04:06:46.854514Z",
     "start_time": "2021-03-28T04:06:44.073Z"
    },
    "id": "d2cf7465525c"
   },
   "outputs": [],
   "source": [
    "# Generate topology.\n",
    "\n",
    "# Plot figure\n",
    "%px G = topology_util.FullyConnectedGraph(bf.size())\n",
    "\n",
    "G_0 = dview.pull('G', block=True, targets=0)\n",
    "nx.draw_circular(G_0)"
   ]
  },
  {
   "cell_type": "code",
   "execution_count": null,
   "metadata": {
    "ExecuteTime": {
     "end_time": "2021-03-28T04:06:46.855642Z",
     "start_time": "2021-03-28T04:06:44.074Z"
    },
    "id": "209ab613c5ab"
   },
   "outputs": [],
   "source": [
    "%%px\n",
    "\n",
    "self_weight, neighbor_weights = topology_util.GetRecvWeights(G, bf.rank())"
   ]
  },
  {
   "cell_type": "code",
   "execution_count": null,
   "metadata": {
    "ExecuteTime": {
     "end_time": "2021-03-28T04:06:46.856579Z",
     "start_time": "2021-03-28T04:06:44.076Z"
    },
    "id": "1fd587bec6aa"
   },
   "outputs": [],
   "source": [
    "network_size = dview.pull('bf.size()', block=True, targets=0)\n",
    "W = np.zeros((network_size, network_size))\n",
    "\n",
    "for idx in range(network_size):\n",
    "    self_weight = dview.pull('self_weight', block=True, targets=idx)\n",
    "    neighbor_weights = dview.pull('neighbor_weights', block=True, targets=idx)\n",
    "    \n",
    "    W[agentID_to_rank[idx],agentID_to_rank[idx]] = self_weight\n",
    "    for k, v in neighbor_weights.items():\n",
    "        W[agentID_to_rank[idx],k] = v\n",
    "\n",
    "print('The matrix W is:')\n",
    "print(W)\n",
    "\n",
    "# check the row sum and column sum\n",
    "print('\\nRow sum of W is:', np.sum(W, axis=1))\n",
    "print('Col sum of W is:', np.sum(W, axis=0))\n",
    "\n",
    "if np.sum(W, axis=1).all() and np.sum(W, axis=0).all():\n",
    "    print('The above W is doubly stochastic.')"
   ]
  },
  {
   "cell_type": "markdown",
   "metadata": {
    "id": "77d9dad76adf"
   },
   "source": [
    "The readers are encourged to test other topologies and examine their associated combination matrix. Check the topology related utility function in [user manual](https://bluefog-lib.github.io/bluefog/topo_api.html?highlight=topology#module-bluefog.common.topology_util)."
   ]
  },
  {
   "cell_type": "markdown",
   "metadata": {
    "id": "ff7ebb9e0bdc"
   },
   "source": [
    "#### 2.3.3.2 Example II: Set up your own topology\n",
    "\n",
    "There also exist scenarios in which you want to organize the agents into your own magic topologies. In this example, we will show how to produce the combination matrix via the Metropolis-Hastings rule and generate the network topology that can be imported to BlueFog utilities.\n",
    "\n",
    "Before we generate the combination matrix, you have to prepare an [adjacency matrix](https://en.wikipedia.org/wiki/Adjacency_matrix) of your topology. Since the topology is undirected, the adjacency matrix should be symmetric."
   ]
  },
  {
   "cell_type": "code",
   "execution_count": null,
   "metadata": {
    "ExecuteTime": {
     "end_time": "2021-03-28T04:06:46.857684Z",
     "start_time": "2021-03-28T04:06:44.077Z"
    },
    "id": "e874bd33fd42"
   },
   "outputs": [],
   "source": [
    "def gen_comb_matrix_via_MH(A):\n",
    "    \"\"\"Generate combinational matrix via Metropolis-Hastings rule\n",
    "    \n",
    "    Args: \n",
    "        A: numpy 2D array with dims (n,n) representing adjacency matirx.\n",
    "        \n",
    "    Returns: \n",
    "        A combination matrix W: numpy 2D array with dims (n,n).\n",
    "    \"\"\"\n",
    "    \n",
    "    # the adjacency matrix must be symmetric\n",
    "    assert np.linalg.norm(A - A.T) < 1e-6\n",
    "    \n",
    "    # make sure the diagonal elements of A are 0\n",
    "    n, _ = A.shape\n",
    "    for i in range(n):\n",
    "        A[i,i] = 0\n",
    "        \n",
    "    # compute the degree of each agent\n",
    "    d = np.sum(A, axis=1)\n",
    "    \n",
    "    # identify the neighbor of each agent\n",
    "    neighbors = {}\n",
    "    for i in range(n):\n",
    "        neighbors[i] = set()\n",
    "        for j in range(n):\n",
    "            if A[i,j] == 1:\n",
    "                neighbors[i].add(j)\n",
    "                \n",
    "    # generate W via M-H rule\n",
    "    W = np.zeros((n,n))\n",
    "    for i in range(n):\n",
    "        for j in neighbors[i]:\n",
    "            W[i,j] = 1/(1+np.maximum(d[i], d[j]))\n",
    "            \n",
    "    W_row_sum = np.sum(W,axis=1)\n",
    "    for i in range(n):\n",
    "        W[i,i] = 1 - W_row_sum[i]\n",
    "    \n",
    "    return W"
   ]
  },
  {
   "cell_type": "markdown",
   "metadata": {
    "id": "786d04d76609"
   },
   "source": [
    "Random geometric graph is one of the undirected graph that nutrally appears in many application. It is constructed by randomly placing $n$ nodes in some metric space (according to a specified probability distribution) and connecting two nodes by a link if and only if their distance is in a given range $r$.\n",
    "\n",
    "Random geometric graph is not provided in BlueFog. In the following codes, we will show how to generate the combination matrix of random geometric graph via Metropolis-Hastings rule, and how to import the topology, and the combination matrix into BlueFog to facilitate the downstream average consensus and decentralized optimization algorithms.\n",
    "\n",
    "test the correctedness of the above function. To this end, we define a new network topology: we randomly generate the 2D coordinates of $n$ agents within a $1 \\times 1$ square. If the distance between two nodes are within $r$, they are regarded as neighbors. We call such network topology as distance-decided network. \n",
    "\n",
    "The following functioin will return the adjacency matrix of the random geometric graph."
   ]
  },
  {
   "cell_type": "code",
   "execution_count": null,
   "metadata": {
    "ExecuteTime": {
     "end_time": "2021-03-28T04:06:46.858691Z",
     "start_time": "2021-03-28T04:06:44.079Z"
    },
    "id": "d85f5855b4f1"
   },
   "outputs": [],
   "source": [
    "def gen_random_geometric_topology(num_agents, r):\n",
    "    \"\"\"Generate random geometric topology.\n",
    "    \n",
    "    Args:\n",
    "        num_agents: the number of agents in the network.\n",
    "        r: two agents within the distance 'r' are regarded as neighbors.\n",
    "    \"\"\"\n",
    "    \n",
    "    # Generate n random 2D coordinates within a 1*1 square\n",
    "    agents = {}\n",
    "    for i in range(num_agents):\n",
    "        agents[i] = np.random.rand(2,1)\n",
    "        \n",
    "    A = np.zeros((num_agents, num_agents))\n",
    "    for i in range(num_agents):\n",
    "        for j in range(i+1, num_agents):\n",
    "            dist = np.linalg.norm(agents[i] - agents[j])\n",
    "            if dist < r:\n",
    "                A[i,j] = 1\n",
    "                A[j,i] = 1\n",
    "                \n",
    "    return A"
   ]
  },
  {
   "cell_type": "markdown",
   "metadata": {
    "id": "fa452e36312c"
   },
   "source": [
    "Now we use the above utility function to generate a random distance-decided network. One can adjust parameter ```r``` to manipulate the density of the network topology."
   ]
  },
  {
   "cell_type": "code",
   "execution_count": null,
   "metadata": {
    "ExecuteTime": {
     "end_time": "2021-03-28T04:06:46.859774Z",
     "start_time": "2021-03-28T04:06:44.080Z"
    },
    "id": "47cc860f57d7"
   },
   "outputs": [],
   "source": [
    "np.random.seed(seed=2021)\n",
    "\n",
    "num_nodes = len(rc.ids)\n",
    "A = gen_random_geometric_topology(num_agents=num_nodes, r=0.5)\n",
    "print('The adjacency matrix of the generated network is:')\n",
    "print(A)\n",
    "\n",
    "print('\\n')\n",
    "print('The associated combination matrix is:')\n",
    "W = gen_comb_matrix_via_MH(A)\n",
    "print(W)\n",
    "\n",
    "# test whether it is symmetric and doubly stochastic\n",
    "print('\\n')\n",
    "if np.linalg.norm(W-W.T) == 0:\n",
    "    print('W is symmetric.')\n",
    "    \n",
    "if np.sum(W,axis=0).all() == 1 and np.sum(W,axis=1).all() == 1:\n",
    "    print('W is doubly stochastic.')\n",
    "    \n",
    "# generate topology from W\n",
    "G = nx.from_numpy_array(W, create_using=nx.DiGraph)\n",
    "\n",
    "# draw topology\n",
    "nx.draw_spring(G)"
   ]
  },
  {
   "cell_type": "markdown",
   "metadata": {
    "id": "8d284538646b"
   },
   "source": [
    "Given $W$ generated from the M-H rule, next we organize the agents into the above topology with ```set_topology(G)```. We further examine whether the agents' associated combination matrix is consistent with the above generated ombination matrix $W$. "
   ]
  },
  {
   "cell_type": "code",
   "execution_count": null,
   "metadata": {
    "ExecuteTime": {
     "end_time": "2021-03-28T04:06:46.860839Z",
     "start_time": "2021-03-28T04:06:44.082Z"
    },
    "id": "980a522de3cf"
   },
   "outputs": [],
   "source": [
    "dview.push({'W': W}, block=True)"
   ]
  },
  {
   "cell_type": "code",
   "execution_count": null,
   "metadata": {
    "ExecuteTime": {
     "end_time": "2021-03-28T04:06:46.861890Z",
     "start_time": "2021-03-28T04:06:44.085Z"
    },
    "id": "8e362819f4c8"
   },
   "outputs": [],
   "source": [
    "%%px\n",
    "\n",
    "G = nx.from_numpy_array(W, create_using=nx.DiGraph)\n",
    "bf.set_topology(G)\n",
    "topology = bf.load_topology()\n",
    "self_weight, neighbor_weights = topology_util.GetRecvWeights(topology, bf.rank())"
   ]
  },
  {
   "cell_type": "code",
   "execution_count": null,
   "metadata": {
    "ExecuteTime": {
     "end_time": "2021-03-28T04:06:46.862994Z",
     "start_time": "2021-03-28T04:06:44.086Z"
    },
    "id": "a11ea2dd850f"
   },
   "outputs": [],
   "source": [
    "network_size = dview.pull('bf.size()', block=True, targets=0)\n",
    "W = np.zeros((network_size, network_size))\n",
    "\n",
    "for idx in range(network_size):\n",
    "    self_weight = dview.pull('self_weight', block=True, targets=idx)\n",
    "    neighbor_weights = dview.pull('neighbor_weights', block=True, targets=idx)\n",
    "    \n",
    "    W[agentID_to_rank[idx],agentID_to_rank[idx]] = self_weight\n",
    "    for k, v in neighbor_weights.items():\n",
    "        W[agentID_to_rank[idx],k] = v\n",
    "\n",
    "print('The matrix W is:')\n",
    "print(W)\n",
    "\n",
    "# check the row sum and column sum\n",
    "print('\\nRow sum of W is:', np.sum(W, axis=1))\n",
    "print('Col sum of W is:', np.sum(W, axis=0))\n",
    "\n",
    "if np.sum(W, axis=1).all() and np.sum(W, axis=0).all():\n",
    "    print('The above W is doubly stochastic.')"
   ]
  },
  {
   "cell_type": "markdown",
   "metadata": {
    "id": "cb149f44e68d"
   },
   "source": [
    "It is observed that the agents' associated combination matrix is consistent with the above generated associated combination matrix."
   ]
  },
  {
   "cell_type": "code",
   "execution_count": null,
   "metadata": {},
   "outputs": [],
   "source": []
  }
 ],
 "metadata": {
  "colab": {
   "name": "Sec-2.3-Combination-matrix-over-undirected-network.ipynb",
   "toc_visible": true
  },
  "kernelspec": {
   "display_name": "Python 3",
   "language": "python",
   "name": "python3"
  },
  "language_info": {
   "codemirror_mode": {
    "name": "ipython",
    "version": 3
   },
   "file_extension": ".py",
   "mimetype": "text/x-python",
   "name": "python",
   "nbconvert_exporter": "python",
   "pygments_lexer": "ipython3",
   "version": "3.7.5"
  }
 },
 "nbformat": 4,
 "nbformat_minor": 1
}

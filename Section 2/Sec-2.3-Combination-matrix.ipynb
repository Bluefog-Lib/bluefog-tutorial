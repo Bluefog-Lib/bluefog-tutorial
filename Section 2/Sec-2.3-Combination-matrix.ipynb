{
 "cells": [
  {
   "cell_type": "markdown",
   "metadata": {},
   "source": [
    "## 2.3 Combination Matrix over undirected network"
   ]
  },
  {
   "cell_type": "markdown",
   "metadata": {},
   "source": [
    "### 2.3.1 Weight\n",
    "\n",
    "We now associate each edge with a positive weight. This weight is used to scale information following over the associated edge.\n",
    "\n",
    "For a given topology, we define $w_{ij}$, the weight to scale information flowing from agent $j$ to agent $i$, as follows:\n",
    "\n",
    "\\begin{align}\\label{wij}\n",
    "w_{ij}\n",
    "\\begin{cases}\n",
    "> 0 & \\mbox{if $(j,i) \\in \\mathcal{E}$, or $i=j$;} \\\\\n",
    "= 0 & \\mbox{otherwise.} \n",
    "\\end{cases}\n",
    "\\end{align}\n",
    "\n",
    "### 2.3.2 Combination matrix and a fundamental assumption\n",
    "\n",
    "We further define the combination matrix $W = [w_{ij}]_{i,j=1}^{n} \\in \\mathbb{R}^{n\\times n}$ to stack all weights into a matrix. Such matrix $W$ will characterize the sparsity and connectivity of the underlying network topology. Throughout this section, we assume the combination matrix $W$ satisfies the following important assumption.\n",
    "\n",
    "> **Assumption 1 (Doubly stochastic)** We assume $W$ is a doubly stochastic matrix, i.e., \n",
    "$W \\mathbf{1} = \\mathbf{1}$ and $\\mathbf{1}^T W = \\mathbf{1}^T$.\n",
    "\n",
    "The above assumption essentially implies that both the row sum and the column sum of matrix $W$ are $1$, i.e., $\\sum_{j=1}^n w_{ij} = 1$ and $\\sum_{i=1}^n w_{ij} = 1$. This assumption indicates that each agent is taking a wighted local average in this neighborhood, and it is fundamental to guarantee that average consensus will converge to the global average $\\bar{x}$ asymtotically.\n",
    "\n",
    "### 2.3.3 Combination matrix over the undirected network\n",
    "\n",
    "In a undirected network, the edges $(i,j)$ and $(j,i)$ will appear in a pari-wise manner. Undirected network is very common in nature. In a [random geometric graph](https://networkx.org/documentation/stable/auto_examples/drawing/plot_random_geometric_graph.html), two agents $i$ and $j$ within a certain distance are regarded neighbors. Apparently, both edges $(i,j)$ and $(j,i)$ exist for this scenario. Given a undirected network topology, there are many rules that can help generate combination matrix satisfying Assumption 1. The most well-known rule is the Metropolis-Hastings rule \\[Refs\\]:\n",
    "\n",
    "> **Metropolis-Hastings rule.** Providing a undirected and connected topology $\\mathcal{G}$, we select $w_{ij}$ as\n",
    "> \n",
    ">\\begin{align}\n",
    "\\hspace{-3mm}\tw_{ij}=\n",
    "\t\\begin{cases}\n",
    "\t\t\\begin{array}{ll}\\displaystyle\n",
    "\t\t\t\\hspace{-2mm}\\frac{1}{1 + \\max\\{d_i, d_j \\}},& \\mbox{if $j \\in \\mathcal{N}(i)$}, \\\\\n",
    "\t\t\t\\hspace{-2mm}\\displaystyle 1 - \\sum_{j\\in \\mathcal{N}(i)}w_{ij}, & \\mbox{if $i = j$},\\\\\n",
    "\t\t\t\\hspace{-2mm}0,& \\mbox{if $j \\notin \\mathcal{N}(i)$  and $j\\neq i$}.\n",
    "\t\t\\end{array}\n",
    "\t\\end{cases}\n",
    "\\end{align}\n",
    ">\n",
    "> where $d_i = |\\mathcal{N}(i)|$ (the number of incoming neighbors of agent $k$). It is easy to verify such $W$ is always doubly-stochastic.\n",
    "\n",
    "The other popular approaches can be found in Table 14.1 of reference \\[Refs\\]."
   ]
  },
  {
   "cell_type": "markdown",
   "metadata": {},
   "source": [
    "#### 2.3.3.1 Example I: Commonly-used topology and associated combination matrix\n",
    "\n",
    "In BlueFog, we support various commonly-used topologies such as ring, star, 2D-mesh, exponential graph, fully-connected graph, hierarchical graph, etc. One can organize his clusters into any of these topopology easily with the function ```bluefog.common.topology_util```, see the deatil in the [user manual](https://bluefog-lib.github.io/bluefog/topo_api.html?highlight=topology#module-bluefog.common.topology_util). In addition, BlueFog also provides the associated combination matrix for these topologies. \n",
    "\n",
    "**Note:** The reader not familiar with how to run BlueFog in ipython notebook environment is encouraged to read Sec. \\[HelloWorld section\\] first."
   ]
  },
  {
   "cell_type": "markdown",
   "metadata": {},
   "source": [
    "- **A: Test whether BlueFog works normally (the same steps as illustrated in Sec. 2.1)**\n",
    "\n",
    "In the following code, you should be able to see the id of your CPUs. We use 8 CPUs to conduct the following experiment."
   ]
  },
  {
   "cell_type": "code",
   "execution_count": 9,
   "metadata": {
    "collapsed": true
   },
   "outputs": [
    {
     "data": {
      "text/plain": [
       "[0, 1, 2, 3, 4, 5, 6, 7]"
      ]
     },
     "execution_count": 9,
     "metadata": {},
     "output_type": "execute_result"
    }
   ],
   "source": [
    "import numpy as np\n",
    "import bluefog.torch as bf\n",
    "import torch\n",
    "import networkx as nx   # nx will be used for network topology creating and plotting\n",
    "from bluefog.common import topology_util\n",
    "import matplotlib.pyplot as plt\n",
    "%matplotlib inline\n",
    "import ipyparallel as ipp\n",
    "\n",
    "rc = ipp.Client(profile='bluefog')\n",
    "rc.ids"
   ]
  },
  {
   "cell_type": "markdown",
   "metadata": {},
   "source": [
    "Let each agent import necessary modules and then initialize BlueFog. You should be able to see the printed information like:  \n",
    "\n",
    "> \\[stdout:0\\] Hello, I am 1 among 8 processes\n",
    "> \n",
    "> ..."
   ]
  },
  {
   "cell_type": "code",
   "execution_count": 3,
   "metadata": {
    "collapsed": true
   },
   "outputs": [
    {
     "name": "stdout",
     "output_type": "stream",
     "text": [
      "[stdout:0] Hello, I am 4 among 8 processes\n",
      "[stdout:1] Hello, I am 3 among 8 processes\n",
      "[stdout:2] Hello, I am 5 among 8 processes\n",
      "[stdout:3] Hello, I am 1 among 8 processes\n",
      "[stdout:4] Hello, I am 0 among 8 processes\n",
      "[stdout:5] Hello, I am 2 among 8 processes\n",
      "[stdout:6] Hello, I am 6 among 8 processes\n",
      "[stdout:7] Hello, I am 7 among 8 processes\n"
     ]
    }
   ],
   "source": [
    "%%px\n",
    "import numpy as np\n",
    "import bluefog.torch as bf\n",
    "import torch\n",
    "from bluefog.common import topology_util\n",
    "import networkx as nx\n",
    "\n",
    "bf.init()\n",
    "print(f\"Hello, I am {bf.rank()} among {bf.size()} processes\")"
   ]
  },
  {
   "cell_type": "markdown",
   "metadata": {},
   "source": [
    "Push seed to each agent so that the simulation can be reproduced."
   ]
  },
  {
   "cell_type": "code",
   "execution_count": 4,
   "metadata": {
    "collapsed": true
   },
   "outputs": [
    {
     "data": {
      "text/plain": [
       "[None, None, None, None, None, None, None, None]"
      ]
     },
     "execution_count": 4,
     "metadata": {},
     "output_type": "execute_result"
    }
   ],
   "source": [
    "dview = rc[:] # A DirectView of all engines\n",
    "dview.block=True\n",
    "\n",
    "# Push the data into all workers\n",
    "dview.push({'seed': 2021}, block=True)"
   ]
  },
  {
   "cell_type": "code",
   "execution_count": 5,
   "metadata": {
    "collapsed": true
   },
   "outputs": [
    {
     "data": {
      "text/plain": [
       "[None, None, None, None, None, None, None, None]"
      ]
     },
     "execution_count": 5,
     "metadata": {},
     "output_type": "execute_result"
    }
   ],
   "source": [
    "dview = rc[:] # A DirectView of all engines\n",
    "dview.block=True\n",
    "\n",
    "# Push the data into all workers\n",
    "dview.push({'seed': 2021}, block=True)"
   ]
  },
  {
   "cell_type": "markdown",
   "metadata": {},
   "source": [
    "After running the following code, you should be able to see the printed information like \n",
    "\n",
    "> \\[stdout:0\\] I received seed as value:  2021\n",
    "> \n",
    "> ..."
   ]
  },
  {
   "cell_type": "code",
   "execution_count": 7,
   "metadata": {
    "collapsed": true
   },
   "outputs": [
    {
     "name": "stdout",
     "output_type": "stream",
     "text": [
      "[stdout:0] I received seed as value:  2021\n",
      "[stdout:1] I received seed as value:  2021\n",
      "[stdout:2] I received seed as value:  2021\n",
      "[stdout:3] I received seed as value:  2021\n",
      "[stdout:4] I received seed as value:  2021\n",
      "[stdout:5] I received seed as value:  2021\n",
      "[stdout:6] I received seed as value:  2021\n",
      "[stdout:7] I received seed as value:  2021\n"
     ]
    }
   ],
   "source": [
    "%%px\n",
    "print(\"I received seed as value: \", seed)"
   ]
  },
  {
   "cell_type": "markdown",
   "metadata": {},
   "source": [
    "Congratulations! Your BlueFog is initialized and tested successfully."
   ]
  },
  {
   "cell_type": "markdown",
   "metadata": {},
   "source": [
    "- **B: Undirected Ring topology and associated combination matrix**\n",
    "\n",
    "We now construct a ring topology. Note that to plot the topology, we have to pull the topology information from the agent to the Jupyter engine. That is why we have to use ```dview.pull```. In the following code, ```bf.size()``` will return the size of the network."
   ]
  },
  {
   "cell_type": "code",
   "execution_count": 10,
   "metadata": {},
   "outputs": [
    {
     "data": {
      "image/png": "[encoded data removed]",
      "text/plain": [
       "<Figure size 432x288 with 1 Axes>"
      ]
     },
     "metadata": {},
     "output_type": "display_data"
    }
   ],
   "source": [
    "# Generate topology.\n",
    "\n",
    "# Plot figure\n",
    "%px G = topology_util.RingGraph(bf.size())\n",
    "\n",
    "G_0 = dview.pull('G', block=True, targets=0)\n",
    "nx.draw_circular(G_0)"
   ]
  },
  {
   "cell_type": "markdown",
   "metadata": {},
   "source": [
    "When the topology is generated through BlueFog utilities (such as ```RingGraph()```, ```ExponentialTwoGraph()```, ```MeshGrid2DGraph()``` and others in the [user manual](https://bluefog-lib.github.io/bluefog/topo_api.html?highlight=topology#module-bluefog.common.topology_util)), the associated combination matrix is provided automatically. \n",
    "Now we examine the self weight and neighbor weights of each agent in the ring topology. To this end, we can use ```GetRecvWeights()``` to get these information. In the following code, ```bf.rank()``` will return the label of that agent. Note that all agents will run the following code in parallel (One can see that from the magic command ```%%px```). "
   ]
  },
  {
   "cell_type": "code",
   "execution_count": 11,
   "metadata": {},
   "outputs": [],
   "source": [
    "%%px\n",
    "\n",
    "self_weight, neighbor_weights = topology_util.GetRecvWeights(G, bf.rank())"
   ]
  },
  {
   "cell_type": "markdown",
   "metadata": {},
   "source": [
    "Now we examine the self weight and neighbor weights of agent $0$."
   ]
  },
  {
   "cell_type": "code",
   "execution_count": 12,
   "metadata": {},
   "outputs": [
    {
     "name": "stdout",
     "output_type": "stream",
     "text": [
      "[stdout:4] \n",
      "self weights: 0.3333333333333333\n",
      "\n",
      "neighbor weights:\n",
      "neighbor id:1, weight:0.3333333333333333\n",
      "neighbor id:7, weight:0.3333333333333333\n"
     ]
    }
   ],
   "source": [
    "%%px\n",
    "if bf.rank() == 0:\n",
    "    print('self weights: {}\\n'.format(self_weight))\n",
    "    print('neighbor weights:')\n",
    "    for k, v in neighbor_weights.items():\n",
    "        print('neighbor id:{}, weight:{}'.format(k, v))"
   ]
  },
  {
   "cell_type": "markdown",
   "metadata": {},
   "source": [
    "We can even construct the combination matrix $W$ and examine its property. To this end, we will pull the weights of each agent into the Jupyter engine and then construct the combination matrix. The method to pull information from agent is \n",
    "\n",
    "```dview.pull(information_to_pull, targets=agent_idx)```\n",
    "\n",
    "It should be noted that ```agent_idx``` is not the rank of each agent. Instead, it is essentially the order that the engine collects information from each agent. We need to establish a mapping between rank and agent_idx."
   ]
  },
  {
   "cell_type": "code",
   "execution_count": 13,
   "metadata": {},
   "outputs": [
    {
     "name": "stdout",
     "output_type": "stream",
     "text": [
      "id:0, rank:4\n",
      "id:1, rank:3\n",
      "id:2, rank:5\n",
      "id:3, rank:1\n",
      "id:4, rank:0\n",
      "id:5, rank:2\n",
      "id:6, rank:6\n",
      "id:7, rank:7\n"
     ]
    }
   ],
   "source": [
    "network_size = dview.pull('bf.size()', block=True, targets=0)\n",
    "agentID_to_rank = {}\n",
    "for idx in range(network_size):\n",
    "    agentID_to_rank[idx] = dview.pull('bf.rank()', block=True, targets=idx)\n",
    "    \n",
    "for k,v in agentID_to_rank.items():\n",
    "    print('id:{}, rank:{}'.format(k, v))"
   ]
  },
  {
   "cell_type": "markdown",
   "metadata": {},
   "source": [
    "Now we construct the combination matrix $W$."
   ]
  },
  {
   "cell_type": "code",
   "execution_count": 14,
   "metadata": {
    "collapsed": true
   },
   "outputs": [
    {
     "name": "stdout",
     "output_type": "stream",
     "text": [
      "The matrix W is:\n",
      "[[0.33333333 0.33333333 0.         0.         0.         0.\n",
      "  0.         0.33333333]\n",
      " [0.33333333 0.33333333 0.33333333 0.         0.         0.\n",
      "  0.         0.        ]\n",
      " [0.         0.33333333 0.33333333 0.33333333 0.         0.\n",
      "  0.         0.        ]\n",
      " [0.         0.         0.33333333 0.33333333 0.33333333 0.\n",
      "  0.         0.        ]\n",
      " [0.         0.         0.         0.33333333 0.33333333 0.33333333\n",
      "  0.         0.        ]\n",
      " [0.         0.         0.         0.         0.33333333 0.33333333\n",
      "  0.33333333 0.        ]\n",
      " [0.         0.         0.         0.         0.         0.33333333\n",
      "  0.33333333 0.33333333]\n",
      " [0.33333333 0.         0.         0.         0.         0.\n",
      "  0.33333333 0.33333333]]\n",
      "\n",
      "Row sum of W is: [1. 1. 1. 1. 1. 1. 1. 1.]\n",
      "Col sum of W is: [1. 1. 1. 1. 1. 1. 1. 1.]\n",
      "The above W is doubly stochastic.\n"
     ]
    }
   ],
   "source": [
    "W = np.zeros((network_size, network_size))\n",
    "\n",
    "for idx in range(network_size):\n",
    "    self_weight = dview.pull('self_weight', block=True, targets=idx)\n",
    "    neighbor_weights = dview.pull('neighbor_weights', block=True, targets=idx)\n",
    "    \n",
    "    W[agentID_to_rank[idx],agentID_to_rank[idx]] = self_weight\n",
    "    for k, v in neighbor_weights.items():\n",
    "        W[agentID_to_rank[idx],k] = v\n",
    "\n",
    "print('The matrix W is:')\n",
    "print(W)\n",
    "\n",
    "# check the row sum and column sum\n",
    "print('\\nRow sum of W is:', np.sum(W, axis=1))\n",
    "print('Col sum of W is:', np.sum(W, axis=0))\n",
    "\n",
    "if np.sum(W, axis=1).all() and np.sum(W, axis=0).all():\n",
    "    print('The above W is doubly stochastic.')"
   ]
  },
  {
   "cell_type": "markdown",
   "metadata": {},
   "source": [
    "- **I-C: Undirected Star topology and associated combination matrix**\n",
    "\n",
    "We can follow the above codes to draw the star topology and its associated combination matrix"
   ]
  },
  {
   "cell_type": "code",
   "execution_count": 15,
   "metadata": {},
   "outputs": [
    {
     "data": {
      "image/png": "[encoded data removed]",
      "text/plain": [
       "<Figure size 432x288 with 1 Axes>"
      ]
     },
     "metadata": {},
     "output_type": "display_data"
    }
   ],
   "source": [
    "# Generate topology.\n",
    "\n",
    "# Plot figure\n",
    "%px G = topology_util.StarGraph(bf.size())\n",
    "\n",
    "G_0 = dview.pull('G', block=True, targets=0)\n",
    "nx.draw_circular(G_0)"
   ]
  },
  {
   "cell_type": "code",
   "execution_count": 16,
   "metadata": {},
   "outputs": [],
   "source": [
    "%%px\n",
    "\n",
    "self_weight, neighbor_weights = topology_util.GetRecvWeights(G, bf.rank())"
   ]
  },
  {
   "cell_type": "code",
   "execution_count": 17,
   "metadata": {
    "collapsed": true
   },
   "outputs": [
    {
     "name": "stdout",
     "output_type": "stream",
     "text": [
      "The matrix W is:\n",
      "[[0.125 0.125 0.125 0.125 0.125 0.125 0.125 0.125]\n",
      " [0.125 0.875 0.    0.    0.    0.    0.    0.   ]\n",
      " [0.125 0.    0.875 0.    0.    0.    0.    0.   ]\n",
      " [0.125 0.    0.    0.875 0.    0.    0.    0.   ]\n",
      " [0.125 0.    0.    0.    0.875 0.    0.    0.   ]\n",
      " [0.125 0.    0.    0.    0.    0.875 0.    0.   ]\n",
      " [0.125 0.    0.    0.    0.    0.    0.875 0.   ]\n",
      " [0.125 0.    0.    0.    0.    0.    0.    0.875]]\n",
      "\n",
      "Row sum of W is: [1. 1. 1. 1. 1. 1. 1. 1.]\n",
      "Col sum of W is: [1. 1. 1. 1. 1. 1. 1. 1.]\n",
      "The above W is doubly stochastic.\n"
     ]
    }
   ],
   "source": [
    "network_size = dview.pull('bf.size()', block=True, targets=0)\n",
    "W = np.zeros((network_size, network_size))\n",
    "\n",
    "for idx in range(network_size):\n",
    "    self_weight = dview.pull('self_weight', block=True, targets=idx)\n",
    "    neighbor_weights = dview.pull('neighbor_weights', block=True, targets=idx)\n",
    "    \n",
    "    W[agentID_to_rank[idx],agentID_to_rank[idx]] = self_weight\n",
    "    for k, v in neighbor_weights.items():\n",
    "        W[agentID_to_rank[idx],k] = v\n",
    "\n",
    "print('The matrix W is:')\n",
    "print(W)\n",
    "\n",
    "# check the row sum and column sum\n",
    "print('\\nRow sum of W is:', np.sum(W, axis=1))\n",
    "print('Col sum of W is:', np.sum(W, axis=0))\n",
    "\n",
    "if np.sum(W, axis=1).all() and np.sum(W, axis=0).all():\n",
    "    print('The above W is doubly stochastic.')"
   ]
  },
  {
   "cell_type": "markdown",
   "metadata": {},
   "source": [
    "- **I-D: Undirected 2D-Mesh topology and associated combination matrix**"
   ]
  },
  {
   "cell_type": "code",
   "execution_count": 21,
   "metadata": {},
   "outputs": [
    {
     "data": {
      "image/png": "[encoded data removed]",
      "text/plain": [
       "<Figure size 432x288 with 1 Axes>"
      ]
     },
     "metadata": {},
     "output_type": "display_data"
    }
   ],
   "source": [
    "# Generate topology.\n",
    "\n",
    "# Plot figure\n",
    "%px G = topology_util.MeshGrid2DGraph(bf.size())\n",
    "\n",
    "G_0 = dview.pull('G', block=True, targets=0)\n",
    "nx.draw_spring(G_0)"
   ]
  },
  {
   "cell_type": "code",
   "execution_count": 22,
   "metadata": {},
   "outputs": [],
   "source": [
    "%%px\n",
    "\n",
    "self_weight, neighbor_weights = topology_util.GetRecvWeights(G, bf.rank())"
   ]
  },
  {
   "cell_type": "code",
   "execution_count": 23,
   "metadata": {
    "collapsed": true
   },
   "outputs": [
    {
     "name": "stdout",
     "output_type": "stream",
     "text": [
      "The matrix W is:\n",
      "[[0.41666667 0.25       0.         0.         0.33333333 0.\n",
      "  0.         0.        ]\n",
      " [0.25       0.25       0.25       0.         0.         0.25\n",
      "  0.         0.        ]\n",
      " [0.         0.25       0.25       0.25       0.         0.\n",
      "  0.25       0.        ]\n",
      " [0.         0.         0.25       0.41666667 0.         0.\n",
      "  0.         0.33333333]\n",
      " [0.33333333 0.         0.         0.         0.41666667 0.25\n",
      "  0.         0.        ]\n",
      " [0.         0.25       0.         0.         0.25       0.25\n",
      "  0.25       0.        ]\n",
      " [0.         0.         0.25       0.         0.         0.25\n",
      "  0.25       0.25      ]\n",
      " [0.         0.         0.         0.33333333 0.         0.\n",
      "  0.25       0.41666667]]\n",
      "\n",
      "Row sum of W is: [1. 1. 1. 1. 1. 1. 1. 1.]\n",
      "Col sum of W is: [1. 1. 1. 1. 1. 1. 1. 1.]\n",
      "The above W is doubly stochastic.\n"
     ]
    }
   ],
   "source": [
    "network_size = dview.pull('bf.size()', block=True, targets=0)\n",
    "W = np.zeros((network_size, network_size))\n",
    "\n",
    "for idx in range(network_size):\n",
    "    self_weight = dview.pull('self_weight', block=True, targets=idx)\n",
    "    neighbor_weights = dview.pull('neighbor_weights', block=True, targets=idx)\n",
    "    \n",
    "    W[agentID_to_rank[idx],agentID_to_rank[idx]] = self_weight\n",
    "    for k, v in neighbor_weights.items():\n",
    "        W[agentID_to_rank[idx],k] = v\n",
    "\n",
    "print('The matrix W is:')\n",
    "print(W)\n",
    "\n",
    "# check the row sum and column sum\n",
    "print('\\nRow sum of W is:', np.sum(W, axis=1))\n",
    "print('Col sum of W is:', np.sum(W, axis=0))\n",
    "\n",
    "if np.sum(W, axis=1).all() and np.sum(W, axis=0).all():\n",
    "    print('The above W is doubly stochastic.')"
   ]
  },
  {
   "cell_type": "markdown",
   "metadata": {},
   "source": [
    "- **I-E: Undirected 2D-Mesh topology and associated combination matrix**"
   ]
  },
  {
   "cell_type": "code",
   "execution_count": 24,
   "metadata": {},
   "outputs": [
    {
     "data": {
      "image/png": "[encoded data removed]",
      "text/plain": [
       "<Figure size 432x288 with 1 Axes>"
      ]
     },
     "metadata": {},
     "output_type": "display_data"
    }
   ],
   "source": [
    "# Generate topology.\n",
    "\n",
    "# Plot figure\n",
    "%px G = topology_util.FullyConnectedGraph(bf.size())\n",
    "\n",
    "G_0 = dview.pull('G', block=True, targets=0)\n",
    "nx.draw_circular(G_0)"
   ]
  },
  {
   "cell_type": "code",
   "execution_count": 25,
   "metadata": {},
   "outputs": [],
   "source": [
    "%%px\n",
    "\n",
    "self_weight, neighbor_weights = topology_util.GetRecvWeights(G, bf.rank())"
   ]
  },
  {
   "cell_type": "code",
   "execution_count": 26,
   "metadata": {
    "collapsed": true
   },
   "outputs": [
    {
     "name": "stdout",
     "output_type": "stream",
     "text": [
      "The matrix W is:\n",
      "[[0.125 0.125 0.125 0.125 0.125 0.125 0.125 0.125]\n",
      " [0.125 0.125 0.125 0.125 0.125 0.125 0.125 0.125]\n",
      " [0.125 0.125 0.125 0.125 0.125 0.125 0.125 0.125]\n",
      " [0.125 0.125 0.125 0.125 0.125 0.125 0.125 0.125]\n",
      " [0.125 0.125 0.125 0.125 0.125 0.125 0.125 0.125]\n",
      " [0.125 0.125 0.125 0.125 0.125 0.125 0.125 0.125]\n",
      " [0.125 0.125 0.125 0.125 0.125 0.125 0.125 0.125]\n",
      " [0.125 0.125 0.125 0.125 0.125 0.125 0.125 0.125]]\n",
      "\n",
      "Row sum of W is: [1. 1. 1. 1. 1. 1. 1. 1.]\n",
      "Col sum of W is: [1. 1. 1. 1. 1. 1. 1. 1.]\n",
      "The above W is doubly stochastic.\n"
     ]
    }
   ],
   "source": [
    "network_size = dview.pull('bf.size()', block=True, targets=0)\n",
    "W = np.zeros((network_size, network_size))\n",
    "\n",
    "for idx in range(network_size):\n",
    "    self_weight = dview.pull('self_weight', block=True, targets=idx)\n",
    "    neighbor_weights = dview.pull('neighbor_weights', block=True, targets=idx)\n",
    "    \n",
    "    W[agentID_to_rank[idx],agentID_to_rank[idx]] = self_weight\n",
    "    for k, v in neighbor_weights.items():\n",
    "        W[agentID_to_rank[idx],k] = v\n",
    "\n",
    "print('The matrix W is:')\n",
    "print(W)\n",
    "\n",
    "# check the row sum and column sum\n",
    "print('\\nRow sum of W is:', np.sum(W, axis=1))\n",
    "print('Col sum of W is:', np.sum(W, axis=0))\n",
    "\n",
    "if np.sum(W, axis=1).all() and np.sum(W, axis=0).all():\n",
    "    print('The above W is doubly stochastic.')"
   ]
  },
  {
   "cell_type": "markdown",
   "metadata": {},
   "source": [
    "The readers are encourged to test other topologies and examine their associated combination matrix. Check the topology related utility function in [user manual](https://bluefog-lib.github.io/bluefog/topo_api.html?highlight=topology#module-bluefog.common.topology_util)."
   ]
  },
  {
   "cell_type": "markdown",
   "metadata": {},
   "source": [
    "#### 2.3.3.2 Example II: Set up your own topology\n",
    "\n",
    "There are definitely scenarios in which you want to organize the agents into your own magic topologies. In this example, we will show how to produce the combination matrix via the Metropolis-Hastings rule and generate the network topology that can be used to in BlueFog utilities.\n",
    "\n",
    "Before we generate the combination matrix, you have to prepare an [adjacency matrix](https://en.wikipedia.org/wiki/Adjacency_matrix) of your topology. Since your topology is undirected, the adjacency matrix should be symmetric."
   ]
  },
  {
   "cell_type": "code",
   "execution_count": 27,
   "metadata": {},
   "outputs": [],
   "source": [
    "def gen_comb_matrix_via_MH(A):\n",
    "    \n",
    "    '''\n",
    "    Input:  adjacency matirx A: numpy 2D array with dims (n,n)\n",
    "    Output: combination matrix W: numpy 2D array with dims (n,n)\n",
    "    '''\n",
    "    \n",
    "    # assert A == A.T\n",
    "    \n",
    "    # make sure the diagonal matrix of A is 0\n",
    "    n, _ = A.shape\n",
    "    for i in range(n):\n",
    "        A[i,i] = 0\n",
    "        \n",
    "    # compute the degree of each agent\n",
    "    d = np.sum(A, axis=1)\n",
    "    # identify the neighbor of each agent\n",
    "    neighbors = {}\n",
    "    for i in range(n):\n",
    "        neighbors[i] = set()\n",
    "        for j in range(n):\n",
    "            if A[i,j] == 1:\n",
    "                neighbors[i].add(j)\n",
    "                \n",
    "    # generate W via M-H rule\n",
    "    W = np.zeros((n,n))\n",
    "    for i in range(n):\n",
    "        for j in neighbors[i]:\n",
    "            W[i,j] = 1/(1+np.maximum(d[i], d[j]))\n",
    "            \n",
    "    W_row_sum = np.sum(W,axis=1)\n",
    "    for i in range(n):\n",
    "        W[i,i] = 1 - W_row_sum[i]\n",
    "    \n",
    "    return W"
   ]
  },
  {
   "cell_type": "markdown",
   "metadata": {},
   "source": [
    "Now we test the correctedness of the above function. To this end, we define a new network topology: we randomly generate the 2D coordinates of $n$ agents within a $1 \\times 1$ square. If the distance between two nodes are within $r$, they are regarded as neighbors. We call such network topology as distance-decided network. The following functioin will return the adjacency matrix."
   ]
  },
  {
   "cell_type": "code",
   "execution_count": 28,
   "metadata": {},
   "outputs": [],
   "source": [
    "# random geometry graph\n",
    "def gen_distance_decided_topology(num_agents, neighborhood_dist):\n",
    "    \n",
    "    # Generate n random 2D coordinates within a 1*1 square\n",
    "    agents = {}\n",
    "    for i in range(num_agents):\n",
    "        agents[i] = np.random.rand(2,1)\n",
    "        \n",
    "    A = np.zeros((num_agents, num_agents))\n",
    "    for i in range(num_agents):\n",
    "        for j in range(i+1, num_agents):\n",
    "            dist = np.linalg.norm(agents[i] - agents[j])\n",
    "            if dist < neighborhood_dist:\n",
    "                A[i,j] = 1\n",
    "                A[j,i] = 1\n",
    "                \n",
    "    return A"
   ]
  },
  {
   "cell_type": "markdown",
   "metadata": {},
   "source": [
    "Now we use the above utility function to generate a random distance-decided network. One can adjust parameter ```neighborhood_dist``` to manipulate the density of the network topology."
   ]
  },
  {
   "cell_type": "code",
   "execution_count": 29,
   "metadata": {},
   "outputs": [
    {
     "name": "stdout",
     "output_type": "stream",
     "text": [
      "The adjacency matrix of the generated network is:\n",
      "[[0. 0. 0. 1. 1. 0. 1. 0.]\n",
      " [0. 0. 0. 1. 0. 1. 0. 1.]\n",
      " [0. 0. 0. 0. 0. 0. 1. 0.]\n",
      " [1. 1. 0. 0. 1. 0. 0. 1.]\n",
      " [1. 0. 0. 1. 0. 0. 1. 0.]\n",
      " [0. 1. 0. 0. 0. 0. 0. 0.]\n",
      " [1. 0. 1. 0. 1. 0. 0. 0.]\n",
      " [0. 1. 0. 1. 0. 0. 0. 0.]]\n",
      "\n",
      "\n",
      "The associated combination matrix is:\n",
      "[[0.3  0.   0.   0.2  0.25 0.   0.25 0.  ]\n",
      " [0.   0.3  0.   0.2  0.   0.25 0.   0.25]\n",
      " [0.   0.   0.75 0.   0.   0.   0.25 0.  ]\n",
      " [0.2  0.2  0.   0.2  0.2  0.   0.   0.2 ]\n",
      " [0.25 0.   0.   0.2  0.3  0.   0.25 0.  ]\n",
      " [0.   0.25 0.   0.   0.   0.75 0.   0.  ]\n",
      " [0.25 0.   0.25 0.   0.25 0.   0.25 0.  ]\n",
      " [0.   0.25 0.   0.2  0.   0.   0.   0.55]]\n",
      "\n",
      "\n",
      "W is symmetric.\n",
      "W is doubly stochastic.\n"
     ]
    },
    {
     "data": {
      "image/png": "[encoded data removed]",
      "text/plain": [
       "<Figure size 432x288 with 1 Axes>"
      ]
     },
     "metadata": {},
     "output_type": "display_data"
    }
   ],
   "source": [
    "np.random.seed(seed=2021)\n",
    "\n",
    "A = gen_distance_decided_topology(num_agents=8, neighborhood_dist=0.5)\n",
    "print('The adjacency matrix of the generated network is:')\n",
    "print(A)\n",
    "\n",
    "print('\\n')\n",
    "print('The associated combination matrix is:')\n",
    "W = gen_comb_matrix_via_MH(A)\n",
    "print(W)\n",
    "\n",
    "# test whether it is symmetric and doubly stochastic\n",
    "print('\\n')\n",
    "if np.linalg.norm(W-W.T) == 0:\n",
    "    print('W is symmetric.')\n",
    "    \n",
    "if np.sum(W,axis=0).all() == 1 and np.sum(W,axis=1).all() == 1:\n",
    "    print('W is doubly stochastic.')\n",
    "    \n",
    "# generate topology from W\n",
    "# how networkx interpret such W ????\n",
    "G = nx.from_numpy_array(W, create_using=nx.DiGraph)\n",
    "\n",
    "# draw topology\n",
    "nx.draw_spring(G)"
   ]
  },
  {
   "cell_type": "markdown",
   "metadata": {},
   "source": [
    "Given $W$ generated from the MH rule, next we organize the agents into the above topology with ```set_topology(G)```. We further whether the agents' associated combination matrix is consistent with the above generated associated combination matri $W$. "
   ]
  },
  {
   "cell_type": "code",
   "execution_count": 30,
   "metadata": {},
   "outputs": [
    {
     "data": {
      "text/plain": [
       "[None, None, None, None, None, None, None, None]"
      ]
     },
     "execution_count": 30,
     "metadata": {},
     "output_type": "execute_result"
    }
   ],
   "source": [
    "dview.push({'W': W}, block=True)"
   ]
  },
  {
   "cell_type": "code",
   "execution_count": 31,
   "metadata": {},
   "outputs": [],
   "source": [
    "%%px\n",
    "\n",
    "G = nx.from_numpy_array(W, create_using=nx.DiGraph)\n",
    "bf.set_topology(G)\n",
    "topology = bf.load_topology()\n",
    "self_weight, neighbor_weights = topology_util.GetRecvWeights(topology, bf.rank())"
   ]
  },
  {
   "cell_type": "code",
   "execution_count": 32,
   "metadata": {},
   "outputs": [
    {
     "name": "stdout",
     "output_type": "stream",
     "text": [
      "The matrix W is:\n",
      "[[0.3  0.   0.   0.2  0.25 0.   0.25 0.  ]\n",
      " [0.   0.3  0.   0.2  0.   0.25 0.   0.25]\n",
      " [0.   0.   0.75 0.   0.   0.   0.25 0.  ]\n",
      " [0.2  0.2  0.   0.2  0.2  0.   0.   0.2 ]\n",
      " [0.25 0.   0.   0.2  0.3  0.   0.25 0.  ]\n",
      " [0.   0.25 0.   0.   0.   0.75 0.   0.  ]\n",
      " [0.25 0.   0.25 0.   0.25 0.   0.25 0.  ]\n",
      " [0.   0.25 0.   0.2  0.   0.   0.   0.55]]\n",
      "\n",
      "Row sum of W is: [1. 1. 1. 1. 1. 1. 1. 1.]\n",
      "Col sum of W is: [1. 1. 1. 1. 1. 1. 1. 1.]\n",
      "The above W is doubly stochastic.\n"
     ]
    }
   ],
   "source": [
    "network_size = dview.pull('bf.size()', block=True, targets=0)\n",
    "W = np.zeros((network_size, network_size))\n",
    "\n",
    "for idx in range(network_size):\n",
    "    self_weight = dview.pull('self_weight', block=True, targets=idx)\n",
    "    neighbor_weights = dview.pull('neighbor_weights', block=True, targets=idx)\n",
    "    \n",
    "    W[agentID_to_rank[idx],agentID_to_rank[idx]] = self_weight\n",
    "    for k, v in neighbor_weights.items():\n",
    "        W[agentID_to_rank[idx],k] = v\n",
    "\n",
    "print('The matrix W is:')\n",
    "print(W)\n",
    "\n",
    "# check the row sum and column sum\n",
    "print('\\nRow sum of W is:', np.sum(W, axis=1))\n",
    "print('Col sum of W is:', np.sum(W, axis=0))\n",
    "\n",
    "if np.sum(W, axis=1).all() and np.sum(W, axis=0).all():\n",
    "    print('The above W is doubly stochastic.')"
   ]
  },
  {
   "cell_type": "markdown",
   "metadata": {},
   "source": [
    "It is observed that the agents' associated combination matrix is consistent with the above generated associated combination matrix."
   ]
  },
  {
   "cell_type": "code",
   "execution_count": null,
   "metadata": {},
   "outputs": [],
   "source": []
  }
 ],
 "metadata": {
  "kernelspec": {
   "display_name": "Python 3",
   "language": "python",
   "name": "python3"
  },
  "language_info": {
   "codemirror_mode": {
    "name": "ipython",
    "version": 3
   },
   "file_extension": ".py",
   "mimetype": "text/x-python",
   "name": "python",
   "nbconvert_exporter": "python",
   "pygments_lexer": "ipython3",
   "version": "3.7.7"
  }
 },
 "nbformat": 4,
 "nbformat_minor": 4
}

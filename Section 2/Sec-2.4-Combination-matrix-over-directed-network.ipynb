{
 "cells": [
  {
   "cell_type": "markdown",
   "metadata": {},
   "source": [
    "## 2.4 Combination Matrix over directed network"
   ]
  },
  {
   "cell_type": "markdown",
   "metadata": {},
   "source": [
    "This section we will discuss the combination matrix over the directed network topology. Directed network is more flexible than undirected network. It allows the scenario in which edge $(i,j)$ exists but $(j,i)$ does not. In fact, undirected network can be regarded as a special form of the directed network.\n",
    "\n",
    "For a general directed network, it may not be possible to construct a doubly stochastic matrix (i.e., the matrix with row sum and column sum being 1, see Assumption 1 in Sec. 2.3) \\[needs a double check\\]. In this section, we will focus on the exponential-two graph, a special directed network topology that is widely used in high-performance computing and deep neural network training, and discuss its combination matrix.\n",
    "\n",
    "### 2.4.1 Illustration of the exponential-two graph\n",
    "\n",
    "Exponential-two graph is an important network topology that we will utilize frequently in following sections. In the exponential-two graph, each agent will communicate with the neighbors that are $2^0, 2^1, \\cdots, 2^T$ hops away. Next, we will draw the exponential-two graph with BlueFog.\n",
    "\n",
    "We first need to import necessary modules."
   ]
  },
  {
   "cell_type": "code",
   "execution_count": 2,
   "metadata": {},
   "outputs": [],
   "source": [
    "import numpy as np\n",
    "import bluefog.torch as bf\n",
    "import torch\n",
    "import networkx as nx   # nx will be used for network topology creating and plotting\n",
    "from bluefog.common import topology_util\n",
    "import matplotlib.pyplot as plt\n",
    "%matplotlib inline"
   ]
  },
  {
   "cell_type": "code",
   "execution_count": 3,
   "metadata": {},
   "outputs": [
    {
     "data": {
      "image/png": "[encoded data removed]",
      "text/plain": [
       "<Figure size 432x288 with 1 Axes>"
      ]
     },
     "metadata": {},
     "output_type": "display_data"
    }
   ],
   "source": [
    "G = topology_util.ExponentialTwoGraph(8)\n",
    "labels={0:7,1:0,2:1,3:2,4:3, 5:4, 6:5, 7:6}\n",
    "nx.draw_circular(G, labels=labels)"
   ]
  },
  {
   "cell_type": "markdown",
   "metadata": {},
   "source": [
    "The above network is directed in which each agent sends information to neighbors that are $2^0$, $2^1$ and $2^2$ hops away. For example, agent $0$ sends information to $1$, $2$ and $4$ while agent $1$ sends information to $2$, $3$, and $5$.\n",
    "\n",
    "### 2.4.2 Combination matrix over the exponential-two graph\n",
    "\n",
    "In the exponential-two graph, each node has the same incoming degree and outgoing degree. With this important property, we can easily construct a doubly stochastic combination matrix with averaging rule.\n",
    "\n",
    "> **Averaging rule.** Providing an exponential-two topology $\\mathcal{G}$, we select $w_{ij}$ as\n",
    "> \n",
    ">\\begin{align}\n",
    "\\hspace{-3mm}\tw_{ij}=\n",
    "\t\\begin{cases}\n",
    "\t\t\\begin{array}{ll}\\displaystyle\n",
    "\t\t\t\\hspace{-2mm}\\frac{1}{1 + d},& \\mbox{if $j \\in \\mathcal{N}_{\\rm in}(i)$ or if $i = j$} , \\\\\n",
    "\t\t\t0,& \\mbox{otherwise}.\n",
    "\t\t\\end{array}\n",
    "\t\\end{cases}\n",
    "\\end{align}\n",
    ">\n",
    "> where $d = |\\mathcal{N}_{\\rm in}(i)|$ (the number of incoming neighbors of agent $i$). It is easy to verify such $W$ is always doubly-stochastic because incoming degree $d$ of each node is the same.\n",
    "\n",
    "BlueFog generates the combination matrix of the exponential-two graph with the above averaging rule. To illustrate it, we next examine the combination matrix provided by BlueFog.\n",
    "\n",
    "**Step I: Initialize BlueFog**"
   ]
  },
  {
   "cell_type": "code",
   "execution_count": 5,
   "metadata": {},
   "outputs": [
    {
     "data": {
      "text/plain": [
       "[0, 1, 2, 3, 4, 5, 6, 7]"
      ]
     },
     "execution_count": 5,
     "metadata": {},
     "output_type": "execute_result"
    }
   ],
   "source": [
    "import ipyparallel as ipp\n",
    "\n",
    "rc = ipp.Client(profile='bluefog')\n",
    "rc.ids"
   ]
  },
  {
   "cell_type": "code",
   "execution_count": 6,
   "metadata": {},
   "outputs": [
    {
     "name": "stdout",
     "output_type": "stream",
     "text": [
      "[stdout:0] Hello, I am 1 among 8 processes\n",
      "[stdout:1] Hello, I am 3 among 8 processes\n",
      "[stdout:2] Hello, I am 2 among 8 processes\n",
      "[stdout:3] Hello, I am 5 among 8 processes\n",
      "[stdout:4] Hello, I am 4 among 8 processes\n",
      "[stdout:5] Hello, I am 6 among 8 processes\n",
      "[stdout:6] Hello, I am 0 among 8 processes\n",
      "[stdout:7] Hello, I am 7 among 8 processes\n"
     ]
    }
   ],
   "source": [
    "%%px\n",
    "import numpy as np\n",
    "import bluefog.torch as bf\n",
    "import torch\n",
    "from bluefog.common import topology_util\n",
    "import networkx as nx\n",
    "\n",
    "bf.init()\n",
    "print(f\"Hello, I am {bf.rank()} among {bf.size()} processes\")"
   ]
  },
  {
   "cell_type": "code",
   "execution_count": 7,
   "metadata": {},
   "outputs": [
    {
     "data": {
      "text/plain": [
       "[None, None, None, None, None, None, None, None]"
      ]
     },
     "execution_count": 7,
     "metadata": {},
     "output_type": "execute_result"
    }
   ],
   "source": [
    "dview = rc[:] # A DirectView of all engines\n",
    "dview.block=True\n",
    "\n",
    "# Push the data into all workers\n",
    "dview.push({'seed': 2021}, block=True)"
   ]
  },
  {
   "cell_type": "code",
   "execution_count": 8,
   "metadata": {},
   "outputs": [
    {
     "name": "stdout",
     "output_type": "stream",
     "text": [
      "[stdout:0] I received seed as value:  2021\n",
      "[stdout:1] I received seed as value:  2021\n",
      "[stdout:2] I received seed as value:  2021\n",
      "[stdout:3] I received seed as value:  2021\n",
      "[stdout:4] I received seed as value:  2021\n",
      "[stdout:5] I received seed as value:  2021\n",
      "[stdout:6] I received seed as value:  2021\n",
      "[stdout:7] I received seed as value:  2021\n"
     ]
    }
   ],
   "source": [
    "%%px\n",
    "print(\"I received seed as value: \", seed)"
   ]
  },
  {
   "cell_type": "markdown",
   "metadata": {},
   "source": [
    "Congratulations! Your BlueFog is initialized and tested successfully."
   ]
  },
  {
   "cell_type": "markdown",
   "metadata": {},
   "source": [
    "**Step II: Examine the combination matrix of the exponential-two graph**\n",
    "\n",
    "We now fetch the combination matrix $W$ of exponential-two graph provided by BlueFog. To this end, we will pull the weights of each agent into the Jupyter engine and then construct the combination matrix. The method to pull information from agent is \n",
    "\n",
    "```dview.pull(information_to_pull, targets=agent_idx)```\n",
    "\n",
    "It should be noted that ```agent_idx``` is not the rank of each agent. Instead, it is essentially the order that the engine collects information from each agent. We need to establish a mapping between rank and agent_idx."
   ]
  },
  {
   "cell_type": "code",
   "execution_count": 11,
   "metadata": {},
   "outputs": [
    {
     "name": "stdout",
     "output_type": "stream",
     "text": [
      "id:0, rank:1\n",
      "id:1, rank:3\n",
      "id:2, rank:2\n",
      "id:3, rank:5\n",
      "id:4, rank:4\n",
      "id:5, rank:6\n",
      "id:6, rank:0\n",
      "id:7, rank:7\n"
     ]
    }
   ],
   "source": [
    "network_size = dview.pull('bf.size()', block=True, targets=0)\n",
    "agentID_to_rank = {}\n",
    "for idx in range(network_size):\n",
    "    agentID_to_rank[idx] = dview.pull('bf.rank()', block=True, targets=idx)\n",
    "    \n",
    "for k,v in agentID_to_rank.items():\n",
    "    print('id:{}, rank:{}'.format(k, v))"
   ]
  },
  {
   "cell_type": "markdown",
   "metadata": {},
   "source": [
    "We are ready to fetch the combination matrix $W$ of exponential-two graph provided by BlueFog."
   ]
  },
  {
   "cell_type": "code",
   "execution_count": 12,
   "metadata": {},
   "outputs": [],
   "source": [
    "%%px\n",
    "G = topology_util.ExponentialTwoGraph(8)\n",
    "self_weight, neighbor_weights = topology_util.GetRecvWeights(G, bf.rank())"
   ]
  },
  {
   "cell_type": "code",
   "execution_count": 13,
   "metadata": {},
   "outputs": [
    {
     "name": "stdout",
     "output_type": "stream",
     "text": [
      "The matrix W is:\n",
      "[[0.25 0.   0.   0.   0.25 0.   0.25 0.25]\n",
      " [0.25 0.25 0.   0.   0.   0.25 0.   0.25]\n",
      " [0.25 0.25 0.25 0.   0.   0.   0.25 0.  ]\n",
      " [0.   0.25 0.25 0.25 0.   0.   0.   0.25]\n",
      " [0.25 0.   0.25 0.25 0.25 0.   0.   0.  ]\n",
      " [0.   0.25 0.   0.25 0.25 0.25 0.   0.  ]\n",
      " [0.   0.   0.25 0.   0.25 0.25 0.25 0.  ]\n",
      " [0.   0.   0.   0.25 0.   0.25 0.25 0.25]]\n",
      "\n",
      "Row sum of W is: [1. 1. 1. 1. 1. 1. 1. 1.]\n",
      "Col sum of W is: [1. 1. 1. 1. 1. 1. 1. 1.]\n",
      "The above W is doubly stochastic.\n"
     ]
    }
   ],
   "source": [
    "network_size = dview.pull('bf.size()', block=True, targets=0)\n",
    "W = np.zeros((network_size, network_size))\n",
    "\n",
    "for idx in range(network_size):\n",
    "    self_weight = dview.pull('self_weight', block=True, targets=idx)\n",
    "    neighbor_weights = dview.pull('neighbor_weights', block=True, targets=idx)\n",
    "    \n",
    "    W[agentID_to_rank[idx],agentID_to_rank[idx]] = self_weight\n",
    "    for k, v in neighbor_weights.items():\n",
    "        W[agentID_to_rank[idx],k] = v\n",
    "\n",
    "print('The matrix W is:')\n",
    "print(W)\n",
    "\n",
    "# check the row sum and column sum\n",
    "print('\\nRow sum of W is:', np.sum(W, axis=1))\n",
    "print('Col sum of W is:', np.sum(W, axis=0))\n",
    "\n",
    "if np.sum(W, axis=1).all() and np.sum(W, axis=0).all():\n",
    "    print('The above W is doubly stochastic.')"
   ]
  },
  {
   "cell_type": "markdown",
   "metadata": {},
   "source": [
    "It can be easily verified that the above combination matrix for the $8$-agent exponential-two graph is achieved by the avreaging rule with the incoming degree $d=4$."
   ]
  },
  {
   "cell_type": "code",
   "execution_count": null,
   "metadata": {},
   "outputs": [],
   "source": []
  }
 ],
 "metadata": {
  "kernelspec": {
   "display_name": "Python 3",
   "language": "python",
   "name": "python3"
  },
  "language_info": {
   "codemirror_mode": {
    "name": "ipython",
    "version": 3
   },
   "file_extension": ".py",
   "mimetype": "text/x-python",
   "name": "python",
   "nbconvert_exporter": "python",
   "pygments_lexer": "ipython3",
   "version": "3.7.7"
  }
 },
 "nbformat": 4,
 "nbformat_minor": 4
}

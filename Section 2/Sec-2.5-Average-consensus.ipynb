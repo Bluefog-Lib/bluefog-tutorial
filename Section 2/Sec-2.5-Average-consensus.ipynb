{
 "cells": [
  {
   "cell_type": "markdown",
   "metadata": {
    "id": "6008ff3c7561"
   },
   "source": [
    "## 2.5 Average Consensus\n",
    "\n",
    "Given a network of $n$ computing agents, the combination matrix $W$, and the local variables $x_1^0, \\cdots, x_n^0$, the average consensus algorithm is  \n",
    "\n",
    "$$x_i^{k} = \\sum_{j=1}^n w_{ij} x_j^{k-1} = w_{ii} x_i^{k-1} + \\sum_{j\\in \\mathcal{N}(i)} w_{ij} x_j^{k-1}, \\quad \\forall\\ i=1,\\cdots, n.$$\n",
    "\n",
    "Average consensus is a recursive algorithm. Each recursion only incurs neighborhood communication. Each recursion of average consensus is conducted in parallel. By repeating a series of partial averaging, it is guaranteed by theory that $x_i^{k} \\to \\bar{x}^0 = \\frac{1}{n}\\sum_{i=1}^n x_i^0$. See Sec. \\[Average consensus proof\\]. \n",
    "\n",
    "**Average consensus algorithm is the foundation of decentralized optimization. All decentralized optimization algorithms we will discuss in later sections will rely on average consensus.**\n",
    "\n",
    "\n",
    "Before we disscuss how to implement average consensus, we neeed to import necessary modules and initialize BlueFog."
   ]
  },
  {
   "cell_type": "code",
   "execution_count": 13,
   "metadata": {
    "id": "3659e7b34776"
   },
   "outputs": [],
   "source": [
    "import numpy as np\n",
    "import bluefog.torch as bf\n",
    "import torch\n",
    "import networkx as nx   # nx will be used for network topology creating and plotting\n",
    "from bluefog.common import topology_util\n",
    "import matplotlib.pyplot as plt\n",
    "%matplotlib inline"
   ]
  },
  {
   "cell_type": "code",
   "execution_count": 1,
   "metadata": {
    "id": "b16e1bd3d1af"
   },
   "outputs": [
    {
     "data": {
      "text/plain": [
       "[0, 1, 2, 3, 4, 5, 6, 7]"
      ]
     },
     "execution_count": 1,
     "metadata": {},
     "output_type": "execute_result"
    }
   ],
   "source": [
    "import ipyparallel as ipp\n",
    "\n",
    "rc = ipp.Client(profile='bluefog')\n",
    "rc.ids"
   ]
  },
  {
   "cell_type": "code",
   "execution_count": 2,
   "metadata": {
    "id": "409b4b3a727d"
   },
   "outputs": [
    {
     "name": "stdout",
     "output_type": "stream",
     "text": [
      "[stdout:0] Hello, I am 1 among 8 processes\n",
      "[stdout:1] Hello, I am 3 among 8 processes\n",
      "[stdout:2] Hello, I am 2 among 8 processes\n",
      "[stdout:3] Hello, I am 5 among 8 processes\n",
      "[stdout:4] Hello, I am 4 among 8 processes\n",
      "[stdout:5] Hello, I am 6 among 8 processes\n",
      "[stdout:6] Hello, I am 0 among 8 processes\n",
      "[stdout:7] Hello, I am 7 among 8 processes\n"
     ]
    }
   ],
   "source": [
    "%%px\n",
    "import numpy as np\n",
    "import bluefog.torch as bf\n",
    "import torch\n",
    "from bluefog.common import topology_util\n",
    "import networkx as nx\n",
    "\n",
    "bf.init()\n",
    "print(f\"Hello, I am {bf.rank()} among {bf.size()} processes\")"
   ]
  },
  {
   "cell_type": "code",
   "execution_count": 3,
   "metadata": {
    "id": "d45e47e6848b"
   },
   "outputs": [
    {
     "data": {
      "text/plain": [
       "[None, None, None, None, None, None, None, None]"
      ]
     },
     "execution_count": 3,
     "metadata": {},
     "output_type": "execute_result"
    }
   ],
   "source": [
    "dview = rc[:] # A DirectView of all engines\n",
    "dview.block=True\n",
    "\n",
    "# Push the data into all workers\n",
    "dview.push({'seed': 2021}, block=True)"
   ]
  },
  {
   "cell_type": "code",
   "execution_count": 4,
   "metadata": {
    "id": "6cbcbe8fbd65"
   },
   "outputs": [
    {
     "name": "stdout",
     "output_type": "stream",
     "text": [
      "[stdout:0] I received seed as value:  2021\n",
      "[stdout:1] I received seed as value:  2021\n",
      "[stdout:2] I received seed as value:  2021\n",
      "[stdout:3] I received seed as value:  2021\n",
      "[stdout:4] I received seed as value:  2021\n",
      "[stdout:5] I received seed as value:  2021\n",
      "[stdout:6] I received seed as value:  2021\n",
      "[stdout:7] I received seed as value:  2021\n"
     ]
    }
   ],
   "source": [
    "%%px\n",
    "print(\"I received seed as value: \", seed)"
   ]
  },
  {
   "cell_type": "markdown",
   "metadata": {
    "id": "27ab6d815ee1"
   },
   "source": [
    "### 2.5.1 Implementing average consensus using topologies provided by BlueFog\n",
    "\n",
    "In BlueFog, we provide a ```neighbor_allreduce``` primitive to support neighborhood paritial averaging. In this example, we will implement average consenus with BlueFog and examine that each local variable will asymptotically achieve the global average.\n",
    "\n",
    "We first set up some parameters. Since BlueFog is partially built upon PyTorch, it supports the tensor operation well. For this reason, we will use ```torch``` rather than ```numpy``` to generate and manipulate variables."
   ]
  },
  {
   "cell_type": "code",
   "execution_count": 5,
   "metadata": {
    "id": "26c376257af0"
   },
   "outputs": [],
   "source": [
    "%%px \n",
    "# Generate parameters \n",
    "d = 10     # Dimension of each local variable\n",
    "x = torch.randn((d, 1))     # Randomly generate a local random variable x_i"
   ]
  },
  {
   "cell_type": "markdown",
   "metadata": {
    "id": "9bc1f38b15be"
   },
   "source": [
    "As a control experiment, we first calculate the global average $\\bar{x}^0 = \\frac{1}{n}\\sum_{i=1}^n x_i^0$ with ```allreduce```, which is also supported by BlueFog. By runing the following one-line code, you should be able to get the global average of all local variables."
   ]
  },
  {
   "cell_type": "code",
   "execution_count": 8,
   "metadata": {
    "id": "8ce1c701ee1a"
   },
   "outputs": [
    {
     "name": "stdout",
     "output_type": "stream",
     "text": [
      "[stdout:6] \n",
      "The global average of each local variable is:\n",
      "tensor([[-0.0695],\n",
      "        [ 0.1342],\n",
      "        [-0.1252],\n",
      "        [-0.0906],\n",
      "        [ 0.1288],\n",
      "        [-0.1949],\n",
      "        [ 0.0760],\n",
      "        [-0.0373],\n",
      "        [ 0.0845],\n",
      "        [ 0.5602]])\n"
     ]
    }
   ],
   "source": [
    "%%px\n",
    "\n",
    "# generate in the notebook and push it to each agent\n",
    "\n",
    "x_global_average = bf.allreduce(x)\n",
    "\n",
    "if bf.rank() == 0:\n",
    "    print('The global average of each local variable is:')\n",
    "    print(x_global_average)"
   ]
  },
  {
   "cell_type": "markdown",
   "metadata": {
    "id": "1e6954174215"
   },
   "source": [
    "Now we implement the average consensus with BlueFog. To begin with, we need to set up the topology. In this example, we use the topology provided by BlueFog. Do not forget to set the topology."
   ]
  },
  {
   "cell_type": "code",
   "execution_count": 9,
   "metadata": {
    "id": "29aa4fb30b1f"
   },
   "outputs": [],
   "source": [
    "%%px\n",
    "\n",
    "# Set topology as the exponential graph.\n",
    "G = topology_util.ExponentialTwoGraph(bf.size())\n",
    "assert bf.set_topology(G)"
   ]
  },
  {
   "cell_type": "markdown",
   "metadata": {
    "id": "5702155627fc"
   },
   "source": [
    "Implement one step of the average consensus recursion."
   ]
  },
  {
   "cell_type": "code",
   "execution_count": 10,
   "metadata": {
    "id": "805365272037"
   },
   "outputs": [],
   "source": [
    "%%px \n",
    "\n",
    "def avg_consensus_one_step(x):\n",
    "    # one-step average consensus. The combination weights have been determined by the assoxiated \n",
    "    # combination matrix.\n",
    "    x_new = bf.neighbor_allreduce(x)\n",
    "    \n",
    "    # the relative error: |x^k-x_gloval_average|/|x_gloval_average|\n",
    "    rel_error = torch.norm(x_new-x_global_average, p=2)/torch.norm(x_global_average,p=2)\n",
    "\n",
    "    return x_new, rel_error"
   ]
  },
  {
   "cell_type": "markdown",
   "metadata": {
    "id": "7b617bad36c3"
   },
   "source": [
    "Implement the complete average consensus algorihtm over 8 GPUs."
   ]
  },
  {
   "cell_type": "code",
   "execution_count": 11,
   "metadata": {
    "id": "85e69b1ff301"
   },
   "outputs": [
    {
     "name": "stdout",
     "output_type": "stream",
     "text": [
      "[stdout:6] \n",
      "Progress 0/50\n",
      "Progress 10/50\n",
      "Progress 20/50\n",
      "Progress 30/50\n",
      "Progress 40/50\n"
     ]
    }
   ],
   "source": [
    "%%px\n",
    "\n",
    "maxite = 50\n",
    "\n",
    "rel_error = torch.zeros((maxite, 1))\n",
    "for ite in range(maxite):\n",
    "    \n",
    "    if bf.rank()==0:\n",
    "        if ite%10 == 0:\n",
    "            print('Progress {}/{}'.format(ite, maxite))\n",
    "        \n",
    "    x, rel_error[ite] = avg_consensus_one_step(x)"
   ]
  },
  {
   "cell_type": "markdown",
   "metadata": {
    "id": "983b84f77f73"
   },
   "source": [
    "Draw the convergence curves of one agent. It is observed that the relative error converges to zero at linear rate."
   ]
  },
  {
   "cell_type": "code",
   "execution_count": 14,
   "metadata": {
    "id": "a481f4af40e8"
   },
   "outputs": [
    {
     "data": {
      "text/plain": [
       "Text(0, 0.5, 'Relative error')"
      ]
     },
     "execution_count": 14,
     "metadata": {},
     "output_type": "execute_result"
    },
    {
     "data": {
      "image/png": "[encoded data removed]",
      "text/plain": [
       "<Figure size 432x288 with 1 Axes>"
      ]
     },
     "metadata": {
      "needs_background": "light"
     },
     "output_type": "display_data"
    }
   ],
   "source": [
    "rel_error = dview.pull('rel_error', block=True, targets=0)\n",
    "plt.semilogy(rel_error)\n",
    "plt.xlabel('Iteration', fontsize=16)\n",
    "plt.ylabel('Relative error', fontsize=16)"
   ]
  },
  {
   "cell_type": "markdown",
   "metadata": {
    "id": "c15dc2e57d4d"
   },
   "source": [
    "In the above plot, the Relative error indicates $\\|x_i^{(k)} - \\bar{x}^{(0)}\\|/\\|\\bar{x}^{(0)}\\|$. It is observed that the relative error converges to $10^{-7}$ which indicates that $x_i^{(k)}$ convergs to $\\bar{x}^{(0)}$ gradually. One can achieve even smaller relative error around $10^{-14}$ with tensors with precision of 64-bit floating point."
   ]
  },
  {
   "cell_type": "markdown",
   "metadata": {
    "id": "a6d3472b4eab"
   },
   "source": [
    "### 2.5.2 Implementing average consensus using your own topologies\n",
    "\n",
    "In this example, we organize all agents as the random geometric topology and then run average consensus. As we discussed in Sec. 2.3, the random geometric topology is not supported by BlueFog and one has to generate its combination matrix first, set up the topology as random geometric topology, and run average consensus.\n",
    "\n",
    "\n",
    "**Step I: Generate combinatioin matrix $W$**\n",
    "\n",
    "All functions below have been discussed in Sec. 2.3."
   ]
  },
  {
   "cell_type": "code",
   "execution_count": 16,
   "metadata": {
    "id": "075f78bc3681"
   },
   "outputs": [],
   "source": [
    "def gen_comb_matrix_via_MH(A):\n",
    "    \n",
    "    '''\n",
    "    Input:  adjacency matirx A: numpy 2D array with dims (n,n)\n",
    "    Output: combination matrix W: numpy 2D array with dims (n,n)\n",
    "    '''\n",
    "    \n",
    "    # the adjacency matrix must be symmetric\n",
    "    assert np.linalg.norm(A - A.T) < 1e-6\n",
    "    \n",
    "    # make sure the diagonal elements of A are 0\n",
    "    n, _ = A.shape\n",
    "    for i in range(n):\n",
    "        A[i,i] = 0\n",
    "        \n",
    "    # compute the degree of each agent\n",
    "    d = np.sum(A, axis=1)\n",
    "    \n",
    "    # identify the neighbor of each agent\n",
    "    neighbors = {}\n",
    "    for i in range(n):\n",
    "        neighbors[i] = set()\n",
    "        for j in range(n):\n",
    "            if A[i,j] == 1:\n",
    "                neighbors[i].add(j)\n",
    "                \n",
    "    # generate W via M-H rule\n",
    "    W = np.zeros((n,n))\n",
    "    for i in range(n):\n",
    "        for j in neighbors[i]:\n",
    "            W[i,j] = 1/(1+np.maximum(d[i], d[j]))\n",
    "            \n",
    "    W_row_sum = np.sum(W,axis=1)\n",
    "    for i in range(n):\n",
    "        W[i,i] = 1 - W_row_sum[i]\n",
    "    \n",
    "    return W\n",
    "\n",
    "def gen_random_geometric_topology(num_agents, r):\n",
    "    \n",
    "    '''\n",
    "    num_agents: the number of agents in the network\n",
    "    r: two agents within the distance 'r' are regarded as neighbors\n",
    "    '''\n",
    "    \n",
    "    # Generate n random 2D coordinates within a 1*1 square\n",
    "    agents = {}\n",
    "    for i in range(num_agents):\n",
    "        agents[i] = np.random.rand(2,1)\n",
    "        \n",
    "    A = np.zeros((num_agents, num_agents))\n",
    "    for i in range(num_agents):\n",
    "        for j in range(i+1, num_agents):\n",
    "            dist = np.linalg.norm(agents[i] - agents[j])\n",
    "            if dist < r:\n",
    "                A[i,j] = 1\n",
    "                A[j,i] = 1\n",
    "                \n",
    "    return A"
   ]
  },
  {
   "cell_type": "code",
   "execution_count": 18,
   "metadata": {
    "id": "7becd184f1db"
   },
   "outputs": [
    {
     "name": "stdout",
     "output_type": "stream",
     "text": [
      "The adjacency matrix of the generated network is:\n",
      "[[0. 0. 0. 1. 1. 0. 1. 0.]\n",
      " [0. 0. 0. 1. 0. 1. 0. 1.]\n",
      " [0. 0. 0. 0. 0. 0. 1. 0.]\n",
      " [1. 1. 0. 0. 1. 0. 0. 1.]\n",
      " [1. 0. 0. 1. 0. 0. 1. 0.]\n",
      " [0. 1. 0. 0. 0. 0. 0. 0.]\n",
      " [1. 0. 1. 0. 1. 0. 0. 0.]\n",
      " [0. 1. 0. 1. 0. 0. 0. 0.]]\n",
      "\n",
      "\n",
      "The associated combination matrix is:\n",
      "[[0.3  0.   0.   0.2  0.25 0.   0.25 0.  ]\n",
      " [0.   0.3  0.   0.2  0.   0.25 0.   0.25]\n",
      " [0.   0.   0.75 0.   0.   0.   0.25 0.  ]\n",
      " [0.2  0.2  0.   0.2  0.2  0.   0.   0.2 ]\n",
      " [0.25 0.   0.   0.2  0.3  0.   0.25 0.  ]\n",
      " [0.   0.25 0.   0.   0.   0.75 0.   0.  ]\n",
      " [0.25 0.   0.25 0.   0.25 0.   0.25 0.  ]\n",
      " [0.   0.25 0.   0.2  0.   0.   0.   0.55]]\n",
      "\n",
      "\n",
      "W is symmetric.\n",
      "W is doubly stochastic.\n"
     ]
    },
    {
     "data": {
      "image/png": "[encoded data removed]",
      "text/plain": [
       "<Figure size 432x288 with 1 Axes>"
      ]
     },
     "metadata": {},
     "output_type": "display_data"
    }
   ],
   "source": [
    "np.random.seed(seed=2021)\n",
    "\n",
    "A = gen_random_geometric_topology(num_agents=8, r=0.5)\n",
    "print('The adjacency matrix of the generated network is:')\n",
    "print(A)\n",
    "\n",
    "print('\\n')\n",
    "print('The associated combination matrix is:')\n",
    "W = gen_comb_matrix_via_MH(A)\n",
    "print(W)\n",
    "\n",
    "# test whether it is symmetric and doubly stochastic\n",
    "print('\\n')\n",
    "if np.linalg.norm(W-W.T) == 0:\n",
    "    print('W is symmetric.')\n",
    "    \n",
    "if np.sum(W,axis=0).all() == 1 and np.sum(W,axis=1).all() == 1:\n",
    "    print('W is doubly stochastic.')\n",
    "    \n",
    "# generate topology from W\n",
    "G = nx.from_numpy_array(W, create_using=nx.DiGraph)\n",
    "\n",
    "# draw topology\n",
    "nx.draw_spring(G)"
   ]
  },
  {
   "cell_type": "markdown",
   "metadata": {
    "id": "5ca71a8c0266"
   },
   "source": [
    "**Step II: Set up topology**\n",
    "\n",
    "we push the combination matrix to each agent."
   ]
  },
  {
   "cell_type": "code",
   "execution_count": 19,
   "metadata": {
    "id": "2ce4da038d43"
   },
   "outputs": [
    {
     "data": {
      "text/plain": [
       "[None, None, None, None, None, None, None, None]"
      ]
     },
     "execution_count": 19,
     "metadata": {},
     "output_type": "execute_result"
    }
   ],
   "source": [
    "dview.push({'W': W}, block=True)"
   ]
  },
  {
   "cell_type": "markdown",
   "metadata": {
    "id": "f2795a4863f4"
   },
   "source": [
    "Organize all agents into the predefined topology by $W$. For your own topology, do not forget to set **is_weighted=True** in ```bf.set_topology()```."
   ]
  },
  {
   "cell_type": "code",
   "execution_count": 20,
   "metadata": {
    "id": "d227aaf61c47"
   },
   "outputs": [],
   "source": [
    "%%px\n",
    "# set up the topology\n",
    "G = nx.from_numpy_array(W, create_using=nx.DiGraph)\n",
    "bf.set_topology(G, is_weighted=True)\n",
    "# bf.set_topology(G)\n",
    "topology = bf.load_topology()\n",
    "self_weight, neighbor_weights = topology_util.GetRecvWeights(topology, bf.rank())\n",
    "\n",
    "# Generate parameters \n",
    "np.random.seed(seed=2021)\n",
    "d = 10     # Dimension of each local variable\n",
    "x = torch.randn((d, 1))     # Randomly generate a local random variable x_i\n",
    "\n",
    "# Get the global average\n",
    "x_global_average = bf.allreduce(x)"
   ]
  },
  {
   "cell_type": "code",
   "execution_count": 21,
   "metadata": {
    "id": "aaf9580f7812"
   },
   "outputs": [
    {
     "name": "stdout",
     "output_type": "stream",
     "text": [
      "[stdout:6] \n",
      "Progress 0/200\n",
      "Progress 10/200\n",
      "Progress 20/200\n",
      "Progress 30/200\n",
      "Progress 40/200\n",
      "Progress 50/200\n",
      "Progress 60/200\n",
      "Progress 70/200\n",
      "Progress 80/200\n",
      "Progress 90/200\n",
      "Progress 100/200\n",
      "Progress 110/200\n",
      "Progress 120/200\n",
      "Progress 130/200\n",
      "Progress 140/200\n",
      "Progress 150/200\n",
      "Progress 160/200\n",
      "Progress 170/200\n",
      "Progress 180/200\n",
      "Progress 190/200\n"
     ]
    }
   ],
   "source": [
    "%%px\n",
    "\n",
    "maxite = 200\n",
    "\n",
    "rel_error = torch.zeros((maxite, 1))\n",
    "for ite in range(maxite):\n",
    "    \n",
    "    if bf.rank()==0:\n",
    "        if ite%10 == 0:\n",
    "            print('Progress {}/{}'.format(ite, maxite))\n",
    "        \n",
    "    x, rel_error[ite] = avg_consensus_one_step(x)"
   ]
  },
  {
   "cell_type": "code",
   "execution_count": 22,
   "metadata": {
    "id": "56bb962e1e23"
   },
   "outputs": [
    {
     "data": {
      "text/plain": [
       "Text(0, 0.5, 'Relative error')"
      ]
     },
     "execution_count": 22,
     "metadata": {},
     "output_type": "execute_result"
    },
    {
     "data": {
      "image/png": "[encoded data removed]",
      "text/plain": [
       "<Figure size 432x288 with 1 Axes>"
      ]
     },
     "metadata": {
      "needs_background": "light"
     },
     "output_type": "display_data"
    }
   ],
   "source": [
    "rel_error = dview.pull('rel_error', block=True, targets=0)\n",
    "plt.semilogy(rel_error)\n",
    "plt.xlabel('Iteration', fontsize=16)\n",
    "plt.ylabel('Relative error', fontsize=16)"
   ]
  },
  {
   "cell_type": "markdown",
   "metadata": {
    "id": "969c743e3e7b"
   },
   "source": [
    "It is observed that $x_i^{(k)}$ convergs to $\\bar{x}^{(0)}$ gradually."
   ]
  }
 ],
 "metadata": {
  "colab": {
   "name": "Sec-2.5-Average-consensus.ipynb",
   "toc_visible": true
  },
  "kernelspec": {
   "display_name": "Python 3",
   "name": "python3"
  }
 },
 "nbformat": 4,
 "nbformat_minor": 0
}

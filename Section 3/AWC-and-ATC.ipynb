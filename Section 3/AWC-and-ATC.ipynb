{
 "cells": [
  {
   "cell_type": "markdown",
   "metadata": {},
   "source": [
    "# Decentralized Consensus With Gradient Descent"
   ]
  },
  {
   "cell_type": "markdown",
   "metadata": {},
   "source": [
    "## Background and Problem\n",
    "\n",
    "\n",
    "Assume neighbor_allreduce and graph has already been discussed.\n",
    "\n",
    "## Gradient Descent part --- Synthetic dataset + Logistic regression?\n",
    "\n",
    "\n",
    "1. Adapt-With-Combine:\n",
    "\n",
    "\\begin{equation}\n",
    "    x_i = A x_i - \\alpha \\nabla F(x_i)\n",
    "\\end{equation}\n",
    "\n",
    "\n",
    "2. Adapt-With-Combine:\n",
    "\n",
    "\\begin{equation}\n",
    "    x_i = A (x_i - \\alpha \\nabla F(x_i))\n",
    "\\end{equation}\n",
    "\n",
    "\n",
    "Discuss the difference between the implementation and overlap of time between the computation and communication.\n",
    "\n",
    "\n",
    "Three key functions to introduce:\n",
    "\n",
    "- `neighbor_allreduce` -- already discussed\n",
    "- `neighbor_allreduce_nonblocking`\n",
    "- `wait`\n",
    "\n",
    "\n",
    "Have a brief talk performance difference.\n",
    "\n",
    "\n",
    "One example code based on manual gradient computation and another on torch auto-gradient computation.\n"
   ]
  },
  {
   "cell_type": "markdown",
   "metadata": {},
   "source": [
    "\n",
    "Timeline within one worker (blocking):\n",
    "```\n",
    "---communication------|\n",
    "                      |------computation------\n",
    "```\n",
    "\n",
    "Nonblocking case:\n",
    "\n",
    "```\n",
    "---communication------|\n",
    "      ------computation------\n",
    "```\n",
    "\n",
    "Use  %timeit to show the difference"
   ]
  },
  {
   "cell_type": "code",
   "execution_count": 1,
   "metadata": {},
   "outputs": [],
   "source": [
    "import ipyparallel as ipp\n",
    "import numpy as np\n",
    "import torch\n",
    "import networkx as nx   # nx will be used for network topology creating and plotting\n",
    "import matplotlib.pyplot as plt\n",
    "from sklearn.preprocessing import normalize\n",
    "import cvxpy as cvx\n",
    "%matplotlib inline"
   ]
  },
  {
   "cell_type": "code",
   "execution_count": 2,
   "metadata": {},
   "outputs": [
    {
     "data": {
      "text/plain": [
       "[0, 1, 2, 3]"
      ]
     },
     "execution_count": 2,
     "metadata": {},
     "output_type": "execute_result"
    }
   ],
   "source": [
    "rc = ipp.Client(profile='bluefog')\n",
    "rc.ids"
   ]
  },
  {
   "cell_type": "code",
   "execution_count": 3,
   "metadata": {},
   "outputs": [
    {
     "name": "stdout",
     "output_type": "stream",
     "text": [
      "[stdout:0] Hello, I am 2 among 4 processes\n",
      "[stdout:1] Hello, I am 0 among 4 processes\n",
      "[stdout:2] Hello, I am 1 among 4 processes\n",
      "[stdout:3] Hello, I am 3 among 4 processes\n"
     ]
    }
   ],
   "source": [
    "%%px\n",
    "import numpy as np\n",
    "import bluefog.torch as bf\n",
    "import torch\n",
    "from bluefog.common import topology_util\n",
    "import networkx as nx\n",
    "\n",
    "bf.init()\n",
    "print(f\"Hello, I am {bf.rank()} among {bf.size()} processes\")"
   ]
  },
  {
   "cell_type": "code",
   "execution_count": 4,
   "metadata": {},
   "outputs": [],
   "source": [
    "dview = rc[:] # A DirectView of all engines\n",
    "dview.block=True"
   ]
  },
  {
   "cell_type": "code",
   "execution_count": 5,
   "metadata": {},
   "outputs": [
    {
     "data": {
      "text/plain": [
       "[None, None, None, None]"
      ]
     },
     "execution_count": 5,
     "metadata": {},
     "output_type": "execute_result"
    }
   ],
   "source": [
    "# Push the data into all workers\n",
    "dview.push({'seed': 2021}, block=True)"
   ]
  },
  {
   "cell_type": "code",
   "execution_count": 6,
   "metadata": {},
   "outputs": [
    {
     "name": "stdout",
     "output_type": "stream",
     "text": [
      "[stdout:0] I received seed as value:  2021\n",
      "[stdout:1] I received seed as value:  2021\n",
      "[stdout:2] I received seed as value:  2021\n",
      "[stdout:3] I received seed as value:  2021\n"
     ]
    }
   ],
   "source": [
    "%%px\n",
    "print(\"I received seed as value: \", seed)"
   ]
  },
  {
   "cell_type": "code",
   "execution_count": 7,
   "metadata": {},
   "outputs": [],
   "source": [
    "%%px\n",
    "\n",
    "# Define Classifer class. Define Logistic Regression class based off of Classifier class.\n",
    "class Classifier():\n",
    "    def __init__(self, w_star):\n",
    "        \"\"\"\n",
    "        Member Variables\n",
    "        - w (torch tensor) := Parameter of size (dim , 1)\n",
    "        - w_star (torch tensor) := Actual parameters of size (dim ,1)\n",
    "        - c_client (float) := Control variate from the client.\n",
    "        \"\"\"\n",
    "        self.w = None\n",
    "        self.w_star = w_star\n",
    "        self.c_client = None\n",
    "    def obj(self, X, y, reg):\n",
    "        \"\"\"\n",
    "        Compute the value of the loss function.\n",
    "        Inputs:\n",
    "        - X (torch tensor) := The data to calculate the loss on of size (N, dim).\n",
    "        - y (torch tensor) := The corresponding labels of the data of size (N, 1).\n",
    "        - reg (float) := The regularization parameter.\n",
    "        Outputs:\n",
    "        - obj (float) := Value of the objective function.\n",
    "        \"\"\"\n",
    "\n",
    "    def grad(self, X_batch, y_batch, reg):\n",
    "        \"\"\"\n",
    "        Compute the gradient.\n",
    "        Inputs:\n",
    "        - X_batch (torch tensor) := The data to calculate the gradient on of size (N, dim).\n",
    "        - y_batch (torch tensor) := The corresponding labels of the data of size (N, 1).\n",
    "        - reg (float) := The regularization parameter.\n",
    "        Outputs:\n",
    "        - grad (torch tensor) := Gradient with respect to self.w of size (dim, 1).\n",
    "        \"\"\"\n",
    "    \n",
    "    def AWC(self, X, y, step_size=0.75, reg=1e-4, batch_size=50):\n",
    "        \"\"\"\n",
    "        Adapt with combine algorithm using blocking communication. Performs one iteration.\n",
    "        Inputs:\n",
    "        - X (torch tensor) := The data to calculate the loss on of size (N, dim).\n",
    "        - y (torch tensor) := The corresponding labels of the data of size (N, 1).\n",
    "        - reg (float) := The regularization parameter.\n",
    "        - batch_size (int) := Size of a batch for the iteration.\n",
    "        Output:\n",
    "        - Relative error of all workers.\n",
    "        \"\"\"\n",
    "        N, dim = X.shape\n",
    "        if self.w is None:\n",
    "            self.w = 0.001 * torch.randn((dim, 1))\n",
    "        rand_idx = torch.randint(0, N-1, (batch_size, ))\n",
    "        X_batch = X[rand_idx, :]\n",
    "        y_batch = y[rand_idx]        \n",
    "        self.w = self.w - step_size * self.grad(X_batch, y_batch, reg)\n",
    "        self.w = bf.neighbor_allreduce(self.w, self_weight, neighbor_weights)\n",
    "        dist = torch.norm(self.w - self.w_star, p=2)/torch.norm(self.w_star, p=2)\n",
    "        averaged_relative_error = bf.allreduce(dist**2, average=True)\n",
    "        return torch.sqrt(averaged_relative_error)\n",
    "    \n",
    "    def ATC(self, X, y, step_size=0.75, reg=1e-4, batch_size=50):\n",
    "        \"\"\"\n",
    "        Adapt then combine algorithm using blocking communication. Performs one iteration.\n",
    "        Inputs:\n",
    "        - X (torch tensor) := The data to calculate the loss on of size (N, dim).\n",
    "        - y (torch tensor) := The corresponding labels of the data of size (N, 1).\n",
    "        - reg (float) := The regularization parameter.\n",
    "        - batch_size (int) := Size of a batch for the iteration.\n",
    "        Output:\n",
    "        - Relative error of all workers.\n",
    "        \"\"\"\n",
    "        N, dim = X.shape\n",
    "        if self.w is None:\n",
    "            self.w = 0.001 * torch.randn((dim, 1))\n",
    "        rand_idx = torch.randint(0, N-1, (batch_size, ))\n",
    "        X_batch = X[rand_idx, :]\n",
    "        y_batch = y[rand_idx]\n",
    "        Aw = bf.neighbor_allreduce(self.w, self_weight, neighbor_weights)\n",
    "        adapt = step_size * self.grad(X_batch, y_batch, reg)\n",
    "        self.w = Aw - adapt\n",
    "        dist = torch.norm(self.w - self.w_star, p=2)/torch.norm(self.w_star, p=2)\n",
    "        averaged_relative_error = bf.allreduce(dist**2, average=True)\n",
    "        return torch.sqrt(averaged_relative_error)\n",
    "    \n",
    "    def ATC_nonblocking(self, X, y, step_size=0.75, reg=1e-4, batch_size=50):\n",
    "        \"\"\"\n",
    "        Adapt then combine algorithm using non-blocking communication. Performs one iteration.\n",
    "        Inputs:\n",
    "        - X (torch tensor) := The data to calculate the loss on of size (N, dim).\n",
    "        - y (torch tensor) := The corresponding labels of the data of size (N, 1).\n",
    "        - reg (float) := The regularization parameter.\n",
    "        - batch_size (int) := Size of a batch for the iteration.\n",
    "        Output:\n",
    "        - Relative error of all workers.\n",
    "        \"\"\"\n",
    "        N, dim = X.shape\n",
    "        if self.w is None:\n",
    "            self.w = 0.001 * torch.randn((dim, 1))\n",
    "        rand_idx = torch.randint(0, N-1, (batch_size, ))\n",
    "        X_batch = X[rand_idx, :]\n",
    "        y_batch = y[rand_idx]\n",
    "        Aw = bf.neighbor_allreduce_nonblocking(self.w, self_weight, neighbor_weights)\n",
    "        adapt = step_size * self.grad(X_batch, y_batch, reg)\n",
    "        bf.wait(Aw)\n",
    "        self.w = Aw - adapt\n",
    "        dist = torch.norm(self.w - self.w_star, p=2)/torch.norm(self.w_star, p=2)\n",
    "        averaged_relative_error = bf.allreduce(dist**2, average=True)\n",
    "        return torch.sqrt(averaged_relative_error)\n",
    "        \n",
    "class LogReg(Classifier):\n",
    "    def __init__(self, w_star):\n",
    "        super(LogReg, self).__init__(w_star)\n",
    "    \n",
    "    def sigmoid(self, x):\n",
    "        return 1 / (1 + torch.exp(-x))\n",
    "    \n",
    "    def obj(self, X, y, reg):\n",
    "        N, _ = X.shape\n",
    "        return 1/N * torch.sum(torch.log(1 + torch.exp(-y * X @ self.w))) + 1/2 * reg * self.w.T @ self.w \n",
    "    \n",
    "    def grad(self, X_batch, y_batch, reg):\n",
    "        N_batch, _ = X_batch.shape\n",
    "        return 1/N_batch * X_batch.T @ (y_batch * (self.sigmoid(y_batch * X_batch @ self.w) - 1)) + reg * self.w"
   ]
  },
  {
   "cell_type": "code",
   "execution_count": 8,
   "metadata": {},
   "outputs": [],
   "source": [
    "# Generate data and write auxilary functions.\n",
    "def sigmoid(x):\n",
    "    return 1 / (1 + np.exp(-x))\n",
    "\"\"\"\n",
    "Global Parameters:\n",
    "    N (int) := Number of data points.\n",
    "    dim (int) := Dimension of a data point.\n",
    "    reg (float) := Regularization parameter.\n",
    "    w (np.array) := Parameters of size (dim, 1).\n",
    "    X (np.array) := Data of size (N, dim).\n",
    "    y (np.array) := Labels of data of size (dim, 1).\n",
    "    ss (float) := Step-size.\n",
    "    ep (int) := Number of epochs in between a round of communication.\n",
    "    batch (int) := Batch size.\n",
    "    exp (int) := Number of experiments.\n",
    "    comms (int) := Number of communications.\n",
    "    num_workers (int) := Number of workers.\n",
    "\"\"\"\n",
    "N = 8000\n",
    "dim = 10\n",
    "reg = 1e-4\n",
    "np.random.seed(0)\n",
    "\n",
    "w = np.random.multivariate_normal([0.0]*dim, np.eye(dim), 1).T\n",
    "X = np.random.multivariate_normal([0.0]*dim, np.eye(dim), size = N)\n",
    "X = normalize(X, axis = 1, norm = 'l2')\n",
    "y = 2 * (np.random.uniform(size = (N, 1)) < sigmoid(X @ w)) - 1\n",
    "ss = 0.1\n",
    "ep = 1\n",
    "batch = 50\n",
    "exp = 5\n",
    "comms = 100\n",
    "num_workers = len(rc.ids)"
   ]
  },
  {
   "cell_type": "code",
   "execution_count": 9,
   "metadata": {},
   "outputs": [
    {
     "name": "stdout",
     "output_type": "stream",
     "text": [
      "Optimal objective function value is: 0.558468913332832\n"
     ]
    }
   ],
   "source": [
    "# Solve using CVX to find the optimal solution.\n",
    "w_star = cvx.Variable((dim, 1))\n",
    "loss = 1/N * cvx.sum(cvx.logistic(-cvx.multiply(y, X @ w_star))) + reg/2 * cvx.sum_squares(w_star)\n",
    "problem = cvx.Problem(cvx.Minimize(loss))\n",
    "problem.solve(verbose = False, abstol = 1e-15)\n",
    "opt = problem.value\n",
    "print(f'Optimal objective function value is: {opt}')"
   ]
  },
  {
   "cell_type": "code",
   "execution_count": 10,
   "metadata": {},
   "outputs": [],
   "source": [
    "# Convert numpy arrays to PyTorch tensor.\n",
    "w_star_tensor = torch.from_numpy(w_star.value)\n",
    "X_tensor = torch.Tensor(X).to(torch.float32)\n",
    "y_tensor = torch.Tensor(y).to(torch.float32)"
   ]
  },
  {
   "cell_type": "code",
   "execution_count": 11,
   "metadata": {},
   "outputs": [
    {
     "data": {
      "text/plain": [
       "[None, None, None, None]"
      ]
     },
     "execution_count": 11,
     "metadata": {},
     "output_type": "execute_result"
    }
   ],
   "source": [
    "dview.push({'w_star_tensor': w_star_tensor, 'X_tensor' : X_tensor, 'y_tensor' : y_tensor})"
   ]
  },
  {
   "cell_type": "code",
   "execution_count": 12,
   "metadata": {},
   "outputs": [
    {
     "data": {
      "image/png": "[encoded data removed]",
      "text/plain": [
       "<Figure size 432x288 with 1 Axes>"
      ]
     },
     "metadata": {},
     "output_type": "display_data"
    }
   ],
   "source": [
    "# Generate topology.\n",
    "\n",
    "# Plot figure\n",
    "%px G = topology_util.ExponentialTwoGraph(bf.size())\n",
    "\n",
    "G_0 = dview.pull('G', block=True, targets=0)\n",
    "nx.draw_circular(G_0)"
   ]
  },
  {
   "cell_type": "code",
   "execution_count": 13,
   "metadata": {},
   "outputs": [],
   "source": [
    "%%px\n",
    "\n",
    "# Set topology as exponential-2 graph.\n",
    "bf.set_topology(G)\n",
    "topology = bf.load_topology()\n",
    "self_weight, neighbor_weights = topology_util.GetRecvWeights(topology, bf.rank())"
   ]
  },
  {
   "cell_type": "code",
   "execution_count": 14,
   "metadata": {},
   "outputs": [
    {
     "name": "stdout",
     "output_type": "stream",
     "text": [
      "[stdout:1] \n",
      "self weights: 0.3333333333333333\n",
      "\n",
      "neighbor weights:\n",
      "2 0.3333333333333333\n",
      "3 0.3333333333333333\n",
      "self weights: 0.6666666666666666\n",
      "\n",
      "neighbor weights:\n",
      "2 0.16666666666666666\n",
      "3 0.16666666666666666\n"
     ]
    }
   ],
   "source": [
    "%%px\n",
    "# Scale weights\n",
    "\n",
    "if bf.rank() == 0:\n",
    "    print('self weights: {}\\n'.format(self_weight))\n",
    "    print('neighbor weights:')\n",
    "    for k, v in neighbor_weights.items():\n",
    "        print(k, v)\n",
    "        \n",
    "self_weight = (self_weight+1)/2\n",
    "for k, v in neighbor_weights.items():\n",
    "    neighbor_weights[k] = v/2\n",
    "    \n",
    "if bf.rank() == 0:\n",
    "    print('self weights: {}\\n'.format(self_weight))\n",
    "    print('neighbor weights:')\n",
    "    for k, v in neighbor_weights.items():\n",
    "        print(k, v)"
   ]
  },
  {
   "cell_type": "code",
   "execution_count": 15,
   "metadata": {},
   "outputs": [
    {
     "name": "stdout",
     "output_type": "stream",
     "text": [
      "[stdout:1] \n",
      "Progress 0/2500\n",
      "Progress 100/2500\n",
      "Progress 200/2500\n",
      "Progress 300/2500\n",
      "Progress 400/2500\n",
      "Progress 500/2500\n",
      "Progress 600/2500\n",
      "Progress 700/2500\n",
      "Progress 800/2500\n",
      "Progress 900/2500\n",
      "Progress 1000/2500\n",
      "Progress 1100/2500\n",
      "Progress 1200/2500\n",
      "Progress 1300/2500\n",
      "Progress 1400/2500\n",
      "Progress 1500/2500\n",
      "Progress 1600/2500\n",
      "Progress 1700/2500\n",
      "Progress 1800/2500\n",
      "Progress 1900/2500\n",
      "Progress 2000/2500\n",
      "Progress 2100/2500\n",
      "Progress 2200/2500\n",
      "Progress 2300/2500\n",
      "Progress 2400/2500\n"
     ]
    }
   ],
   "source": [
    "%%px\n",
    "# Adapt with combine. Using blocking communication.\n",
    "\n",
    "\n",
    "\n",
    "maxite = 2500\n",
    "batch_size, _ = X_tensor.shape\n",
    "solver = LogReg(w_star_tensor)\n",
    "relative_error = torch.zeros((maxite, 1))\n",
    "for ite in range(maxite):\n",
    "    \n",
    "    if bf.rank()==0:\n",
    "        if ite%100 == 0:\n",
    "            print('Progress {}/{}'.format(ite, maxite))\n",
    "    \n",
    "    relative_error[ite] = solver.AWC(X_tensor, y_tensor, batch_size=batch_size)"
   ]
  },
  {
   "cell_type": "code",
   "execution_count": 16,
   "metadata": {},
   "outputs": [
    {
     "data": {
      "text/plain": [
       "[<matplotlib.lines.Line2D at 0x7fb069676df0>]"
      ]
     },
     "execution_count": 16,
     "metadata": {},
     "output_type": "execute_result"
    },
    {
     "data": {
      "image/png": "[encoded data removed]",
      "text/plain": [
       "<Figure size 432x288 with 1 Axes>"
      ]
     },
     "metadata": {
      "needs_background": "light"
     },
     "output_type": "display_data"
    }
   ],
   "source": [
    "relative_error = dview.pull('relative_error', block=True, targets=0)\n",
    "plt.semilogy(relative_error)"
   ]
  },
  {
   "cell_type": "code",
   "execution_count": 17,
   "metadata": {},
   "outputs": [
    {
     "name": "stdout",
     "output_type": "stream",
     "text": [
      "[stdout:1] \n",
      "Progress 0/2500\n",
      "Progress 100/2500\n",
      "Progress 200/2500\n",
      "Progress 300/2500\n",
      "Progress 400/2500\n",
      "Progress 500/2500\n",
      "Progress 600/2500\n",
      "Progress 700/2500\n",
      "Progress 800/2500\n",
      "Progress 900/2500\n",
      "Progress 1000/2500\n",
      "Progress 1100/2500\n",
      "Progress 1200/2500\n",
      "Progress 1300/2500\n",
      "Progress 1400/2500\n",
      "Progress 1500/2500\n",
      "Progress 1600/2500\n",
      "Progress 1700/2500\n",
      "Progress 1800/2500\n",
      "Progress 1900/2500\n",
      "Progress 2000/2500\n",
      "Progress 2100/2500\n",
      "Progress 2200/2500\n",
      "Progress 2300/2500\n",
      "Progress 2400/2500\n"
     ]
    }
   ],
   "source": [
    "%%px\n",
    "# Adapt then combine. Using blocking communication.\n",
    "\n",
    "maxite = 2500\n",
    "batch_size, _ = X_tensor.shape\n",
    "solver_1 = LogReg(w_star_tensor)\n",
    "relative_error = torch.zeros((maxite, 1))\n",
    "for ite in range(maxite):\n",
    "    \n",
    "    if bf.rank()==0:\n",
    "        if ite%100 == 0:\n",
    "            print('Progress {}/{}'.format(ite, maxite))\n",
    "    \n",
    "    relative_error[ite] = solver_1.ATC(X_tensor, y_tensor, batch_size=batch_size)"
   ]
  },
  {
   "cell_type": "code",
   "execution_count": 18,
   "metadata": {},
   "outputs": [
    {
     "data": {
      "text/plain": [
       "[<matplotlib.lines.Line2D at 0x7fb069620280>]"
      ]
     },
     "execution_count": 18,
     "metadata": {},
     "output_type": "execute_result"
    },
    {
     "data": {
      "image/png": "[encoded data removed]",
      "text/plain": [
       "<Figure size 432x288 with 1 Axes>"
      ]
     },
     "metadata": {
      "needs_background": "light"
     },
     "output_type": "display_data"
    }
   ],
   "source": [
    "relative_error = dview.pull('relative_error', block=True, targets=0)\n",
    "plt.semilogy(relative_error)"
   ]
  },
  {
   "cell_type": "code",
   "execution_count": 19,
   "metadata": {},
   "outputs": [
    {
     "name": "stdout",
     "output_type": "stream",
     "text": [
      "[stdout:1] \n",
      "Progress 0/2500\n",
      "Progress 100/2500\n",
      "Progress 200/2500\n",
      "Progress 300/2500\n",
      "Progress 400/2500\n",
      "Progress 500/2500\n",
      "Progress 600/2500\n",
      "Progress 700/2500\n",
      "Progress 800/2500\n",
      "Progress 900/2500\n",
      "Progress 1000/2500\n",
      "Progress 1100/2500\n",
      "Progress 1200/2500\n",
      "Progress 1300/2500\n",
      "Progress 1400/2500\n",
      "Progress 1500/2500\n",
      "Progress 1600/2500\n",
      "Progress 1700/2500\n",
      "Progress 1800/2500\n",
      "Progress 1900/2500\n",
      "Progress 2000/2500\n",
      "Progress 2100/2500\n",
      "Progress 2200/2500\n",
      "Progress 2300/2500\n",
      "Progress 2400/2500\n"
     ]
    }
   ],
   "source": [
    "%%px\n",
    "# Adapt then combine. Using non-blocking communication.\n",
    "\n",
    "maxite = 2500\n",
    "batch_size, _ = X_tensor.shape\n",
    "solver_2 = LogReg(w_star_tensor)\n",
    "relative_error = torch.zeros((maxite, 1))\n",
    "for ite in range(maxite):\n",
    "    \n",
    "    if bf.rank()==0:\n",
    "        if ite%100 == 0:\n",
    "            print('Progress {}/{}'.format(ite, maxite))\n",
    "    \n",
    "    relative_error[ite] = solver_2.ATC_nonblocking(X_tensor, y_tensor, batch_size=batch_size)"
   ]
  },
  {
   "cell_type": "code",
   "execution_count": 20,
   "metadata": {},
   "outputs": [
    {
     "data": {
      "text/plain": [
       "[<matplotlib.lines.Line2D at 0x7fb069490f70>]"
      ]
     },
     "execution_count": 20,
     "metadata": {},
     "output_type": "execute_result"
    },
    {
     "data": {
      "image/png": "[encoded data removed]",
      "text/plain": [
       "<Figure size 432x288 with 1 Axes>"
      ]
     },
     "metadata": {
      "needs_background": "light"
     },
     "output_type": "display_data"
    }
   ],
   "source": [
    "relative_error = dview.pull('relative_error', block=True, targets=0)\n",
    "plt.semilogy(relative_error)"
   ]
  },
  {
   "cell_type": "code",
   "execution_count": null,
   "metadata": {},
   "outputs": [],
   "source": [
    "# Overlapping pseudo code:\n",
    "handle = bf.neighbor_allreduce_nonblocking(grad)\n",
    "gradient_computation(x)\n",
    "bf.wait(handle)"
   ]
  },
  {
   "cell_type": "code",
   "execution_count": null,
   "metadata": {
    "ExecuteTime": {
     "end_time": "2021-01-19T00:53:49.580122Z",
     "start_time": "2021-01-19T00:53:49.474040Z"
    }
   },
   "outputs": [],
   "source": [
    "# Overlapping pseudo code:\n",
    "handle = bf.neighbor_allreduce(grad)\n",
    "gradient_computation(x)"
   ]
  },
  {
   "cell_type": "markdown",
   "metadata": {},
   "source": [
    "## Stochastic Gradient part -- Application : MNIST\n",
    "\n",
    "Related with reading the dataset and plot the figures and visualized the weights.\n",
    "\n",
    "Similar but more about the MSE metrics and irreducible error?\n",
    "\n",
    "More focus on the theoratical part and choose different application.\n",
    "\n",
    "\n"
   ]
  },
  {
   "cell_type": "code",
   "execution_count": null,
   "metadata": {},
   "outputs": [],
   "source": []
  },
  {
   "cell_type": "code",
   "execution_count": null,
   "metadata": {},
   "outputs": [],
   "source": []
  },
  {
   "cell_type": "code",
   "execution_count": null,
   "metadata": {},
   "outputs": [],
   "source": []
  }
 ],
 "metadata": {
  "kernelspec": {
   "display_name": "Python 3",
   "language": "python",
   "name": "python3"
  },
  "language_info": {
   "codemirror_mode": {
    "name": "ipython",
    "version": 3
   },
   "file_extension": ".py",
   "mimetype": "text/x-python",
   "name": "python",
   "nbconvert_exporter": "python",
   "pygments_lexer": "ipython3",
   "version": "3.8.5"
  },
  "toc": {
   "base_numbering": 1,
   "nav_menu": {},
   "number_sections": true,
   "sideBar": true,
   "skip_h1_title": false,
   "title_cell": "Table of Contents",
   "title_sidebar": "Contents",
   "toc_cell": false,
   "toc_position": {},
   "toc_section_display": true,
   "toc_window_display": false
  }
 },
 "nbformat": 4,
 "nbformat_minor": 4
}

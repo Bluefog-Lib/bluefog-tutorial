{
 "cells": [
  {
   "cell_type": "markdown",
   "metadata": {},
   "source": [
    "# Decentralized Consensus With Gradient Descent"
   ]
  },
  {
   "cell_type": "markdown",
   "metadata": {},
   "source": [
    "## Background and Problem\n",
    "\n",
    "\n",
    "Assume neighbor_allreduce and graph has already been discussed.\n",
    "\n",
    "## Gradient Descent part --- Synthetic dataset + Logistic regression?\n",
    "\n",
    "\n",
    "1. Adapt-With-Combine:\n",
    "\n",
    "\\begin{equation}\n",
    "    x_i = A x_i - \\alpha \\nabla F(x_i)\n",
    "\\end{equation}\n",
    "\n",
    "\n",
    "2. Adapt-With-Combine:\n",
    "\n",
    "\\begin{equation}\n",
    "    x_i = A (x_i - \\alpha \\nabla F(x_i))\n",
    "\\end{equation}\n",
    "\n",
    "\n",
    "Discuss the difference between the implementation and overlap of time between the computation and communication.\n",
    "\n",
    "\n",
    "Three key functions to introduce:\n",
    "\n",
    "- `neighbor_allreduce` -- already discussed\n",
    "- `neighbor_allreduce_nonblocking`\n",
    "- `wait`\n",
    "\n",
    "\n",
    "Have a brief talk performance difference.\n",
    "\n",
    "\n",
    "One example code based on manual gradient computation and another on torch auto-gradient computation.\n"
   ]
  },
  {
   "cell_type": "markdown",
   "metadata": {},
   "source": [
    "\n",
    "Timeline within one worker (blocking):\n",
    "```\n",
    "---communication------|\n",
    "                      |------computation------\n",
    "```\n",
    "\n",
    "Nonblocking case:\n",
    "\n",
    "```\n",
    "---communication------|\n",
    "      ------computation------\n",
    "```\n",
    "\n",
    "Use  %timeit to show the difference"
   ]
  },
  {
   "cell_type": "code",
   "execution_count": null,
   "metadata": {},
   "outputs": [],
   "source": [
    "# Overlapping pseudo code:\n",
    "handle = bf.neighbor_allreduce_nonblocking(grad)\n",
    "gradient_computation(x)\n",
    "bf.wait(handle)"
   ]
  },
  {
   "cell_type": "code",
   "execution_count": null,
   "metadata": {
    "ExecuteTime": {
     "end_time": "2021-01-19T00:53:49.580122Z",
     "start_time": "2021-01-19T00:53:49.474040Z"
    }
   },
   "outputs": [],
   "source": [
    "# Overlapping pseudo code:\n",
    "handle = bf.neighbor_allreduce(grad)\n",
    "gradient_computation(x)"
   ]
  },
  {
   "cell_type": "markdown",
   "metadata": {},
   "source": [
    "## Stochastic Gradient part -- Application : MNIST\n",
    "\n",
    "Related with reading the dataset and plot the figures and visualized the weights.\n",
    "\n",
    "Similar but more about the MSE metrics and irreducible error?\n",
    "\n",
    "More focus on the theoratical part and choose different application.\n",
    "\n",
    "\n"
   ]
  },
  {
   "cell_type": "code",
   "execution_count": null,
   "metadata": {},
   "outputs": [],
   "source": []
  }
 ],
 "metadata": {
  "kernelspec": {
   "display_name": "Python 3",
   "language": "python",
   "name": "python3"
  },
  "language_info": {
   "codemirror_mode": {
    "name": "ipython",
    "version": 3
   },
   "file_extension": ".py",
   "mimetype": "text/x-python",
   "name": "python",
   "nbconvert_exporter": "python",
   "pygments_lexer": "ipython3",
   "version": "3.7.5"
  },
  "toc": {
   "base_numbering": 1,
   "nav_menu": {},
   "number_sections": true,
   "sideBar": true,
   "skip_h1_title": false,
   "title_cell": "Table of Contents",
   "title_sidebar": "Contents",
   "toc_cell": false,
   "toc_position": {},
   "toc_section_display": true,
   "toc_window_display": false
  }
 },
 "nbformat": 4,
 "nbformat_minor": 4
}

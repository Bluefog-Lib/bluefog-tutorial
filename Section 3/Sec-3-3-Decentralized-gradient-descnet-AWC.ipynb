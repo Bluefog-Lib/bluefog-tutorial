{
 "cells": [
  {
   "cell_type": "markdown",
   "metadata": {},
   "source": [
    "## 3.2 Decentralized Gradient Descent (Adapt-with-combination)\n",
    "\n",
    "### 3.2.1 Problem and ATC-DGD\n",
    "\n",
    "Consider $n$ computing nodes collaborate to solve the problem:\n",
    "\n",
    "$$\\min_{x\\in \\mathbb{R}^d} \\quad \\frac{1}{n}\\sum_{i=1}^n f_i(x)$$\n",
    "\n",
    "where $f_i(x)$ is a local and private function held by node $i$. Each node $i$ can access its own variable $x$ or gradient $\\nabla f_i(x)$, but it has to communicate to access information from other nodes.\n",
    "\n",
    "If each $f_i(x)$ is assumed to be smooth, the ATC-DGD has the following recursions\n",
    "\n",
    "$$\\begin{align}\n",
    "x^{(k+1)} = \\sum_{i=1}^n w_{ij} \\Big(x_j^{(k)} - \\alpha \\nabla f_j(x_j^{(k)}) \\Big) \\quad \\mbox{(ATC-DGD)}\n",
    "\\end{align}$$\n",
    "\n",
    "### 3.2.2 Decentralized gradient descent (Adapt-with-combination)\n",
    "\n",
    "This section discusses another form of decentralized gradient descent:\n",
    "\n",
    "$$\\begin{align}\n",
    "x^{(k+1)} = \\sum_{i=1}^n w_{ij} x_j^{(k)} - \\alpha \\nabla f_i(x_i^{(k)}) \\quad \\mbox{(AWC-DGD)}\n",
    "\\end{align}$$\n",
    "\n",
    "Comparing with ATC-DGD, AWC-DGD mixes the combination and local adaptation within a single step. It is also worth noting that the combinination is not on the gradient, which is different from ATC-DGD. This will affects AWC-DGD's convergence slightly.\n",
    "\n",
    "### 3.2.3 Convergence properties\n",
    "\n",
    "The convergence property of AWC-DGD is very similar to that of ATC-DGD. For $L$-smooth and $\\mu$-strongly convex problems, if the step-size $\\alpha$ is sufficiently small, the ATC-DGD algorithm will converge as follows.\n",
    "\n",
    "\\begin{align}\n",
    "\\limsup_{k\\to \\infty} \\frac{1}{n}\\sum_{i=1}^n \\|x_i^{(k)} - x^\\star \\|^2 = O\\Big( (1-\\alpha \\mu)^{k} + \\frac{\\alpha^2  b^2}{(1-\\rho)^2}\\Big) \\hspace{1cm} \\mbox{(AWC-DGD-Convergence)}\n",
    "\\end{align}\n",
    "\n",
    "where $x^\\star$ is the glboal solution to the optimization problem, $\\rho = \\max\\{|\\lambda_2(W), \\lambda_n(W)|\\}$ and $b^2 = \\frac{1}{n}\\sum_{i=1}^n \\|\\nabla f_i(x^\\star)\\|^2$ denotes the data heterogeneity between nodes. Quantity $1-\\rho$ measures the connectivity of the network topology. It is observed that AWC-DGD cannot converge exactly to the solution $x^\\star$, but to a neighborhood around it. The limiting error is on the order of $O(\\frac{\\alpha^2 b^2}{(1-\\rho)^2})$. When step-size $\\alpha$ is small, or the data heterogeneity $b^2$ is small, or the network is well-connected, i.e., $\\rho \\to 0$, the limiting error can be negligible. \n",
    "\n",
    "<!-- It is also observed that the limiting bias of AWC-DGD $O(\\frac{\\alpha^2 b^2}{(1-\\rho)^2})$ is slightly larger than the that of ATC-DGD $O(\\frac{\\alpha^2 \\rho^2 b^2}{(1-\\rho)^2})$ when the same step-size $\\alpha$ is used. In addition, it is also proved in literature \\[Refs\\] that the step-size stability range  -->"
   ]
  },
  {
   "cell_type": "markdown",
   "metadata": {},
   "source": [
    "### 3.2.4 An example: least-square problem\n",
    "\n",
    "In this section, we will show a demo on how to solve a least-square problem with AWC-DGD using BlueFog. Suppose $n$ computing nodes collaborate to solve the following problem:\n",
    "\n",
    "$$\\min_x \\quad \\frac{1}{n}\\sum_{i=1}^n \\|A_i x - b_i\\|^2$$\n",
    "\n",
    "where $\\{A_i, b_i\\}$ are local data held in node $i$.\n",
    "\n",
    "#### 3.2.4.1 Set up BlueFog\n",
    "\n",
    "In the following code, you should be able to see the id of your CPUs. We use 8 CPUs to conduct the following experiment."
   ]
  },
  {
   "cell_type": "code",
   "execution_count": 1,
   "metadata": {},
   "outputs": [
    {
     "data": {
      "text/plain": [
       "[0, 1, 2, 3, 4, 5, 6, 7]"
      ]
     },
     "execution_count": 1,
     "metadata": {},
     "output_type": "execute_result"
    }
   ],
   "source": [
    "import ipyparallel as ipp\n",
    "\n",
    "rc = ipp.Client(profile='bluefog')\n",
    "rc.ids"
   ]
  },
  {
   "cell_type": "markdown",
   "metadata": {},
   "source": [
    "Let each agent import necessary modules and then initialize BlueFog. You should be able to see the printed information like:  \n",
    "\n",
    "> \\[stdout:0\\] Hello, I am 1 among 8 processes\n",
    "> \n",
    "> ..."
   ]
  },
  {
   "cell_type": "code",
   "execution_count": 2,
   "metadata": {},
   "outputs": [
    {
     "name": "stdout",
     "output_type": "stream",
     "text": [
      "[stdout:0] Hello, I am 4 among 8 processes\n",
      "[stdout:1] Hello, I am 2 among 8 processes\n",
      "[stdout:2] Hello, I am 5 among 8 processes\n",
      "[stdout:3] Hello, I am 1 among 8 processes\n",
      "[stdout:4] Hello, I am 3 among 8 processes\n",
      "[stdout:5] Hello, I am 7 among 8 processes\n",
      "[stdout:6] Hello, I am 6 among 8 processes\n",
      "[stdout:7] Hello, I am 0 among 8 processes\n"
     ]
    }
   ],
   "source": [
    "%%px\n",
    "import numpy as np\n",
    "import bluefog.torch as bf\n",
    "import torch\n",
    "from bluefog.common import topology_util\n",
    "import networkx as nx\n",
    "import matplotlib.pyplot as plt\n",
    "%matplotlib inline\n",
    "\n",
    "bf.init()\n",
    "print(f\"Hello, I am {bf.rank()} among {bf.size()} processes\")"
   ]
  },
  {
   "cell_type": "markdown",
   "metadata": {},
   "source": [
    "Push seed to each agent so that the simulation can be reproduced."
   ]
  },
  {
   "cell_type": "code",
   "execution_count": 3,
   "metadata": {},
   "outputs": [
    {
     "data": {
      "text/plain": [
       "[None, None, None, None, None, None, None, None]"
      ]
     },
     "execution_count": 3,
     "metadata": {},
     "output_type": "execute_result"
    }
   ],
   "source": [
    "dview = rc[:] # A DirectView of all engines\n",
    "dview.block=True\n",
    "\n",
    "# Push the data into all workers\n",
    "dview.push({'seed': 2021}, block=True)"
   ]
  },
  {
   "cell_type": "markdown",
   "metadata": {},
   "source": [
    "After running the following code, you should be able to see the printed information like \n",
    "\n",
    "> \\[stdout:0\\] I received seed as value:  2021\n",
    "> \n",
    "> ..."
   ]
  },
  {
   "cell_type": "code",
   "execution_count": 4,
   "metadata": {},
   "outputs": [
    {
     "name": "stdout",
     "output_type": "stream",
     "text": [
      "[stdout:0] I received seed as value:  2021\n",
      "[stdout:1] I received seed as value:  2021\n",
      "[stdout:2] I received seed as value:  2021\n",
      "[stdout:3] I received seed as value:  2021\n",
      "[stdout:4] I received seed as value:  2021\n",
      "[stdout:5] I received seed as value:  2021\n",
      "[stdout:6] I received seed as value:  2021\n",
      "[stdout:7] I received seed as value:  2021\n"
     ]
    }
   ],
   "source": [
    "%%px\n",
    "print(\"I received seed as value: \", seed)"
   ]
  },
  {
   "cell_type": "markdown",
   "metadata": {},
   "source": [
    "Congratulations! Your BlueFog is initialized and tested successfully."
   ]
  },
  {
   "cell_type": "markdown",
   "metadata": {},
   "source": [
    "#### 3.2.4.2 Generate local data $A_i$ and $b_i$"
   ]
  },
  {
   "cell_type": "code",
   "execution_count": 5,
   "metadata": {},
   "outputs": [],
   "source": [
    "%%px\n",
    "\n",
    "def generate_data(m, n):\n",
    "    \n",
    "    A = torch.randn(m, n).to(torch.double)\n",
    "    x_o = torch.randn(n, 1).to(torch.double)\n",
    "    ns = 0.1*torch.randn(m, 1).to(torch.double)\n",
    "    b = A.mm(x_o) + ns\n",
    "        \n",
    "    return A, b"
   ]
  },
  {
   "cell_type": "markdown",
   "metadata": {},
   "source": [
    "#### 3.2.4.3 Distributed gradient descent method"
   ]
  },
  {
   "cell_type": "code",
   "execution_count": 6,
   "metadata": {},
   "outputs": [],
   "source": [
    "%%px\n",
    "\n",
    "def distributed_grad_descent(A, b, maxite=5000, alpha=1e-1):\n",
    "\n",
    "    x_opt = torch.zeros(n, 1, dtype=torch.double)\n",
    "\n",
    "    for _ in range(maxite):\n",
    "        # calculate local gradient \n",
    "        grad_local = A.t().mm(A.mm(x_opt) - b)\n",
    "        \n",
    "        # global gradient\n",
    "        grad = bf.allreduce(grad_local, name='gradient')\n",
    "\n",
    "        # distributed gradient descent\n",
    "        x_opt = x_opt - alpha*grad\n",
    "\n",
    "    grad_local = A.t().mm(A.mm(x_opt) - b)\n",
    "    grad = bf.allreduce(grad_local, name='gradient')  # global gradient\n",
    "\n",
    "    # evaluate the convergence of distributed gradient descent\n",
    "    # the norm of global gradient is expected to 0 (optimality condition)\n",
    "    global_grad_norm = torch.norm(grad, p=2)\n",
    "    if bf.rank() == 0:\n",
    "        print(\"[Distributed Grad Descent] Rank {}: global gradient norm: {}\".format(bf.rank(), global_grad_norm))\n",
    "\n",
    "    return x_opt"
   ]
  },
  {
   "cell_type": "markdown",
   "metadata": {},
   "source": [
    "In the following code we run distributed gradient descent to achieve the global solution $x^\\star$ to the optimization problem. To validate whether $x^\\star$ is optimal, it is enough to examine $\\frac{1}{n}\\sum_{i=1}^n \\nabla f_i(x^\\star) = 0$."
   ]
  },
  {
   "cell_type": "code",
   "execution_count": 7,
   "metadata": {},
   "outputs": [
    {
     "name": "stdout",
     "output_type": "stream",
     "text": [
      "[stdout:7] [Distributed Grad Descent] Rank 0: global gradient norm: 3.2361430059369585e-14\n"
     ]
    }
   ],
   "source": [
    "%%px\n",
    "\n",
    "m, n = 20, 5\n",
    "A, b = generate_data(m, n)\n",
    "x_opt = distributed_grad_descent(A, b, maxite=200, alpha=1e-2)"
   ]
  },
  {
   "cell_type": "markdown",
   "metadata": {},
   "source": [
    "#### 3.2.4.3 Decentralized gradient descent method\n",
    "\n",
    "In this section, we depict the convergence curve of the decentralied gradient descent (the AWC version). We will utilize the $x^\\star$ achieved by distributed gradient descent as the optimal solution. First, we define one step of the AWC-DGD method."
   ]
  },
  {
   "cell_type": "code",
   "execution_count": 8,
   "metadata": {},
   "outputs": [],
   "source": [
    "%%px \n",
    "\n",
    "def AWC_DGD_one_step(x, x_opt, A, b, alpha=1e-2):\n",
    "    \n",
    "    # one-step ATC-DGD. \n",
    "    # The combination weights have been determined by the associated combination matrix.\n",
    "    \n",
    "    grad_local = A.t().mm(A.mm(x) - b)                       # compute local grad\n",
    "    x_new = bf.neighbor_allreduce(x) - alpha*grad_local      # AWC update\n",
    "    \n",
    "    # the relative error: |x^k-x_gloval_average|/|x_gloval_average|\n",
    "    rel_error = torch.norm(x_new-x_opt, p=2)/torch.norm(x_opt,p=2)\n",
    "\n",
    "    return x_new, rel_error"
   ]
  },
  {
   "cell_type": "markdown",
   "metadata": {},
   "source": [
    "Next we run AWC-DGD algorithm."
   ]
  },
  {
   "cell_type": "code",
   "execution_count": 30,
   "metadata": {},
   "outputs": [
    {
     "name": "stdout",
     "output_type": "stream",
     "text": [
      "[stdout:7] \n",
      "Progress 0/500\n",
      "Progress 10/500\n",
      "Progress 20/500\n",
      "Progress 30/500\n",
      "Progress 40/500\n",
      "Progress 50/500\n",
      "Progress 60/500\n",
      "Progress 70/500\n",
      "Progress 80/500\n",
      "Progress 90/500\n",
      "Progress 100/500\n",
      "Progress 110/500\n",
      "Progress 120/500\n",
      "Progress 130/500\n",
      "Progress 140/500\n",
      "Progress 150/500\n",
      "Progress 160/500\n",
      "Progress 170/500\n",
      "Progress 180/500\n",
      "Progress 190/500\n",
      "Progress 200/500\n",
      "Progress 210/500\n",
      "Progress 220/500\n",
      "Progress 230/500\n",
      "Progress 240/500\n",
      "Progress 250/500\n",
      "Progress 260/500\n",
      "Progress 270/500\n",
      "Progress 280/500\n",
      "Progress 290/500\n",
      "Progress 300/500\n",
      "Progress 310/500\n",
      "Progress 320/500\n",
      "Progress 330/500\n",
      "Progress 340/500\n",
      "Progress 350/500\n",
      "Progress 360/500\n",
      "Progress 370/500\n",
      "Progress 380/500\n",
      "Progress 390/500\n",
      "Progress 400/500\n",
      "Progress 410/500\n",
      "Progress 420/500\n",
      "Progress 430/500\n",
      "Progress 440/500\n",
      "Progress 450/500\n",
      "Progress 460/500\n",
      "Progress 470/500\n",
      "Progress 480/500\n",
      "Progress 490/500\n"
     ]
    }
   ],
   "source": [
    "%%px\n",
    "\n",
    "# Set topology as exponential-two topology.\n",
    "G = topology_util.ExponentialTwoGraph(bf.size())\n",
    "bf.set_topology(G)\n",
    "\n",
    "maxite = 500\n",
    "x = torch.zeros(n, 1, dtype=torch.double)     # Initialize x\n",
    "rel_error = torch.zeros((maxite, 1))\n",
    "for ite in range(maxite):\n",
    "    \n",
    "    if bf.rank()==0:\n",
    "        if ite%10 == 0:\n",
    "            print('Progress {}/{}'.format(ite, maxite))\n",
    "        \n",
    "    x, rel_error[ite] = AWC_DGD_one_step(x, x_opt, A, b, alpha=5e-4) # you can adjust alpha to different values"
   ]
  },
  {
   "cell_type": "code",
   "execution_count": 31,
   "metadata": {},
   "outputs": [],
   "source": [
    "# collect relative error from node 0 for step-size 2e-3\n",
    "rel_error_exp2_alpha2em3 = dview.pull('rel_error', block=True, targets=0)"
   ]
  },
  {
   "cell_type": "code",
   "execution_count": 21,
   "metadata": {},
   "outputs": [],
   "source": [
    "# collect relative error from node 0 for step-size 1e-3\n",
    "rel_error_exp2_alpha1em3 = dview.pull('rel_error', block=True, targets=0)"
   ]
  },
  {
   "cell_type": "code",
   "execution_count": 25,
   "metadata": {},
   "outputs": [],
   "source": [
    "# collect relative error from node 0 for step-size 5e-4\n",
    "rel_error_exp2_alpha5em4 = dview.pull('rel_error', block=True, targets=0)"
   ]
  },
  {
   "cell_type": "code",
   "execution_count": 26,
   "metadata": {},
   "outputs": [
    {
     "data": {
      "text/plain": [
       "Text(0, 0.5, 'Relative error')"
      ]
     },
     "execution_count": 26,
     "metadata": {},
     "output_type": "execute_result"
    },
    {
     "data": {
      "image/png": "[encoded data removed]",
      "text/plain": [
       "<Figure size 432x288 with 1 Axes>"
      ]
     },
     "metadata": {
      "needs_background": "light"
     },
     "output_type": "display_data"
    }
   ],
   "source": [
    "import matplotlib.pyplot as plt\n",
    "%matplotlib inline\n",
    "\n",
    "plt.semilogy(rel_error_exp2_alpha2em3)\n",
    "plt.semilogy(rel_error_exp2_alpha1em3)\n",
    "plt.semilogy(rel_error_exp2_alpha5em4)\n",
    "\n",
    "plt.legend(['2e-3', '1e-3', '5e-4'], fontsize=16)\n",
    "\n",
    "plt.xlabel('Iteration', fontsize=16)\n",
    "plt.ylabel('Relative error', fontsize=16)"
   ]
  },
  {
   "cell_type": "markdown",
   "metadata": {},
   "source": [
    "It is observed from the above figures that smaller alpha can lead to more accuate solution, but the convergence rate will get slower. This observation is consistent with Eq. (DGD-Convergence)."
   ]
  }
 ],
 "metadata": {
  "kernelspec": {
   "display_name": "Python 3",
   "language": "python",
   "name": "python3"
  },
  "language_info": {
   "codemirror_mode": {
    "name": "ipython",
    "version": 3
   },
   "file_extension": ".py",
   "mimetype": "text/x-python",
   "name": "python",
   "nbconvert_exporter": "python",
   "pygments_lexer": "ipython3",
   "version": "3.7.7"
  }
 },
 "nbformat": 4,
 "nbformat_minor": 4
}

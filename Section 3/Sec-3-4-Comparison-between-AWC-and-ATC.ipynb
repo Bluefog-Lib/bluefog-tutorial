{
 "cells": [
  {
   "cell_type": "markdown",
   "metadata": {},
   "source": [
    "## 3.4 Comparison between AWC and ATC DGDs\n",
    "\n",
    "In this section we compare the pros and cons between AWC and ATC DGDs.\n",
    "\n",
    "### 3.4.1 Convergence comparison\n",
    "\n",
    "There are two major differences in convergence performance between AWC and ATC.\n",
    "\n",
    "#### 3.4.1.1 Limiting Bias.\n",
    "\n",
    "From Sec.3.2 and Sec.3.3, we know that \n",
    "\n",
    "\\begin{align}\n",
    "\\lim_{k\\to\\infty} \\frac{1}{n}\\sum_{i=1}^n \\|x_i^{(k)} - x^\\star\\|^2 &= O\\big( \\frac{\\alpha^2 \\rho^2 b^2}{(1-\\rho)^2} \\big) \\hspace{1cm} \\mbox{(ATC-DGD)} \\\\\n",
    "\\lim_{k\\to\\infty} \\frac{1}{n}\\sum_{i=1}^n \\|x_i^{(k)} - x^\\star\\|^2 &= O\\big( \\frac{\\alpha^2 b^2}{(1-\\rho)^2} \\big) \\hspace{1cm} \\mbox{(AWC-DGD)}\n",
    "\\end{align}\n",
    "\n",
    "It is observed that ATC-DGD has an imporved limiting bias given the same step-size $\\alpha$ because $\\rho < 1$.\n",
    "\n",
    "#### 3.4.1.2 Step-size range\n",
    "\n",
    "It is established in literatures \\[Refs\\] that ATC-DGD can converge if $\\alpha \\le \\frac{2}{L}$ in which $L$ is the Lipschitz constant of each local gradient $\\nabla f_i(x)$. However, it is established in \\[Refs\\] that AWC-DGD can converge if $\\alpha \\le \\frac{1+\\lambda_n(W)}{L}$ in which $\\lambda_n(W) \\in (-1,1)$ is the smallest eigenvalue of the combination matrix $W$. Apparently, AWC-DGD have a narrow step-size ranges to guarantee convergence.\n",
    "\n",
    "### 3.4.2 Compare convergence performance with BlueFog\n",
    "\n",
    "In this section we focus on the distributed least square problem and compare the performance of ATC and AWC with BlueFog. For the details of least square problem, see Sec.3.2 and 3.3.\n",
    "\n",
    "#### 3.4.2.1 Set up BlueFog\n",
    "\n",
    "In the following code, you should be able to see the id of your CPUs. We use 8 CPUs to conduct the following experiment."
   ]
  },
  {
   "cell_type": "code",
   "execution_count": 2,
   "metadata": {},
   "outputs": [
    {
     "data": {
      "text/plain": [
       "[0, 1, 2, 3, 4, 5, 6, 7]"
      ]
     },
     "execution_count": 2,
     "metadata": {},
     "output_type": "execute_result"
    }
   ],
   "source": [
    "import ipyparallel as ipp\n",
    "\n",
    "rc = ipp.Client(profile='bluefog')\n",
    "rc.ids"
   ]
  },
  {
   "cell_type": "markdown",
   "metadata": {},
   "source": [
    "Let each agent import necessary modules and then initialize BlueFog. You should be able to see the printed information like:  \n",
    "\n",
    "> \\[stdout:0\\] Hello, I am 1 among 8 processes\n",
    "> \n",
    "> ..."
   ]
  },
  {
   "cell_type": "code",
   "execution_count": 3,
   "metadata": {},
   "outputs": [
    {
     "name": "stdout",
     "output_type": "stream",
     "text": [
      "[stdout:0] Hello, I am 7 among 8 processes\n",
      "[stdout:1] Hello, I am 6 among 8 processes\n",
      "[stdout:2] Hello, I am 4 among 8 processes\n",
      "[stdout:3] Hello, I am 2 among 8 processes\n",
      "[stdout:4] Hello, I am 1 among 8 processes\n",
      "[stdout:5] Hello, I am 5 among 8 processes\n",
      "[stdout:6] Hello, I am 3 among 8 processes\n",
      "[stdout:7] Hello, I am 0 among 8 processes\n"
     ]
    }
   ],
   "source": [
    "%%px\n",
    "import numpy as np\n",
    "import bluefog.torch as bf\n",
    "import torch\n",
    "from bluefog.common import topology_util\n",
    "import networkx as nx\n",
    "import matplotlib.pyplot as plt\n",
    "%matplotlib inline\n",
    "\n",
    "bf.init()\n",
    "print(f\"Hello, I am {bf.rank()} among {bf.size()} processes\")"
   ]
  },
  {
   "cell_type": "markdown",
   "metadata": {},
   "source": [
    "Push seed to each agent so that the simulation can be reproduced."
   ]
  },
  {
   "cell_type": "code",
   "execution_count": 4,
   "metadata": {},
   "outputs": [
    {
     "data": {
      "text/plain": [
       "[None, None, None, None, None, None, None, None]"
      ]
     },
     "execution_count": 4,
     "metadata": {},
     "output_type": "execute_result"
    }
   ],
   "source": [
    "dview = rc[:] # A DirectView of all engines\n",
    "dview.block=True\n",
    "\n",
    "# Push the data into all workers\n",
    "dview.push({'seed': 2021}, block=True)"
   ]
  },
  {
   "cell_type": "markdown",
   "metadata": {},
   "source": [
    "After running the following code, you should be able to see the printed information like \n",
    "\n",
    "> \\[stdout:0\\] I received seed as value:  2021\n",
    "> \n",
    "> ..."
   ]
  },
  {
   "cell_type": "code",
   "execution_count": 5,
   "metadata": {},
   "outputs": [
    {
     "name": "stdout",
     "output_type": "stream",
     "text": [
      "[stdout:0] I received seed as value:  2021\n",
      "[stdout:1] I received seed as value:  2021\n",
      "[stdout:2] I received seed as value:  2021\n",
      "[stdout:3] I received seed as value:  2021\n",
      "[stdout:4] I received seed as value:  2021\n",
      "[stdout:5] I received seed as value:  2021\n",
      "[stdout:6] I received seed as value:  2021\n",
      "[stdout:7] I received seed as value:  2021\n"
     ]
    }
   ],
   "source": [
    "%%px\n",
    "print(\"I received seed as value: \", seed)"
   ]
  },
  {
   "cell_type": "markdown",
   "metadata": {},
   "source": [
    "Congratulations! Your BlueFog is initialized and tested successfully."
   ]
  },
  {
   "cell_type": "markdown",
   "metadata": {},
   "source": [
    "#### 3.4.2.2 Generate local data $A_i$ and $b_i$"
   ]
  },
  {
   "cell_type": "code",
   "execution_count": 6,
   "metadata": {},
   "outputs": [],
   "source": [
    "%%px\n",
    "\n",
    "def generate_data(m, n, x_o):\n",
    "    \n",
    "    A = torch.randn(m, n).to(torch.double)\n",
    "    ns = 0.1*torch.randn(m, 1).to(torch.double)\n",
    "    b = A.mm(x_o) + ns\n",
    "        \n",
    "    return A, b"
   ]
  },
  {
   "cell_type": "markdown",
   "metadata": {},
   "source": [
    "#### 3.4.2.3 Distributed gradient descent method"
   ]
  },
  {
   "cell_type": "code",
   "execution_count": 7,
   "metadata": {},
   "outputs": [],
   "source": [
    "%%px\n",
    "\n",
    "def distributed_grad_descent(A, b, maxite=5000, alpha=1e-1):\n",
    "\n",
    "    x_opt = torch.zeros(n, 1, dtype=torch.double)\n",
    "\n",
    "    for _ in range(maxite):\n",
    "        # calculate local gradient \n",
    "        grad_local = A.t().mm(A.mm(x_opt) - b)\n",
    "        \n",
    "        # global gradient\n",
    "        grad = bf.allreduce(grad_local, name='gradient')\n",
    "\n",
    "        # distributed gradient descent\n",
    "        x_opt = x_opt - alpha*grad\n",
    "\n",
    "    grad_local = A.t().mm(A.mm(x_opt) - b)\n",
    "    grad = bf.allreduce(grad_local, name='gradient')  # global gradient\n",
    "\n",
    "    # evaluate the convergence of distributed gradient descent\n",
    "    # the norm of global gradient is expected to 0 (optimality condition)\n",
    "    global_grad_norm = torch.norm(grad, p=2)\n",
    "    if bf.rank() == 0:\n",
    "        print(\"[Distributed Grad Descent] Rank {}: global gradient norm: {}\".format(bf.rank(), global_grad_norm))\n",
    "\n",
    "    return x_opt"
   ]
  },
  {
   "cell_type": "markdown",
   "metadata": {},
   "source": [
    "In the following code we run distributed gradient descent to achieve the global solution $x^\\star$ to the optimization problem. To validate whether $x^\\star$ is optimal, it is enough to examine $\\frac{1}{n}\\sum_{i=1}^n \\nabla f_i(x^\\star) = 0$."
   ]
  },
  {
   "cell_type": "code",
   "execution_count": 10,
   "metadata": {},
   "outputs": [
    {
     "name": "stdout",
     "output_type": "stream",
     "text": [
      "[stdout:7] [Distributed Grad Descent] Rank 0: global gradient norm: 4.450207821573741e-15\n"
     ]
    }
   ],
   "source": [
    "%%px\n",
    "\n",
    "m, n = 20, 5\n",
    "x_o = torch.randn(n, 1).to(torch.double)\n",
    "x_o = bf.allreduce(x_o, name='x_o') # synchronize the global reference point\n",
    "A, b = generate_data(m, n, x_o)\n",
    "x_opt = distributed_grad_descent(A, b, maxite=500, alpha=1e-2)"
   ]
  },
  {
   "cell_type": "markdown",
   "metadata": {},
   "source": [
    "#### 3.4.2.4 AWC-DGD"
   ]
  },
  {
   "cell_type": "code",
   "execution_count": 11,
   "metadata": {},
   "outputs": [],
   "source": [
    "%%px \n",
    "\n",
    "def AWC_DGD_one_step(x, x_opt, A, b, alpha=1e-2):\n",
    "    \n",
    "    # one-step ATC-DGD. \n",
    "    # The combination weights have been determined by the associated combination matrix.\n",
    "    \n",
    "    grad_local = A.t().mm(A.mm(x) - b)                       # compute local grad\n",
    "    x_new = bf.neighbor_allreduce(x) - alpha*grad_local      # AWC update\n",
    "    \n",
    "    # the relative error: |x^k-x_gloval_average|/|x_gloval_average|\n",
    "    rel_error = torch.norm(x_new-x_opt, p=2)/torch.norm(x_opt,p=2)\n",
    "\n",
    "    return x_new, rel_error"
   ]
  },
  {
   "cell_type": "markdown",
   "metadata": {},
   "source": [
    "#### 3.4.2.5 ATC-DGD"
   ]
  },
  {
   "cell_type": "code",
   "execution_count": 12,
   "metadata": {},
   "outputs": [],
   "source": [
    "%%px \n",
    "\n",
    "def ATC_DGD_one_step(x, x_opt, A, b, alpha=1e-2):\n",
    "    \n",
    "    # one-step ATC-DGD. \n",
    "    # The combination weights have been determined by the associated combination matrix.\n",
    "    \n",
    "    grad_local = A.t().mm(A.mm(x) - b)      # compute local grad\n",
    "    y = x - alpha*grad_local                # adapte\n",
    "    x_new = bf.neighbor_allreduce(y)        # combination\n",
    "    \n",
    "    # the relative error: |x^k-x_gloval_average|/|x_gloval_average|\n",
    "    rel_error = torch.norm(x_new-x_opt, p=2)/torch.norm(x_opt,p=2)\n",
    "\n",
    "    return x_new, rel_error"
   ]
  },
  {
   "cell_type": "markdown",
   "metadata": {},
   "source": [
    "#### 3.4.2.6 Limiting bias comparison between AWC and ATC"
   ]
  },
  {
   "cell_type": "code",
   "execution_count": 13,
   "metadata": {
    "scrolled": true
   },
   "outputs": [
    {
     "name": "stdout",
     "output_type": "stream",
     "text": [
      "[stdout:7] \n",
      "Progress 0/300\n",
      "Progress 10/300\n",
      "Progress 20/300\n",
      "Progress 30/300\n",
      "Progress 40/300\n",
      "Progress 50/300\n",
      "Progress 60/300\n",
      "Progress 70/300\n",
      "Progress 80/300\n",
      "Progress 90/300\n",
      "Progress 100/300\n",
      "Progress 110/300\n",
      "Progress 120/300\n",
      "Progress 130/300\n",
      "Progress 140/300\n",
      "Progress 150/300\n",
      "Progress 160/300\n",
      "Progress 170/300\n",
      "Progress 180/300\n",
      "Progress 190/300\n",
      "Progress 200/300\n",
      "Progress 210/300\n",
      "Progress 220/300\n",
      "Progress 230/300\n",
      "Progress 240/300\n",
      "Progress 250/300\n",
      "Progress 260/300\n",
      "Progress 270/300\n",
      "Progress 280/300\n",
      "Progress 290/300\n"
     ]
    }
   ],
   "source": [
    "%%px\n",
    "\n",
    "# Set topology as exponential-two topology.\n",
    "G = topology_util.ExponentialTwoGraph(bf.size())\n",
    "bf.set_topology(G)\n",
    "\n",
    "maxite = 300\n",
    "\n",
    "x_awc = torch.zeros(n, 1, dtype=torch.double)     # Initialize x\n",
    "rel_error_awc = torch.zeros((maxite, 1))\n",
    "\n",
    "x_atc = torch.zeros(n, 1, dtype=torch.double)     # Initialize x\n",
    "rel_error_atc = torch.zeros((maxite, 1))\n",
    "\n",
    "for ite in range(maxite):\n",
    "    \n",
    "    if bf.rank()==0:\n",
    "        if ite%10 == 0:\n",
    "            print('Progress {}/{}'.format(ite, maxite))\n",
    "        \n",
    "    x_awc, rel_error_awc[ite] = AWC_DGD_one_step(x_awc, x_opt, A, b, alpha=2e-3) # you can adjust alpha to different values\n",
    "    x_atc, rel_error_atc[ite] = ATC_DGD_one_step(x_atc, x_opt, A, b, alpha=2e-3) # you can adjust alpha to different values\n",
    "    "
   ]
  },
  {
   "cell_type": "code",
   "execution_count": 14,
   "metadata": {},
   "outputs": [],
   "source": [
    "rel_error_awc_exp2 = dview.pull('rel_error_awc', block=True, targets=0)\n",
    "rel_error_atc_exp2 = dview.pull('rel_error_atc', block=True, targets=0)"
   ]
  },
  {
   "cell_type": "code",
   "execution_count": 15,
   "metadata": {},
   "outputs": [
    {
     "data": {
      "text/plain": [
       "Text(0, 0.5, 'Relative error')"
      ]
     },
     "execution_count": 15,
     "metadata": {},
     "output_type": "execute_result"
    },
    {
     "data": {
      "image/png": "[encoded data removed]",
      "text/plain": [
       "<Figure size 432x288 with 1 Axes>"
      ]
     },
     "metadata": {
      "needs_background": "light"
     },
     "output_type": "display_data"
    }
   ],
   "source": [
    "import matplotlib.pyplot as plt\n",
    "%matplotlib inline\n",
    "\n",
    "plt.semilogy(rel_error_awc_exp2)\n",
    "plt.semilogy(rel_error_atc_exp2)\n",
    "\n",
    "plt.legend(['AWC-DGD', 'ATC-DGD'], fontsize=16)\n",
    "\n",
    "plt.xlabel('Iteration', fontsize=16)\n",
    "plt.ylabel('Relative error', fontsize=16)"
   ]
  },
  {
   "cell_type": "markdown",
   "metadata": {},
   "source": [
    "With the same step-size 2e-3, it is observed that ATC-DGD has smaller limiting bias than AWC-DGD, which is consistent with the conclusion in Sec.3.4.1.1."
   ]
  },
  {
   "cell_type": "markdown",
   "metadata": {},
   "source": [
    "#### 3.4.2.7 Step-size stability range comparison"
   ]
  },
  {
   "cell_type": "code",
   "execution_count": 19,
   "metadata": {},
   "outputs": [
    {
     "name": "stdout",
     "output_type": "stream",
     "text": [
      "[stdout:7] \n",
      "Progress 0/20\n",
      "Progress 10/20\n"
     ]
    }
   ],
   "source": [
    "%%px\n",
    "\n",
    "# Set topology as exponential-two topology.\n",
    "G = topology_util.ExponentialTwoGraph(bf.size())\n",
    "bf.set_topology(G)\n",
    "\n",
    "maxite = 20\n",
    "\n",
    "x_awc = torch.zeros(n, 1, dtype=torch.double)     # Initialize x\n",
    "rel_error_awc = torch.zeros((maxite, 1))\n",
    "\n",
    "x_atc = torch.zeros(n, 1, dtype=torch.double)     # Initialize x\n",
    "rel_error_atc = torch.zeros((maxite, 1))\n",
    "\n",
    "for ite in range(maxite):\n",
    "    \n",
    "    if bf.rank()==0:\n",
    "        if ite%10 == 0:\n",
    "            print('Progress {}/{}'.format(ite, maxite))\n",
    "        \n",
    "    x_awc, rel_error_awc[ite] = AWC_DGD_one_step(x_awc, x_opt, A, b, alpha=3e-2) # you can adjust alpha to different values\n",
    "    x_atc, rel_error_atc[ite] = ATC_DGD_one_step(x_atc, x_opt, A, b, alpha=3e-2) # you can adjust alpha to different values\n",
    "    "
   ]
  },
  {
   "cell_type": "code",
   "execution_count": 20,
   "metadata": {},
   "outputs": [],
   "source": [
    "rel_error_awc_exp2 = dview.pull('rel_error_awc', block=True, targets=0)\n",
    "rel_error_atc_exp2 = dview.pull('rel_error_atc', block=True, targets=0)"
   ]
  },
  {
   "cell_type": "code",
   "execution_count": 21,
   "metadata": {},
   "outputs": [
    {
     "data": {
      "text/plain": [
       "Text(0, 0.5, 'Relative error')"
      ]
     },
     "execution_count": 21,
     "metadata": {},
     "output_type": "execute_result"
    },
    {
     "data": {
      "image/png": "[encoded data removed]",
      "text/plain": [
       "<Figure size 432x288 with 1 Axes>"
      ]
     },
     "metadata": {
      "needs_background": "light"
     },
     "output_type": "display_data"
    }
   ],
   "source": [
    "import matplotlib.pyplot as plt\n",
    "%matplotlib inline\n",
    "\n",
    "plt.semilogy(rel_error_awc_exp2)\n",
    "plt.semilogy(rel_error_atc_exp2)\n",
    "\n",
    "plt.legend(['AWC-DGD', 'ATC-DGD'], fontsize=16)\n",
    "\n",
    "plt.xlabel('Iteration', fontsize=16)\n",
    "plt.ylabel('Relative error', fontsize=16)"
   ]
  },
  {
   "cell_type": "markdown",
   "metadata": {},
   "source": [
    "With the same step-size 3e-2, it is observed that AWC diverges but ATC still converges, which is consistent with the conclusion in Sec.3.4.1.1."
   ]
  },
  {
   "cell_type": "markdown",
   "metadata": {},
   "source": [
    "### 3.4.2 Runtime comparison"
   ]
  },
  {
   "cell_type": "markdown",
   "metadata": {},
   "source": [
    "While AWC has a little bit worse convergence performance than ATC, its AWC structure can overlap computation with its communication. Recall the AWC-DGD recursion:\n",
    "\n",
    "$$\\begin{align}\n",
    "x^{(k+1)} = \\underbrace{\\sum_{i=1}^n w_{ij} x_j^{(k)}}_{\\mathrm{comm.}} - \\alpha \\underbrace{\\nabla f_i(x_i^{(k)})}_{\\mathrm{compt.}} \\quad \\mbox{(AWC-DGD)}\n",
    "\\end{align}$$\n",
    "\n",
    "It is observed that the computation of the gradient and the communication can be conducted in a parallel manner. In contrast, the ATC-DGD recursion \n",
    "\n",
    "$$\\begin{align}\n",
    "x^{(k+1)} = \\underbrace{\\sum_{i=1}^n w_{ij} \\Big(x_j^{(k)} - \\alpha \\underbrace{\\nabla f_j(x_j^{(k)})}_{\\mathrm{compt.}}\\Big)}_{\\mathrm{comm.}} \\quad \\mbox{(ATC-DGD)}\n",
    "\\end{align}$$\n",
    "\n",
    "has to compute first and then communicate. Therefore, AWC-DGD can be implemented in a more efficient manner than ATC-DGD by overlapping communication with computation. \n",
    "\n",
    "BlueFog supports the communication and computation overlapping for AWC-DGD. The utility ```bf.neighbor_allreduce_nonblocking(tensor)``` enables the non-blocking operation of neighbor allreduce. A typical way to overlap model communication and gradient computation is as follows: \n",
    "\n",
    "```python\n",
    "# one-step of the non-blocking AWC-DGD\n",
    "x_handle = bf.neighbor_allreduce_nonblocking(x) # step 1: conduct neighbor-allreduce in a non-blocking way\n",
    "grad_locl = ComputeGrad()                       # step 2: compute the gradient\n",
    "x_new = bf.wait(x_handle) - alpha*grad_local    # step 3: finish the AWC-DGD update\n",
    "```\n",
    "\n",
    "Since neighbor-allreduce is conducted in a non-blcoking way, steps 1 and 2 are carried out in an independent and parallel manner. The above non-blocking code can save significant time than blocking AWC-DGD or ATC-DGD when either communication or computation is time-consuming.\n",
    "\n",
    "The following example shows how fast the non-blocking AWC-DGD is compared to blocking AWC/ATC-DGD when solving the same problem."
   ]
  },
  {
   "cell_type": "code",
   "execution_count": 33,
   "metadata": {},
   "outputs": [],
   "source": [
    "%%px\n",
    "\n",
    "def NonBlocking_AWC_DGD_one_step(x, x_opt, A, b, alpha=1e-2):\n",
    "    \n",
    "    # one-step NBK-AWC-DGD. \n",
    "    \n",
    "    x_handle = bf.neighbor_allreduce_nonblocking(x)\n",
    "    grad_local = A.t().mm(A.mm(x) - b)                       # compute local grad\n",
    "    x_new = bf.wait(x_handle) - alpha*grad_local             # AWC update\n",
    "    \n",
    "    # the relative error: |x^k-x_gloval_average|/|x_gloval_average|\n",
    "    rel_error = torch.norm(x_new-x_opt, p=2)/torch.norm(x_opt,p=2)\n",
    "\n",
    "    return x_new, rel_error"
   ]
  },
  {
   "cell_type": "code",
   "execution_count": 36,
   "metadata": {},
   "outputs": [
    {
     "name": "stdout",
     "output_type": "stream",
     "text": [
      "[stdout:7] [Distributed Grad Descent] Rank 0: global gradient norm: 1.6877124312783498e-12\n"
     ]
    }
   ],
   "source": [
    "%%px\n",
    "\n",
    "m, n = 1000, 1000\n",
    "x_o = torch.randn(n, 1).to(torch.double)\n",
    "x_o = bf.allreduce(x_o, name='x_o') # synchronize the global reference point\n",
    "A, b = generate_data(m, n, x_o)\n",
    "x_opt = distributed_grad_descent(A, b, maxite=300, alpha=1e-3)"
   ]
  },
  {
   "cell_type": "code",
   "execution_count": 37,
   "metadata": {},
   "outputs": [
    {
     "name": "stdout",
     "output_type": "stream",
     "text": [
      "[stdout:7] \n",
      "Running ATC:\n",
      "Progress 0/1000\n",
      "Progress 200/1000\n",
      "Progress 400/1000\n",
      "Progress 600/1000\n",
      "Progress 800/1000\n",
      "ATC finishes in 23.32351303100586 seconds.\n",
      "\n",
      "Running AWC:\n",
      "Progress 0/1000\n",
      "Progress 200/1000\n",
      "Progress 400/1000\n",
      "Progress 600/1000\n",
      "Progress 800/1000\n",
      "AWC finishes in 23.93889021873474 seconds.\n",
      "\n",
      "Running NBK-AWC:\n",
      "Progress 0/1000\n",
      "Progress 200/1000\n",
      "Progress 400/1000\n",
      "Progress 600/1000\n",
      "Progress 800/1000\n",
      "NBK-AWC finishes in 21.54670763015747 seconds.\n"
     ]
    }
   ],
   "source": [
    "%%px\n",
    "\n",
    "import time\n",
    "\n",
    "G = topology_util.ExponentialTwoGraph(bf.size())  # Set topology as exponential-two topology.\n",
    "bf.set_topology(G)\n",
    "\n",
    "maxite = 1000\n",
    "alpha = 5e-5\n",
    "rel_error_dict = {}\n",
    "\n",
    "for method in ['ATC', 'AWC', 'NBK-AWC']:\n",
    "    if bf.rank() == 0:\n",
    "        print('\\nRunning {}:'.format(method))\n",
    "\n",
    "    x = torch.zeros(n, 1, dtype=torch.double).to(torch.double)  # Initialize x\n",
    "    rel_error = torch.zeros((maxite, 1))\n",
    "    time_list = []\n",
    "\n",
    "    start = time.time()\n",
    "    for ite in range(maxite):\n",
    "\n",
    "        if bf.rank()==0:\n",
    "            if ite%200 == 0:\n",
    "                print('Progress {}/{}'.format(ite, maxite))\n",
    "\n",
    "        # you can adjust alpha to different values\n",
    "        if method == 'ATC':\n",
    "            x, rel_error[ite] = ATC_DGD_one_step(x, x_opt, A, b, alpha=alpha)\n",
    "        elif method == 'NBK-AWC':\n",
    "            x, rel_error[ite] = NonBlocking_AWC_DGD_one_step(x, x_opt, A, b, alpha=alpha)\n",
    "        else:\n",
    "            x, rel_error[ite] = AWC_DGD_one_step(x, x_opt, A, b, alpha=alpha)\n",
    "        time_list.append(time.time() - start)\n",
    "\n",
    "    rel_error_dict[method] = rel_error.numpy().reshape(-1)\n",
    "    rel_error_dict[method+\"_time\"] = np.asarray(time_list)\n",
    "\n",
    "    end = time.time()\n",
    "\n",
    "    if bf.rank() == 0:\n",
    "        print('{} finishes in {} seconds.'.format(method, end - start))"
   ]
  },
  {
   "cell_type": "markdown",
   "metadata": {},
   "source": [
    "It is observed that Non-blocking AWC-DGD is the fastest by overlapping communication and computation."
   ]
  }
 ],
 "metadata": {
  "kernelspec": {
   "display_name": "Python 3",
   "language": "python",
   "name": "python3"
  },
  "language_info": {
   "codemirror_mode": {
    "name": "ipython",
    "version": 3
   },
   "file_extension": ".py",
   "mimetype": "text/x-python",
   "name": "python",
   "nbconvert_exporter": "python",
   "pygments_lexer": "ipython3",
   "version": "3.7.7"
  }
 },
 "nbformat": 4,
 "nbformat_minor": 4
}

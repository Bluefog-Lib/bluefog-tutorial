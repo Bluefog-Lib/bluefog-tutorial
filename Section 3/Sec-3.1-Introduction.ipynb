{
 "cells": [
  {
   "cell_type": "markdown",
   "metadata": {},
   "source": [
    "## 3.1 Introduction\n",
    "\n",
    "In Chapter 2, we discussed the network topology, the weights associated with edges, the combination matrix, the average consensus algorithm, and how to implement it in the real CPU clusters with BlueFog. In this section, we will discuss how to solve the general optimization problem in a decentralized manner.\n",
    "\n",
    "### 3.1.1 The optimization problem\n",
    "\n",
    "Consider $n$ computing nodes collaborate to solve the problem:\n",
    "\n",
    "$$\\min_{x \\in \\mathbb{R}^d} \\quad \\frac{1}{n}\\sum_{i=1}^n f_i(x)$$\n",
    "\n",
    "where $f_i(x)$ is a local and private function held by node $i$. Each node $i$ can access its own variable $x$ or gradient $\\nabla f_i(x)$, but it has to communicate to access information from other nodes. \n",
    "\n",
    "If each $f_i(x)$ is assumed to be smooth, the leading algorithm to solve the above problem is gradient descent:\n",
    "\n",
    "\\begin{align}\n",
    "x^{(k+1)} = \\frac{1}{n}\\sum_{i=1}^n \\Big(x^{(k)} - \\alpha \\nabla f_i(x^{(k)}) \\Big)\n",
    "\\end{align}\n",
    "\n",
    "The above recursion can be conducted in a distributed manner. First, each node $i$ conducts a local gradient descent. Second, all nodes will synchronize with each other to achieve the global average. As a result, the above algorithm is named as **distributed gradient descent**.\n",
    "\n",
    "The global average operation in distributed gradient descent can be conducted either via Parameter-Server or All-Reduce, but it will incur either a significant bandwidth cost or high latency. This motivates us to solve the above problem in a **decentralized** manner in which each node only needs to communicate with its direct neighbors.\n",
    "\n",
    "### 3.1.2 Organization\n",
    "\n",
    "The contents of this chapter is organized as follows:\n",
    "\n",
    "- Sec.3.2: Decentralized gradient descent: the adapt-then-combine (ATC) version\n",
    "\n",
    "\n",
    "- Sec.3.3: Decentralized gradient descent: the adapt-with-combination (AWC) version\n",
    "\n",
    "\n",
    "- Sec.3.4: The influence of network topologies on decentralized gradient descent\n",
    "\n",
    "\n",
    "- Sec.3.5: Decentralized stochastic gradient descent\n",
    "\n",
    "### 3.1.3 Initialize BlueFog and test it\n",
    "\n",
    "All contents in this section are displayed in Jupyter notebook, and all experimental examples are written with BlueFog and iParallel. Readers not familiar with how to run BlueFog in ipython notebook environment is encouraged to read Sec. [HelloWorld section] first. In the following codes, we will initialize BlueFog and test whether it works normally.\n",
    "\n",
    "In the following code, you should be able to see the id of your CPUs. We use 8 CPUs to conduct the following experiment."
   ]
  },
  {
   "cell_type": "code",
   "execution_count": 1,
   "metadata": {},
   "outputs": [
    {
     "data": {
      "text/plain": [
       "[0, 1, 2, 3, 4, 5, 6, 7]"
      ]
     },
     "execution_count": 1,
     "metadata": {},
     "output_type": "execute_result"
    }
   ],
   "source": [
    "import ipyparallel as ipp\n",
    "\n",
    "rc = ipp.Client(profile=\"bluefog\")\n",
    "rc.ids"
   ]
  },
  {
   "cell_type": "markdown",
   "metadata": {},
   "source": [
    "Let each agent import necessary modules and then initialize BlueFog. You should be able to see the printed information like:  \n",
    "\n",
    "> \\[stdout:0\\] Hello, I am 1 among 8 processes\n",
    "> \n",
    "> ..."
   ]
  },
  {
   "cell_type": "code",
   "execution_count": 2,
   "metadata": {},
   "outputs": [
    {
     "name": "stdout",
     "output_type": "stream",
     "text": [
      "[stdout:0] Hello, I am 3 among 8 processes\n",
      "[stdout:1] Hello, I am 5 among 8 processes\n",
      "[stdout:2] Hello, I am 6 among 8 processes\n",
      "[stdout:3] Hello, I am 2 among 8 processes\n",
      "[stdout:4] Hello, I am 0 among 8 processes\n",
      "[stdout:5] Hello, I am 1 among 8 processes\n",
      "[stdout:6] Hello, I am 7 among 8 processes\n",
      "[stdout:7] Hello, I am 4 among 8 processes\n"
     ]
    }
   ],
   "source": [
    "%%px\n",
    "import numpy as np\n",
    "import bluefog.torch as bf\n",
    "import torch\n",
    "from bluefog.common import topology_util\n",
    "import networkx as nx\n",
    "\n",
    "bf.init()\n",
    "print(f\"Hello, I am {bf.rank()} among {bf.size()} processes\")"
   ]
  },
  {
   "cell_type": "markdown",
   "metadata": {},
   "source": [
    "Push seed to each agent so that the simulation can be reproduced."
   ]
  },
  {
   "cell_type": "code",
   "execution_count": 3,
   "metadata": {},
   "outputs": [
    {
     "data": {
      "text/plain": [
       "[None, None, None, None, None, None, None, None]"
      ]
     },
     "execution_count": 3,
     "metadata": {},
     "output_type": "execute_result"
    }
   ],
   "source": [
    "dview = rc[:]  # A DirectView of all engines\n",
    "dview.block = True\n",
    "\n",
    "# Push the data into all workers\n",
    "dview.push({\"seed\": 2021}, block=True)"
   ]
  },
  {
   "cell_type": "markdown",
   "metadata": {},
   "source": [
    "After running the following code, you should be able to see the printed information like \n",
    "\n",
    "> \\[stdout:0\\] I received seed as value:  2021\n",
    "> \n",
    "> ..."
   ]
  },
  {
   "cell_type": "code",
   "execution_count": 4,
   "metadata": {},
   "outputs": [
    {
     "name": "stdout",
     "output_type": "stream",
     "text": [
      "[stdout:0] I received seed as value:  2021\n",
      "[stdout:1] I received seed as value:  2021\n",
      "[stdout:2] I received seed as value:  2021\n",
      "[stdout:3] I received seed as value:  2021\n",
      "[stdout:4] I received seed as value:  2021\n",
      "[stdout:5] I received seed as value:  2021\n",
      "[stdout:6] I received seed as value:  2021\n",
      "[stdout:7] I received seed as value:  2021\n"
     ]
    }
   ],
   "source": [
    "%%px\n",
    "print(\"I received seed as value: \", seed)"
   ]
  },
  {
   "cell_type": "markdown",
   "metadata": {},
   "source": [
    "Congratulations! Your BlueFog is initialized and tested successfully."
   ]
  }
 ],
 "metadata": {
  "kernelspec": {
   "display_name": "Python 3",
   "language": "python",
   "name": "python3"
  },
  "language_info": {
   "codemirror_mode": {
    "name": "ipython",
    "version": 3
   },
   "file_extension": ".py",
   "mimetype": "text/x-python",
   "name": "python",
   "nbconvert_exporter": "python",
   "pygments_lexer": "ipython3",
   "version": "3.7.7"
  }
 },
 "nbformat": 4,
 "nbformat_minor": 4
}

{
 "cells": [
  {
   "cell_type": "markdown",
   "metadata": {},
   "source": [
    "## 3.2 Decentralized Gradient Descent (Adapt-then-combine)\n",
    "\n",
    "### 3.2.1 Problem and distributed gradient descent\n",
    "\n",
    "Consider $n$ computing nodes collaborate to solve the problem:\n",
    "\n",
    "$$\\min_{x\\in \\mathbb{R}^d} \\quad \\frac{1}{n}\\sum_{i=1}^n f_i(x)$$\n",
    "\n",
    "where $f_i(x)$ is a local and private function held by node $i$. Each node $i$ can access its own variable $x$ or gradient $\\nabla f_i(x)$, but it has to communicate to access information from other nodes.\n",
    "\n",
    "If each $f_i(x)$ is assumed to be smooth, the leading algorithm to solve the above problem is gradient descent:\n",
    "\n",
    "$$\\begin{align}\n",
    "x^{(k+1)} = \\frac{1}{n}\\sum_{i=1}^n \\Big(x^{(k)} - \\alpha \\nabla f_i(x^{(k)}) \\Big) \\quad \\mbox{(distributed gradient descent)}\n",
    "\\end{align}$$\n",
    "\n",
    "### 3.2.2 Decentralized gradient descent\n",
    "\n",
    "In this section we disscuss a new gradient descent that can solve the optimization problem in a decentralized manner. To this end, we first organize all computing nodes with a connected network topology. Next we generate a doubly stochastic combination matrix $W$. For more details on the network topology and combination matrix, please check Sections [2.2](../Sec-2.2-Network-topology.ipynb)-[2.4](../Sec-2.4-Combination-matrix-over-directed-network.ipynb).\n",
    "\n",
    "With combination matrix $W$, the decentralized gradient descent has recursions as follows:\n",
    "\n",
    "\\begin{align}\n",
    "y_i^{(k)} &= x_i^{(k)} - \\alpha \\nabla f_i(x_i^{(k)}) \\hspace{5.5cm} \\mbox{(local update)} \\\\\n",
    "x_i^{(k+1)} &= \\sum_{j=1}^n w_{ij} y_j^{(k)} = w_{ii} y_i^{(k)} + \\sum_{j\\in\\mathcal{N}(i)}w_{ij} y_j^{(k)} \\hspace{2.1cm} \\mbox{(combination)}\n",
    "\\end{align}\n",
    "\n",
    "where $\\mathcal{N}(i)$ is the set of incoming neighbors of node $i$. It is observed that the combination step incurs partial averaging within neighborhood, which is different from the global averaging used in distributed gradient descent. The partical averaging typically triggers $O(1)$ bandwidth cost and $O(1)$ latency, which is independent of the number of all computing nodes $n$. On a sparse network such as the ring, or the one-peer exponential-two graph \\[Refs\\], decentralized gradient descent can save significant communications than distributed gradient descdent.\n",
    "\n",
    "Decentralized gradient descent has two major variants. One variant is as the above recursions. Since the recursion has the \"adapt-then-combine\" order, we will refer to it as the ATC-DGD \\[Refs\\]. The other variant will mix the adaptation (i.e., the gradient descent) and combination in the same update, which will be referred to as \"adapt-with-combination (AWC)\" decentralized gradient descent. There are subtle differences between these two variants. We will leave the discussion of AWC-DGD algorithm in the next section.\n",
    "\n",
    "### 3.2.3 Convergence properties\n",
    "\n",
    "We give a brief descrption on the convergence property of the ATC-DGD algorithm. For $L$-smooth and $\\mu$-strongly convex problems, if the step-size $\\alpha$ is sufficiently small, the ATC-DGD algorithm will converge as follows.\n",
    "\n",
    "\\begin{align}\n",
    "\\limsup_{k\\to \\infty} \\frac{1}{n}\\sum_{i=1}^n \\|x_i^{(k)} - x^\\star \\|^2 = O\\Big( (1-\\alpha \\mu)^{k} + \\frac{\\gamma^2 \\rho^2 b^2}{(1-\\rho)^2}\\Big) \\hspace{1cm} \\mbox{(DGD-Convergence)}\n",
    "\\end{align}\n",
    "\n",
    "where $x^\\star$ is the glboal solution to the optimization problem, $\\rho = \\max\\{|\\lambda_2(W), \\lambda_n(W)|\\}$ and $b^2 = \\frac{1}{n}\\sum_{i=1}^n \\|\\nabla f_i(x^\\star)\\|^2$ denotes the data heterogeneity between nodes. Quantity $1-\\rho$ measures the connectivity of the network topology. It is observed that ATC-DGD cannot converge exactly to the solution $x^\\star$, but to a neighborhood around it. The limiting error is on the order of $O(\\frac{\\alpha^2 b^2}{(1-\\rho)^2})$. When step-size $\\alpha$ is small, or the data heterogeneity $b^2$ is small, or the network is well-connected, i.e., $\\rho \\to 0$, the limiting error can be negligible. \n",
    "\n",
    "### 3.2.4 An example: least-square problem\n",
    "\n",
    "In this section, we will show a demo on how to solve a least-square problem with ATC-DGD using BlueFog. Suppose $n$ computing nodes collaborate to solve the following problem:\n",
    "\n",
    "$$\\min_x \\quad \\frac{1}{n}\\sum_{i=1}^n \\|A_i x - b_i\\|^2$$\n",
    "\n",
    "where $\\{A_i, b_i\\}$ are local data held in node $i$.\n",
    "\n",
    "#### 3.2.4.1 Set up BlueFog\n",
    "\n",
    "In the following code, you should be able to see the id of your CPUs. We use 8 CPUs to conduct the following experiment."
   ]
  },
  {
   "cell_type": "code",
   "execution_count": 47,
   "metadata": {},
   "outputs": [
    {
     "data": {
      "text/plain": [
       "[0, 1, 2, 3, 4, 5, 6, 7]"
      ]
     },
     "execution_count": 47,
     "metadata": {},
     "output_type": "execute_result"
    }
   ],
   "source": [
    "import ipyparallel as ipp\n",
    "\n",
    "rc = ipp.Client(profile='bluefog')\n",
    "rc.ids"
   ]
  },
  {
   "cell_type": "markdown",
   "metadata": {},
   "source": [
    "Let each agent import necessary modules and then initialize BlueFog. You should be able to see the printed information like:  \n",
    "\n",
    "> \\[stdout:0\\] Hello, I am 1 among 8 processes\n",
    "> \n",
    "> ..."
   ]
  },
  {
   "cell_type": "code",
   "execution_count": 48,
   "metadata": {},
   "outputs": [
    {
     "name": "stdout",
     "output_type": "stream",
     "text": [
      "[stdout:0] Hello, I am 2 among 8 processes\n",
      "[stdout:1] Hello, I am 4 among 8 processes\n",
      "[stdout:2] Hello, I am 7 among 8 processes\n",
      "[stdout:3] Hello, I am 6 among 8 processes\n",
      "[stdout:4] Hello, I am 3 among 8 processes\n",
      "[stdout:5] Hello, I am 0 among 8 processes\n",
      "[stdout:6] Hello, I am 5 among 8 processes\n",
      "[stdout:7] Hello, I am 1 among 8 processes\n"
     ]
    }
   ],
   "source": [
    "%%px\n",
    "import numpy as np\n",
    "import bluefog.torch as bf\n",
    "import torch\n",
    "from bluefog.common import topology_util\n",
    "import networkx as nx\n",
    "import matplotlib.pyplot as plt\n",
    "%matplotlib inline\n",
    "\n",
    "bf.init()\n",
    "print(f\"Hello, I am {bf.rank()} among {bf.size()} processes\")"
   ]
  },
  {
   "cell_type": "markdown",
   "metadata": {},
   "source": [
    "Push seed to each agent so that the simulation can be reproduced."
   ]
  },
  {
   "cell_type": "code",
   "execution_count": 49,
   "metadata": {},
   "outputs": [
    {
     "data": {
      "text/plain": [
       "[None, None, None, None, None, None, None, None]"
      ]
     },
     "execution_count": 49,
     "metadata": {},
     "output_type": "execute_result"
    }
   ],
   "source": [
    "dview = rc[:] # A DirectView of all engines\n",
    "dview.block=True\n",
    "\n",
    "# Push the data into all workers\n",
    "dview.push({'seed': 2021}, block=True)"
   ]
  },
  {
   "cell_type": "markdown",
   "metadata": {},
   "source": [
    "After running the following code, you should be able to see the printed information like \n",
    "\n",
    "> \\[stdout:0\\] I received seed as value:  2021\n",
    "> \n",
    "> ..."
   ]
  },
  {
   "cell_type": "code",
   "execution_count": 50,
   "metadata": {},
   "outputs": [
    {
     "name": "stdout",
     "output_type": "stream",
     "text": [
      "[stdout:0] I received seed as value:  2021\n",
      "[stdout:1] I received seed as value:  2021\n",
      "[stdout:2] I received seed as value:  2021\n",
      "[stdout:3] I received seed as value:  2021\n",
      "[stdout:4] I received seed as value:  2021\n",
      "[stdout:5] I received seed as value:  2021\n",
      "[stdout:6] I received seed as value:  2021\n",
      "[stdout:7] I received seed as value:  2021\n"
     ]
    }
   ],
   "source": [
    "%%px\n",
    "print(\"I received seed as value: \", seed)"
   ]
  },
  {
   "cell_type": "markdown",
   "metadata": {},
   "source": [
    "Congratulations! Your BlueFog is initialized and tested successfully."
   ]
  },
  {
   "cell_type": "markdown",
   "metadata": {},
   "source": [
    "#### 3.2.4.2 Generate local data $A_i$ and $b_i$"
   ]
  },
  {
   "cell_type": "code",
   "execution_count": 51,
   "metadata": {},
   "outputs": [],
   "source": [
    "%%px\n",
    "\n",
    "def generate_data(m, n):\n",
    "    \n",
    "    A = torch.randn(m, n).to(torch.double)\n",
    "    x_o = torch.randn(n, 1).to(torch.double)\n",
    "    ns = 0.1*torch.randn(m, 1).to(torch.double)\n",
    "    b = A.mm(x_o) + ns\n",
    "        \n",
    "    return A, b"
   ]
  },
  {
   "cell_type": "markdown",
   "metadata": {},
   "source": [
    "#### 3.2.4.3 Distributed gradient descent method"
   ]
  },
  {
   "cell_type": "code",
   "execution_count": 52,
   "metadata": {},
   "outputs": [],
   "source": [
    "%%px\n",
    "\n",
    "def distributed_grad_descent(A, b, maxite=5000, alpha=1e-1):\n",
    "\n",
    "    x_opt = torch.zeros(n, 1, dtype=torch.double)\n",
    "\n",
    "    for _ in range(maxite):\n",
    "        # calculate local gradient \n",
    "        grad_local = A.t().mm(A.mm(x_opt) - b)\n",
    "        \n",
    "        # global gradient\n",
    "        grad = bf.allreduce(grad_local, name='gradient')\n",
    "\n",
    "        # distributed gradient descent\n",
    "        x_opt = x_opt - alpha*grad\n",
    "\n",
    "    grad_local = A.t().mm(A.mm(x_opt) - b)\n",
    "    grad = bf.allreduce(grad_local, name='gradient')  # global gradient\n",
    "\n",
    "    # evaluate the convergence of distributed gradient descent\n",
    "    # the norm of global gradient is expected to 0 (optimality condition)\n",
    "    global_grad_norm = torch.norm(grad, p=2)\n",
    "    if bf.rank() == 0:\n",
    "        print(\"[Distributed Grad Descent] Rank {}: global gradient norm: {}\".format(bf.rank(), global_grad_norm))\n",
    "\n",
    "    return x_opt"
   ]
  },
  {
   "cell_type": "markdown",
   "metadata": {},
   "source": [
    "In the following code we run distributed gradient descent to achieve the global solution $x^\\star$ to the optimization problem. To validate whether $x^\\star$ is optimal, it is enough to examine $\\frac{1}{n}\\sum_{i=1}^n \\nabla f_i(x^\\star) = 0$."
   ]
  },
  {
   "cell_type": "code",
   "execution_count": 53,
   "metadata": {},
   "outputs": [
    {
     "name": "stdout",
     "output_type": "stream",
     "text": [
      "[stdout:5] [Distributed Grad Descent] Rank 0: global gradient norm: 7.236065407667669e-15\n"
     ]
    }
   ],
   "source": [
    "%%px\n",
    "\n",
    "m, n = 20, 5\n",
    "A, b = generate_data(m, n)\n",
    "x_opt = distributed_grad_descent(A, b, maxite=200, alpha=1e-2)"
   ]
  },
  {
   "cell_type": "markdown",
   "metadata": {},
   "source": [
    "#### 3.2.4.3 Decentralized gradient descent method\n",
    "\n",
    "In this section, we depict the convergence curve of the decentralied gradient descent (the ATC version). We will utilize the $x^\\star$ achieved by distributed gradient descent as the optimal solution. First, we define one step of the ATC-DGD method."
   ]
  },
  {
   "cell_type": "code",
   "execution_count": 54,
   "metadata": {},
   "outputs": [],
   "source": [
    "%%px \n",
    "\n",
    "def ATC_DGD_one_step(x, x_opt, A, b, alpha=1e-2):\n",
    "    \n",
    "    # one-step ATC-DGD. \n",
    "    # The combination weights have been determined by the associated combination matrix.\n",
    "    \n",
    "    grad_local = A.t().mm(A.mm(x) - b)      # compute local grad\n",
    "    y = x - alpha*grad_local                # adapte\n",
    "    x_new = bf.neighbor_allreduce(y)        # combination\n",
    "    \n",
    "    # the relative error: |x^k-x_gloval_average|/|x_gloval_average|\n",
    "    rel_error = torch.norm(x_new-x_opt, p=2)/torch.norm(x_opt,p=2)\n",
    "\n",
    "    return x_new, rel_error"
   ]
  },
  {
   "cell_type": "markdown",
   "metadata": {},
   "source": [
    "Next we run ATC-DGD algorithm."
   ]
  },
  {
   "cell_type": "code",
   "execution_count": 75,
   "metadata": {},
   "outputs": [
    {
     "name": "stdout",
     "output_type": "stream",
     "text": [
      "[stdout:5] \n",
      "Progress 0/200\n",
      "Progress 10/200\n",
      "Progress 20/200\n",
      "Progress 30/200\n",
      "Progress 40/200\n",
      "Progress 50/200\n",
      "Progress 60/200\n",
      "Progress 70/200\n",
      "Progress 80/200\n",
      "Progress 90/200\n",
      "Progress 100/200\n",
      "Progress 110/200\n",
      "Progress 120/200\n",
      "Progress 130/200\n",
      "Progress 140/200\n",
      "Progress 150/200\n",
      "Progress 160/200\n",
      "Progress 170/200\n",
      "Progress 180/200\n",
      "Progress 190/200\n"
     ]
    }
   ],
   "source": [
    "%%px\n",
    "\n",
    "# Set topology as exponential-two topology.\n",
    "G = topology_util.ExponentialTwoGraph(bf.size())\n",
    "bf.set_topology(G)\n",
    "\n",
    "maxite = 200\n",
    "x = torch.zeros(n, 1, dtype=torch.double)     # Initialize x\n",
    "rel_error = torch.zeros((maxite, 1))\n",
    "for ite in range(maxite):\n",
    "    \n",
    "    if bf.rank()==0:\n",
    "        if ite%10 == 0:\n",
    "            print('Progress {}/{}'.format(ite, maxite))\n",
    "        \n",
    "    x, rel_error[ite] = ATC_DGD_one_step(x, x_opt, A, b, alpha=3e-3) # you can adjust alpha to different values"
   ]
  },
  {
   "cell_type": "markdown",
   "metadata": {},
   "source": [
    "In the following, we adjust step-size to differnt values to examine its influence on the convergence rate and limiting bias."
   ]
  },
  {
   "cell_type": "code",
   "execution_count": 66,
   "metadata": {},
   "outputs": [],
   "source": [
    "# collect relative error from node 0 for step-size 1e-2\n",
    "rel_error_exp2_alpha1em2 = dview.pull('rel_error', block=True, targets=0)"
   ]
  },
  {
   "cell_type": "code",
   "execution_count": 68,
   "metadata": {},
   "outputs": [],
   "source": [
    "# collect relative error from node 0 for step-size 5e-3\n",
    "rel_error_exp2_alpha5em3 = dview.pull('rel_error', block=True, targets=0)"
   ]
  },
  {
   "cell_type": "code",
   "execution_count": 76,
   "metadata": {},
   "outputs": [],
   "source": [
    "# collect relative error from node 0 for step-size 3e-3\n",
    "rel_error_exp2_alpha3em3 = dview.pull('rel_error', block=True, targets=0)"
   ]
  },
  {
   "cell_type": "code",
   "execution_count": 78,
   "metadata": {},
   "outputs": [
    {
     "data": {
      "text/plain": [
       "Text(0, 0.5, 'Relative error')"
      ]
     },
     "execution_count": 78,
     "metadata": {},
     "output_type": "execute_result"
    },
    {
     "data": {
      "image/png": "[encoded data removed]",
      "text/plain": [
       "<Figure size 432x288 with 1 Axes>"
      ]
     },
     "metadata": {
      "needs_background": "light"
     },
     "output_type": "display_data"
    }
   ],
   "source": [
    "import matplotlib.pyplot as plt\n",
    "%matplotlib inline\n",
    "\n",
    "plt.semilogy(rel_error_exp2_alpha1em2)\n",
    "plt.semilogy(rel_error_exp2_alpha5em3)\n",
    "plt.semilogy(rel_error_exp2_alpha3em3)\n",
    "\n",
    "plt.legend(['1e-2', '5e-3', '3e-3'], fontsize=16)\n",
    "\n",
    "plt.xlabel('Iteration', fontsize=16)\n",
    "plt.ylabel('Relative error', fontsize=16)"
   ]
  },
  {
   "cell_type": "markdown",
   "metadata": {},
   "source": [
    "It is observed from the above figures that smaller alpha can lead to more accuate solution, but the convergence rate will get slower. This observation is consistent with Eq. (DGD-Convergence)."
   ]
  },
  {
   "cell_type": "code",
   "execution_count": null,
   "metadata": {},
   "outputs": [],
   "source": []
  }
 ],
 "metadata": {
  "kernelspec": {
   "display_name": "Python 3",
   "language": "python",
   "name": "python3"
  },
  "language_info": {
   "codemirror_mode": {
    "name": "ipython",
    "version": 3
   },
   "file_extension": ".py",
   "mimetype": "text/x-python",
   "name": "python",
   "nbconvert_exporter": "python",
   "pygments_lexer": "ipython3",
   "version": "3.7.7"
  }
 },
 "nbformat": 4,
 "nbformat_minor": 4
}

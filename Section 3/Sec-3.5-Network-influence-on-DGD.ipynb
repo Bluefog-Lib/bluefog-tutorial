{
 "cells": [
  {
   "cell_type": "markdown",
   "metadata": {},
   "source": [
    "## 3.5 The Influence of Network Topologes\n",
    "\n",
    "In Sec. 3.2 and 3.3, it is established that both ATC-DGD and AWC-DGD suffers from a limiting bias:\n",
    "\n",
    "\\begin{align}\n",
    "\\limsup_{k\\to \\infty} \\frac{1}{n}\\sum_{i=1}^n \\|x_i^{(k)} - x^\\star \\|^2 = O\\Big( \\frac{\\alpha^2 \\rho^2 b^2}{(1-\\rho)^2}\\Big) \n",
    "\\end{align}\n",
    "\n",
    "where $x^\\star$ is the glboal solution to the optimization problem, $\\alpha$ is the step-size, $\\rho = \\max\\{|\\lambda_2(W), \\lambda_n(W)|\\}$ and $b^2 = \\frac{1}{n}\\sum_{i=1}^n \\|\\nabla f_i(x^\\star)\\|^2$ denotes the data heterogeneity between nodes. Quantity $1-\\rho$ measures the connectivity of the network topology. It is observed that $1-\\rho$ can siginificantly affects the limiting bias especially when $1-\\rho \\to 0$. This section will examine how different network topologies will affect the limiting bias of ATC-DGD.\n",
    "\n",
    "### 3.5.1 Connectivity and maximum degree of commonly-used topology  \n",
    "\n",
    "The following table, which we have discussed in Sec. 2.7, summarizes the connectivity (i.e., $1-\\rho$) and the maximum degree of some common network topologes. The combination matrix $W$ of the undirected topologies, i.e., the ring, 2D-mesh, and fully-connected topology, are generated through the Matropolis-Hastings  rule (see Sec. 2.3), while the combination matrix of exponential-2 topology (which is a directed network) is genereted through the Averaging rule (see Sec. 2.4). \n",
    "\n",
    "\n",
    "| Network topology | connectivity ($1-\\rho$) | maximum degree |\n",
    "| -: | :-: | :-: |\n",
    "| Undirected Ring | $O(\\frac{1}{n^2})$ | 2 |\n",
    "| Undirected 2D-Mesh | $O(\\frac{1}{n})$ | 4 |\n",
    "| Exponential-2 | $O(\\frac{1}{\\ln(n)})$ | $\\ln(n)$ |\n",
    "| Fully connected| $1$ |$n-1$ |  \n",
    "\n",
    "- **Connectivity**: the larger $1-\\rho$ is, the better the network connectivity is, and the smaller the limiting bias that DGD has. Generally speaking, dense network has better connectivity.\n",
    "\n",
    "\n",
    "- **Maximum degree:** Maximum degree influences the communicaiton efficiency of *one step* of the average consensus, i.e., $x_i^{k+1} = \\sum_{j=1}^n w_{ij} x_j^k$. Apparently, more non-zero $w_{ij}$'s imply more communications. In the extreme example of fully connected network, each agent will exchange information with $n-1$ neighbors to conduct avearging. In contrast, each agent in the undirected ring will only need to communicate with 2 neighbors to finish one update, which is more communication efficient. Generally speaking, sparse network has smaller maximum degree\n",
    "\n",
    "\n",
    "- **Trade-off:** If the network topology can be designed freely, the exponential-2 graph empically reaches a nice trade-off between per-iteration communicaiton efficiency and the convergence rate, see the Table above.\n",
    "\n",
    "### 3.5.2 Examine the influence of network topology on DGD\n",
    "\n",
    "In this section, we examine the influence of different network topologies on the limiting bias of DGD. The code is  the same as in Sec.3.2. The different is we will test ATC-DGD's performance with different topologies.\n",
    "\n",
    "#### 3.5.2.1 Set up BlueFog\n",
    "\n",
    "In the following code, you should be able to see the id of your CPUs. We use 8 CPUs to conduct the following experiment."
   ]
  },
  {
   "cell_type": "code",
   "execution_count": 1,
   "metadata": {},
   "outputs": [
    {
     "name": "stdout",
     "output_type": "stream",
     "text": [
      "[0, 1, 2, 3, 4, 5, 6, 7]\n"
     ]
    }
   ],
   "source": [
    "import ipyparallel as ipp\n",
    "import numpy as np\n",
    "import torch\n",
    "import networkx as nx\n",
    "import matplotlib.pyplot as plt\n",
    "%matplotlib inline\n",
    "\n",
    "rc = ipp.Client(profile='bluefog')\n",
    "print(rc.ids)\n",
    "dview = rc[:] # A DirectView of all engines\n",
    "dview.block=True"
   ]
  },
  {
   "cell_type": "code",
   "execution_count": 2,
   "metadata": {},
   "outputs": [
    {
     "name": "stdout",
     "output_type": "stream",
     "text": [
      "[stdout:0] Hello, I am 2 among 8 processes\n",
      "[stdout:1] Hello, I am 6 among 8 processes\n",
      "[stdout:2] Hello, I am 3 among 8 processes\n",
      "[stdout:3] Hello, I am 1 among 8 processes\n",
      "[stdout:4] Hello, I am 0 among 8 processes\n",
      "[stdout:5] Hello, I am 5 among 8 processes\n",
      "[stdout:6] Hello, I am 7 among 8 processes\n",
      "[stdout:7] Hello, I am 4 among 8 processes\n"
     ]
    }
   ],
   "source": [
    "%%px\n",
    "import numpy as np\n",
    "import bluefog.torch as bf\n",
    "import torch\n",
    "from bluefog.common import topology_util\n",
    "import networkx as nx\n",
    "import matplotlib.pyplot as plt\n",
    "%matplotlib inline\n",
    "\n",
    "bf.init()\n",
    "print(f\"Hello, I am {bf.rank()} among {bf.size()} processes\")"
   ]
  },
  {
   "cell_type": "code",
   "execution_count": 3,
   "metadata": {},
   "outputs": [
    {
     "data": {
      "text/plain": [
       "[None, None, None, None, None, None, None, None]"
      ]
     },
     "execution_count": 3,
     "metadata": {},
     "output_type": "execute_result"
    }
   ],
   "source": [
    "dview = rc[:] # A DirectView of all engines\n",
    "dview.block=True\n",
    "\n",
    "# Push the data into all workers\n",
    "dview.push({'seed': 2021}, block=True)"
   ]
  },
  {
   "cell_type": "code",
   "execution_count": 4,
   "metadata": {},
   "outputs": [
    {
     "name": "stdout",
     "output_type": "stream",
     "text": [
      "[stdout:0] I received seed as value:  2021\n",
      "[stdout:1] I received seed as value:  2021\n",
      "[stdout:2] I received seed as value:  2021\n",
      "[stdout:3] I received seed as value:  2021\n",
      "[stdout:4] I received seed as value:  2021\n",
      "[stdout:5] I received seed as value:  2021\n",
      "[stdout:6] I received seed as value:  2021\n",
      "[stdout:7] I received seed as value:  2021\n"
     ]
    }
   ],
   "source": [
    "%%px\n",
    "print(\"I received seed as value: \", seed)"
   ]
  },
  {
   "cell_type": "markdown",
   "metadata": {},
   "source": [
    "Congratulations! Your BlueFog is initialized and tested successfully."
   ]
  },
  {
   "cell_type": "markdown",
   "metadata": {},
   "source": [
    "#### 3.2.4.2 Generate local data $A_i$ and $b_i$"
   ]
  },
  {
   "cell_type": "code",
   "execution_count": 5,
   "metadata": {},
   "outputs": [],
   "source": [
    "%%px\n",
    "\n",
    "def generate_data(m, n, x_o):\n",
    "    \n",
    "    A = torch.randn(m, n).to(torch.double)\n",
    "#     x_o = torch.randn(n, 1).to(torch.double)\n",
    "    ns = 0.1*torch.randn(m, 1).to(torch.double)\n",
    "    b = A.mm(x_o) + ns\n",
    "        \n",
    "    return A, b"
   ]
  },
  {
   "cell_type": "markdown",
   "metadata": {},
   "source": [
    "#### 3.2.4.3 Distributed gradient descent method"
   ]
  },
  {
   "cell_type": "code",
   "execution_count": 6,
   "metadata": {},
   "outputs": [],
   "source": [
    "%%px\n",
    "\n",
    "def distributed_grad_descent(A, b, maxite=5000, alpha=1e-1):\n",
    "\n",
    "    x_opt = torch.zeros(n, 1, dtype=torch.double)\n",
    "\n",
    "    for _ in range(maxite):\n",
    "        # calculate local gradient \n",
    "        grad_local = A.t().mm(A.mm(x_opt) - b)\n",
    "        \n",
    "        # global gradient\n",
    "        grad = bf.allreduce(grad_local, name='gradient')\n",
    "\n",
    "        # distributed gradient descent\n",
    "        x_opt = x_opt - alpha*grad\n",
    "\n",
    "    grad_local = A.t().mm(A.mm(x_opt) - b)\n",
    "    grad = bf.allreduce(grad_local, name='gradient')  # global gradient\n",
    "\n",
    "    # evaluate the convergence of distributed gradient descent\n",
    "    # the norm of global gradient is expected to 0 (optimality condition)\n",
    "    global_grad_norm = torch.norm(grad, p=2)\n",
    "    if bf.rank() == 0:\n",
    "        print(\"[Distributed Grad Descent] Rank {}: global gradient norm: {}\".format(bf.rank(), global_grad_norm))\n",
    "\n",
    "    return x_opt"
   ]
  },
  {
   "cell_type": "markdown",
   "metadata": {},
   "source": [
    "In the following code we run distributed gradient descent to achieve the global solution $x^\\star$ to the optimization problem. To validate whether $x^\\star$ is optimal, it is enough to examine $\\frac{1}{n}\\sum_{i=1}^n \\nabla f_i(x^\\star) = 0$."
   ]
  },
  {
   "cell_type": "code",
   "execution_count": 7,
   "metadata": {},
   "outputs": [
    {
     "data": {
      "text/plain": [
       "[None, None, None, None, None, None, None, None]"
      ]
     },
     "execution_count": 7,
     "metadata": {},
     "output_type": "execute_result"
    }
   ],
   "source": [
    "m, n = 20, 5\n",
    "\n",
    "# jupyter engine generate a reference solution x_o and push it to each worker\n",
    "x_o = torch.randn(n, 1).to(torch.double)\n",
    "dview.push({'x_o': x_o}, block=True)"
   ]
  },
  {
   "cell_type": "code",
   "execution_count": 8,
   "metadata": {},
   "outputs": [
    {
     "name": "stdout",
     "output_type": "stream",
     "text": [
      "[stdout:4] [Distributed Grad Descent] Rank 0: global gradient norm: 1.2691123609414696e-14\n"
     ]
    }
   ],
   "source": [
    "%%px\n",
    "\n",
    "m, n = 20, 5\n",
    "A, b = generate_data(m, n, x_o)\n",
    "x_opt = distributed_grad_descent(A, b, maxite=300, alpha=1e-2)"
   ]
  },
  {
   "cell_type": "markdown",
   "metadata": {},
   "source": [
    "#### 3.2.4.3 Decentralized gradient descent method\n",
    "\n",
    "In this section, we depict the convergence curve of the decentralied gradient descent (the ATC version). We will utilize the $x^\\star$ achieved by distributed gradient descent as the optimal solution. First, we define one step of the ATC-DGD method."
   ]
  },
  {
   "cell_type": "code",
   "execution_count": 9,
   "metadata": {},
   "outputs": [],
   "source": [
    "%%px \n",
    "\n",
    "def ATC_DGD_one_step(x, x_opt, A, b, alpha=1e-2):\n",
    "    \n",
    "    # one-step ATC-DGD. \n",
    "    # The combination weights have been determined by the associated combination matrix.\n",
    "    \n",
    "    grad_local = A.t().mm(A.mm(x) - b)      # compute local grad\n",
    "    y = x - alpha*grad_local                # adapte\n",
    "    x_new = bf.neighbor_allreduce(y)        # combination\n",
    "    \n",
    "    # the relative error: |x^k-x_gloval_average|/|x_gloval_average|\n",
    "    rel_error = torch.norm(x_new-x_opt, p=2)/torch.norm(x_opt,p=2)\n",
    "\n",
    "    return x_new, rel_error"
   ]
  },
  {
   "cell_type": "markdown",
   "metadata": {},
   "source": [
    "Next we run ATC-DGD algorithm."
   ]
  },
  {
   "cell_type": "code",
   "execution_count": 14,
   "metadata": {},
   "outputs": [
    {
     "name": "stdout",
     "output_type": "stream",
     "text": [
      "[stdout:4] \n",
      "Progress 0/200\n",
      "Progress 10/200\n",
      "Progress 20/200\n",
      "Progress 30/200\n",
      "Progress 40/200\n",
      "Progress 50/200\n",
      "Progress 60/200\n",
      "Progress 70/200\n",
      "Progress 80/200\n",
      "Progress 90/200\n",
      "Progress 100/200\n",
      "Progress 110/200\n",
      "Progress 120/200\n",
      "Progress 130/200\n",
      "Progress 140/200\n",
      "Progress 150/200\n",
      "Progress 160/200\n",
      "Progress 170/200\n",
      "Progress 180/200\n",
      "Progress 190/200\n"
     ]
    }
   ],
   "source": [
    "%%px\n",
    "\n",
    "# uncomment the code if you want to use that topology\n",
    "G = topology_util.RingGraph(bf.size())           # Set topology as ring topology.\n",
    "# G = topology_util.ExponentialTwoGraph(bf.size()) # Set topology as exponential-two topology.\n",
    "bf.set_topology(G)\n",
    "\n",
    "maxite = 200\n",
    "x = torch.zeros(n, 1, dtype=torch.double)     # Initialize x\n",
    "rel_error = torch.zeros((maxite, 1))\n",
    "for ite in range(maxite):\n",
    "    \n",
    "    if bf.rank()==0:\n",
    "        if ite%10 == 0:\n",
    "            print('Progress {}/{}'.format(ite, maxite))\n",
    "        \n",
    "    x, rel_error[ite] = ATC_DGD_one_step(x, x_opt, A, b, alpha=3e-3) # you can adjust alpha to different values"
   ]
  },
  {
   "cell_type": "markdown",
   "metadata": {},
   "source": [
    "In the following, we adjust to differnt topologies to examine its influence on the convergence rate and limiting bias."
   ]
  },
  {
   "cell_type": "code",
   "execution_count": 15,
   "metadata": {},
   "outputs": [],
   "source": [
    "# uncomment one of the following code when corresponding graph is activated\n",
    "\n",
    "rel_error_ring = dview.pull('rel_error', block=True, targets=7)\n",
    "# rel_error_exp2 = dview.pull('rel_error', block=True, targets=7)"
   ]
  },
  {
   "cell_type": "code",
   "execution_count": 16,
   "metadata": {},
   "outputs": [
    {
     "data": {
      "text/plain": [
       "Text(0, 0.5, 'Relative error')"
      ]
     },
     "execution_count": 16,
     "metadata": {},
     "output_type": "execute_result"
    },
    {
     "data": {
      "image/png": "[encoded data removed]",
      "text/plain": [
       "<Figure size 432x288 with 1 Axes>"
      ]
     },
     "metadata": {
      "needs_background": "light"
     },
     "output_type": "display_data"
    }
   ],
   "source": [
    "import matplotlib.pyplot as plt\n",
    "%matplotlib inline\n",
    "\n",
    "plt.semilogy(rel_error_ring)\n",
    "plt.semilogy(rel_error_exp2)\n",
    "\n",
    "plt.legend(['Ring', 'Expo'], fontsize=16)\n",
    "\n",
    "plt.xlabel('Iteration', fontsize=16)\n",
    "plt.ylabel('Relative error', fontsize=16)"
   ]
  },
  {
   "cell_type": "markdown",
   "metadata": {},
   "source": [
    "It is observed that exponential-two graph enables DGD to converge to a more accurate solution due to its better-connected topology."
   ]
  }
 ],
 "metadata": {
  "kernelspec": {
   "display_name": "Python 3",
   "language": "python",
   "name": "python3"
  },
  "language_info": {
   "codemirror_mode": {
    "name": "ipython",
    "version": 3
   },
   "file_extension": ".py",
   "mimetype": "text/x-python",
   "name": "python",
   "nbconvert_exporter": "python",
   "pygments_lexer": "ipython3",
   "version": "3.8.5"
  }
 },
 "nbformat": 4,
 "nbformat_minor": 4
}

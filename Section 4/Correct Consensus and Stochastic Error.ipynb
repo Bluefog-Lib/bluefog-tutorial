{
 "cells": [
  {
   "cell_type": "markdown",
   "metadata": {
    "id": "7ed5530c266e"
   },
   "source": [
    "# Correct Consensus and Stochastic Error\n",
    "\n",
    "## Background\n",
    "\n",
    "Show the irreducible error of vanilla ATC algorithm + stochastic gradient\n",
    "\n",
    "## SVRG\n",
    " \n",
    "Algorithm correct the stochastic gradient noise\n",
    "\n",
    "## Exact Diffusion\n",
    "\n",
    "Correct the consensus error\n",
    "\n",
    "**Coding consideration**\n",
    "Maybe more advanced skill of Bluefog and torch usage?\n",
    "\n",
    "## Combined algorithm\n",
    "\n",
    "Correct both error"
   ]
  },
  {
   "cell_type": "markdown",
   "metadata": {
    "id": "ea042db43c85"
   },
   "source": [
    "The logistic problem discussed in Section 3 is an example of a finite sum problem. The finite sum problem is the minimization of an average of functions.\n",
    "\\begin{equation*}\n",
    "    f(x) = \\min_{x} \\frac{1}{M} \\sum_{i=1}^{M} f_i(x)\n",
    "\\end{equation*}\n",
    "In a machine learning setting where there is a set of $M$ data points, we can interpret this problem as minimizing the average of $M$ error functions $f_i$ evaluated at the corresponding $i$th data point. The logistic regression problem we solved was a special case where each $f_i$ is $L_i$-smooth and $f(x)$ is $\\mu$-strongly convex."
   ]
  },
  {
   "cell_type": "markdown",
   "metadata": {
    "id": "467e92148472"
   },
   "source": [
    "A common method of solving this problem is the Gradient Descent method. The gradient descent update can be written as follows:\n",
    "\\begin{equation*}\n",
    "    x^{(k)} = x^{(k -1)} - t_k \\frac{1}{M} \\sum_{i=1}^{M}\\nabla f_i(x^{(k-1)}), k = 1, 2, 3\n",
    "\\end{equation*}"
   ]
  },
  {
   "cell_type": "markdown",
   "metadata": {
    "id": "e3e266cf196c"
   },
   "source": [
    "It is known that the Gradient Descent method has the following properties:\n",
    "\n",
    "- Convergence rate: linear rate, $\\mathbb{O}((\\frac{\\kappa - 1}{\\kappa + 1})^{2k})$ where $\\kappa = \\frac{L}{\\mu}$ for $t = \\frac{2}{\\mu + L}$ \n",
    "- Iteration cost: $\\mathbb{O}(N)$ i.e $N$ gradients are computed at each iteration"
   ]
  },
  {
   "cell_type": "markdown",
   "metadata": {
    "id": "579bb7ec05fd"
   },
   "source": [
    "A problem with the Gradient Descent method is that the iteration cost is very high when the amount of data ($M$) is large. An alternative algorithm to Gradient Descent is Stochastic Gradient Descent (SGD). The idea of SGD is very simple. Instead of finding the gradient for all the objective functions we uniformly and randomly choose one to calculate the gradient and use in our update."
   ]
  },
  {
   "cell_type": "markdown",
   "metadata": {
    "id": "ea9fa4df40ba"
   },
   "source": [
    "We can express this formally. Let $I$ be a uniform discrete variable such that $\\mathbb{P}(I=i) = \\frac{1}{N}$. Then we have the following update rule:\n",
    "\\begin{equation}\n",
    "    x^{(k)} = x^{(k -1)} - t_k \\nabla f_{i_k}(x^{k-1}) \\; \\text{where} \\; k = 1, 2, 3, \\; i_k \\sim I\n",
    "\\end{equation}\n",
    "The corresponding error function $f_i$ for the iteration is chosen uniformly from the entire set of error functions $\\{i = 1,2,...,M\\}$. To be even more general, we can train in a batch setting. This means that at each iteration we uniformly sample a small batch $B \\subseteq \\{1,2, ..., M\\}$. The update in this case is\n",
    "\\begin{equation*}\n",
    "    x^{(k)} = x^{(k -1)} - t_k \\frac{1}{|B|} \\sum_{i \\in B}^{}\\nabla f_i(x^{(k-1)}), k = 1, 2, 3\n",
    "\\end{equation*}"
   ]
  },
  {
   "cell_type": "markdown",
   "metadata": {
    "id": "2478afd1a6d5"
   },
   "source": [
    "SGD works as the stochastic gradient is an unbiased estimator of the full gradient:\n",
    "\\begin{equation*}\n",
    "    \\mathbb{E} \\left[\\frac{1}{|B|}\\sum_{i \\in B}^{}\\nabla f_i(x^{k-1})\\right] = \\frac{1}{M}\\sum_{i=1}^{M}\\nabla f_i(x) = \\nabla g(x^{k-1})\n",
    "\\end{equation*}\n",
    "The problem with this type of update is that by randomly sampling $\\nabla f_i$ and using it as our gradient we can potentially use an estimator that has a large variance. This variance, unlike the bias of the estimator, does not converge to 0 with more iterations. As a result, noise is introduced that prevents the algorithm from converging quickly. A possible fix would be employ a decaying step size but for online problems this removes the adaptability of the model and also prevents linear convergence."
   ]
  },
  {
   "cell_type": "markdown",
   "metadata": {
    "id": "c43c00761710"
   },
   "source": [
    "Stochastic gradient descent satisfies:\n",
    "\n",
    "- Convergence rate: sub-linear rate $\\mathbb{O}$ $(\\frac{1}{t})$\n",
    "- Iteration cost: $\\mathbb{O}(1)$\n",
    "\n",
    "We want the linear rate of gradient descent with the iteration cost of stochastic gradient descent. Hence, we introduce variance reduced methods, a hybrid between the two."
   ]
  },
  {
   "cell_type": "markdown",
   "metadata": {
    "id": "af3de831bb07"
   },
   "source": [
    "We will now provide intuition on how variance reduction works. First, we consider an estimator X for a parameter $\\phi$. If X is an unbiased estimator, then we have $\\mathbb{E}[X] = \\phi$. Now we introduce a modified estimator: $Z:= X - Y$ where Y is a random variable such that $\\mathbb{E}[Y] = 0$. If that is the case, then the bias of $Z$ will be $0$ as $\\mathbb{E}[Z] = \\mathbb{E}[X] - \\mathbb{E}[Y] = \\phi$. The variance of $Z$ would be $Var(X-Y) = Var(X) + Var(Y) - 2Cov(X,Y)$ which can be much less than the variance of $X$ if the random variable $Y$ is highly correlated with $X$. This means that for an estimator $X$, we can reduce its variance by introducing a random variable $Y$ that satisfies\n",
    "\n",
    "- $\\mathbb{E}[Y]$ close to or exactly 0\n",
    "- a high correlation with the random variable $X$\n",
    "\n",
    "This idea will serve as the basis for SVRG."
   ]
  },
  {
   "cell_type": "markdown",
   "metadata": {
    "id": "5f1e85736e55"
   },
   "source": [
    "The SVRG algorithm works as follows. \n",
    "\n",
    " Parameters: update frequency n and learning rate t  \n",
    " Initialize $\\tilde{x}^{(0)}$  \n",
    " For k = 1,2,...   \n",
    "  &emsp;&emsp;$\\tilde{x}^{(k)} = \\tilde{x}^{(k-1)}$   \n",
    "  &emsp;&emsp;$\\tilde{d} = \\frac{1}{M} \\sum_{i=1}^{M} \\nabla f_i(\\tilde{x}^{(k)})$  \n",
    "  &emsp;&emsp;$x^{(0)} = \\tilde{x}^{(k)}$  \n",
    "  &emsp;For l = 1,2,...,z    \n",
    "  &emsp;&emsp;&emsp;&emsp;Sample a new $b$ from $\\{1,2,...,M\\}$  \n",
    "  &emsp;&emsp;&emsp;&emsp;Update: $x^{(l)} = x^{(l-1)} - \\gamma \\left( \\nabla f_b(x^{(l-1)}) - \\nabla f_b(\\tilde{x}^{(k)}) + \\tilde{d}\\right)$  \n",
    "  &emsp;&emsp;Update $\\tilde{x}^{(z)}$   \n",
    "  &emsp;&emsp;&emsp;&emsp;Option I: $\\tilde{x}^{(k)} = x^{(z)}$  \n",
    "  &emsp;&emsp;&emsp;&emsp;Option II: $\\tilde{x}^{(k)} = \\frac{1}{z} \\sum_{l = 1}^{z} x^{(l)}$  \n",
    "  &emsp;&emsp;&emsp;&emsp;Option III: $\\tilde{x}^{(k)} = x^{f}$ for random chosen $f \\in \\{1,2,...,z\\}$  "
   ]
  },
  {
   "cell_type": "code",
   "execution_count": 1,
   "metadata": {
    "id": "d6c6cb5db9ec"
   },
   "outputs": [],
   "source": [
    "import ipyparallel as ipp\n",
    "import numpy as np\n",
    "import torch\n",
    "import networkx as nx   # nx will be used for network topology creating and plotting\n",
    "import matplotlib.pyplot as plt\n",
    "from sklearn.preprocessing import normalize\n",
    "%matplotlib inline"
   ]
  },
  {
   "cell_type": "code",
   "execution_count": 2,
   "metadata": {
    "id": "488624aefcd0"
   },
   "outputs": [
    {
     "data": {
      "text/plain": [
       "[0, 1, 2, 3]"
      ]
     },
     "execution_count": 2,
     "metadata": {},
     "output_type": "execute_result"
    }
   ],
   "source": [
    "rc = ipp.Client(profile='bluefog')\n",
    "rc.ids"
   ]
  },
  {
   "cell_type": "code",
   "execution_count": 3,
   "metadata": {
    "id": "a1f28a9ef253"
   },
   "outputs": [
    {
     "name": "stdout",
     "output_type": "stream",
     "text": [
      "[stdout:0] Hello, I am 0 among 4 processes\n",
      "[stdout:1] Hello, I am 2 among 4 processes\n",
      "[stdout:2] Hello, I am 1 among 4 processes\n",
      "[stdout:3] Hello, I am 3 among 4 processes\n"
     ]
    }
   ],
   "source": [
    "%%px\n",
    "import numpy as np\n",
    "import bluefog.torch as bf\n",
    "import torch\n",
    "from bluefog.common import topology_util\n",
    "import networkx as nx\n",
    "from sklearn.preprocessing import normalize\n",
    "\n",
    "bf.init()\n",
    "print(f\"Hello, I am {bf.rank()} among {bf.size()} processes\")"
   ]
  },
  {
   "cell_type": "markdown",
   "metadata": {
    "id": "69ed3aeb272c"
   },
   "source": [
    "We will reuse the functions from Section 3 that were used to build a logistic regression model. Since we are going to compare Gradient Descent (GD), Stochastic Gradient Descent (SGD), and Stochastic Variance-Reduced Gradient Descent (SVRG), we will not use multiple processes and instead run it on a single process."
   ]
  },
  {
   "cell_type": "code",
   "execution_count": 4,
   "metadata": {
    "id": "a257e8daacd1"
   },
   "outputs": [],
   "source": [
    "# Implement functions for logistic regression.\n",
    "\n",
    "def sigmoid(x):\n",
    "    '''Return the output of the sigmoid function.\n",
    "    Args:\n",
    "     - x (torch tensor): Input that we want to apply the sigmoid function on.\n",
    "    Return:\n",
    "    - Return a torch tensor of the output \n",
    "        \n",
    "    '''\n",
    "    return 1.0 / (1.0 + torch.exp(-x))\n",
    "\n",
    "def obj(w, X, y, reg):\n",
    "    '''Output of the objective function of logistic regression.\n",
    "    Args:\n",
    "     - w (torch tensor): Parameter.\n",
    "     - X (torch tensor): Data.\n",
    "     - y (torch tensor): Labels.\n",
    "     - reg (float): Regularization parameter.\n",
    "    Return:\n",
    "     - Returns a float of the value of the objective function.\n",
    "    '''\n",
    "    M, _ = X.shape\n",
    "    return 1/M * torch.sum(torch.log(1 + torch.exp(-y * X @ w))) + 1/2 * reg * w.T @ w \n",
    "\n",
    "def grad(w, X_batch, y_batch, reg):\n",
    "    '''Output of the gradient for the logistic regression.\n",
    "    Args:\n",
    "     - w (torch tensor): Parameter.\n",
    "     - X_batch (torch tensor): Batch of data gradient is calculated on.\n",
    "     - y_batch (torch tensor): Labels.\n",
    "     - reg (float): Regularization parameter.\n",
    "    Return:\n",
    "     - Returns a torch tensor that is the gradient for the data and parameters provided.\n",
    "    '''\n",
    "    M_batch, _ = X_batch.shape\n",
    "    return 1/M_batch * X_batch.T @ (y_batch * (sigmoid(y_batch * X_batch @ w) - 1)) + reg * w"
   ]
  },
  {
   "cell_type": "code",
   "execution_count": 5,
   "metadata": {
    "id": "90832efa99e9"
   },
   "outputs": [],
   "source": [
    "dview = rc[:] # A DirectView of all engines\n",
    "dview.block=True"
   ]
  },
  {
   "cell_type": "code",
   "execution_count": 6,
   "metadata": {
    "id": "47a3406ed484"
   },
   "outputs": [
    {
     "data": {
      "text/plain": [
       "[None, None, None, None]"
      ]
     },
     "execution_count": 6,
     "metadata": {},
     "output_type": "execute_result"
    }
   ],
   "source": [
    "dview.push({'sigmoid': sigmoid, 'obj': obj, 'grad': grad})"
   ]
  },
  {
   "cell_type": "markdown",
   "metadata": {
    "id": "a98bc62c3355"
   },
   "source": [
    "In the following cell, we generate synthetic data for us to train our logistic regression model on much like the previous section. However, two key distinctions are that we increased the dimensions and all the data is on one process."
   ]
  },
  {
   "cell_type": "code",
   "execution_count": 7,
   "metadata": {
    "id": "a636f087f1a6"
   },
   "outputs": [],
   "source": [
    "# Generate the data for each worker. Each worker will have data from a different distribution.\n",
    "\n",
    "M = 10000     # N (int) := Number of data points.\n",
    "dim = 25    # dim (int) := Dimension of a data point.\n",
    "reg = 1e-4     # reg (float) := Regularization parameter.\n",
    "np.random.seed(0)     # Set seed.\n",
    "torch.manual_seed(0)     # Set seed.\n",
    "\n",
    "\n",
    "w_param = np.random.multivariate_normal([0.0]*dim, np.eye(dim), 1).T     # w (np.array) := Parameters of size (dim, 1).\n",
    "X = np.random.multivariate_normal([0.0]*dim, np.eye(dim), size = M)     # X (np.array) := Data of size (M, dim).\n",
    "X = normalize(X, axis = 1, norm = 'l2')     # Normalize the data.\n",
    "y = 2 * (np.random.uniform(size = (M, 1)) < 1.0 / (1.0 + np.exp(X @ w_param))) - 1 # y (np.array) := Labels of data of size (M, 1).\n",
    "\n",
    "# Convert the data into tensors.\n",
    "w_param_tensor = torch.Tensor(w_param).to(torch.float32)\n",
    "X_tensor = torch.Tensor(X).to(torch.float32)\n",
    "y_tensor = torch.Tensor(y).to(torch.float32)"
   ]
  },
  {
   "cell_type": "markdown",
   "metadata": {
    "id": "6e1eaedb915f"
   },
   "source": [
    "We first establish the Lipshitz constant for the Logistic Regression problem that is used to determine the step-size for Gradient Descent."
   ]
  },
  {
   "cell_type": "code",
   "execution_count": 8,
   "metadata": {
    "id": "609ca3ecf9c2"
   },
   "outputs": [],
   "source": [
    "L = reg + 1/4"
   ]
  },
  {
   "cell_type": "markdown",
   "metadata": {
    "id": "f78ab9aa23c0"
   },
   "source": [
    "We use GD for many iterations to find the optimal solution. We confirm the optimality of the solution by checking the L2-norm of the gradient."
   ]
  },
  {
   "cell_type": "code",
   "execution_count": 9,
   "metadata": {
    "id": "5423d00e0aa8"
   },
   "outputs": [
    {
     "name": "stdout",
     "output_type": "stream",
     "text": [
      "L2-Norm of the Gradient 2.99185280994152e-08\n"
     ]
    }
   ],
   "source": [
    "w_opt = torch.zeros(dim , 1)\n",
    "for i in range(10000):\n",
    "    w_opt = w_opt - 2 / (L + reg) * grad(w_opt, X_tensor, y_tensor, reg)\n",
    "    \n",
    "print(f\"L2-Norm of the Gradient {torch.norm(grad(w_opt, X_tensor, y_tensor, reg), p=2)}\")"
   ]
  },
  {
   "cell_type": "markdown",
   "metadata": {
    "id": "20a8afd5cecb"
   },
   "source": [
    "Full Gradient Descent (GD)  \n",
    "\n",
    "Here our goal is to run GD, SGD, and SVRG for the same number of iterations in order to compare performance in terms of number of epochs and accuracy. An epoch is one pass through the data. The accuracy is measured in terms of MSE "
   ]
  },
  {
   "cell_type": "code",
   "execution_count": 10,
   "metadata": {
    "id": "06a4a0512568"
   },
   "outputs": [],
   "source": [
    "w_GD = torch.zeros(dim , 1)\n",
    "MSE_GD = []\n",
    "for i in range(50):\n",
    "    MSE_GD.append(torch.norm(w_opt - w_GD, p=2))\n",
    "    w_GD = w_GD - 2 / (L + reg) * grad(w_GD, X_tensor, y_tensor, reg)"
   ]
  },
  {
   "cell_type": "code",
   "execution_count": 11,
   "metadata": {
    "id": "2527285f627b"
   },
   "outputs": [],
   "source": [
    "w_SGD = torch.zeros(dim, 1)\n",
    "MSE_SGD = []\n",
    "batch_size = 50\n",
    "iters = int(M/batch_size)\n",
    "for i in range(50):\n",
    "    \n",
    "    MSE_SGD.append(torch.norm(w_opt - w_SGD, p=2))\n",
    "    \n",
    "    for j in range(iters):\n",
    "        rand_idx = torch.randint(0, M-1, (batch_size, ))\n",
    "        X_batch = X_tensor[rand_idx, :]\n",
    "        y_batch = y_tensor[rand_idx]\n",
    "        w_SGD = w_SGD - 0.1 / (reg*(j+100)) * grad(w_SGD, X_batch, y_batch, reg)"
   ]
  },
  {
   "cell_type": "code",
   "execution_count": 12,
   "metadata": {
    "id": "4500878a0644"
   },
   "outputs": [],
   "source": [
    "w_SVRG = torch.zeros(dim, 1)\n",
    "batch_size = 50\n",
    "iters = int(M/batch_size)\n",
    "MSE_SVRG = []\n",
    "passes_SVRG = []\n",
    "for i in range(25):\n",
    "    passes_SVRG.append(i*2)\n",
    "    MSE_SVRG.append(torch.norm(w_opt - w_SVRG, p=2))\n",
    "    MSE_SVRG.append(torch.norm(w_opt - w_SVRG, p=2))\n",
    "    w_old = w_SVRG\n",
    "    gradient_control = grad(w_old, X_tensor, y_tensor, reg)\n",
    "    passes_SVRG.append(i*2+1)\n",
    "    \n",
    "    for j in range(iters):\n",
    "        rand_idx = torch.randint(0, M-1, (batch_size, ))\n",
    "        X_batch = X_tensor[rand_idx, :]\n",
    "        y_batch = y_tensor[rand_idx]\n",
    "        w_SVRG = w_SVRG - 1 / L * (grad(w_SVRG, X_batch, y_batch, reg) - grad(w_old, X_batch, y_batch, reg) + gradient_control)"
   ]
  },
  {
   "cell_type": "code",
   "execution_count": 13,
   "metadata": {
    "id": "d357bd5f87c0"
   },
   "outputs": [
    {
     "data": {
      "text/plain": [
       "Text(0, 0.5, 'MSE')"
      ]
     },
     "execution_count": 13,
     "metadata": {},
     "output_type": "execute_result"
    },
    {
     "data": {
      "image/png": "[encoded data removed]",
      "text/plain": [
       "<Figure size 720x360 with 1 Axes>"
      ]
     },
     "metadata": {
      "needs_background": "light"
     },
     "output_type": "display_data"
    }
   ],
   "source": [
    "fig = plt.figure(figsize=(10,5))\n",
    "ax = plt.axes()\n",
    "ax.semilogy(range(len(MSE_GD)), MSE_GD, color = 'purple', label='GD')\n",
    "ax.semilogy(range(len(MSE_SGD)), MSE_SGD, color = 'blue', label='SGD')\n",
    "ax.semilogy(range(len(MSE_SVRG)), MSE_SVRG, color = 'red', label='SVRG')\n",
    "plt.legend()\n",
    "plt.xlabel('Epochs')\n",
    "plt.ylabel('MSE')"
   ]
  },
  {
   "cell_type": "markdown",
   "metadata": {
    "id": "bb52b75b8aaf"
   },
   "source": [
    "Recall the aggregrate optimization problem presented in Section 3 where we considered N workers: \n",
    "\n",
    "$$\\min_w J(w) := \\sum_{n=1}^{N} g_n(w)$$\n",
    "\n",
    "A more general form of this problem is\n",
    "\n",
    "$$\\min_w J(w) := \\sum_{n=1}^{N} q_n g_n(w)$$ where $$\\sum_{n=1}^{N} q_n = 1$$\n",
    "\n",
    "Consensus and diffusion strategies for solving this problem converges with some bias towards the optimal solution. The source of this bias is not the gradient noise from the use of stochastic approximations which, as discuessed earlier, can be corrected through variance reduction techniques. Rather this bias comes from the inherent structure of the diffusion and consensus updates. To correct this for the diffusion approach, we use Exact Diffusion. Exact diffusion follows the following structure:\n",
    "\n",
    "Setting: Let $\\bar{A} = \\frac{(I_N + A)}{2}$ where $A$ is the adjacency matrix and $I_N$ is the identity matrix of size $N \\times N$. Let $w_{n,-1}$ be set arbitrarily where $n$ is the index of the worker. Set $\\psi_{n, -1} = w_{n, -1}$. Let $\\mu_n = \\frac{q_n \\mu_0}{p_n}$. $p_n = \\frac{q_n/\\mu_n}{\\sum_{l=1}^{N}q_l/\\mu_l}$ and $\\mu_n = (\\frac{q_n}{p_n}\\mu_0)$ where $\\mu_0>0$ is a small step-size.  \n",
    "\n",
    "Repeat for i=0,1,2,...  \n",
    "\n",
    "$\\psi_{n,i} = w_{n, i-1} - \\mu_n \\nabla g_n(w_{n, i-1})$ (Adaptation)  \n",
    "$\\phi_{n,i} = \\psi_{n,i} + w_{n,i-1} - \\psi_{n, i-1}$ (Correction)  \n",
    "$w_{n,i} = \\sum_{l \\in \\mathbb{N}_n} \\bar{a}_{ln}\\phi_{l, i}$ (Combination)"
   ]
  },
  {
   "cell_type": "code",
   "execution_count": 14,
   "metadata": {
    "id": "ae0ce182295d"
   },
   "outputs": [],
   "source": [
    "%%px \n",
    "\n",
    "# Generate the data for each worker. Each worker will have data from a different distribution.\n",
    "\n",
    "M = 8000     # N (int) := Number of data points.\n",
    "dim = 10     # dim (int) := Dimension of a data point.\n",
    "reg = 1e-4     # reg (float) := Regularization parameter.\n",
    "np.random.seed(0)     # Set seed.\n",
    "torch.manual_seed(0)     # Set seed.\n",
    "\n",
    "\n",
    "w_param = np.random.multivariate_normal([0.0]*dim, np.eye(dim), 1).T     # w (np.array) := Parameters of size (dim, 1).\n",
    "# X = np.random.multivariate_normal([float(bf.rank())]*dim, np.eye(dim), size = M)     # X (np.array) := Data of size (M, dim).\n",
    "X = np.random.multivariate_normal([0.0]*dim, np.eye(dim), size = M) \n",
    "X = normalize(X, axis = 1, norm = 'l2')     # Normalize the data.\n",
    "y = 2 * (np.random.uniform(size = (M, 1)) < 1.0 / (1.0 + np.exp(X @ w_param))) - 1 # y (np.array) := Labels of data of size (M, 1).\n",
    "\n",
    "# Convert the data into tensors.\n",
    "w_param_tensor = torch.Tensor(w_param).to(torch.float32)\n",
    "X_tensor = torch.Tensor(X).to(torch.float32)\n",
    "y_tensor = torch.Tensor(y).to(torch.float32)"
   ]
  },
  {
   "cell_type": "code",
   "execution_count": 15,
   "metadata": {
    "id": "87ac24625a13"
   },
   "outputs": [],
   "source": [
    "%%px\n",
    "\n",
    "# Create a distributed gradient descent function that is equivalent to centralized gradient descent.\n",
    "def distributed_grad_descent(X, y, reg=1e-4, maxite=10000, step_size=1e-1):\n",
    "    M, dim = X.shape\n",
    "    w_opt = 0.001 * torch.randn((dim, 1))\n",
    "    for i in range(maxite):\n",
    "        # Calculate local gradient.\n",
    "        grad_iter = grad(w_opt, X, y, reg)\n",
    "        # Use local gradient to calculate global gradient.\n",
    "        gradient = bf.allreduce(grad_iter)\n",
    "        \n",
    "        # Distributed gradient descent.\n",
    "        w_opt = w_opt - step_size * gradient\n",
    "    print(f\"[DG] Rank {bf.rank()}: Global Gradient Norm: {torch.norm(gradient, p=2)}\")\n",
    "    return w_opt"
   ]
  },
  {
   "cell_type": "code",
   "execution_count": 16,
   "metadata": {
    "id": "de160d0ee4e7"
   },
   "outputs": [
    {
     "name": "stdout",
     "output_type": "stream",
     "text": [
      "[stdout:0] \n",
      "[DG] Rank 0: Global Gradient Norm: 1.6457101992273238e-06\n",
      "tensor([[-1.7794],\n",
      "        [-0.3855],\n",
      "        [-0.8945],\n",
      "        [-2.2765],\n",
      "        [-1.7099],\n",
      "        [ 1.0551],\n",
      "        [-0.9216],\n",
      "        [ 0.0216],\n",
      "        [ 0.1668],\n",
      "        [-0.3453]])\n",
      "[stdout:1] \n",
      "[DG] Rank 2: Global Gradient Norm: 1.6457101992273238e-06\n",
      "tensor([[-1.7794],\n",
      "        [-0.3855],\n",
      "        [-0.8945],\n",
      "        [-2.2765],\n",
      "        [-1.7099],\n",
      "        [ 1.0551],\n",
      "        [-0.9216],\n",
      "        [ 0.0216],\n",
      "        [ 0.1668],\n",
      "        [-0.3453]])\n",
      "[stdout:2] \n",
      "[DG] Rank 1: Global Gradient Norm: 1.6457101992273238e-06\n",
      "tensor([[-1.7794],\n",
      "        [-0.3855],\n",
      "        [-0.8945],\n",
      "        [-2.2765],\n",
      "        [-1.7099],\n",
      "        [ 1.0551],\n",
      "        [-0.9216],\n",
      "        [ 0.0216],\n",
      "        [ 0.1668],\n",
      "        [-0.3453]])\n",
      "[stdout:3] \n",
      "[DG] Rank 3: Global Gradient Norm: 1.6457101992273238e-06\n",
      "tensor([[-1.7794],\n",
      "        [-0.3855],\n",
      "        [-0.8945],\n",
      "        [-2.2765],\n",
      "        [-1.7099],\n",
      "        [ 1.0551],\n",
      "        [-0.9216],\n",
      "        [ 0.0216],\n",
      "        [ 0.1668],\n",
      "        [-0.3453]])\n"
     ]
    }
   ],
   "source": [
    "%%px\n",
    "\n",
    "# Find the optimal solution.\n",
    "w_opt = distributed_grad_descent(X_tensor, y_tensor)\n",
    "\n",
    "print(w_opt)"
   ]
  },
  {
   "cell_type": "code",
   "execution_count": 17,
   "metadata": {
    "id": "cff718f33b49"
   },
   "outputs": [
    {
     "data": {
      "image/png": "[encoded data removed]",
      "text/plain": [
       "<Figure size 432x288 with 1 Axes>"
      ]
     },
     "metadata": {},
     "output_type": "display_data"
    }
   ],
   "source": [
    "# Generate topology.\n",
    "\n",
    "# Plot figure\n",
    "%px G = topology_util.ExponentialTwoGraph(bf.size())\n",
    "\n",
    "G_0 = dview.pull('G', block=True, targets=0)\n",
    "nx.draw_circular(G_0)"
   ]
  },
  {
   "cell_type": "code",
   "execution_count": 18,
   "metadata": {
    "id": "59409e912350"
   },
   "outputs": [
    {
     "name": "stdout",
     "output_type": "stream",
     "text": [
      "[stdout:0] \n",
      "self weights: 0.3333333333333333\n",
      "\n",
      "neighbor weights:\n",
      "2 0.3333333333333333\n",
      "3 0.3333333333333333\n",
      "self weights: 0.6666666666666666\n",
      "\n",
      "neighbor weights:\n",
      "2 0.16666666666666666\n",
      "3 0.16666666666666666\n"
     ]
    }
   ],
   "source": [
    "%%px\n",
    "\n",
    "# set topology as exponetial-2 graph\n",
    "bf.set_topology(G)\n",
    "topology = bf.load_topology()\n",
    "self_weight, neighbor_weights = topology_util.GetRecvWeights(topology, bf.rank())\n",
    "\n",
    "# scale weights\n",
    "if bf.rank() == 0:\n",
    "    print('self weights: {}\\n'.format(self_weight))\n",
    "    print('neighbor weights:')\n",
    "    for k, v in neighbor_weights.items():\n",
    "        print(k, v)\n",
    "        \n",
    "self_weight = (self_weight+1)/2\n",
    "for k, v in neighbor_weights.items():\n",
    "    neighbor_weights[k] = v/2\n",
    "    \n",
    "if bf.rank() == 0:\n",
    "    print('self weights: {}\\n'.format(self_weight))\n",
    "    print('neighbor weights:')\n",
    "    for k, v in neighbor_weights.items():\n",
    "        print(k, v)"
   ]
  },
  {
   "cell_type": "code",
   "execution_count": 19,
   "metadata": {
    "id": "8fe8ae25c3c2"
   },
   "outputs": [],
   "source": [
    "%%px\n",
    "\n",
    "def exact_diffusion(X, y, w_opt, w=None, psi=None, phi=None, batch_size=500, reg=1e-4, alpha=0.1):\n",
    "    '''Perform one iteration of Exact Diffusion.\n",
    "    Args:\n",
    "     - X (torch tensor): Data.\n",
    "     - y (torch tensor): Labels.\n",
    "     - w_opt (torch tensor): Optimal parameters.\n",
    "     - w (torch tensor): Parameter.\n",
    "     - psi (torch tensor): Adaptation parameter.\n",
    "     - phi (torch tensor): Correction parameter.\n",
    "     - batch_size(int): Size of batch.\n",
    "     - reg (float): Regularization parameter.\n",
    "     - alpha (float): Step-size parameter.\n",
    "    Return:\n",
    "     - w (torch tensor)\n",
    "    '''\n",
    "    M, dim = X.shape\n",
    "    \n",
    "    if w is None:\n",
    "        w = torch.zeros(dim, 1)\n",
    "    \n",
    "    if psi is None:\n",
    "        psi = w.clone()\n",
    "    \n",
    "    if phi is None:\n",
    "        phi = w.clone()\n",
    "        \n",
    "    psi_old = psi.clone()\n",
    "\n",
    "        \n",
    "#     rand_idx = torch.randint(0, M-1, (batch_size, ))\n",
    "#     X_batch = X[rand_idx, :]\n",
    "#     y_batch = y[rand_idx]\n",
    "    \n",
    "    psi = w - alpha * grad(w, X, y, reg)\n",
    "    phi = psi + w - psi_old\n",
    "    w = bf.neighbor_allreduce(phi, self_weight, neighbor_weights)\n",
    "    \n",
    "    dist = torch.norm(w - w_opt, p=2)/torch.norm(w_opt, p=2)\n",
    "    averaged_relative_error = bf.allreduce(dist**2, average=True)\n",
    "    \n",
    "    return w, psi, phi, torch.sqrt(averaged_relative_error)"
   ]
  },
  {
   "cell_type": "code",
   "execution_count": 20,
   "metadata": {
    "id": "911b0853f4b6"
   },
   "outputs": [
    {
     "name": "stdout",
     "output_type": "stream",
     "text": [
      "Progress 0/5000\n",
      "Progress 100/5000\n",
      "Progress 200/5000\n",
      "Progress 300/5000\n",
      "Progress 400/5000\n",
      "Progress 500/5000\n",
      "Progress 600/5000\n",
      "Progress 700/5000\n",
      "Progress 800/5000\n",
      "Progress 900/5000\n",
      "Progress 1000/5000\n",
      "Progress 1100/5000\n",
      "Progress 1200/5000\n",
      "Progress 1300/5000\n",
      "Progress 1400/5000\n",
      "Progress 1500/5000\n",
      "Progress 1600/5000\n",
      "Progress 1700/5000\n",
      "Progress 1800/5000\n",
      "Progress 1900/5000\n",
      "Progress 2000/5000\n",
      "Progress 2100/5000\n",
      "Progress 2200/5000\n",
      "Progress 2300/5000\n",
      "Progress 2400/5000\n",
      "Progress 2500/5000\n",
      "Progress 2600/5000\n",
      "Progress 2700/5000\n",
      "Progress 2800/5000\n",
      "Progress 2900/5000\n",
      "Progress 3000/5000\n",
      "Progress 3100/5000\n",
      "Progress 3200/5000\n",
      "Progress 3300/5000\n",
      "Progress 3400/5000\n",
      "Progress 3500/5000\n",
      "Progress 3600/5000\n",
      "Progress 3700/5000\n",
      "Progress 3800/5000\n",
      "Progress 3900/5000\n",
      "Progress 4000/5000\n",
      "Progress 4100/5000\n",
      "Progress 4200/5000\n",
      "Progress 4300/5000\n",
      "Progress 4400/5000\n",
      "Progress 4500/5000\n",
      "Progress 4600/5000\n",
      "Progress 4700/5000\n",
      "Progress 4800/5000\n",
      "Progress 4900/5000\n"
     ]
    }
   ],
   "source": [
    "# Run the Exact Diffusion\n",
    "\n",
    "maxite = 5000\n",
    "relative_error = torch.zeros((maxite, 1))\n",
    "%px w = None\n",
    "%px psi = None\n",
    "%px phi = None\n",
    "for ite in range(maxite):\n",
    "    \n",
    "    if ite%100 == 0:\n",
    "        print('Progress {}/{}'.format(ite, maxite))\n",
    "    \n",
    "    %px w, psi, phi, relative_error_ite = exact_diffusion(X_tensor, y_tensor, w_opt, w=w, psi=psi, phi=phi, batch_size=M)\n",
    "    relative_error[ite] = dview.pull('relative_error_ite', block=True, targets=0)"
   ]
  },
  {
   "cell_type": "code",
   "execution_count": 21,
   "metadata": {
    "id": "898940e25a51"
   },
   "outputs": [
    {
     "data": {
      "text/plain": [
       "[<matplotlib.lines.Line2D at 0x7fd3eb1cb280>]"
      ]
     },
     "execution_count": 21,
     "metadata": {},
     "output_type": "execute_result"
    },
    {
     "data": {
      "image/png": "[encoded data removed]",
      "text/plain": [
       "<Figure size 720x360 with 1 Axes>"
      ]
     },
     "metadata": {
      "needs_background": "light"
     },
     "output_type": "display_data"
    }
   ],
   "source": [
    "fig = plt.figure(figsize=(10,5))\n",
    "ax = plt.axes()\n",
    "ax.semilogy(range(len(relative_error)), relative_error, color = 'purple')"
   ]
  },
  {
   "cell_type": "code",
   "execution_count": 26,
   "metadata": {
    "id": "6ffa37d05d17"
   },
   "outputs": [],
   "source": [
    "%%px\n",
    "def obj_autograd(w, X, y, reg):\n",
    "    '''Output of the objective function of logistic regression.\n",
    "    Args:\n",
    "     - w (torch tensor): Parameter.\n",
    "     - X (torch tensor): Data.\n",
    "     - y (torch tensor): Labels.\n",
    "     - reg (float): Regularization parameter.\n",
    "    Return:\n",
    "     - Returns a float of the value of the objective function.\n",
    "    '''\n",
    "    M, _ = X.shape\n",
    "    loss = 1/M * torch.sum(torch.log(1 + torch.exp(-y * X @ w))) + 1/2 * reg * w.T @ w \n",
    "    loss.backward()\n",
    "    \n",
    "def exact_diffusion(X,y,w_opt,reg,maxite=5000, alpha=1e-1):\n",
    "    M, dim = X.shape\n",
    "    w = torch.zeros(dim, 1, requires_grad=True)\n",
    "    phi, psi, psi_prev = w.data, w.data, w.data\n",
    "    relative_error = []\n",
    "\n",
    "    for i in range(maxite):\n",
    "        # calculate local gradient via pytorch autograd\n",
    "        obj_autograd(w, X, y, reg)\n",
    "\n",
    "        # exact diffusion\n",
    "        with torch.no_grad():\n",
    "            psi = w.data - alpha * w.grad.data\n",
    "            phi = psi + w.data - psi_prev\n",
    "            w.data = bf.neighbor_allreduce(\n",
    "                phi, self_weight, neighbor_weights, name='local variable')\n",
    "            psi_prev = psi.clone()\n",
    "            w.grad.data.zero_()\n",
    "\n",
    "            dist = torch.norm(w.data - w_opt, p=2)/torch.norm(w_opt, p=2)\n",
    "            averaged_relative_error = bf.allreduce(dist**2, average=True)\n",
    "            relative_error.append(torch.sqrt(averaged_relative_error))\n",
    "\n",
    "    return w, relative_error"
   ]
  },
  {
   "cell_type": "code",
   "execution_count": 27,
   "metadata": {
    "id": "3b336fe1ca2f"
   },
   "outputs": [],
   "source": [
    "%%px\n",
    "\n",
    "w, relative_error_new = exact_diffusion(X_tensor, y_tensor, w_opt, 1e-4)"
   ]
  },
  {
   "cell_type": "code",
   "execution_count": 28,
   "metadata": {
    "id": "dabffb698a06"
   },
   "outputs": [],
   "source": [
    "relative_error_new = dview.pull('relative_error_new', block=True, targets=0)"
   ]
  },
  {
   "cell_type": "code",
   "execution_count": 29,
   "metadata": {
    "id": "6eedee2ed1f5"
   },
   "outputs": [
    {
     "data": {
      "text/plain": [
       "[<matplotlib.lines.Line2D at 0x7fd4017ab760>]"
      ]
     },
     "execution_count": 29,
     "metadata": {},
     "output_type": "execute_result"
    },
    {
     "data": {
      "image/png": "[encoded data removed]",
      "text/plain": [
       "<Figure size 720x360 with 1 Axes>"
      ]
     },
     "metadata": {
      "needs_background": "light"
     },
     "output_type": "display_data"
    }
   ],
   "source": [
    "fig = plt.figure(figsize=(10,5))\n",
    "ax = plt.axes()\n",
    "ax.semilogy(range(len(relative_error_new)), relative_error_new, color = 'purple')"
   ]
  },
  {
   "cell_type": "code",
   "execution_count": null,
   "metadata": {},
   "outputs": [],
   "source": []
  }
 ],
 "metadata": {
  "colab": {
   "name": "Correct Consensus and Stochastic Error.ipynb",
   "toc_visible": true
  },
  "kernelspec": {
   "display_name": "Python 3",
   "language": "python",
   "name": "python3"
  },
  "language_info": {
   "codemirror_mode": {
    "name": "ipython",
    "version": 3
   },
   "file_extension": ".py",
   "mimetype": "text/x-python",
   "name": "python",
   "nbconvert_exporter": "python",
   "pygments_lexer": "ipython3",
   "version": "3.8.5"
  }
 },
 "nbformat": 4,
 "nbformat_minor": 1
}

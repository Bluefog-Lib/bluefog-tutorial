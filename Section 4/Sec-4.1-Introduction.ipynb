{
 "cells": [
  {
   "cell_type": "markdown",
   "metadata": {
    "id": "8fa78ae20a8a"
   },
   "source": [
    "## 4.1 Introduction\n",
    "\n",
    "The logistic problem discussed in Section 4 is how to tackle two types of bias for a finite sum problem in a decentralized environment using stochastic gradient descent. The finite sum problem is the minimization of an average of functions.\n",
    "\\begin{equation*}\n",
    "    f(x) = \\min_{x} \\frac{1}{M} \\sum_{i=1}^{M} f_i(x)\n",
    "\\end{equation*}\n",
    "In a machine learning setting where there is a set of $M$ data points, we can interpret this problem as minimizing the average of $M$ error functions $f_i$ evaluated at the corresponding $i$th data point. Here we assume each $f_i$ is $L_i$-smooth and $f(x)$ is $\\mu$-strongly convex. The first bias comes from the inaccurate gradient estimation due to the stochatic nature of SGD, which can be resolved with a stochastic variance reduced gradient descent (SVRG). The second type of bias is introduced due to the concensus bias of gradient estimation in a decentralized environment, which can be addressed using exact diffusion.\n",
    "\n",
    "### 4.1.1 Organization\n",
    "\n",
    "The organization of Section 4 is as follows: \\[Will add link when these sections are ready\\]\n",
    "\n",
    "- Sec. 4.2 Stochastic Variance Reduced Gradient Descent\n",
    "\n",
    "- Sec. 4.3 Decentralized Exact Diffusion\n",
    "\n",
    "- Sec. 4.4 Combine SVRG and Exact Diffusion together\n",
    "\n",
    "### 4.1.2 Initialize BlueFog and test it\n",
    "\n",
    "All contents in this section are displayed in Jupyter notebook, and all experimental examples are written with BlueFog and iParallel. Readers not familiar with how to run BlueFog in ipython notebook environment is encouraged to read Sec. [HelloWorld section] first. In the following codes, we will initialize BlueFog and test whether it works normally.\n",
    "\n",
    "In the following code, you should be able to see the id of your CPUs. We use 4 CPUs to conduct the following experiment."
   ]
  },
  {
   "cell_type": "code",
   "execution_count": 1,
   "metadata": {
    "id": "21259bb48af6"
   },
   "outputs": [
    {
     "data": {
      "text/plain": [
       "[0, 1, 2, 3]"
      ]
     },
     "execution_count": 1,
     "metadata": {},
     "output_type": "execute_result"
    }
   ],
   "source": [
    "import ipyparallel as ipp\n",
    "\n",
    "rc = ipp.Client(profile=\"bluefog\")\n",
    "rc.ids"
   ]
  },
  {
   "cell_type": "markdown",
   "metadata": {
    "id": "e77fff57c316"
   },
   "source": [
    "Let each agent import necessary modules and then initialize BlueFog. You should be able to see the printed information like:  \n",
    "\n",
    "> \\[stdout:0\\] Hello, I am 1 among 4 processes\n",
    "> \n",
    "> ..."
   ]
  },
  {
   "cell_type": "code",
   "execution_count": 2,
   "metadata": {
    "id": "409b4b3a727d"
   },
   "outputs": [
    {
     "name": "stdout",
     "output_type": "stream",
     "text": [
      "[stdout:0] Hello, I am 2 among 4 processes\n",
      "[stdout:1] Hello, I am 1 among 4 processes\n",
      "[stdout:2] Hello, I am 0 among 4 processes\n",
      "[stdout:3] Hello, I am 3 among 4 processes\n"
     ]
    }
   ],
   "source": [
    "%%px\n",
    "import numpy as np\n",
    "import bluefog.torch as bf\n",
    "import torch\n",
    "from bluefog.common import topology_util\n",
    "import networkx as nx\n",
    "\n",
    "bf.init()\n",
    "print(f\"Hello, I am {bf.rank()} among {bf.size()} processes\")"
   ]
  },
  {
   "cell_type": "markdown",
   "metadata": {
    "id": "5fda00e5ab54"
   },
   "source": [
    "Push seed to each agent so that the simulation can be reproduced."
   ]
  },
  {
   "cell_type": "code",
   "execution_count": 3,
   "metadata": {
    "id": "66bf52fb75b2"
   },
   "outputs": [
    {
     "data": {
      "text/plain": [
       "[None, None, None, None]"
      ]
     },
     "execution_count": 3,
     "metadata": {},
     "output_type": "execute_result"
    }
   ],
   "source": [
    "dview = rc[:]  # A DirectView of all engines\n",
    "dview.block = True\n",
    "\n",
    "# Push the data into all workers\n",
    "dview.push({\"seed\": 2021}, block=True)"
   ]
  },
  {
   "cell_type": "markdown",
   "metadata": {
    "id": "d5dc19fe9b61"
   },
   "source": [
    "After running the following code, you should be able to see the printed information like \n",
    "\n",
    "> \\[stdout:0\\] I received seed as value:  2021\n",
    "> \n",
    "> ..."
   ]
  },
  {
   "cell_type": "code",
   "execution_count": 5,
   "metadata": {
    "id": "76cd0150e2ff"
   },
   "outputs": [
    {
     "name": "stdout",
     "output_type": "stream",
     "text": [
      "[stdout:0] I received seed as value:  2021\n",
      "[stdout:1] I received seed as value:  2021\n",
      "[stdout:2] I received seed as value:  2021\n",
      "[stdout:3] I received seed as value:  2021\n"
     ]
    }
   ],
   "source": [
    "%%px\n",
    "print(\"I received seed as value: \", seed)"
   ]
  },
  {
   "cell_type": "markdown",
   "metadata": {
    "id": "298aba508e9c"
   },
   "source": [
    "Congratulations! Your BlueFog is initialized and tested successfully."
   ]
  }
 ],
 "metadata": {
  "colab": {
   "name": "Sec-4.1-Introduction.ipynb",
   "toc_visible": true
  },
  "kernelspec": {
   "display_name": "Python 3",
   "name": "python3"
  }
 },
 "nbformat": 4,
 "nbformat_minor": 0
}

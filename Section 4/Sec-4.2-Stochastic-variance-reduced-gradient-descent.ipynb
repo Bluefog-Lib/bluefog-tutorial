{
 "cells": [
  {
   "cell_type": "markdown",
   "metadata": {},
   "source": [
    "## 4.2 Stochastic Variance Reduced Gradient Descent\n",
    "\n",
    "### 4.2.1 Problem and stochastic gradient descent\n",
    "\n",
    "We consider the following finite-sum problem:\n",
    "\n",
    "$$\\min_x \\quad \\frac{1}{M}\\sum_{m=1}^M f_m(x) \\hspace{1cm} \\mbox{(Finite-Sum Problem)}$$\n",
    "\n",
    "where $M$ is the size of the dataset, and $f_m(x)$ is the cost function associated with data $m$. This section assumes each $f_m(x)$ is convex and smooth. In real practice, the size of dataset $M$ is very large.\n",
    "\n",
    "This section discusses how to solve the (Finite-Sum Problem) within a **single** node efficiently. In the next few sections, we will discuss how to solve the problem using mulitple computing nodes.\n",
    "\n",
    "Since $M$ is large, it is usually very expensive to use the full-batch gradient descent to solve the (Finite-Sum Problem). One widely-used approach is stochastic gradient descent (SGD). At iteration $k$, the node will randomly sample one (or one mini-batch of) data sample(s), compute a stochastic gradient associated with such data, and update the variable along the gradient direction. More concretely, the SGD algorithm has the following recursions:\n",
    "\n",
    "\\begin{align}\n",
    "& \\mbox{Sample one data sample $m_k$ randomly at iteartion $k$ and compute the gradient }\\nabla f_{m_k}(x^k)\\\\\n",
    "& \\mbox{update the variable:}\\ x^{k+1} = x^k - \\alpha \\nabla f_{m_k}(x^k)\n",
    "\\end{align}\n",
    "\n",
    "To guarantee convergence to the exact global solution, the step-size $\\alpha$ has to decay as iterations, which will slow down the convergence of SGD. In the following, we will discuss a variance-reduced stochastic algorithm that can enable convergence to the exact solution with constant step-size. With a constant step-size, SGD will converge to a **nerighborhood** around the global solution.\n",
    "\n",
    "### 4.2.2 Stochastic variance reduced gradient descent\n",
    "\n",
    "Stochastic variance-reduced gradient method has many variants: SVRG, SAGA, Finito/MISO, SDCA, etc. In this subsection we discuss the one of the earliest variance-reduced methods: SVRG. SVRG has two loops:\n",
    "\n",
    "> \\begin{align}\n",
    "& \\mbox{For $s = 1,2,\\cdots$}\\\\\n",
    "& \\hspace{5mm} \\tilde{x} = \\tilde{x}_{s-1} \\\\\n",
    "& \\hspace{5mm} \\tilde{\\mu} = \\frac{1}{M}\\sum_{m=1}^M \\nabla f_m(\\tilde{x}) \\\\\n",
    "& \\hspace{5mm} x_0 = \\tilde{x} \\\\\n",
    "& \\hspace{5mm} \\mbox{For $k = 1,2,\\cdots,K$}\\\\\n",
    "& \\hspace{15mm}\\mbox{Randomly pick $m_k \\in \\{1,\\cdots, n\\}$ and update weight as}\\\\ \n",
    "& \\hspace{15mm}x^k = x^{k-1} - \\alpha\\big(\\nabla f_{m_k}(x^{k-1}) - \\nabla f_{m_k}(\\tilde{x}) + \\tilde{\\mu} \\big) \\\\\n",
    "& \\hspace{5mm} \\mbox{Set $\\tilde{x}_s = x^K$}\n",
    "\\end{align}\n",
    "\n",
    "### 4.2.3 Convergence properties\n",
    "\n",
    "Note that SVRG unilizes a full-batch gradient $\\tilde{\\mu}$ to help correct the stochastic gradient direction. The stochastic gradient constructed, i.e., \n",
    "\n",
    "\\begin{align}\n",
    "\\tilde{g} = \\nabla f_{m_k}(x^{k-1}) - \\nabla f_{m_k}(\\tilde{x}) + \\tilde{\\mu}\n",
    "\\end{align}\n",
    "\n",
    "in SVRG is unbiased and has diminishing variance. To see the unbiasedness, note that\n",
    "\n",
    "\\begin{align}\n",
    "\\mathbb{E}[\\tilde{g}] = \\frac{1}{M}\\sum_{m=1}^M \\nabla f_m(x^{k-1}) - \\frac{1}{M}\\sum_{m=1}^M \\nabla f_m(\\tilde{x}) + \\tilde{\\mu} = \\frac{1}{M}\\sum_{m=1}^M \\nabla f_m(x^{k-1})\n",
    "\\end{align}\n",
    "\n",
    "To see the diminishing variance, note that\n",
    "\n",
    "\\begin{align}\n",
    "& \\mathbb{E}\\|\\tilde{g} - \\frac{1}{M}\\sum_{m=1}^M \\nabla f_m(x^{k-1})\\|^2 \\nonumber \\\\\n",
    "=& \\mathbb{E}\\|\\nabla f_{m_k}(x^{k-1}) - \\nabla f_{m_k}(\\tilde{x}) - \\Big( \\tilde{\\mu} - \\frac{1}{M}\\sum_{m=1}^M \\nabla f_m(x^{k-1}) \\Big)\\|^2 \\nonumber \\\\\n",
    "\\le& \\mathbb{E}\\|\\nabla f_{m_k}(x^{k-1}) - \\nabla f_{m_k}(\\tilde{x})\\|^2 \\le L^2 \\mathbb{E}\\|x^{k-1} - \\tilde{x}\\|^2\n",
    "\\end{align}\n",
    "\n",
    "where the last inequality unilized the $L$-smoothness of each gradient $\\nabla f_i(x)$. If $x^{k} \\to \\tilde{x}$ as $k$ increases, the above relation implies that the gradient noise variance will diminish to zero as $k$ increases. This property guarantees that SVRG can converge to the exact solution with a constant step-size.\n",
    "\n"
   ]
  },
  {
   "cell_type": "markdown",
   "metadata": {},
   "source": [
    "### 4.2.4 An example: least-square problem\n",
    "\n",
    "In this section, we will show a demo on how to solve a least-square problem with SVRG. Suppose one computing node tends to solve the following problem:\n",
    "\n",
    "$$\\min_x \\quad \\|A x - b\\|^2$$\n",
    "\n",
    "where $\\{A, b\\}$ are data held locally.\n",
    "\n",
    "#### 4.2.4.1 Set up Environment"
   ]
  },
  {
   "cell_type": "code",
   "execution_count": 1,
   "metadata": {},
   "outputs": [],
   "source": [
    "import numpy as np\n",
    "import torch"
   ]
  },
  {
   "cell_type": "markdown",
   "metadata": {},
   "source": [
    "#### 4.2.4.2 Generate local data $A$ and $b$"
   ]
  },
  {
   "cell_type": "code",
   "execution_count": 2,
   "metadata": {},
   "outputs": [],
   "source": [
    "def generate_data(m, n):\n",
    "    \n",
    "    A = torch.randn(m, n).to(torch.double)\n",
    "    x_o = torch.randn(n, 1).to(torch.double)\n",
    "    ns = 0.1*torch.randn(m, 1).to(torch.double)\n",
    "    b = A.mm(x_o) + ns\n",
    "    \n",
    "    return A, b"
   ]
  },
  {
   "cell_type": "markdown",
   "metadata": {},
   "source": [
    "#### 4.2.4.3 One step of SGD"
   ]
  },
  {
   "cell_type": "code",
   "execution_count": 3,
   "metadata": {},
   "outputs": [],
   "source": [
    "def SGD_one_step(x, A, b, alpha=1e-2):\n",
    "    m = A.size()[0]\n",
    "    for _ in range(m):\n",
    "        # Select a random sample\n",
    "        i = torch.randint(m,(1,)).item()\n",
    "        sample = A[i:i+1]\n",
    "        # Estimate the gradient\n",
    "        grad_est = sample.t()*(sample.mm(x)-b[i])\n",
    "        x = x - alpha * grad_est\n",
    "    return x"
   ]
  },
  {
   "cell_type": "markdown",
   "metadata": {},
   "source": [
    "#### 4.2.4.4 One step of SVRG"
   ]
  },
  {
   "cell_type": "code",
   "execution_count": 4,
   "metadata": {},
   "outputs": [],
   "source": [
    "def SVRG_one_step(x, A, b, alpha=1e-2):\n",
    "    m = A.size()[0]\n",
    "    x_0 = x.clone()\n",
    "    grad_0 = A.t().mm(A.mm(x_0) - b)/m # Precompute the full gradient of the step\n",
    "    for _ in range(m):\n",
    "        # Select a random sample\n",
    "        i = torch.randint(m,(1,)).item()\n",
    "        sample = A[i:i+1]\n",
    "        # Estimate the gradient\n",
    "        grad_est_i =  sample.t()*(sample.mm(x)-b[i])\n",
    "        grad_est_0 =   sample.t()*(sample.mm(x_0)-b[i])\n",
    "        grad_est = grad_est_i - grad_est_0 + grad_0\n",
    "        x = x - alpha * grad_est\n",
    "    return x"
   ]
  },
  {
   "cell_type": "markdown",
   "metadata": {},
   "source": [
    "With one step of SGD and SVRG defined, we run the SGD and SVRG algorithms to depict the convergence curve of these two optimization methods."
   ]
  },
  {
   "cell_type": "code",
   "execution_count": 5,
   "metadata": {},
   "outputs": [
    {
     "name": "stdout",
     "output_type": "stream",
     "text": [
      "Progress 0/50\n",
      "Progress 10/50\n",
      "Progress 20/50\n",
      "Progress 30/50\n",
      "Progress 40/50\n"
     ]
    }
   ],
   "source": [
    "m = 2000\n",
    "n = 25\n",
    "max_iter = 50\n",
    "\n",
    "alpha_SGD = 1e-3\n",
    "alpha_SVRG = 1e-3\n",
    "\n",
    "A, b = generate_data(m, n)\n",
    "# Compute optimal solution\n",
    "x_opt = torch.inverse(A.t().mm(A)).mm(A.t().mm(b))\n",
    "\n",
    "x_SGD = torch.zeros(n, 1, dtype=torch.double)     # Initialize x for SGD\n",
    "x_SVRG = torch.zeros(n, 1, dtype=torch.double)     # Initialize x for SVRG\n",
    "\n",
    "rel_error_SGD = torch.zeros((max_iter, 1))\n",
    "rel_error_SVRG = torch.zeros((max_iter, 1))\n",
    "\n",
    "for ite in range(max_iter):\n",
    "    if ite%10 == 0:\n",
    "        print('Progress {}/{}'.format(ite, max_iter))\n",
    "        \n",
    "    x_SGD = SGD_one_step(x_SGD, A, b, alpha=alpha_SGD)\n",
    "    x_SVRG = SVRG_one_step(x_SVRG, A, b, alpha=alpha_SGD)\n",
    "    \n",
    "    rel_error_SGD[ite] = torch.norm(x_SGD-x_opt, p=2)/torch.norm(x_opt,p=2)\n",
    "    rel_error_SVRG[ite] = torch.norm(x_SVRG-x_opt, p=2)/torch.norm(x_opt,p=2)"
   ]
  },
  {
   "cell_type": "code",
   "execution_count": 6,
   "metadata": {},
   "outputs": [
    {
     "data": {
      "text/plain": [
       "Text(0, 0.5, 'Relative error')"
      ]
     },
     "execution_count": 6,
     "metadata": {},
     "output_type": "execute_result"
    },
    {
     "data": {
      "image/png": "[encoded data removed]",
      "text/plain": [
       "<Figure size 432x288 with 1 Axes>"
      ]
     },
     "metadata": {
      "needs_background": "light"
     },
     "output_type": "display_data"
    }
   ],
   "source": [
    "import matplotlib.pyplot as plt\n",
    "%matplotlib inline\n",
    "\n",
    "plt.semilogy(rel_error_SGD)\n",
    "plt.semilogy(rel_error_SVRG)\n",
    "\n",
    "plt.legend(['SGD', 'SVRG'], fontsize=16)\n",
    "\n",
    "plt.xlabel('Iteration', fontsize=16)\n",
    "plt.ylabel('Relative error', fontsize=16)"
   ]
  },
  {
   "cell_type": "markdown",
   "metadata": {},
   "source": [
    "It can be observed from the above figure that the SGD can only converge to a neighborhood around the exact solution, while the SVRG can precisely converge to the optimal solution, demonstrating the unbiasness of the SVRG."
   ]
  },
  {
   "cell_type": "code",
   "execution_count": null,
   "metadata": {},
   "outputs": [],
   "source": []
  }
 ],
 "metadata": {
  "kernelspec": {
   "display_name": "Python 3",
   "language": "python",
   "name": "python3"
  },
  "language_info": {
   "codemirror_mode": {
    "name": "ipython",
    "version": 3
   },
   "file_extension": ".py",
   "mimetype": "text/x-python",
   "name": "python",
   "nbconvert_exporter": "python",
   "pygments_lexer": "ipython3",
   "version": "3.7.6"
  }
 },
 "nbformat": 4,
 "nbformat_minor": 2
}

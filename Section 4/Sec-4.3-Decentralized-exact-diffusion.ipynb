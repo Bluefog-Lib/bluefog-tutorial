{
 "cells": [
  {
   "cell_type": "markdown",
   "metadata": {},
   "source": [
    "## 4.3 Decentralized Exact Diffusion\n",
    "\n",
    "### 4.3.1 Problem and decentralized gradient descent\n",
    "\n",
    "### 4.3.2 Decentralized exact diffusion\n",
    "\n",
    "### 4.3.3 Convergence properties"
   ]
  },
  {
   "cell_type": "markdown",
   "metadata": {},
   "source": [
    "### 4.3.4 An example: least-square problem\n",
    "\n",
    "In this section, we will show a demo on how to solve a decentralized least-square problem with Exact Diffusion. Suppose $n$ computing nodes collaborate to solve the following problem:\n",
    "\n",
    "$$\\min_x \\quad \\frac{1}{n}\\sum_{i=1}^n \\|A_i x - b_i\\|^2$$\n",
    "\n",
    "where $\\{A_i, b_i\\}$ are local data held in node $i$.\n",
    "\n",
    "\n",
    "#### 4.3.4.1 Set up Environment"
   ]
  },
  {
   "cell_type": "code",
   "execution_count": 33,
   "metadata": {},
   "outputs": [],
   "source": [
    "import ipyparallel as ipp\n",
    "rc = ipp.Client(profile='bluefog')\n",
    "dview = rc[:] # A DirectView of all engines\n",
    "dview.block=True"
   ]
  },
  {
   "cell_type": "code",
   "execution_count": 34,
   "metadata": {},
   "outputs": [],
   "source": [
    "%%px\n",
    "import numpy as np\n",
    "import bluefog.torch as bf\n",
    "import torch\n",
    "from bluefog.common import topology_util\n",
    "import networkx as nx\n",
    "import matplotlib.pyplot as plt\n",
    "%matplotlib inline\n",
    "\n",
    "bf.init()"
   ]
  },
  {
   "cell_type": "markdown",
   "metadata": {},
   "source": [
    "#### 4.3.4.2 Generate local data $A_i$ and $b_i$"
   ]
  },
  {
   "cell_type": "code",
   "execution_count": 35,
   "metadata": {},
   "outputs": [],
   "source": [
    "%%px\n",
    "\n",
    "def generate_data(m, n):\n",
    "    \n",
    "    A = torch.randn(m, n).to(torch.double)\n",
    "    x_o = torch.randn(n, 1).to(torch.double)\n",
    "    ns = 0.1*torch.randn(m, 1).to(torch.double)\n",
    "    b = A.mm(x_o) + ns\n",
    "        \n",
    "    return A, b"
   ]
  },
  {
   "cell_type": "code",
   "execution_count": 36,
   "metadata": {},
   "outputs": [],
   "source": [
    "%%px\n",
    "\n",
    "def distributed_grad_descent(A, b, maxite=5000, alpha=1e-1):\n",
    "\n",
    "    x_opt = torch.zeros(n, 1, dtype=torch.double)\n",
    "\n",
    "    for _ in range(maxite):\n",
    "        # calculate local gradient \n",
    "        grad_local = A.t().mm(A.mm(x_opt) - b)\n",
    "        \n",
    "        # global gradient\n",
    "        grad = bf.allreduce(grad_local, name='gradient')\n",
    "\n",
    "        # distributed gradient descent\n",
    "        x_opt = x_opt - alpha*grad\n",
    "\n",
    "    grad_local = A.t().mm(A.mm(x_opt) - b)\n",
    "    grad = bf.allreduce(grad_local, name='gradient')  # global gradient\n",
    "\n",
    "    # evaluate the convergence of distributed gradient descent\n",
    "    # the norm of global gradient is expected to 0 (optimality condition)\n",
    "    global_grad_norm = torch.norm(grad, p=2)\n",
    "    if bf.rank() == 0:\n",
    "        print(\"[Distributed Grad Descent] Rank {}: global gradient norm: {}\".format(bf.rank(), global_grad_norm))\n",
    "\n",
    "    return x_opt"
   ]
  },
  {
   "cell_type": "code",
   "execution_count": 37,
   "metadata": {},
   "outputs": [
    {
     "name": "stdout",
     "output_type": "stream",
     "text": [
      "[stdout:0] [Distributed Grad Descent] Rank 0: global gradient norm: 8.09083253944933e-13\n"
     ]
    }
   ],
   "source": [
    "%%px\n",
    "\n",
    "m, n = 2000, 25\n",
    "A, b = generate_data(m, n)\n",
    "x_opt = distributed_grad_descent(A, b, maxite=1000, alpha=1e-4)"
   ]
  },
  {
   "cell_type": "markdown",
   "metadata": {},
   "source": [
    "#### 4.3.4.3 One step of Exact Diffusion"
   ]
  },
  {
   "cell_type": "code",
   "execution_count": 38,
   "metadata": {},
   "outputs": [],
   "source": [
    "%%px\n",
    "\n",
    "def exact_diffusion_one_step(x, A, b, pre_psi, alpha=1e-2):\n",
    "    grad = A.t().mm(A.mm(x)-b)\n",
    "    psi = x-alpha*grad\n",
    "    phi = psi + x - pre_psi\n",
    "    x_opt = bf.neighbor_allreduce(phi)\n",
    "    return x_opt, psi"
   ]
  },
  {
   "cell_type": "code",
   "execution_count": 39,
   "metadata": {},
   "outputs": [
    {
     "name": "stdout",
     "output_type": "stream",
     "text": [
      "[stdout:0] \n",
      "Progress 0/200\n",
      "Progress 10/200\n",
      "Progress 20/200\n",
      "Progress 30/200\n",
      "Progress 40/200\n",
      "Progress 50/200\n",
      "Progress 60/200\n",
      "Progress 70/200\n",
      "Progress 80/200\n",
      "Progress 90/200\n",
      "Progress 100/200\n",
      "Progress 110/200\n",
      "Progress 120/200\n",
      "Progress 130/200\n",
      "Progress 140/200\n",
      "Progress 150/200\n",
      "Progress 160/200\n",
      "Progress 170/200\n",
      "Progress 180/200\n",
      "Progress 190/200\n"
     ]
    }
   ],
   "source": [
    "%%px\n",
    "\n",
    "# Set topology as ring topology.\n",
    "G = topology_util.RingGraph(bf.size())\n",
    "bf.set_topology(G)\n",
    "\n",
    "max_iter = 200\n",
    "\n",
    "alpha = 2e-4\n",
    "\n",
    "x = torch.zeros(n, 1, dtype=torch.double)     # Initialize x for exact diffusion\n",
    "psi = x\n",
    "rel_error = torch.zeros((max_iter, 1))\n",
    "\n",
    "for ite in range(max_iter):\n",
    "    if ite%10 == 0:\n",
    "        if bf.rank() == 0:\n",
    "            print('Progress {}/{}'.format(ite, max_iter))\n",
    "    x, psi= exact_diffusion_one_step(x, A, b, psi, alpha=alpha)\n",
    "    rel_error[ite] = torch.norm(x-x_opt, p=2)/torch.norm(x_opt,p=2)   "
   ]
  },
  {
   "cell_type": "code",
   "execution_count": 40,
   "metadata": {},
   "outputs": [],
   "source": [
    "# collect relative error\n",
    "rel_error = dview.pull('rel_error', block=True)\n",
    "rel_error_avg = sum(rel_error)/len(rc.ids)"
   ]
  },
  {
   "cell_type": "code",
   "execution_count": 41,
   "metadata": {},
   "outputs": [
    {
     "data": {
      "text/plain": [
       "Text(0, 0.5, 'Relative error')"
      ]
     },
     "execution_count": 41,
     "metadata": {},
     "output_type": "execute_result"
    },
    {
     "data": {
      "image/png": "[encoded data removed]",
      "text/plain": [
       "<Figure size 432x288 with 1 Axes>"
      ]
     },
     "metadata": {
      "needs_background": "light"
     },
     "output_type": "display_data"
    }
   ],
   "source": [
    "import matplotlib.pyplot as plt\n",
    "%matplotlib inline\n",
    "\n",
    "plt.semilogy(rel_error_avg)\n",
    "\n",
    "plt.xlabel('Iteration', fontsize=16)\n",
    "plt.ylabel('Relative error', fontsize=16)"
   ]
  },
  {
   "cell_type": "code",
   "execution_count": null,
   "metadata": {},
   "outputs": [],
   "source": []
  }
 ],
 "metadata": {
  "kernelspec": {
   "display_name": "Python 3",
   "language": "python",
   "name": "python3"
  },
  "language_info": {
   "codemirror_mode": {
    "name": "ipython",
    "version": 3
   },
   "file_extension": ".py",
   "mimetype": "text/x-python",
   "name": "python",
   "nbconvert_exporter": "python",
   "pygments_lexer": "ipython3",
   "version": "3.7.6"
  }
 },
 "nbformat": 4,
 "nbformat_minor": 2
}

{
 "cells": [
  {
   "cell_type": "markdown",
   "metadata": {},
   "source": [
    "## 4.4 Decentralized SVRG with Exact Diffusion\n",
    "\n",
    "### 4.4.1 Problem and decentralized gradient descent\n",
    "\n",
    "### 4.4.2 Decentralized SVRG with Exact Diffusion"
   ]
  },
  {
   "cell_type": "markdown",
   "metadata": {},
   "source": [
    "### 4.4.3 An example: least-square problem\n",
    "\n",
    "In this section, we will show a demo on how to solve a decentralized least-square problem with decentralized SVRG with Exact Diffusion. Suppose $n$ computing nodes collaborate to solve the following problem:\n",
    "\n",
    "$$\\min_x \\quad \\frac{1}{n}\\sum_{i=1}^n \\|A_i x - b_i\\|^2$$\n",
    "\n",
    "where $\\{A_i, b_i\\}$ are local data held in node $i$.\n",
    "\n",
    "\n",
    "#### 4.4.3.1 Set up Environment"
   ]
  },
  {
   "cell_type": "code",
   "execution_count": 1,
   "metadata": {},
   "outputs": [],
   "source": [
    "import ipyparallel as ipp\n",
    "rc = ipp.Client(profile='bluefog')\n",
    "dview = rc[:] # A DirectView of all engines\n",
    "dview.block=True"
   ]
  },
  {
   "cell_type": "code",
   "execution_count": 2,
   "metadata": {},
   "outputs": [],
   "source": [
    "%%px\n",
    "import numpy as np\n",
    "import bluefog.torch as bf\n",
    "import torch\n",
    "from bluefog.common import topology_util\n",
    "import networkx as nx\n",
    "import matplotlib.pyplot as plt\n",
    "%matplotlib inline\n",
    "\n",
    "bf.init()"
   ]
  },
  {
   "cell_type": "markdown",
   "metadata": {},
   "source": [
    "#### 4.4.4.2 Generate local data $A_i$ and $b_i$"
   ]
  },
  {
   "cell_type": "code",
   "execution_count": 3,
   "metadata": {},
   "outputs": [],
   "source": [
    "%%px\n",
    "\n",
    "def generate_data(m, n):\n",
    "    \n",
    "    A = torch.randn(m, n).to(torch.double)\n",
    "    x_o = torch.randn(n, 1).to(torch.double)\n",
    "    ns = 0.1*torch.randn(m, 1).to(torch.double)\n",
    "    b = A.mm(x_o) + ns\n",
    "        \n",
    "    return A, b"
   ]
  },
  {
   "cell_type": "code",
   "execution_count": 4,
   "metadata": {},
   "outputs": [],
   "source": [
    "%%px\n",
    "\n",
    "def distributed_grad_descent(A, b, maxite=5000, alpha=1e-1):\n",
    "\n",
    "    x_opt = torch.zeros(n, 1, dtype=torch.double)\n",
    "\n",
    "    for _ in range(maxite):\n",
    "        # calculate local gradient \n",
    "        grad_local = A.t().mm(A.mm(x_opt) - b)\n",
    "        \n",
    "        # global gradient\n",
    "        grad = bf.allreduce(grad_local, name='gradient')\n",
    "\n",
    "        # distributed gradient descent\n",
    "        x_opt = x_opt - alpha*grad\n",
    "\n",
    "    grad_local = A.t().mm(A.mm(x_opt) - b)\n",
    "    grad = bf.allreduce(grad_local, name='gradient')  # global gradient\n",
    "\n",
    "    # evaluate the convergence of distributed gradient descent\n",
    "    # the norm of global gradient is expected to 0 (optimality condition)\n",
    "    global_grad_norm = torch.norm(grad, p=2)\n",
    "    if bf.rank() == 0:\n",
    "        print(\"[Distributed Grad Descent] Rank {}: global gradient norm: {}\".format(bf.rank(), global_grad_norm))\n",
    "\n",
    "    return x_opt"
   ]
  },
  {
   "cell_type": "markdown",
   "metadata": {},
   "source": [
    "In the following code we run distributed gradient descent to achieve the global solution $x^\\star$ to the optimization problem. To validate whether $x^\\star$ is optimal, it is enough to examine $\\frac{1}{n}\\sum_{i=1}^n \\nabla f_i(x^\\star) = 0$."
   ]
  },
  {
   "cell_type": "code",
   "execution_count": 5,
   "metadata": {},
   "outputs": [
    {
     "name": "stdout",
     "output_type": "stream",
     "text": [
      "[stdout:3] [Distributed Grad Descent] Rank 0: global gradient norm: 1.4937122611144555e-12\n"
     ]
    }
   ],
   "source": [
    "%%px\n",
    "\n",
    "m, n = 500, 10\n",
    "A, b = generate_data(m, n)\n",
    "x_opt = distributed_grad_descent(A, b, maxite=1000, alpha=1e-4)"
   ]
  },
  {
   "cell_type": "markdown",
   "metadata": {},
   "source": [
    "#### 4.4.4.3 One step of SVRG with Exact Diffusion\n",
    "In this section, we depict the convergence curve of the SVRG algorithm with Exact Diffusion  in a decentralized environment. We will utilize the $x^\\star$ achieved by distributed gradient descent as the optimal solution. First, we define one step of the SVRG with Exact Diffusion."
   ]
  },
  {
   "cell_type": "code",
   "execution_count": 6,
   "metadata": {},
   "outputs": [],
   "source": [
    "%%px\n",
    "\n",
    "def SVRG_exact_diffusion_one_step(x, A, b, pre_psi, alpha=1e-2):\n",
    "    m = A.size()[0]\n",
    "    x_0 = x.clone()\n",
    "    grad_0 = A.t().mm(A.mm(x_0) - b)/m # Precompute the full gradient of the step\n",
    "    for _ in range(m):\n",
    "        # Select a random sample\n",
    "        i = torch.randint(m,(1,)).item()\n",
    "        sample = A[i:i+1]\n",
    "        # Gradient estimation using SVRG\n",
    "        grad_est_i =  sample.t()*(sample.mm(x)-b[i])\n",
    "        grad_est_0 =   sample.t()*(sample.mm(x_0)-b[i])\n",
    "        grad_est = grad_est_i - grad_est_0 + grad_0\n",
    "        # Correct bias using Exact Diffusion\n",
    "        psi = x-alpha*grad_est\n",
    "        phi = psi + x - pre_psi\n",
    "        # Communication with neighbors\n",
    "        x = bf.neighbor_allreduce(phi)\n",
    "        pre_psi = psi.clone()\n",
    "    return x, psi"
   ]
  },
  {
   "cell_type": "markdown",
   "metadata": {},
   "source": [
    "Next we run the SVRG algorithm with Exact Diffusion."
   ]
  },
  {
   "cell_type": "code",
   "execution_count": 7,
   "metadata": {},
   "outputs": [
    {
     "name": "stdout",
     "output_type": "stream",
     "text": [
      "[stdout:3] \n",
      "Progress 0/300\n",
      "Progress 10/300\n",
      "Progress 20/300\n",
      "Progress 30/300\n",
      "Progress 40/300\n",
      "Progress 50/300\n",
      "Progress 60/300\n",
      "Progress 70/300\n",
      "Progress 80/300\n",
      "Progress 90/300\n",
      "Progress 100/300\n",
      "Progress 110/300\n",
      "Progress 120/300\n",
      "Progress 130/300\n",
      "Progress 140/300\n",
      "Progress 150/300\n",
      "Progress 160/300\n",
      "Progress 170/300\n",
      "Progress 180/300\n",
      "Progress 190/300\n",
      "Progress 200/300\n",
      "Progress 210/300\n",
      "Progress 220/300\n",
      "Progress 230/300\n",
      "Progress 240/300\n",
      "Progress 250/300\n",
      "Progress 260/300\n",
      "Progress 270/300\n",
      "Progress 280/300\n",
      "Progress 290/300\n"
     ]
    }
   ],
   "source": [
    "%%px\n",
    "\n",
    "# Set topology as ring topology.\n",
    "G = topology_util.RingGraph(bf.size())\n",
    "bf.set_topology(G)\n",
    "\n",
    "max_iter = 300\n",
    "\n",
    "alpha = 5e-4\n",
    "\n",
    "x = torch.zeros(n, 1, dtype=torch.double)     # Initialize x for exact diffusion\n",
    "psi = x\n",
    "rel_error = torch.zeros((max_iter, 1))\n",
    "\n",
    "for ite in range(max_iter):\n",
    "    if ite%10 == 0:\n",
    "        if bf.rank() == 0:\n",
    "            print('Progress {}/{}'.format(ite, max_iter))\n",
    "    x, psi= SVRG_exact_diffusion_one_step(x, A, b, psi, alpha=alpha)\n",
    "    rel_error[ite] = torch.norm(x-x_opt, p=2)/torch.norm(x_opt,p=2)   "
   ]
  },
  {
   "cell_type": "code",
   "execution_count": 8,
   "metadata": {},
   "outputs": [],
   "source": [
    "# collect relative error\n",
    "rel_error = dview.pull('rel_error', block=True)\n",
    "rel_error_avg = sum(rel_error)/len(rc.ids)"
   ]
  },
  {
   "cell_type": "code",
   "execution_count": 9,
   "metadata": {},
   "outputs": [
    {
     "data": {
      "text/plain": [
       "Text(0, 0.5, 'Relative error')"
      ]
     },
     "execution_count": 9,
     "metadata": {},
     "output_type": "execute_result"
    },
    {
     "data": {
      "image/png": "[encoded data removed]",
      "text/plain": [
       "<Figure size 432x288 with 1 Axes>"
      ]
     },
     "metadata": {
      "needs_background": "light"
     },
     "output_type": "display_data"
    }
   ],
   "source": [
    "import matplotlib.pyplot as plt\n",
    "%matplotlib inline\n",
    "\n",
    "plt.semilogy(rel_error_avg)\n",
    "\n",
    "plt.xlabel('Iteration', fontsize=16)\n",
    "plt.ylabel('Relative error', fontsize=16)"
   ]
  },
  {
   "cell_type": "markdown",
   "metadata": {},
   "source": [
    "It can be observed from the above figure that the SVRG with Exact Diffusion can precisely converge to the optimal solution in a stochastic decentralized scenarios. The two segments of the convergence rate demonstrates two bias sources (from stochastic and decentralized optimization) are corrected by SVRG algorithm with Exact Diffusion during the optimization."
   ]
  },
  {
   "cell_type": "code",
   "execution_count": null,
   "metadata": {},
   "outputs": [],
   "source": []
  }
 ],
 "metadata": {
  "kernelspec": {
   "display_name": "Python 3",
   "language": "python",
   "name": "python3"
  },
  "language_info": {
   "codemirror_mode": {
    "name": "ipython",
    "version": 3
   },
   "file_extension": ".py",
   "mimetype": "text/x-python",
   "name": "python",
   "nbconvert_exporter": "python",
   "pygments_lexer": "ipython3",
   "version": "3.7.6"
  }
 },
 "nbformat": 4,
 "nbformat_minor": 2
}

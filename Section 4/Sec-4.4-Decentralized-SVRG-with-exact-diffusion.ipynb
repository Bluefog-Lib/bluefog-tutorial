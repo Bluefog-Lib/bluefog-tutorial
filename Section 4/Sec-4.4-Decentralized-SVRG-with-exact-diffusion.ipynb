{
 "cells": [
  {
   "cell_type": "markdown",
   "metadata": {
    "id": "4d4b271acff9"
   },
   "source": [
    "## 4.4 Decentralized SVRG with Exact Diffusion\n",
    "\n",
    "### 4.4.1 Problem and decentralized stochastic algorithms\n",
    "\n",
    "Consider the optimization problem:\n",
    "\n",
    "$$\\min_{x \\in \\mathbb{R}^d} \\quad f(x) = \\frac{1}{n}\\sum_{i=1}^n [f_i(x) = \\mathbb{E}_{\\xi_i \\sim D_i}\\{F(x,\\xi_i)\\}]$$\n",
    "\n",
    "where $f_i(x)$ is local to node $i$, and random variable $\\xi_i$ denotes the local data that follows distribution $D_i$. Each node $i$ can locally evaluate stochastic gradient $\\nabla F(x;\\xi_i)$ (not the real gradient $\\nabla f_i(x)$); it must communicate to access information from other nodes.\n",
    "\n",
    "In Section 3.6, we discussed one widely-used approach - ATC-DSGD to solve the above problem. Given the network topology and the weight matrix, the ATC-DSGD will update as follows:\n",
    "\n",
    "\\begin{align}\n",
    "x_i^{(k+1)} =  \\sum_{j=1}^n w_{ij} \\Big(x_j^{(k)} - \\alpha \\nabla F(x_j^{(k)};\\xi_j^{(k)}) \\Big), \\quad  i=1,\\cdots,n.\n",
    "\\end{align}\n",
    "\n",
    "where $\\xi_i^{(k)}$ is a realization of the random variable $\\xi_i$ at iteration $k$. Furthermore, it is established in Section 3.6 that under smoothness and strongly-convex assumptions, ATC-DSGD suffers from a limiting bias as follows:\n",
    "\n",
    "\\begin{align}\\label{dsgd-convergence}\n",
    "\\lim_{k\\to \\infty}\\frac{1}{n}\\sum_{i=1}^n \\mathbb{E}\\|x_i^{(k)} - x^\\star\\|^2 = O\\Big(\\underbrace{\\frac{\\alpha \\sigma^2}{n} + \\frac{\\rho^2 \\alpha^2 \\sigma^2}{1-\\rho}}_{\\rm sto.\\ bias} + \\underbrace{\\frac{\\rho^2 \\alpha^2 b^2}{(1-\\rho)^2}}_{\\rm inconsis.\\ bias} \\Big). \\hspace{1cm} \\mbox{(ATC-DSGD-Limiting-Bias)}\n",
    "\\end{align}\n",
    "\n",
    "It is observed that ATC-DSGD suffers from two sources of bias:\n",
    "\n",
    "- A stochastic limiting bias caused by the stochastic gradient noise $\\sigma^2$;\n",
    "\n",
    "- An inconsistency bias caused by the data heterogeneity $b^2 = \\frac{1}{n}\\sum_{i=1}^n\\|\\nabla f_i(x^\\star)\\|^2$\n",
    "\n",
    "This motivates us that, to correct the limiting bias, we have to design algorithms that can remove both the stochastic  bias and inconsistency bias. In Section 4.2, we have discussed that SVRG can remove the stochastic bias when the problem is in the finite-sum form. In Section 4.3, we have discussed that Exact-diffusion can remove the inconsistency bias. A natural idea is to integrate SVRG to Exact-diffusion so that the new algorithm can converge **exactly** to the global solution $x^\\star$ without any limiting bias.\n",
    "\n",
    "### 4.4.2 Exact Diffusion with SVRG \n",
    "\n",
    "In this section we disscuss the new algorithm. First, we assume each local $f_i(x) = \\mathbb{E}_{\\xi_i \\sim D_i}\\{F(x,\\xi_i)\\} = \\frac{1}{M}\\sum_{m=1}^M F_i(x; \\xi_{m,i})$. In other words, we assume each $f_i(x)$ is in a **finite-sum** form. The Diffusion-SVRG algorithm is shown as follows. Each node $i$ will run the following algorithm in a parallel manner:\n",
    "\n",
    "> \\begin{align}\n",
    "& \\mbox{For $s = 1,2,\\cdots$}\\\\\n",
    "& \\hspace{5mm} \\tilde{x}_i = \\tilde{x}_{i,s-1} \\\\\n",
    "& \\hspace{5mm} \\tilde{\\mu}_i = \\frac{1}{M}\\sum_{m=1}^M \\nabla F(\\tilde{x}_i, \\xi_{m,i}) \\\\\n",
    "& \\hspace{5mm} x_{i}^0 = \\tilde{x}_i \\\\\n",
    "& \\hspace{5mm} \\mbox{For $k = 1,2,\\cdots,K$}\\\\\n",
    "& \\hspace{15mm}\\mbox{Randomly pick $m_{k} \\in \\{1,\\cdots, M\\}$ and compute the stochastic gradient as}\\\\ \n",
    "& \\hspace{15mm}g^k_{i} = \\nabla F(x_i^{k-1};\\xi_{m_k,i}) - \\nabla F(\\tilde{x}_i;\\xi_{m_k,i}) + \\tilde{\\mu}_i \\\\\n",
    "& \\hspace{15mm}\\mbox{Update local variables $x_i$ as follows} \\\\\n",
    "& \\hspace{15mm}\\psi_i^{k} = x_i^{k} - \\alpha \\nabla g^k_{i}  \\\\\n",
    "& \\hspace{15mm}\\phi_i^{k} = \\psi_i^{k} + x_i^{k} - \\psi_i^{k-1} \\\\\n",
    "& \\hspace{15mm}x_i^{k+1} = \\sum_{j=1}^n \\bar{w}_{ij} \\phi_j^{k} \\\\\n",
    "& \\hspace{5mm} \\mbox{Set $\\tilde{x}_{i,s} = x^K_i$}\n",
    "\\end{align}\n",
    "\n",
    "When each $f_i(x)$ is smooth and strongly convex, and the gradient noise is unbiased and bounded, one can show the above Diffusion-SVRG algorithm can converge to the global solution $x^\\star$ in a linear rate."
   ]
  },
  {
   "cell_type": "markdown",
   "metadata": {
    "id": "448a05eb78f0"
   },
   "source": [
    "### 4.4.3 An example: least-square problem\n",
    "\n",
    "In this section, we will show a demo on how to solve a decentralized least-square problem with decentralized SVRG with Exact Diffusion. Suppose $n$ computing nodes collaborate to solve the following problem:\n",
    "\n",
    "$$\\min_x \\quad \\frac{1}{n}\\sum_{i=1}^n \\|A_i x - b_i\\|^2$$\n",
    "\n",
    "where $\\{A_i, b_i\\}$ are local data held in node $i$.\n",
    "\n",
    "\n",
    "#### 4.4.3.1 Set up Environment"
   ]
  },
  {
   "cell_type": "code",
   "execution_count": 15,
   "metadata": {
    "id": "fcbd9d29e437"
   },
   "outputs": [],
   "source": [
    "import ipyparallel as ipp\n",
    "\n",
    "rc = ipp.Client(profile=\"bluefog\")\n",
    "dview = rc[:]  # A DirectView of all engines\n",
    "dview.block = True"
   ]
  },
  {
   "cell_type": "code",
   "execution_count": 16,
   "metadata": {
    "id": "c75d5dab4199"
   },
   "outputs": [],
   "source": [
    "%%px\n",
    "import numpy as np\n",
    "import bluefog.torch as bf\n",
    "import torch\n",
    "from bluefog.common import topology_util\n",
    "import networkx as nx\n",
    "import matplotlib.pyplot as plt\n",
    "\n",
    "%matplotlib inline\n",
    "\n",
    "bf.init()"
   ]
  },
  {
   "cell_type": "markdown",
   "metadata": {
    "id": "8162c279e265"
   },
   "source": [
    "#### 4.3.4.2 Generate local data $A_i$ and $b_i$"
   ]
  },
  {
   "cell_type": "code",
   "execution_count": 17,
   "metadata": {
    "id": "c1bca92006d0"
   },
   "outputs": [],
   "source": [
    "%%px\n",
    "\n",
    "\n",
    "def generate_data(m, n):\n",
    "\n",
    "    A = torch.randn(m, n).to(torch.double)\n",
    "    x_o = torch.randn(n, 1).to(torch.double)\n",
    "    ns = 0.1 * torch.randn(m, 1).to(torch.double)\n",
    "    b = A.mm(x_o) + ns\n",
    "\n",
    "    return A, b"
   ]
  },
  {
   "cell_type": "code",
   "execution_count": 18,
   "metadata": {
    "id": "edced29f5e08"
   },
   "outputs": [],
   "source": [
    "%%px\n",
    "\n",
    "\n",
    "def distributed_grad_descent(A, b, maxite=5000, alpha=1e-1):\n",
    "\n",
    "    x_opt = torch.zeros(n, 1, dtype=torch.double)\n",
    "\n",
    "    for _ in range(maxite):\n",
    "        # calculate local gradient\n",
    "        grad_local = A.t().mm(A.mm(x_opt) - b)\n",
    "\n",
    "        # global gradient\n",
    "        grad = bf.allreduce(grad_local, name=\"gradient\")\n",
    "\n",
    "        # distributed gradient descent\n",
    "        x_opt = x_opt - alpha * grad\n",
    "\n",
    "    grad_local = A.t().mm(A.mm(x_opt) - b)\n",
    "    grad = bf.allreduce(grad_local, name=\"gradient\")  # global gradient\n",
    "\n",
    "    # evaluate the convergence of distributed gradient descent\n",
    "    # the norm of global gradient is expected to 0 (optimality condition)\n",
    "    global_grad_norm = torch.norm(grad, p=2)\n",
    "    if bf.rank() == 0:\n",
    "        print(\n",
    "            \"[Distributed Grad Descent] Rank {}: global gradient norm: {}\".format(\n",
    "                bf.rank(), global_grad_norm\n",
    "            )\n",
    "        )\n",
    "\n",
    "    return x_opt"
   ]
  },
  {
   "cell_type": "code",
   "execution_count": 23,
   "metadata": {
    "id": "361b1e7cb2a0"
   },
   "outputs": [
    {
     "name": "stdout",
     "output_type": "stream",
     "text": [
      "[stdout:0] [Distributed Grad Descent] Rank 0: global gradient norm: 6.941169754339275e-13\n"
     ]
    }
   ],
   "source": [
    "%%px\n",
    "\n",
    "m, n = 500, 10\n",
    "A, b = generate_data(m, n)\n",
    "x_opt = distributed_grad_descent(A, b, maxite=1000, alpha=1e-4)"
   ]
  },
  {
   "cell_type": "markdown",
   "metadata": {
    "id": "53f9e24eb939"
   },
   "source": [
    "#### 4.3.4.3 One step of SVRG with Exact Diffusion"
   ]
  },
  {
   "cell_type": "code",
   "execution_count": 24,
   "metadata": {
    "id": "641434b04f7e"
   },
   "outputs": [],
   "source": [
    "%%px\n",
    "\n",
    "def SVRG_exact_diffusion_one_step(x, A, b, pre_psi, alpha=1e-2):\n",
    "    m = A.size()[0]\n",
    "    x_0 = x.clone()\n",
    "    grad_0 = A.t().mm(A.mm(x_0) - b)/m # Precompute the full gradient of the step\n",
    "    for _ in range(m):\n",
    "        # Select a random sample\n",
    "        i = torch.randint(m,(1,)).item()\n",
    "        sample = A[i:i+1]\n",
    "        grad_est_i =  sample.t()*(sample.mm(x)-b[i])\n",
    "        grad_est_0 =   sample.t()*(sample.mm(x_0)-b[i])\n",
    "        grad_est = grad_est_i - grad_est_0 + grad_0\n",
    "        psi = x-alpha*grad_est\n",
    "        phi = psi + x - pre_psi\n",
    "        x = bf.neighbor_allreduce(phi)\n",
    "        pre_psi = psi.clone()http://localhost:4000/notebooks/Section%204/Sec-4.4-Decentralized-SVRG-with-exact-diffusion.ipynb#\n",
    "    return x, psi"
   ]
  },
  {
   "cell_type": "code",
   "execution_count": 34,
   "metadata": {
    "id": "7d76fdda8293"
   },
   "outputs": [
    {
     "name": "stdout",
     "output_type": "stream",
     "text": [
      "[stdout:0] \n",
      "Progress 0/300\n",
      "Progress 10/300\n",
      "Progress 20/300\n",
      "Progress 30/300\n",
      "Progress 40/300\n",
      "Progress 50/300\n",
      "Progress 60/300\n",
      "Progress 70/300\n",
      "Progress 80/300\n",
      "Progress 90/300\n",
      "Progress 100/300\n",
      "Progress 110/300\n",
      "Progress 120/300\n",
      "Progress 130/300\n",
      "Progress 140/300\n",
      "Progress 150/300\n",
      "Progress 160/300\n",
      "Progress 170/300\n",
      "Progress 180/300\n",
      "Progress 190/300\n",
      "Progress 200/300\n",
      "Progress 210/300\n",
      "Progress 220/300\n",
      "Progress 230/300\n",
      "Progress 240/300\n",
      "Progress 250/300\n",
      "Progress 260/300\n",
      "Progress 270/300\n",
      "Progress 280/300\n",
      "Progress 290/300\n"
     ]
    }
   ],
   "source": [
    "%%px\n",
    "\n",
    "# Set topology as ring topology.\n",
    "G = topology_util.RingGraph(bf.size())\n",
    "bf.set_topology(G)\n",
    "\n",
    "max_iter = 300\n",
    "\n",
    "alpha = 5e-4\n",
    "\n",
    "x = torch.zeros(n, 1, dtype=torch.double)  # Initialize x for exact diffusion\n",
    "psi = x\n",
    "rel_error = torch.zeros((max_iter, 1))\n",
    "\n",
    "for ite in range(max_iter):\n",
    "    if ite % 10 == 0:\n",
    "        if bf.rank() == 0:\n",
    "            print(\"Progress {}/{}\".format(ite, max_iter))\n",
    "    x, psi = SVRG_exact_diffusion_one_step(x, A, b, psi, alpha=alpha)\n",
    "    rel_error[ite] = torch.norm(x - x_opt, p=2) / torch.norm(x_opt, p=2)"
   ]
  },
  {
   "cell_type": "code",
   "execution_count": 35,
   "metadata": {
    "id": "2f19b59f117b"
   },
   "outputs": [],
   "source": [
    "# collect relative error\n",
    "rel_error = dview.pull(\"rel_error\", block=True)\n",
    "rel_error_avg = sum(rel_error) / len(rc.ids)"
   ]
  },
  {
   "cell_type": "code",
   "execution_count": 36,
   "metadata": {
    "id": "f3ea50e295c7"
   },
   "outputs": [
    {
     "data": {
      "text/plain": [
       "Text(0, 0.5, 'Relative error')"
      ]
     },
     "execution_count": 36,
     "metadata": {},
     "output_type": "execute_result"
    },
    {
     "data": {
      "image/png": "[encoded data removed]",
      "text/plain": [
       "<Figure size 432x288 with 1 Axes>"
      ]
     },
     "metadata": {
      "needs_background": "light"
     },
     "output_type": "display_data"
    }
   ],
   "source": [
    "import matplotlib.pyplot as plt\n",
    "\n",
    "%matplotlib inline\n",
    "\n",
    "plt.semilogy(rel_error_avg)\n",
    "\n",
    "plt.xlabel(\"Iteration\", fontsize=16)\n",
    "plt.ylabel(\"Relative error\", fontsize=16)"
   ]
  }
 ],
 "metadata": {
  "colab": {
   "name": "Sec-4.4-Decentralized-SVRG-with-exact-diffusion.ipynb",
   "toc_visible": true
  },
  "kernelspec": {
   "display_name": "Python 3",
   "name": "python3"
  }
 },
 "nbformat": 4,
 "nbformat_minor": 0
}

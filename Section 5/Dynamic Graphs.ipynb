{
 "cells": [
  {
   "cell_type": "markdown",
   "id": "great-madison",
   "metadata": {},
   "source": [
    "# Dynamic Graphs and Gradient Tracking\n",
    "\n",
    "## Backgroud and problem setting\n",
    "\n",
    "The underlying topology is dynamic, i.e., the communication graph $\\mathcal{G}^k$ changes with time/iteration $k$. This may be active or passive. \n",
    "\n",
    "Active case:  reduce the communication cost\n",
    "Passive case: the agent is moving. Mobile network or biology networks\n",
    "\n",
    "Application: Fish vs predator example? Other ideas?\n",
    "\n",
    "## Consensus Over Dynamic topology\n",
    "\n",
    "Algorithm:\n",
    "- Vanilla Consensus algorithm -- show not converge to true mean\n",
    "- Push-sum\n",
    "- Include proof sketch?\n",
    "\n",
    "Bluefog\n",
    "\n",
    "- `bf.neighbor_allreduce()` with neighbor_weights and send_neighbors argument\n",
    "- Some pre-defined function like GetDynamicOnePeerSendRecvRanks.\n",
    "\n",
    "## AWC/ATC + Dynamic topology\n",
    "\n",
    "\n",
    "## Gradient tracking over Dynamic topology\n",
    "\n",
    "Algorithm \n",
    "- Gradient tracking algorithm\n",
    "\n",
    "Bluefog\n",
    "- algorithm implementation\n",
    "\n"
   ]
  },
  {
   "cell_type": "code",
   "execution_count": null,
   "id": "conservative-paste",
   "metadata": {},
   "outputs": [],
   "source": []
  }
 ],
 "metadata": {
  "kernelspec": {
   "display_name": "Python 3.7.3 64-bit ('base': conda)",
   "language": "python",
   "name": "python37364bitbasecondab45000257b1d4579a7afc8c939c94805"
  },
  "language_info": {
   "codemirror_mode": {
    "name": "ipython",
    "version": 3
   },
   "file_extension": ".py",
   "mimetype": "text/x-python",
   "name": "python",
   "nbconvert_exporter": "python",
   "pygments_lexer": "ipython3",
   "version": "3.7.3"
  },
  "toc": {
   "base_numbering": 1,
   "nav_menu": {},
   "number_sections": true,
   "sideBar": true,
   "skip_h1_title": false,
   "title_cell": "Table of Contents",
   "title_sidebar": "Contents",
   "toc_cell": false,
   "toc_position": {},
   "toc_section_display": true,
   "toc_window_display": false
  }
 },
 "nbformat": 4,
 "nbformat_minor": 5
}

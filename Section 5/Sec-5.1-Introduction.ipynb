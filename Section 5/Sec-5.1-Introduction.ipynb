{
 "cells": [
  {
   "cell_type": "markdown",
   "id": "changed-presence",
   "metadata": {},
   "source": [
    "## 5.1 Introduction\n",
    "\n",
    "In previous Chapter, the network topology we discussed are static, i.e., the topology used in all iterations are always the same. However, static topology is not the necessary condition for designing meaningful decentralized algorithms. If we relax the static topology into dynamic topology, i.e., the toplogies used in different iterations may be differnt, the more power of decentralized algorithm can be exploited.\n",
    "\n",
    "\n",
    "We will revisit similar topics at the Section 3 --- including understand the basic property of dynamic topolgies, how to apply dynamic topologies in BlueFog, how we still can achieve consensus under the dynamic topologies, and how we can further improve the communication cost in dynamic topology cases.\n",
    "\n",
    "### 5.1.1 Organization\n",
    "The contents of this chapter is organized as follows:\n",
    "\n",
    "* Sec.5.2: Dynamic topology and dynamic one peer strategy\n",
    "* Sec.5.3: Average consenus and decentralied gradient algorithms under regular dynamic topology\n",
    "* Sec.5.4: Average consensus and Push-sum algorithm over general dynamic topology\n",
    "* Sec.5.5: Gradient tracking algorithm and Push-DIGing algorithm.\n",
    "\n",
    "\n",
    "### 5.1.2 Initialize BlueFog and test it\n",
    "All contents in this section are displayed in Jupyter notebook, and all experimental examples are written with BlueFog and iParallel. Readers not familiar with how to run BlueFog in ipython notebook environment is encouraged to read Sec. [HelloWorld section] first. In the following codes, we will initialize BlueFog and test whether it works normally.\n",
    "\n",
    "In the following code, you should be able to see the id of your CPUs. We use 8 CPUs to conduct the following experiment."
   ]
  },
  {
   "cell_type": "code",
   "execution_count": 1,
   "id": "solid-montana",
   "metadata": {
    "ExecuteTime": {
     "end_time": "2021-04-19T03:26:50.603850Z",
     "start_time": "2021-04-19T03:26:50.572840Z"
    }
   },
   "outputs": [
    {
     "data": {
      "text/plain": [
       "[0, 1, 2, 3, 4, 5, 6, 7]"
      ]
     },
     "execution_count": 1,
     "metadata": {},
     "output_type": "execute_result"
    }
   ],
   "source": [
    "import ipyparallel as ipp\n",
    "\n",
    "rc = ipp.Client(profile='bluefog')\n",
    "rc.ids"
   ]
  },
  {
   "cell_type": "markdown",
   "id": "anonymous-chinese",
   "metadata": {
    "ExecuteTime": {
     "end_time": "2021-04-19T03:27:17.509984Z",
     "start_time": "2021-04-19T03:27:17.507079Z"
    }
   },
   "source": [
    "Let each agent import necessary modules and then initialize BlueFog. You should be able to see the printed information like:  \n",
    "\n",
    "> \\[stdout:0\\] Hello, I am 1 among 8 processes\n",
    "> \n",
    "> ..."
   ]
  },
  {
   "cell_type": "code",
   "execution_count": 2,
   "id": "fatal-conditions",
   "metadata": {
    "ExecuteTime": {
     "end_time": "2021-04-19T03:26:54.070755Z",
     "start_time": "2021-04-19T03:26:52.652200Z"
    }
   },
   "outputs": [
    {
     "name": "stdout",
     "output_type": "stream",
     "text": [
      "[stdout:0] Hello, I am 6 among 8 processes\n",
      "[stdout:1] Hello, I am 3 among 8 processes\n",
      "[stdout:2] Hello, I am 1 among 8 processes\n",
      "[stdout:3] Hello, I am 5 among 8 processes\n",
      "[stdout:4] Hello, I am 4 among 8 processes\n",
      "[stdout:5] Hello, I am 2 among 8 processes\n",
      "[stdout:6] Hello, I am 0 among 8 processes\n",
      "[stdout:7] Hello, I am 7 among 8 processes\n"
     ]
    }
   ],
   "source": [
    "%%px\n",
    "import numpy as np\n",
    "import bluefog.torch as bf\n",
    "import torch\n",
    "from bluefog.common import topology_util\n",
    "import networkx as nx\n",
    "\n",
    "bf.init()\n",
    "print(f\"Hello, I am {bf.rank()} among {bf.size()} processes\")"
   ]
  },
  {
   "cell_type": "code",
   "execution_count": 4,
   "id": "ambient-pendant",
   "metadata": {
    "ExecuteTime": {
     "end_time": "2021-04-19T03:27:53.687207Z",
     "start_time": "2021-04-19T03:27:53.581093Z"
    }
   },
   "outputs": [
    {
     "data": {
      "text/plain": [
       "[None, None, None, None, None, None, None, None]"
      ]
     },
     "execution_count": 4,
     "metadata": {},
     "output_type": "execute_result"
    }
   ],
   "source": [
    "dview = rc[:] # A DirectView of all engines\n",
    "dview.block=True\n",
    "\n",
    "# Push the data into all workers\n",
    "dview.push({'seed': 2021}, block=True)"
   ]
  },
  {
   "cell_type": "markdown",
   "id": "legal-massage",
   "metadata": {},
   "source": [
    "After running the following code, you should be able to see the printed information like \n",
    "\n",
    "> \\[stdout:0\\] I received seed as value:  2021\n",
    "> \n",
    "> ..."
   ]
  },
  {
   "cell_type": "code",
   "execution_count": 5,
   "id": "living-baptist",
   "metadata": {
    "ExecuteTime": {
     "end_time": "2021-04-19T03:27:55.026711Z",
     "start_time": "2021-04-19T03:27:54.964454Z"
    }
   },
   "outputs": [
    {
     "name": "stdout",
     "output_type": "stream",
     "text": [
      "[stdout:0] I received seed as value:  2021\n",
      "[stdout:1] I received seed as value:  2021\n",
      "[stdout:2] I received seed as value:  2021\n",
      "[stdout:3] I received seed as value:  2021\n",
      "[stdout:4] I received seed as value:  2021\n",
      "[stdout:5] I received seed as value:  2021\n",
      "[stdout:6] I received seed as value:  2021\n",
      "[stdout:7] I received seed as value:  2021\n"
     ]
    }
   ],
   "source": [
    "%%px\n",
    "print(\"I received seed as value: \", seed)"
   ]
  },
  {
   "cell_type": "code",
   "execution_count": null,
   "id": "yellow-provider",
   "metadata": {},
   "outputs": [],
   "source": []
  }
 ],
 "metadata": {
  "kernelspec": {
   "display_name": "Python 3",
   "language": "python",
   "name": "python3"
  },
  "language_info": {
   "codemirror_mode": {
    "name": "ipython",
    "version": 3
   },
   "file_extension": ".py",
   "mimetype": "text/x-python",
   "name": "python",
   "nbconvert_exporter": "python",
   "pygments_lexer": "ipython3",
   "version": "3.7.9"
  }
 },
 "nbformat": 4,
 "nbformat_minor": 5
}

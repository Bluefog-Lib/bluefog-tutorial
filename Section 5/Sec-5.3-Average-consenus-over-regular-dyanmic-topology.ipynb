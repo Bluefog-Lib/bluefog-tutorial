{
 "cells": [
  {
   "cell_type": "code",
   "execution_count": 7,
   "id": "asian-blade",
   "metadata": {
    "ExecuteTime": {
     "end_time": "2021-04-19T03:49:37.037117Z",
     "start_time": "2021-04-19T03:49:36.313514Z"
    }
   },
   "outputs": [],
   "source": [
    "import matplotlib.pyplot as plt\n",
    "import numpy as np\n",
    "import networkx as nx\n",
    "import torch\n",
    "\n",
    "%matplotlib inline"
   ]
  },
  {
   "cell_type": "markdown",
   "id": "affecting-senegal",
   "metadata": {},
   "source": [
    "# Decentralized Gradient under regular dynamic topology\n",
    "\n",
    "**[TODO] Introduce the regular graph and why we don't need another correction in this case it can work.**\n",
    "\n",
    "**[TODO] Update the APIs introduction**\n",
    "\n",
    "\n",
    "After introducing the average consensus over the dynamic one peer strategy of exponential graph, it is natural to apply that on the Adapt-With-Combine algorithm as well. It is simply just\n",
    "\n",
    "$$\n",
    "    x_{k+1,i} = \\sum_{j \\in \\mathcal{N}_i} w^{(k)}_{ij}x_{k,j} - \\alpha \\nabla f_i(x_{k,i}) \n",
    "$$\n",
    "\n",
    "noting that we change from the static weights $w_{ij}$ to dynamic $w^{(k)}_{ij}$ and if step size $\\alpha$ is zero or $f$ is constant, it regresses to average consensus problem. In order to achieve that in BlueFog, you need to specifiy the weights argument in the `neighbor_allreduce` function. Recall the full function signature is:\n",
    "\n",
    "```\n",
    "bf.neighbor_allreduce(\n",
    "    tensor: torch.Tensor,\n",
    "    self_weight: Union[float, NoneType] = None,\n",
    "    neighbor_weights: Union[Dict[int, float], NoneType] = None,\n",
    "    send_neighbors: Union[List[int], NoneType] = None,\n",
    "    enable_topo_check: bool = True,\n",
    "    name: Union[str, NoneType] = None,\n",
    ") -> torch.Tensor\n",
    "```\n",
    "Different from the static case, you need to give different `self_weight`, `neighbor_weights`, and `send_neigbors` in each iteration. \n",
    "\n",
    "**Note:** the argument `send_neigbors`, which is the list of ranks sending to, is necessary for dynamic topology.\n",
    "\n",
    "Since the design of BlueFog is to sperate the communication functionality from the topology usage, you need to explicitly to create these arguments for the `neighbor_allreduce` function. The code can be boilerplate and not straight-forward to write. Hence, we provide several topology utility functions for several common dynamic topology cases. Previous dynamic one peer strategy is definitely covered -- `topology_util.GetDynamicOnePeerSendRecvRanks`.\n",
    "\n",
    "It is not a function but [generator](https://docs.python.org/3/tutorial/classes.html#generators) actually. If you are not familar with the concept of generator, don't be afraid. It is easy. Check the following example"
   ]
  },
  {
   "cell_type": "code",
   "execution_count": 1,
   "id": "directed-withdrawal",
   "metadata": {
    "ExecuteTime": {
     "end_time": "2021-04-19T03:48:09.213081Z",
     "start_time": "2021-04-19T03:48:09.005804Z"
    }
   },
   "outputs": [],
   "source": [
    "import ipyparallel as ipp\n",
    "\n",
    "rc = ipp.Client(profile=\"bluefog\")"
   ]
  },
  {
   "cell_type": "code",
   "execution_count": 2,
   "id": "sunrise-property",
   "metadata": {
    "ExecuteTime": {
     "end_time": "2021-04-19T03:48:38.300774Z",
     "start_time": "2021-04-19T03:48:37.994773Z"
    }
   },
   "outputs": [
    {
     "name": "stdout",
     "output_type": "stream",
     "text": [
      "[stdout:0] Rank: 6, Size: 8\n",
      "[stdout:1] Rank: 3, Size: 8\n",
      "[stdout:2] Rank: 1, Size: 8\n",
      "[stdout:3] Rank: 5, Size: 8\n",
      "[stdout:4] Rank: 4, Size: 8\n",
      "[stdout:5] Rank: 2, Size: 8\n",
      "[stdout:6] Rank: 0, Size: 8\n",
      "[stdout:7] Rank: 7, Size: 8\n"
     ]
    }
   ],
   "source": [
    "%%px\n",
    "import torch\n",
    "import bluefog.torch as bf\n",
    "from bluefog.common import topology_util\n",
    "bf.init()\n",
    "\n",
    "print(f\"Rank: {bf.rank()}, Size: {bf.size()}\")"
   ]
  },
  {
   "cell_type": "code",
   "execution_count": 3,
   "id": "driving-mounting",
   "metadata": {
    "ExecuteTime": {
     "end_time": "2021-04-19T03:48:50.372354Z",
     "start_time": "2021-04-19T03:48:50.272510Z"
    }
   },
   "outputs": [],
   "source": [
    "%%px\n",
    "data_size = 100\n",
    "seed = 1234\n",
    "max_iters = 10\n",
    "torch.random.manual_seed(seed * bf.rank())\n",
    "\n",
    "x = torch.randn(data_size, dtype=torch.double)\n",
    "x_bar = bf.allreduce(x, average=True)\n",
    "mse = [torch.norm(x-x_bar, p=2) / torch.norm(x_bar, p=2)]"
   ]
  },
  {
   "cell_type": "code",
   "execution_count": 4,
   "id": "former-amateur",
   "metadata": {
    "ExecuteTime": {
     "end_time": "2021-04-19T03:49:01.759868Z",
     "start_time": "2021-04-19T03:49:01.393851Z"
    }
   },
   "outputs": [],
   "source": [
    "%%px\n",
    "\n",
    "dynamic_neighbor_allreduce_gen = topology_util.GetDynamicOnePeerSendRecvRanks(\n",
    "    bf.load_topology(), bf.rank())\n",
    "\n",
    "for ite in range(max_iters):\n",
    "    send_neighbors, recv_neighbors = next(dynamic_neighbor_allreduce_gen)\n",
    "    uniform_weight = 1/(len(recv_neighbors) + 1)\n",
    "    neighbor_weights = {r: uniform_weight for r in recv_neighbors}\n",
    "    self_weight = uniform_weight\n",
    "\n",
    "    x = bf.neighbor_allreduce(x, name='x', self_weight=self_weight,\n",
    "                              src_weights=neighbor_weights,\n",
    "                              dst_weights=send_neighbors, enable_topo_check=True)\n",
    "    mse.append(torch.norm(x-x_bar, p=2) / torch.norm(x_bar, p=2))"
   ]
  },
  {
   "cell_type": "code",
   "execution_count": 5,
   "id": "capital-french",
   "metadata": {
    "ExecuteTime": {
     "end_time": "2021-04-19T03:49:11.988765Z",
     "start_time": "2021-04-19T03:49:11.471406Z"
    }
   },
   "outputs": [],
   "source": [
    "mse = rc[0].pull(\"mse\", block=True)"
   ]
  },
  {
   "cell_type": "code",
   "execution_count": 8,
   "id": "magnetic-contrast",
   "metadata": {
    "ExecuteTime": {
     "end_time": "2021-04-19T03:49:42.201043Z",
     "start_time": "2021-04-19T03:49:41.770189Z"
    }
   },
   "outputs": [
    {
     "data": {
      "text/plain": [
       "[<matplotlib.lines.Line2D at 0x7f86abe83bd0>]"
      ]
     },
     "execution_count": 8,
     "metadata": {},
     "output_type": "execute_result"
    },
    {
     "data": {
      "image/png": "[encoded data removed]",
      "text/plain": [
       "<Figure size 432x288 with 1 Axes>"
      ]
     },
     "metadata": {
      "needs_background": "light"
     },
     "output_type": "display_data"
    }
   ],
   "source": [
    "plt.semilogy(mse)"
   ]
  },
  {
   "cell_type": "markdown",
   "id": "nutritional-contrary",
   "metadata": {},
   "source": [
    "Above figure clearly illustrated the lemma in previous section -- the algorithm will reach the consensus under `log(bf.size())` step. In our case, just 2 steps."
   ]
  },
  {
   "cell_type": "markdown",
   "id": "mature-research",
   "metadata": {},
   "source": [
    "Next, we show the performance comparison between static and dynamic topology over linear cost function."
   ]
  },
  {
   "cell_type": "code",
   "execution_count": 9,
   "id": "charged-gazette",
   "metadata": {
    "ExecuteTime": {
     "end_time": "2021-04-19T03:50:42.893420Z",
     "start_time": "2021-04-19T03:50:42.887751Z"
    }
   },
   "outputs": [],
   "source": [
    "num_data = 2400\n",
    "dimension = 10\n",
    "noise_level = 0.1\n",
    "X = np.random.randn(num_data, dimension)\n",
    "x_o = np.random.randn(dimension, 1)\n",
    "ns = noise_level*np.random.randn(num_data,1)\n",
    "y = X.dot(x_o) + ns\n",
    "\n",
    "# We know the optimal solution in close form solution.\n",
    "x_opt = np.linalg.inv(X.T.dot(X)).dot(X.T).dot(y)"
   ]
  },
  {
   "cell_type": "markdown",
   "id": "military-blues",
   "metadata": {},
   "source": [
    "For simplicity, we just use centralized solution to generate the data and distributed the partial data to all workers. Each worker should only contain `1/len(works)` number of all data."
   ]
  },
  {
   "cell_type": "code",
   "execution_count": 10,
   "id": "limiting-dealer",
   "metadata": {
    "ExecuteTime": {
     "end_time": "2021-04-19T03:51:12.635766Z",
     "start_time": "2021-04-19T03:51:12.551293Z"
    }
   },
   "outputs": [
    {
     "name": "stderr",
     "output_type": "stream",
     "text": [
      "/Users/ybc/anaconda3/envs/bf_test/lib/python3.7/site-packages/torch/storage.py:34: FutureWarning: pickle support for Storage will be removed in 1.5. Use `torch.save` instead\n",
      "  warnings.warn(\"pickle support for Storage will be removed in 1.5. Use `torch.save` instead\", FutureWarning)\n"
     ]
    }
   ],
   "source": [
    "num_workers = len(rc.ids)\n",
    "assert num_data % num_workers == 0, \\\n",
    "    \"Please adjust number of data so that it is the multiples of number of workers\"\n",
    "\n",
    "x_opt_torch = torch.from_numpy(x_opt)\n",
    "for i in range(num_workers):\n",
    "    X_partial = torch.from_numpy(X[i::num_workers])\n",
    "    y_partial = torch.from_numpy(y[i::num_workers])\n",
    "    rc[i].push({\n",
    "        \"X\": X_partial,\n",
    "        \"y\": y_partial,\n",
    "        \"x_opt\": x_opt_torch\n",
    "    }, block=True)"
   ]
  },
  {
   "cell_type": "code",
   "execution_count": 11,
   "id": "protected-telephone",
   "metadata": {
    "ExecuteTime": {
     "end_time": "2021-04-19T03:51:22.939943Z",
     "start_time": "2021-04-19T03:51:22.880400Z"
    }
   },
   "outputs": [
    {
     "name": "stdout",
     "output_type": "stream",
     "text": [
      "[stdout:0] torch.Size([300, 10]) torch.Size([300, 1])\n",
      "[stdout:1] torch.Size([300, 10]) torch.Size([300, 1])\n",
      "[stdout:2] torch.Size([300, 10]) torch.Size([300, 1])\n",
      "[stdout:3] torch.Size([300, 10]) torch.Size([300, 1])\n",
      "[stdout:4] torch.Size([300, 10]) torch.Size([300, 1])\n",
      "[stdout:5] torch.Size([300, 10]) torch.Size([300, 1])\n",
      "[stdout:6] torch.Size([300, 10]) torch.Size([300, 1])\n",
      "[stdout:7] torch.Size([300, 10]) torch.Size([300, 1])\n"
     ]
    }
   ],
   "source": [
    "%px print(X.shape, y.shape)"
   ]
  },
  {
   "cell_type": "code",
   "execution_count": 12,
   "id": "vanilla-network",
   "metadata": {
    "ExecuteTime": {
     "end_time": "2021-04-19T03:51:36.208638Z",
     "start_time": "2021-04-19T03:51:31.880555Z"
    }
   },
   "outputs": [],
   "source": [
    "%%px\n",
    "max_iters = 100\n",
    "\n",
    "mse_dynamic = []\n",
    "mse_static = []\n",
    "\n",
    "bf.set_topology(topology_util.ExponentialTwoGraph(bf.size()))\n",
    "dynamic_neighbor_allreduce_gen = topology_util.GetDynamicOnePeerSendRecvRanks(\n",
    "    bf.load_topology(), bf.rank())\n",
    "\n",
    "x_static = torch.randn(x_opt.shape, dtype=torch.double)\n",
    "x_dynamic = torch.randn(x_opt.shape, dtype=torch.double)\n",
    "step_size = 0.0005\n",
    "\n",
    "for ite in range(max_iters):\n",
    "    send_neighbors, recv_neighbors = next(dynamic_neighbor_allreduce_gen)\n",
    "    uniform_weight = 1 / (len(recv_neighbors) + 1)\n",
    "    neighbor_weights = {r: uniform_weight for r in recv_neighbors}\n",
    "    self_weight = uniform_weight\n",
    "\n",
    "    x_dynamic = x_dynamic - step_size * X.T.mm(X.mm(x_dynamic) - y)\n",
    "    x_dynamic = bf.neighbor_allreduce(x_dynamic,\n",
    "                                      name='x_dynamic',\n",
    "                                      self_weight=self_weight,\n",
    "                                      src_weights=neighbor_weights,\n",
    "                                      dst_weights=send_neighbors,\n",
    "                                      enable_topo_check=True)\n",
    "\n",
    "    x_static = x_static - step_size * X.T.mm(X.mm(x_static) - y)\n",
    "    x_static = bf.neighbor_allreduce(x_static, name='x_static')\n",
    "\n",
    "    mse_dynamic.append(\n",
    "        torch.norm(x_dynamic - x_opt, p=2) / torch.norm(x_opt, p=2))\n",
    "    mse_static.append(\n",
    "        torch.norm(x_static - x_opt, p=2) / torch.norm(x_opt, p=2))"
   ]
  },
  {
   "cell_type": "code",
   "execution_count": 13,
   "id": "prospective-popularity",
   "metadata": {
    "ExecuteTime": {
     "end_time": "2021-04-19T03:51:42.101279Z",
     "start_time": "2021-04-19T03:51:42.075178Z"
    }
   },
   "outputs": [],
   "source": [
    "mse_dynamic, mse_static = rc[0].pull([\"mse_dynamic\", \"mse_static\"], block=True)"
   ]
  },
  {
   "cell_type": "code",
   "execution_count": 14,
   "id": "olympic-southeast",
   "metadata": {
    "ExecuteTime": {
     "end_time": "2021-04-19T03:51:49.388988Z",
     "start_time": "2021-04-19T03:51:49.027062Z"
    }
   },
   "outputs": [
    {
     "data": {
      "text/plain": [
       "<matplotlib.legend.Legend at 0x7f86af837b90>"
      ]
     },
     "execution_count": 14,
     "metadata": {},
     "output_type": "execute_result"
    },
    {
     "data": {
      "image/png": "[encoded data removed]",
      "text/plain": [
       "<Figure size 432x288 with 1 Axes>"
      ]
     },
     "metadata": {
      "needs_background": "light"
     },
     "output_type": "display_data"
    }
   ],
   "source": [
    "plt.semilogy(mse_dynamic, label=\"dynamic topology\")\n",
    "plt.semilogy(mse_static, label=\"static topology\")\n",
    "plt.legend()"
   ]
  },
  {
   "cell_type": "code",
   "execution_count": null,
   "id": "settled-malta",
   "metadata": {},
   "outputs": [],
   "source": []
  }
 ],
 "metadata": {
  "kernelspec": {
   "display_name": "Python 3",
   "language": "python",
   "name": "python3"
  },
  "language_info": {
   "codemirror_mode": {
    "name": "ipython",
    "version": 3
   },
   "file_extension": ".py",
   "mimetype": "text/x-python",
   "name": "python",
   "nbconvert_exporter": "python",
   "pygments_lexer": "ipython3",
   "version": "3.7.9"
  }
 },
 "nbformat": 4,
 "nbformat_minor": 5
}

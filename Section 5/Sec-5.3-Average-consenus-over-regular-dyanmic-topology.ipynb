{
 "cells": [
  {
   "cell_type": "code",
   "execution_count": 1,
   "id": "asian-blade",
   "metadata": {
    "ExecuteTime": {
     "end_time": "2021-04-22T06:01:12.712169Z",
     "start_time": "2021-04-22T06:01:10.649386Z"
    }
   },
   "outputs": [],
   "source": [
    "import matplotlib.pyplot as plt\n",
    "import numpy as np\n",
    "import networkx as nx\n",
    "import torch\n",
    "\n",
    "%matplotlib inline"
   ]
  },
  {
   "cell_type": "markdown",
   "id": "affecting-senegal",
   "metadata": {},
   "source": [
    "# Decentralized Gradient under regular dynamic topology\n",
    "\n",
    "\n",
    "After introducing the average consensus over the dynamic one peer strategy of exponential graph, it is natural to apply that on the Adapt-With-Combine algorithm as well. It is simply just\n",
    "\n",
    "$$\n",
    "    x_{k+1,i} = \\sum_{j \\in \\mathcal{N}_i} w^{(k)}_{ij}x_{k,j} - \\alpha \\nabla f_i(x_{k,i}) \n",
    "$$\n",
    "\n",
    "noting that we change from the static weights $w_{ij}$ to dynamic $w^{(k)}_{ij}$ and if step size $\\alpha$ is zero or $f$ is constant, it regresses to average consensus problem. In order to achieve that in BlueFog, you need to specifiy the weights argument in the `neighbor_allreduce` function. Recall the full function signature is:\n",
    "\n",
    "```\n",
    "bf.neighbor_allreduce(\n",
    "    tensor: torch.Tensor,\n",
    "    self_weight: Union[float, NoneType] = None,\n",
    "    src_weights: Union[Dict[int, float], NoneType] = None,\n",
    "    dst_weights: Union[List[int], Dict[int, float], NoneType] = None,\n",
    "    enable_topo_check: bool = True,\n",
    "    name: Union[str, NoneType] = None,\n",
    ") -> torch.Tensor\n",
    "```\n",
    "Different from the static case, you need to give different `self_weight`, `src_weights`, and `dst_weights` in each iteration. \n",
    "\n",
    "**Note:** the argument `src_weights`, which can be either the list of ranks sending to or the map of list of ranks to weights, is necessary for dynamic topology."
   ]
  },
  {
   "cell_type": "code",
   "execution_count": 4,
   "id": "directed-withdrawal",
   "metadata": {
    "ExecuteTime": {
     "end_time": "2021-04-22T06:01:17.782027Z",
     "start_time": "2021-04-22T06:01:17.769859Z"
    }
   },
   "outputs": [],
   "source": [
    "import ipyparallel as ipp\n",
    "\n",
    "rc = ipp.Client(profile=\"bluefog\")"
   ]
  },
  {
   "cell_type": "code",
   "execution_count": 5,
   "id": "sunrise-property",
   "metadata": {
    "ExecuteTime": {
     "end_time": "2021-04-22T06:01:19.417293Z",
     "start_time": "2021-04-22T06:01:18.466654Z"
    }
   },
   "outputs": [
    {
     "name": "stdout",
     "output_type": "stream",
     "text": [
      "[stdout:0] Rank: 4, Size: 8\n",
      "[stdout:1] Rank: 5, Size: 8\n",
      "[stdout:2] Rank: 0, Size: 8\n",
      "[stdout:3] Rank: 2, Size: 8\n",
      "[stdout:4] Rank: 6, Size: 8\n",
      "[stdout:5] Rank: 3, Size: 8\n",
      "[stdout:6] Rank: 1, Size: 8\n",
      "[stdout:7] Rank: 7, Size: 8\n"
     ]
    }
   ],
   "source": [
    "%%px\n",
    "import torch\n",
    "import bluefog.torch as bf\n",
    "from bluefog.common import topology_util\n",
    "\n",
    "bf.init()\n",
    "\n",
    "print(f\"Rank: {bf.rank()}, Size: {bf.size()}\")"
   ]
  },
  {
   "cell_type": "code",
   "execution_count": 6,
   "id": "driving-mounting",
   "metadata": {
    "ExecuteTime": {
     "end_time": "2021-04-22T06:01:20.719281Z",
     "start_time": "2021-04-22T06:01:20.650609Z"
    }
   },
   "outputs": [],
   "source": [
    "%%px\n",
    "data_size = 100\n",
    "seed = 1234\n",
    "max_iters = 10\n",
    "torch.random.manual_seed(seed * bf.rank())\n",
    "\n",
    "x = torch.randn(data_size, dtype=torch.double)\n",
    "x_bar = bf.allreduce(x, average=True)\n",
    "mse = [torch.norm(x - x_bar, p=2) / torch.norm(x_bar, p=2)]"
   ]
  },
  {
   "cell_type": "markdown",
   "id": "emerging-chair",
   "metadata": {},
   "source": [
    "Since the design of BlueFog is to sperate the communication functionality from the topology usage, you need to explicitly to create these arguments for the `neighbor_allreduce` function. It is time we combined the utility function `neighbor_allreduce` and `GetDynamicOnePeerSendRecvRanks` for dynamic topology usage.\n",
    "\n",
    "In this section, we only consider the [regular graph](https://en.wikipedia.org/wiki/Regular_graph) -- a regular graph is a graph where each vertex has the same number of neighbors; i.e. every vertex has the same degree or valency. It is easy to see that under $\\tau$-regular graph, the `GetDynamicOnePeerSendRecvRanks` function is $\\tau$-periodical function. Further, since `GetDynamicOnePeerSendRecvRanks` determine the send-to neighbor based on the relative difference of node index, every iteration, all nodes will have one destination (send-to) node and one source(receive-from) node only, which lead to $W^{(k)}$ is doubly stochastic (not necessary symmetric) at every iterations. This special property will gurantee that our consensus algorithm still converge unbiasedly. However, in general case, it doesn't hold. We will discuss that in the next subsection.\n",
    "\n",
    "For now, let's look at the Exponential Two graph, which is regular graph:"
   ]
  },
  {
   "cell_type": "code",
   "execution_count": 7,
   "id": "former-amateur",
   "metadata": {
    "ExecuteTime": {
     "end_time": "2021-04-22T06:01:22.119056Z",
     "start_time": "2021-04-22T06:01:22.022175Z"
    }
   },
   "outputs": [],
   "source": [
    "%%px\n",
    "\n",
    "bf.set_topology(bf.ExponentialTwoGraph(bf.size()))\n",
    "dynamic_neighbor_allreduce_gen = bf.GetDynamicOnePeerSendRecvRanks(\n",
    "    bf.load_topology(), bf.rank()\n",
    ")\n",
    "\n",
    "for ite in range(max_iters):\n",
    "    dst_neighbors, src_neighbors = next(dynamic_neighbor_allreduce_gen)\n",
    "    uniform_weight = 1 / (len(src_neighbors) + 1)\n",
    "    src_weights = {r: uniform_weight for r in src_neighbors}\n",
    "    self_weight = uniform_weight\n",
    "\n",
    "    x = bf.neighbor_allreduce(\n",
    "        x,\n",
    "        name=\"x\",\n",
    "        self_weight=self_weight,\n",
    "        src_weights=src_weights,\n",
    "        dst_weights=dst_neighbors,\n",
    "        enable_topo_check=True,\n",
    "    )\n",
    "    mse.append(torch.norm(x - x_bar, p=2) / torch.norm(x_bar, p=2))"
   ]
  },
  {
   "cell_type": "code",
   "execution_count": 8,
   "id": "capital-french",
   "metadata": {
    "ExecuteTime": {
     "end_time": "2021-04-22T06:01:22.700490Z",
     "start_time": "2021-04-22T06:01:22.685969Z"
    }
   },
   "outputs": [],
   "source": [
    "mse = rc[0].pull(\"mse\", block=True)"
   ]
  },
  {
   "cell_type": "code",
   "execution_count": 9,
   "id": "magnetic-contrast",
   "metadata": {
    "ExecuteTime": {
     "end_time": "2021-04-22T06:01:23.888417Z",
     "start_time": "2021-04-22T06:01:23.476028Z"
    }
   },
   "outputs": [
    {
     "data": {
      "text/plain": [
       "[<matplotlib.lines.Line2D at 0x7f9a22397190>]"
      ]
     },
     "execution_count": 9,
     "metadata": {},
     "output_type": "execute_result"
    },
    {
     "data": {
      "image/png": "[encoded data removed]",
      "text/plain": [
       "<Figure size 432x288 with 1 Axes>"
      ]
     },
     "metadata": {
      "needs_background": "light"
     },
     "output_type": "display_data"
    }
   ],
   "source": [
    "plt.semilogy(mse)"
   ]
  },
  {
   "cell_type": "markdown",
   "id": "nutritional-contrary",
   "metadata": {},
   "source": [
    "Above figure clearly illustrated the lemma in previous section -- the algorithm will reach the consensus under $\\tau=$`log(bf.size())` step, which has been show in the lemma of previous subsection."
   ]
  },
  {
   "cell_type": "markdown",
   "id": "mature-research",
   "metadata": {},
   "source": [
    "Next, we show the performance comparison between static and dynamic topology over linear cost function."
   ]
  },
  {
   "cell_type": "code",
   "execution_count": 21,
   "id": "charged-gazette",
   "metadata": {
    "ExecuteTime": {
     "end_time": "2021-04-22T06:02:54.523454Z",
     "start_time": "2021-04-22T06:02:54.516758Z"
    }
   },
   "outputs": [],
   "source": [
    "num_data = 600\n",
    "dimension = 20\n",
    "noise_level = 0.1\n",
    "X = np.random.randn(num_data, dimension)\n",
    "x_o = np.random.randn(dimension, 1)\n",
    "ns = noise_level * np.random.randn(num_data, 1)\n",
    "y = X.dot(x_o) + ns\n",
    "\n",
    "# We know the optimal solution in close form solution.\n",
    "x_opt = np.linalg.inv(X.T.dot(X)).dot(X.T).dot(y)"
   ]
  },
  {
   "cell_type": "markdown",
   "id": "military-blues",
   "metadata": {},
   "source": [
    "For simplicity, we just use centralized solution to generate the data and distributed the partial data to all workers. Each worker should only contain `1/len(works)` number of all data."
   ]
  },
  {
   "cell_type": "code",
   "execution_count": 22,
   "id": "limiting-dealer",
   "metadata": {
    "ExecuteTime": {
     "end_time": "2021-04-22T06:02:55.497826Z",
     "start_time": "2021-04-22T06:02:55.430070Z"
    }
   },
   "outputs": [],
   "source": [
    "num_workers = len(rc.ids)\n",
    "assert (\n",
    "    num_data % num_workers == 0\n",
    "), \"Please adjust number of data so that it is the multiples of number of workers\"\n",
    "\n",
    "x_opt_torch = torch.from_numpy(x_opt)\n",
    "for i in range(num_workers):\n",
    "    X_partial = torch.from_numpy(X[i::num_workers])\n",
    "    y_partial = torch.from_numpy(y[i::num_workers])\n",
    "    rc[i].push({\"X\": X_partial, \"y\": y_partial, \"x_opt\": x_opt_torch}, block=True)"
   ]
  },
  {
   "cell_type": "code",
   "execution_count": 23,
   "id": "protected-telephone",
   "metadata": {
    "ExecuteTime": {
     "end_time": "2021-04-22T06:02:56.074979Z",
     "start_time": "2021-04-22T06:02:56.003802Z"
    }
   },
   "outputs": [
    {
     "name": "stdout",
     "output_type": "stream",
     "text": [
      "[stdout:0] torch.Size([75, 20]) torch.Size([75, 1])\n",
      "[stdout:1] torch.Size([75, 20]) torch.Size([75, 1])\n",
      "[stdout:2] torch.Size([75, 20]) torch.Size([75, 1])\n",
      "[stdout:3] torch.Size([75, 20]) torch.Size([75, 1])\n",
      "[stdout:4] torch.Size([75, 20]) torch.Size([75, 1])\n",
      "[stdout:5] torch.Size([75, 20]) torch.Size([75, 1])\n",
      "[stdout:6] torch.Size([75, 20]) torch.Size([75, 1])\n",
      "[stdout:7] torch.Size([75, 20]) torch.Size([75, 1])\n"
     ]
    }
   ],
   "source": [
    "%px print(X.shape, y.shape)"
   ]
  },
  {
   "cell_type": "code",
   "execution_count": 33,
   "id": "vanilla-network",
   "metadata": {
    "ExecuteTime": {
     "end_time": "2021-04-22T06:03:23.696762Z",
     "start_time": "2021-04-22T06:03:19.844491Z"
    }
   },
   "outputs": [],
   "source": [
    "%%px\n",
    "max_iters = 100\n",
    "\n",
    "mse_dynamic = []\n",
    "mse_static = []\n",
    "\n",
    "bf.set_topology(bf.ExponentialTwoGraph(bf.size()))\n",
    "dynamic_neighbor_allreduce_gen = topology_util.GetDynamicOnePeerSendRecvRanks(\n",
    "    bf.load_topology(), bf.rank()\n",
    ")\n",
    "\n",
    "x_static = torch.randn(x_opt.shape, dtype=torch.double)\n",
    "x_dynamic = torch.randn(x_opt.shape, dtype=torch.double)\n",
    "step_size = 0.005\n",
    "\n",
    "for ite in range(max_iters):\n",
    "    send_neighbors, recv_neighbors = next(dynamic_neighbor_allreduce_gen)\n",
    "    uniform_weight = 1 / (len(recv_neighbors) + 1)\n",
    "    neighbor_weights = {r: uniform_weight for r in recv_neighbors}\n",
    "    self_weight = uniform_weight\n",
    "\n",
    "    x_dynamic = x_dynamic - step_size * X.T.mm(X.mm(x_dynamic) - y)\n",
    "    x_dynamic = bf.neighbor_allreduce(\n",
    "        x_dynamic,\n",
    "        name=\"x_dynamic\",\n",
    "        self_weight=self_weight,\n",
    "        src_weights=neighbor_weights,\n",
    "        dst_weights=send_neighbors,\n",
    "        enable_topo_check=True,\n",
    "    )\n",
    "\n",
    "    x_static = x_static - step_size * X.T.mm(X.mm(x_static) - y)\n",
    "    x_static = bf.neighbor_allreduce(x_static, name=\"x_static\")\n",
    "\n",
    "    mse_dynamic.append(torch.norm(x_dynamic - x_opt, p=2) / torch.norm(x_opt, p=2))\n",
    "    mse_static.append(torch.norm(x_static - x_opt, p=2) / torch.norm(x_opt, p=2))"
   ]
  },
  {
   "cell_type": "code",
   "execution_count": 34,
   "id": "prospective-popularity",
   "metadata": {
    "ExecuteTime": {
     "end_time": "2021-04-22T06:03:23.789564Z",
     "start_time": "2021-04-22T06:03:23.698262Z"
    }
   },
   "outputs": [],
   "source": [
    "mse_dynamic, mse_static = rc[0].pull([\"mse_dynamic\", \"mse_static\"], block=True)"
   ]
  },
  {
   "cell_type": "code",
   "execution_count": 35,
   "id": "olympic-southeast",
   "metadata": {
    "ExecuteTime": {
     "end_time": "2021-04-22T06:03:24.077013Z",
     "start_time": "2021-04-22T06:03:23.791728Z"
    }
   },
   "outputs": [
    {
     "data": {
      "text/plain": [
       "<matplotlib.legend.Legend at 0x7f9a2639d5d0>"
      ]
     },
     "execution_count": 35,
     "metadata": {},
     "output_type": "execute_result"
    },
    {
     "data": {
      "image/png": "[encoded data removed]",
      "text/plain": [
       "<Figure size 432x288 with 1 Axes>"
      ]
     },
     "metadata": {
      "needs_background": "light"
     },
     "output_type": "display_data"
    }
   ],
   "source": [
    "plt.semilogy(mse_dynamic, label=\"dynamic topology\")\n",
    "plt.semilogy(mse_static, label=\"static topology\")\n",
    "plt.legend()"
   ]
  },
  {
   "cell_type": "code",
   "execution_count": null,
   "id": "settled-malta",
   "metadata": {},
   "outputs": [],
   "source": []
  }
 ],
 "metadata": {
  "kernelspec": {
   "display_name": "Python 3",
   "language": "python",
   "name": "python3"
  },
  "language_info": {
   "codemirror_mode": {
    "name": "ipython",
    "version": 3
   },
   "file_extension": ".py",
   "mimetype": "text/x-python",
   "name": "python",
   "nbconvert_exporter": "python",
   "pygments_lexer": "ipython3",
   "version": "3.7.9"
  }
 },
 "nbformat": 4,
 "nbformat_minor": 5
}

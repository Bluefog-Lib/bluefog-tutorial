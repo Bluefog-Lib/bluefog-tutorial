{
 "cells": [
  {
   "cell_type": "code",
   "execution_count": 11,
   "id": "auburn-schema",
   "metadata": {
    "ExecuteTime": {
     "end_time": "2021-04-19T04:06:36.717515Z",
     "start_time": "2021-04-19T04:06:36.712533Z"
    }
   },
   "outputs": [],
   "source": [
    "import bluefog.torch as bf\n",
    "import matplotlib.pyplot as plt\n",
    "import numpy as np\n",
    "import networkx as nx\n",
    "import torch\n",
    "\n",
    "%matplotlib inline"
   ]
  },
  {
   "cell_type": "code",
   "execution_count": 12,
   "id": "preliminary-might",
   "metadata": {
    "ExecuteTime": {
     "end_time": "2021-04-19T04:06:37.085915Z",
     "start_time": "2021-04-19T04:06:37.073477Z"
    }
   },
   "outputs": [
    {
     "data": {
      "text/plain": [
       "[0, 1, 2, 3]"
      ]
     },
     "execution_count": 12,
     "metadata": {},
     "output_type": "execute_result"
    }
   ],
   "source": [
    "import ipyparallel as ipp\n",
    "\n",
    "rc = ipp.Client(profile=\"bluefog\")\n",
    "rc.ids"
   ]
  },
  {
   "cell_type": "code",
   "execution_count": 13,
   "id": "acoustic-laptop",
   "metadata": {
    "ExecuteTime": {
     "end_time": "2021-04-19T04:06:38.068217Z",
     "start_time": "2021-04-19T04:06:37.395813Z"
    }
   },
   "outputs": [
    {
     "name": "stdout",
     "output_type": "stream",
     "text": [
      "[stdout:0] Rank: 2, Size: 4\n",
      "[stdout:1] Rank: 3, Size: 4\n",
      "[stdout:2] Rank: 1, Size: 4\n",
      "[stdout:3] Rank: 0, Size: 4\n"
     ]
    }
   ],
   "source": [
    "%%px\n",
    "import torch\n",
    "import bluefog.torch as bf\n",
    "from bluefog.common import topology_util\n",
    "bf.init()\n",
    "\n",
    "print(f\"Rank: {bf.rank()}, Size: {bf.size()}\")"
   ]
  },
  {
   "cell_type": "markdown",
   "id": "herbal-material",
   "metadata": {
    "ExecuteTime": {
     "end_time": "2021-04-19T04:00:47.943147Z",
     "start_time": "2021-04-19T04:00:47.933038Z"
    }
   },
   "source": [
    "# Gradient Tracking Algorithm\n",
    "\n",
    "Last, we introduce another type of decentralized optimization algorithm. It is similar as EXTRA. It will not produce the average consensus bias for general topology and cost function setting. Moreover, it works with the dynamic topology case pretty well. In constrast, the EXTRA type algorithm may divergence under general dynamic topology setting. The stacked version of gradient tracking algorithm is listed as follows:\n",
    "\n",
    "\\begin{align}\n",
    "    x_{k+1} &\\;= W^{(k)}\\left(x_k - \\alpha y_k\\right)\\\\\n",
    "    y_{k+1} &\\;= W^{(k)}\\left(y_k + \\nabla f(x_{k+1}) - \\nabla f(x_k)\\right)\n",
    "\\end{align}\n",
    "\n",
    "where $W^{(k)}$ is column stochastic matrix.\n",
    "It has similar AWT versions if you apply $W^{(k)}$ on $w_k$ or $q_k$ only. \n",
    "\n",
    "For directed networks, Push-DIGing algorithm needs to further correct the consensus bias:\n",
    "\\begin{align}\n",
    "    u_{k+1} &\\;= W^{(k)}\\left(u_k - \\alpha y_k\\right)\\\\\n",
    "    v_{k+1} &\\;= W^{(k)} v_{k}  \\\\\n",
    "    x_{k+1} &\\;= u_{k+1} / v_{k+1}\\\\\n",
    "    y_{k+1} &\\;= W^{(k)}\\left(y_k + \\nabla f(x_{k+1}) - \\nabla f(x_k)\\right)\n",
    "\\end{align}\n",
    "Here we used $v_{k}$, which is just the previous correction weights $p$."
   ]
  },
  {
   "cell_type": "code",
   "execution_count": 14,
   "id": "secure-cherry",
   "metadata": {
    "ExecuteTime": {
     "end_time": "2021-04-19T04:06:38.241328Z",
     "start_time": "2021-04-19T04:06:38.216896Z"
    }
   },
   "outputs": [],
   "source": [
    "%%px\n",
    "\n",
    "def generate_data(m, n):\n",
    "    \n",
    "    A = torch.randn(m, n).to(torch.double)\n",
    "    x_o = torch.randn(n, 1).to(torch.double)\n",
    "    ns = 0.1*torch.randn(m, 1).to(torch.double)\n",
    "    b = A.mm(x_o) + ns\n",
    "        \n",
    "    return A, b"
   ]
  },
  {
   "cell_type": "markdown",
   "id": "optional-millennium",
   "metadata": {},
   "source": [
    "As we did in chapter 3, we generate the local data and use distributed gradient descent as reference point for correctness check."
   ]
  },
  {
   "cell_type": "code",
   "execution_count": 15,
   "id": "sealed-ranking",
   "metadata": {
    "ExecuteTime": {
     "end_time": "2021-04-19T04:06:38.919389Z",
     "start_time": "2021-04-19T04:06:38.892977Z"
    }
   },
   "outputs": [],
   "source": [
    "%%px\n",
    "\n",
    "def distributed_grad_descent(A, b, maxite=5000, alpha=1e-1):\n",
    "\n",
    "    x_opt = torch.zeros(n, 1, dtype=torch.double)\n",
    "\n",
    "    for _ in range(maxite):\n",
    "        # calculate local gradient \n",
    "        grad_local = A.t().mm(A.mm(x_opt) - b)\n",
    "        \n",
    "        # global gradient\n",
    "        grad = bf.allreduce(grad_local, name='gradient')\n",
    "\n",
    "        # distributed gradient descent\n",
    "        x_opt = x_opt - alpha*grad\n",
    "\n",
    "    grad_local = A.t().mm(A.mm(x_opt) - b)\n",
    "    grad = bf.allreduce(grad_local, name='gradient')  # global gradient\n",
    "\n",
    "    # evaluate the convergence of distributed gradient descent\n",
    "    # the norm of global gradient is expected to 0 (optimality condition)\n",
    "    global_grad_norm = torch.norm(grad, p=2)\n",
    "    if bf.rank() == 0:\n",
    "        print(\"[Distributed Grad Descent] Rank {}: global gradient norm: {}\".format(bf.rank(), global_grad_norm))\n",
    "\n",
    "    return x_opt"
   ]
  },
  {
   "cell_type": "code",
   "execution_count": null,
   "id": "aware-creature",
   "metadata": {
    "ExecuteTime": {
     "start_time": "2021-04-19T04:07:17.938Z"
    }
   },
   "outputs": [],
   "source": [
    "%%px\n",
    "\n",
    "m, n = 20, 5\n",
    "A, b = generate_data(m, n)\n",
    "x_opt = distributed_grad_descent(A, b, maxite=500, alpha=1e-2)"
   ]
  },
  {
   "cell_type": "code",
   "execution_count": 17,
   "id": "aboriginal-fleece",
   "metadata": {
    "ExecuteTime": {
     "end_time": "2021-04-19T04:06:39.616409Z",
     "start_time": "2021-04-19T04:06:39.591624Z"
    }
   },
   "outputs": [],
   "source": [
    "%%px \n",
    "\n",
    "def Gradient_tracking_one_step(x, y, u, v, prev_grad_local, dynamic_neighbor_gen,\n",
    "                               x_opt, A, b, alpha=1e-2):\n",
    "    # Get the update weights\n",
    "    dst_neighbors, src_neighbors = next(dynamic_neighbor_gen)\n",
    "    src_weights = {r: 1 for r in src_neighbors}\n",
    "    self_weight = 1 / (len(dst_neighbors) + 1)\n",
    "    dst_weights = {r: self_weight for r in dst_neighbors}\n",
    "    \n",
    "    # u update step: u_{k+1} = W^k (u_k - \\alpha*y_k)\n",
    "    w = u - alpha*y\n",
    "    u_new = bf.neighbor_allreduce(\n",
    "        w,  self_weight=self_weight,\n",
    "        src_weights=src_weights,\n",
    "        dst_weights=dst_weights, enable_topo_check=True)\n",
    "    # v update:  v_{k+1} = W^k v_{k}  ---   (Correction weights)\n",
    "    v_new = bf.neighbor_allreduce(\n",
    "        v,  self_weight=self_weight,\n",
    "        src_weights=src_weights,\n",
    "        dst_weights=dst_weights, enable_topo_check=True)\n",
    "    # x update: x_{k+1} = u_{k+1} / v_{k+1} (element-wise division)\n",
    "    x_new = u_new / v_new\n",
    "    # y update step: y_{k+1} = W^k (y_k + \\grad f(x_{k+1}) - \\grad f(x_{k}))\n",
    "    grad_local = A.t().mm(A.mm(x_new) - b)\n",
    "    q = y + grad_local - prev_grad_local\n",
    "    y_new = bf.neighbor_allreduce(\n",
    "        q,  self_weight=self_weight,\n",
    "        src_weights=src_weights,\n",
    "        dst_weights=dst_weights, enable_topo_check=True)\n",
    "    \n",
    "    # the relative error: |x^k-x_gloval_average|/|x_gloval_average|\n",
    "    rel_error = torch.norm(x_new-x_opt, p=2)/torch.norm(x_opt,p=2)\n",
    "\n",
    "    return x_new, y_new, u_new, v_new, grad_local, rel_error"
   ]
  },
  {
   "cell_type": "code",
   "execution_count": 24,
   "id": "refined-labor",
   "metadata": {
    "ExecuteTime": {
     "end_time": "2021-04-19T04:07:00.853861Z",
     "start_time": "2021-04-19T04:07:00.404201Z"
    }
   },
   "outputs": [
    {
     "name": "stdout",
     "output_type": "stream",
     "text": [
      "[stdout:3] \n",
      "Progress 0/250\n",
      "Progress 10/250\n",
      "Progress 20/250\n",
      "Progress 30/250\n",
      "Progress 40/250\n",
      "Progress 50/250\n",
      "Progress 60/250\n",
      "Progress 70/250\n",
      "Progress 80/250\n",
      "Progress 90/250\n",
      "Progress 100/250\n",
      "Progress 110/250\n",
      "Progress 120/250\n",
      "Progress 130/250\n",
      "Progress 140/250\n",
      "Progress 150/250\n",
      "Progress 160/250\n",
      "Progress 170/250\n",
      "Progress 180/250\n",
      "Progress 190/250\n",
      "Progress 200/250\n",
      "Progress 210/250\n",
      "Progress 220/250\n",
      "Progress 230/250\n",
      "Progress 240/250\n"
     ]
    }
   ],
   "source": [
    "%%px\n",
    "\n",
    "bf.set_topology(topology_util.MeshGrid2DGraph(bf.size()))\n",
    "dynamic_neighbor_gen = topology_util.GetDynamicOnePeerSendRecvRanks(\n",
    "    bf.load_topology(), bf.rank())\n",
    "\n",
    "maxite = 250\n",
    "x = torch.zeros(n, 1, dtype=torch.double)     # Initialize x\n",
    "u = x.clone()\n",
    "y = x.clone()\n",
    "prev_grad_local = x.clone()\n",
    "v = torch.ones(n, 1, dtype=torch.double)      # Initialize v as all one vector\n",
    "\n",
    "rel_error = torch.zeros((maxite, 1))\n",
    "for ite in range(maxite):\n",
    "    \n",
    "    if bf.rank()==0:\n",
    "        if ite%10 == 0:\n",
    "            print('Progress {}/{}'.format(ite, maxite))\n",
    "        \n",
    "    x, y, u, v, prev_grad_local, rel_error[ite] = Gradient_tracking_one_step(\n",
    "        x, y, u, v, prev_grad_local,\n",
    "        dynamic_neighbor_gen, x_opt, A, b, alpha=1e-2) # you can adjust alpha to different values"
   ]
  },
  {
   "cell_type": "code",
   "execution_count": 25,
   "id": "aboriginal-external",
   "metadata": {
    "ExecuteTime": {
     "end_time": "2021-04-19T04:07:01.475805Z",
     "start_time": "2021-04-19T04:07:01.199189Z"
    }
   },
   "outputs": [
    {
     "data": {
      "text/plain": [
       "[<matplotlib.lines.Line2D at 0x7ff01ab2bad0>]"
      ]
     },
     "execution_count": 25,
     "metadata": {},
     "output_type": "execute_result"
    },
    {
     "data": {
      "image/png": "[encoded data removed]",
      "text/plain": [
       "<Figure size 432x288 with 1 Axes>"
      ]
     },
     "metadata": {
      "needs_background": "light"
     },
     "output_type": "display_data"
    }
   ],
   "source": [
    "plt.semilogy(rc[0]['rel_error'])"
   ]
  },
  {
   "cell_type": "code",
   "execution_count": null,
   "id": "suitable-antigua",
   "metadata": {},
   "outputs": [],
   "source": []
  }
 ],
 "metadata": {
  "kernelspec": {
   "display_name": "Python 3",
   "language": "python",
   "name": "python3"
  },
  "language_info": {
   "codemirror_mode": {
    "name": "ipython",
    "version": 3
   },
   "file_extension": ".py",
   "mimetype": "text/x-python",
   "name": "python",
   "nbconvert_exporter": "python",
   "pygments_lexer": "ipython3",
   "version": "3.7.9"
  }
 },
 "nbformat": 4,
 "nbformat_minor": 5
}

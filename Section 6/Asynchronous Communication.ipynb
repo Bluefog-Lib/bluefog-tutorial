{
 "cells": [
  {
   "cell_type": "markdown",
   "id": "historic-discipline",
   "metadata": {
    "id": "0d95c3756b09"
   },
   "source": [
    "# Asynchronous communication\n",
    "\n",
    "In general speaking, asynchronous communication is when you send a message without expecting an immediate response. For example, you send an email. I open and respond to the email several hours later. In contrast, synchronous communication is when you send a message and the recipient processes the information immediately. All previous communications are synchronous communications because all agents have to actively involved with the communication operation in the same time. It is common in cluster and HPC since the computers are dedicated to do one thing at one time. Then, why do we care about the asynchronous communication?\n",
    "\n",
    "The main advantages of asynchronous communication over the synchronous communication is it can avoid the idel times.\n",
    "In the synchronous communication pattern, all agents has to start and end the communication at the same time. If some agents is delayed, all others have to wait for that one. On the other hand, the asynchronous communication eventible bought more complexity into the code and you may also face some data racing problem.\n",
    "Bluefog provided the convenient functionality for asynchronous communication. We will use the examples to show the traits of asynchronous communication.\n",
    "\n",
    "There are two main goals of this notebook. The first is to introduce the asynchronous communication in BlueFog. In order to achieve that, we have to introduce the concept the `window`, whihc is an area of memory, which follows some protocols that allow others to modify it. The modification operation, i.e. data transfer, is called one-sided communication. Second, we will revisit the average consensus and push-sum algorithm and exam them under the asynchronous situation. You see the behavior of the same algorithm under synchronous and asynchronous scenario may differ."
   ]
  },
  {
   "cell_type": "code",
   "execution_count": 27,
   "id": "regional-reach",
   "metadata": {
    "id": "16e02cc90976"
   },
   "outputs": [],
   "source": [
    "import torch\n",
    "import networkx as nx\n",
    "import ipyparallel as ipp\n",
    "import matplotlib.pyplot as plt\n",
    "\n",
    "%matplotlib inline"
   ]
  },
  {
   "cell_type": "code",
   "execution_count": 28,
   "id": "joined-maple",
   "metadata": {
    "id": "579523c07451"
   },
   "outputs": [
    {
     "data": {
      "text/plain": [
       "[0, 1, 2, 3]"
      ]
     },
     "execution_count": 28,
     "metadata": {},
     "output_type": "execute_result"
    }
   ],
   "source": [
    "rc = ipp.Client(profile=\"bluefog\")\n",
    "rc.block=True\n",
    "rc.ids"
   ]
  },
  {
   "cell_type": "code",
   "execution_count": 29,
   "id": "unusual-question",
   "metadata": {
    "id": "5282f167c4f0"
   },
   "outputs": [],
   "source": [
    "%%px\n",
    "import torch\n",
    "import bluefog.torch as bf\n",
    "\n",
    "bf.init()"
   ]
  },
  {
   "cell_type": "markdown",
   "id": "modified-cuisine",
   "metadata": {
    "id": "3e86b6d16213"
   },
   "source": [
    "# Asynchronous Operation in BlueFog\n",
    "\n",
    "Asynchronous operation may have different meaning in different context. \n",
    "> In BlueFog, *asynchronous operation* means the operation executing in agent $k$ is independent from the operation running in  other agent $k'$. \n",
    "\n",
    "*Note the difference between the asynchronous operation and nonblocking operation introduced before.*\n",
    "\n",
    "For example, `neighbor_allreduce()` is NOT asynchronous operation because it will be finished in agent $k$ only when the other agents $k'$ finished the call as well. In other words, all collective communication operation in BlueFog is classified as *synchronous* operation. Similarly, the basic send-recieve communication pair can be the asynchronous operation since the send operation in agent $k$ is dependent in the recieve operation of other agent.\n"
   ]
  },
  {
   "cell_type": "markdown",
   "id": "accompanied-texas",
   "metadata": {
    "id": "2ad61a3269cf"
   },
   "source": [
    "BlueFog built the asynchronous operation and algorithm is based upon the *One-sided communication ops*, which is introduced in MPI-2. The most notable feature of one-sided communication is indicated by the name that allows the communication ops of one process to be decoupled from the behavior of another process. [Here](https://pages.tacc.utexas.edu/~eijkhout/pcse/html/mpi-onesided.html) is a nice introduction for the MPI one-sided communication ops.  \n",
    "\n",
    "This decoupled behavior can bring us several of benefits. For instance, under heterogenous environment, some agent may have better hardware and some get worse one. For example, you may have several GPUs but some were bought with latest model but some were bought years ago. Hence, the computation time can vary among agents. Under the one-sided communications, every one can immediately continue the process without awaiting.\n"
   ]
  },
  {
   "cell_type": "markdown",
   "id": "obvious-declaration",
   "metadata": {
    "id": "85679b98c211"
   },
   "source": [
    "Now, we formally introduce the asynchronous operation in BlueFog. The first concept is called **window**. A window in each processor (agent) is an area of memory, available to one-sided transfers.\n",
    "\n",
    "<img src=\"one-sided-window.jpeg\" alt=\"window.jpeg\" width=\"700\"/>"
   ]
  },
  {
   "cell_type": "markdown",
   "id": "rural-cologne",
   "metadata": {
    "id": "81b67dc8eb37"
   },
   "source": [
    "Therefore, creating a window is always the first step to use the one-sided communication.\n",
    "In Bluefog, each window must be associated with a unique name, which will be the identity to operate the window in the future. The following example shows how you can create a window named `x`. The memory size of that window is exactly the same size as the the shape of tensor you provided."
   ]
  },
  {
   "cell_type": "code",
   "execution_count": 5,
   "id": "olympic-doctor",
   "metadata": {
    "id": "c8548b269339"
   },
   "outputs": [
    {
     "name": "stdout",
     "output_type": "stream",
     "text": [
      "[stdout:0] tensor([0.])\n",
      "[stdout:1] tensor([2.])\n",
      "[stdout:2] tensor([1.])\n",
      "[stdout:3] tensor([3.])\n"
     ]
    }
   ],
   "source": [
    "%%px\n",
    "topo = bf.load_topology()\n",
    "x = torch.FloatTensor([bf.rank()])\n",
    "bf.win_create(x, name=\"x\")\n",
    "print(x)"
   ]
  },
  {
   "cell_type": "markdown",
   "id": "radical-relative",
   "metadata": {
    "id": "f21c424f3032"
   },
   "source": [
    "The shape and the name of one window is immutable, i.e., as long as you create it, you cannot modify it.\n",
    "If you want to change it, you have to manually free it through `bf.win_free` then create a new one through `bf.win_create` again:"
   ]
  },
  {
   "cell_type": "code",
   "execution_count": 6,
   "id": "banned-remove",
   "metadata": {
    "id": "9ed49246d48b"
   },
   "outputs": [
    {
     "name": "stdout",
     "output_type": "stream",
     "text": [
      "[stdout:0] tensor([0., 0.])\n",
      "[stdout:1] tensor([2., 2.])\n",
      "[stdout:2] tensor([1., 1.])\n",
      "[stdout:3] tensor([3., 3.])\n"
     ]
    }
   ],
   "source": [
    "%%px\n",
    "x = torch.FloatTensor([bf.rank(), bf.rank()])\n",
    "# If you uncomment the following code, you will encouter\n",
    "# the assertion failure. It is because we require each\n",
    "# window has a unique name.\n",
    "# assert bf.win_create(x, name=\"x\")\n",
    "\n",
    "# However, you can free previous window named \"x\".\n",
    "# and create a new one\n",
    "assert bf.win_free(name=\"x\")\n",
    "assert bf.win_create(x, name=\"x\")\n",
    "print(x)"
   ]
  },
  {
   "cell_type": "markdown",
   "id": "provincial-bubble",
   "metadata": {
    "id": "351d200467d9"
   },
   "source": [
    "A unique property of `win_create` in BlueFog is that it is related with the underlying topology actually. Let's plot the default topology first."
   ]
  },
  {
   "cell_type": "code",
   "execution_count": 7,
   "id": "modern-glucose",
   "metadata": {
    "id": "5c5fa650c75e"
   },
   "outputs": [
    {
     "data": {
      "image/png": "[encoded data removed]",
      "text/plain": [
       "<Figure size 432x288 with 1 Axes>"
      ]
     },
     "metadata": {},
     "output_type": "display_data"
    }
   ],
   "source": [
    "topo = rc[0].pull(\"topo\", targets=0)\n",
    "nx.draw_circular(topo)"
   ]
  },
  {
   "cell_type": "markdown",
   "id": "compliant-france",
   "metadata": {
    "id": "59bc4fec2493"
   },
   "source": [
    "We assume there are four agents and the topology used is Exponential 2 graph. What happened after `win_create` called is illustrated:\n",
    "<img src=\"bf_win_create.png\" alt=\"win_create.png\" width=\"600\"/> \n",
    "\n",
    "After this call, each process will allocate the number of incoming neighbor’s windows as buffer, which is illustrated in the figure as red square. Each buffer is dedicated to one neighbor. You don’t need to know which one is dedicated to which neighbor because these buffers are invisible to the python frontend. The only way to interact with them is through the win_update."
   ]
  },
  {
   "cell_type": "markdown",
   "id": "toxic-wheat",
   "metadata": {
    "id": "a3ac91df83fa"
   },
   "source": [
    "## Interacte with window object in BlueFog\n",
    "\n",
    "Two basic operation to interact the data in the window is `win_get` and `win_put` operation. As their name indicate, they allow to put the data in local memory to window of the remote windows or get the data in remote memory into local window.\n",
    "\n",
    "<img src=\"one-sided-getput.jpeg\" alt=\"getput.jpeg\" width=\"700\"/>\n",
    "\n",
    "win_get is one of three main methods to exchange the information between the processes in window. By default, it will get (fetch) the incoming neighbor’s local value into the its own buffer. Note it doesn’t need the sender to do anything."
   ]
  },
  {
   "cell_type": "code",
   "execution_count": 8,
   "id": "fresh-rebate",
   "metadata": {
    "id": "ba542b064df4"
   },
   "outputs": [
    {
     "name": "stdout",
     "output_type": "stream",
     "text": [
      "[stdout:0] tensor([0., 0.])\n"
     ]
    }
   ],
   "source": [
    "%%px\n",
    "\n",
    "if bf.rank() == 0:\n",
    "    bf.win_get(name=\"x\")\n",
    "    print(x)  # the value of x is not changed."
   ]
  },
  {
   "cell_type": "markdown",
   "id": "detailed-tragedy",
   "metadata": {
    "id": "80fc3cbbb8b0"
   },
   "source": [
    "As you see before, the value of `x` is still 0 afte the `win_get` operations from the neighbors. Why it don't update the value? It is because when you get the value from your neighbors, BlueFog do not update that value into the main window memory. Instead, it just put that value into the buffer of that window for future usage as shown in the following figure.\n",
    "\n",
    "The main reason to design like this style is like non-blocking function:\n",
    "\n",
    "> ```python\n",
    "handle = bf.win_get_nonblocking(name=\"x\")\n",
    "SomeOperation(x)\n",
    "bf.win_wait(handle)\n",
    "> ```\n",
    "\n",
    "Now, you should not worry about data racing problem -- whether the value `x` is applied some operation first or replaced by win_get value or in the mixing situation.\n"
   ]
  },
  {
   "cell_type": "markdown",
   "id": "noticed-belfast",
   "metadata": {
    "id": "9d1ffae748ec"
   },
   "source": [
    "<img src=\"bf_win_get.png\" alt=\"win_get.png\" width=\"600\"/> "
   ]
  },
  {
   "cell_type": "markdown",
   "id": "prime-embassy",
   "metadata": {
    "id": "27c3dd79c7fc"
   },
   "source": [
    "In order to interact with the value in the buffer, you have to explicitly call the `win_update` function, which is the bridge to connect the value of buffers (corresponding to the neighbor value) with the local value. It has two functionalities. One is to update the buffer to make sure that the neighbor value, which may be changed through win_put or win_get, is synchronized and visible to local memory. Another is it updates the local value to the average of self and neighbor’s value.\n",
    "\n",
    "<img src=\"bf_win_update.png\" alt=\"bf_win_update.png\" width=\"600\"/> "
   ]
  },
  {
   "cell_type": "code",
   "execution_count": 9,
   "id": "difficult-greek",
   "metadata": {
    "id": "c2d88d236ca3"
   },
   "outputs": [
    {
     "name": "stdout",
     "output_type": "stream",
     "text": [
      "[stdout:0] 0: tensor([1.6667, 1.6667])\n",
      "[stdout:1] 2: tensor([2., 2.])\n",
      "[stdout:2] 1: tensor([1., 1.])\n",
      "[stdout:3] 3: tensor([3., 3.])\n"
     ]
    }
   ],
   "source": [
    "%%px\n",
    "bf.win_update(name=\"x\")\n",
    "print(f\"{bf.rank()}: {x}\")"
   ]
  },
  {
   "cell_type": "markdown",
   "id": "desperate-brook",
   "metadata": {
    "id": "58b5280d3416"
   },
   "source": [
    "Now you see that the value of `x` in rank 0 is updated. (In four neighbor and exp2 graph case, it's value is 1.66 because $(0+2+3)/3$. Meanwhile, the value of `x` in other ranks are unchanged."
   ]
  },
  {
   "cell_type": "markdown",
   "id": "stylish-washer",
   "metadata": {
    "id": "3860562ecc89"
   },
   "source": [
    "Similar as the `neighbor_allreduce` function, `win_get()` has `src_weights` argument to control the weight of receiving information and which neighbor to recieve the information."
   ]
  },
  {
   "cell_type": "code",
   "execution_count": 10,
   "id": "inside-merchandise",
   "metadata": {
    "id": "fa49bef97a16"
   },
   "outputs": [
    {
     "name": "stdout",
     "output_type": "stream",
     "text": [
      "[stdout:0] Rank 0: tensor([0.6000])\n",
      "[stdout:1] Rank 2: tensor([2.])\n",
      "[stdout:2] Rank 1: tensor([1.])\n",
      "[stdout:3] Rank 3: tensor([3.])\n"
     ]
    }
   ],
   "source": [
    "%%px\n",
    "y = (torch.FloatTensor([bf.rank()]))\n",
    "assert bf.win_create(y, name=\"y\")\n",
    "if bf.rank() == 0:\n",
    "    bf.win_get(src_weights={bf.size()-1: 0.5}, name=\"y\")\n",
    "    bf.win_update(name=\"y\", self_weight=1.0, neighbor_weights={bf.size()-1: 0.4})\n",
    "print(f\"Rank {bf.rank()}: {y}\")\n",
    "assert bf.win_free(name=\"y\")"
   ]
  },
  {
   "cell_type": "markdown",
   "id": "interpreted-jefferson",
   "metadata": {
    "id": "855bd34fcf0c"
   },
   "source": [
    "Let's see the status of window object in above code step-by-step (assuming 4 nodes under exponential-2 graph):\n",
    "1. All ranks create create a window with initial value: \\[rank\\]\n",
    "2. For rank 0: \n",
    "    The window intialized \\[0\\] for self and \\[0,0\\] for neighbors.\n",
    "    It called `win_get` the value from agent 3 only with weight 0.5. Hence, after this step the window object became:\n",
    "    \\[0\\] for self and \\[0, 1.5\\].\n",
    "3. For rank 0:\n",
    "    It updates local value with self value 1.0 and neighbor weights 0.4 for rank 3, this produces $(0 \\times 1.0 + 1.5  \\times 0.4)=0.6$.\n",
    "4. Last, all agents printed their local value. You saw the value of `x` is 0.4 as we calculated and freed the window.\n"
   ]
  },
  {
   "cell_type": "markdown",
   "id": "technological-drilling",
   "metadata": {
    "id": "96f0840b6751"
   },
   "source": [
    "There are another operations `win_put` shown in the next figure, which is very similar as `win_get`. So we leave the user to explore this function.\n",
    "\n",
    "<img src=\"bf_win_put.png\" alt=\"bf_win_put.png\" width=\"600\"/> "
   ]
  },
  {
   "cell_type": "markdown",
   "id": "digital-collector",
   "metadata": {
    "id": "1197069c5ebb"
   },
   "source": [
    "# Asynchronous \"Average Consensus\" algorithm\n",
    "\n",
    "Now you can use these window operation to build simple asynchonous Average Consensus. "
   ]
  },
  {
   "cell_type": "code",
   "execution_count": 30,
   "id": "preceding-review",
   "metadata": {
    "id": "ff4966013697"
   },
   "outputs": [],
   "source": [
    "%%px\n",
    "bf.win_free() # free all windows in case \"x\" is used.\n",
    "# Set up the average consensus problem.\n",
    "x = torch.randn(1, dtype=torch.double)\n",
    "x_bar = bf.allreduce(x, average=True)\n",
    "\n",
    "assert bf.win_create(x, name=\"x\", zero_init=True)"
   ]
  },
  {
   "cell_type": "code",
   "execution_count": 31,
   "id": "refined-rings",
   "metadata": {
    "id": "717cef3103b5"
   },
   "outputs": [],
   "source": [
    "%%px\n",
    "def async_consensus_step(x):\n",
    "    bf.win_put(x, name=\"x\")\n",
    "    bf.win_update(name=\"x\")  # notice it is inplace update"
   ]
  },
  {
   "cell_type": "code",
   "execution_count": 32,
   "id": "centered-closure",
   "metadata": {
    "id": "eecc2320cd36"
   },
   "outputs": [],
   "source": [
    "x_bar = rc[0].pull(\"x_bar\", block=True)\n",
    "x_list = []\n",
    "for i in range(15):\n",
    "    %px async_consensus_step(x)\n",
    "    x_list.append(rc[:].pull(\"x\", block=True))"
   ]
  },
  {
   "cell_type": "code",
   "execution_count": 33,
   "id": "copyrighted-obligation",
   "metadata": {
    "id": "96d9a5d1b12a"
   },
   "outputs": [
    {
     "data": {
      "text/plain": [
       "Text(0, 0.5, 'value')"
      ]
     },
     "execution_count": 33,
     "metadata": {},
     "output_type": "execute_result"
    },
    {
     "data": {
      "image/png": "[encoded data removed]",
      "text/plain": [
       "<Figure size 432x288 with 1 Axes>"
      ]
     },
     "metadata": {
      "needs_background": "light"
     },
     "output_type": "display_data"
    }
   ],
   "source": [
    "plt.plot(x_list)\n",
    "plt.axhline(x_bar, linestyle=\"--\", color=\"k\")\n",
    "plt.legend([f\"agent {i}\" for i in range(len(x_list[0]))])\n",
    "plt.xlabel(\"relative time\")\n",
    "plt.ylabel(\"value\")"
   ]
  },
  {
   "cell_type": "markdown",
   "id": "collectible-negative",
   "metadata": {
    "id": "ca7dada69292"
   },
   "source": [
    "You see from the above the figure that all agents reached some consensus value but that value is not the same as the mean of initial value. That is mainly because the asynchronous essense breaks the unbias property of average consensus algorithm. Fortunately, it is easy to correct its bias and the algorithm is the same push-sum algorithm we introduced in previous section. But before we present the push-sum algorithm in asynchronous style, let's exam the key feature of asynchronous communication -- time."
   ]
  },
  {
   "cell_type": "markdown",
   "id": "personal-template",
   "metadata": {
    "id": "30ca69433b04"
   },
   "source": [
    "# Asynchronous versus synchronous communication in time\n",
    "\n",
    "As mentioned before, in the case that some agents work fast and some agents work slow, the synchronous algorithm has to wait until the slowerest one finished meanwhile asynchronous one do not. The speed of agents usually depends on lots of factors including hardward, system scheduling, network congestion, etc. For this tutorial, we use `sleep` function to illustrate the slow worker behavior."
   ]
  },
  {
   "cell_type": "code",
   "execution_count": 34,
   "id": "split-robert",
   "metadata": {
    "id": "340c229ef2e4"
   },
   "outputs": [],
   "source": [
    "%%px\n",
    "import time\n",
    "def async_consensus_step_with_sleep(x):\n",
    "    if bf.rank() == 0:\n",
    "        time.sleep(0.5)\n",
    "    bf.win_put(x, name=\"x\")\n",
    "    bf.win_update(name=\"x\")  # notice it is inplace update\n",
    "    \n",
    "def sync_consensus_step_with_sleep(x):\n",
    "    if bf.rank() == 0:\n",
    "        time.sleep(0.5)\n",
    "    y = bf.neighbor_allreduce(x)\n",
    "    return y"
   ]
  },
  {
   "cell_type": "code",
   "execution_count": 50,
   "id": "completed-clerk",
   "metadata": {
    "id": "c2388309ef65"
   },
   "outputs": [
    {
     "name": "stdout",
     "output_type": "stream",
     "text": [
      "[stdout:0] Rank 3 took 10.731921195983887 seconds\n",
      "[stdout:1] Rank 0 took 10.72654104232788 seconds\n",
      "[stdout:2] Rank 1 took 10.72762393951416 seconds\n",
      "[stdout:3] Rank 2 took 10.725753784179688 seconds\n"
     ]
    }
   ],
   "source": [
    "%%px\n",
    "\n",
    "x = torch.randn(1, dtype=torch.double)\n",
    "t_start = time.time()\n",
    "for _ in range(20):\n",
    "    x = sync_consensus_step_with_sleep(x)\n",
    "duration = time.time() - t_start\n",
    "print(f\"Rank {bf.rank()} took {duration} seconds\")"
   ]
  },
  {
   "cell_type": "code",
   "execution_count": 51,
   "id": "pending-diagram",
   "metadata": {
    "id": "c442c5c28141"
   },
   "outputs": [
    {
     "name": "stdout",
     "output_type": "stream",
     "text": [
      "[stdout:0] Rank 3 took 0.42594003677368164 seconds\n",
      "[stdout:1] Rank 0 took 10.355370044708252 seconds\n",
      "[stdout:2] Rank 1 took 0.5432538986206055 seconds\n",
      "[stdout:3] Rank 2 took 0.451002836227417 seconds\n"
     ]
    }
   ],
   "source": [
    "%%px\n",
    "\n",
    "x = torch.randn(1, dtype=torch.double)\n",
    "x_bar = bf.allreduce(x, average=True)\n",
    "bf.win_free()\n",
    "assert bf.win_create(x, name=\"x\", zero_init=True)\n",
    "t_start = time.time()\n",
    "for _ in range(20):\n",
    "    async_consensus_step_with_sleep(x)\n",
    "duration = time.time() - t_start\n",
    "print(f\"Rank {bf.rank()} took {duration} seconds\")"
   ]
  },
  {
   "cell_type": "markdown",
   "id": "interracial-bankruptcy",
   "metadata": {
    "id": "788e909440ae"
   },
   "source": [
    "# Asynchronous Push-Sum Consensus Algorithm\n",
    "\n",
    "Recall the Push-Sum consensus algorithm in synchronized behavior is\n",
    "\n",
    "For each agent $i$, run it in parallel:\n",
    "$$\n",
    "    x_{i, k+1} = \\sum_{j\\in \\mathcal{N}_i} w_{ij}^{(k)} x_{j,k}\\\\\n",
    "    p_{i, k+1} = \\sum_{j\\in \\mathcal{N}_i} w_{ij}^{(k)} p_{j,k}\\\\\n",
    "    y_{i, k+1} = x_{i, k+1} / p_{i, k+1}\n",
    "$$\n",
    "\n",
    "In asynchronous style, the mathametical equation becomes tricky to represent it. we are no longer able to use the global iteration/time $k$. Instead, we will use the logical event counter $e$, which acts similar as iteration $k$ but with different definition.\n",
    "\n",
    "[TODO] Add a figure of global counter\n",
    "\n",
    "There are two ways to descibe it -- with *push* view or *pull* view, one is based on the events that the data is pushed to the neighbors and another is based on the events that the data is recieved from neighbors. It is easy to describe the `push` view in words but not easy to write in words. So we will first use words to describte the push mode in words then give the equation description in equations: \n",
    "\n",
    "- Push view:<br />\n",
    "    When at agent $i$ is ready to push a information: Split the data $x_i$ into $|\\mathcal{N}_i|$ pieces. Each piece only holds the partial of $x_i$ according to the weights, i.e. $a_{ij} x_i$ and do the same thing for $p_i$ as well. Then push this information to the corresponding neighbors for adding. \n",
    "    \n",
    "- Pull view:<br />\n",
    "Let's use $e$ to denote the global event counter and assume that $j$ is the agent rank that triggers the event $e$.\n",
    "\\begin{align}\n",
    "    x_{i, e+1} =&\\; x_{i, e} + w_{ij}^{(k)} x_{j,k}\\;\\; {\\rm if}\\; i\\neq j\\;\\; {\\rm else}\\; w_{jj} x_{j, e}\\\\\n",
    "    p_{i, e+1} =&\\; x_{i, e} + w_{ij}^{(k)} p_{j,k}\\;\\; {\\rm if}\\; i\\neq j\\;\\; {\\rm else}\\; w_{jj} p_{j, e}\\\\\n",
    "    y_{i, e+1} =&\\; x_{i, e+1} / p_{i, e_i+1}\n",
    "\\end{align}"
   ]
  },
  {
   "cell_type": "markdown",
   "id": "arbitrary-uncertainty",
   "metadata": {
    "id": "1d02af648b51"
   },
   "source": [
    "If you do not get the intuition of equations, it will be much clear if we re-write above equations over all agents by introducing the stacking matrix:\n",
    "\n",
    "$$\n",
    "    X_{e} = \\left[ \\begin{array}{c}\n",
    "    -x^T_{1,e}- \\\\ \n",
    "    -x^T_{2,e}- \\\\ \n",
    "   \\cdots \\\\\n",
    "   -x^T_{N, e}-\n",
    "  \\end{array} \\right]\n",
    "$$\n",
    "\n",
    "Under this notation, the first equation of **synchronous** mode is equivalent to \n",
    "$$\n",
    "    X_{k+1} = W^{(k)} X_k\n",
    "$$\n",
    "where matrix $W^{(k)} = [w_{ij}]$ (it is doubly stochastic matrix).\n",
    "\n",
    "The first equation of **asynchronous** mode is\n",
    "$$\n",
    "    X_{k+1} = W^{(e)} X_k\n",
    "$$\n",
    "where matrix $W^{(e)}$ is (again assuming $i'$ is the agent that trigger the event $e$.)\n",
    "$$\n",
    "    W^{(e)} = \\left[ \\begin{array}{ccccc}\n",
    "    1 &      & w_{1i'} &   &\\\\\n",
    "      &\\ddots& \\vdots &   &\\\\\n",
    "      &      & w_{i'i'}   &   &\\\\\n",
    "      &      & \\vdots & \\ddots&\\\\\n",
    "      &      & w_{Ni'} &   & 1\n",
    "  \\end{array} \\right]\n",
    "$$\n",
    "Note now that $W^{(e)}$ is no longer a doubly stochastic matrix but a column stochastic matrix, i.e. the summation of each column is 1 but not the sum of rows. One key property that you should verify, we call it mass conservation property, is \n",
    "$$\n",
    "    \\sum_{i} x_{i, e} =  \\sum_{i} x_{i, e'},\\;\\; \\forall e, e'\n",
    "$$"
   ]
  },
  {
   "cell_type": "markdown",
   "id": "liked-pavilion",
   "metadata": {
    "id": "a64645ccbe08"
   },
   "source": [
    "It should be clear now that we need a new function called `win_accumulate`, which is similar to `win_put` that sends data to remote window object. But it accumulate (add) the value onto the remove window object instead of overwriting the data.\n",
    "<img src=\"bf_win_accum.png\" alt=\"bf_win_accumulate.png\" width=\"600\"/> \n",
    "\n",
    "Now let's use a simple example to illustrate the behavior of `win_accunulate`."
   ]
  },
  {
   "cell_type": "code",
   "execution_count": 15,
   "id": "appointed-tucson",
   "metadata": {
    "id": "264fb577cefe"
   },
   "outputs": [
    {
     "name": "stdout",
     "output_type": "stream",
     "text": [
      "[stdout:2] \n",
      "tensor([2.], dtype=torch.float64)\n",
      "tensor([3.], dtype=torch.float64)\n"
     ]
    }
   ],
   "source": [
    "%%px\n",
    "y = torch.DoubleTensor([bf.rank() + 1])\n",
    "# zero_init will create the buffer with 0.\n",
    "bf.win_create(y, name=\"y\", zero_init=True)\n",
    "if bf.rank() == 0:\n",
    "    bf.win_accumulate(y, name=\"y\")\n",
    "if bf.rank() == 1:\n",
    "    # neighbor_weights: Dict[int: float] -- rank to weight.\n",
    "    bf.win_update(name=\"y\", self_weight=1.0, neighbor_weights={0: 1.0})\n",
    "    print(y)\n",
    "bf.barrier()\n",
    "if bf.rank() == 1:\n",
    "    bf.win_update(name=\"y\", self_weight=1.0, neighbor_weights={0: 1.0})\n",
    "    print(y)"
   ]
  },
  {
   "cell_type": "markdown",
   "id": "altered-vegetarian",
   "metadata": {
    "id": "84d30a628c77"
   },
   "source": [
    "First, the argument `self_weight` and `neighbor_weights` in `win_update` is the same as previous `neighbot_allreduce` argument. It controls the weights to do the update. In this case, we meant update the main memory of window `y` equals to its previous value times $1.0$ plus the buffer memory value for agent `0` with weights 1.0.\n",
    "\n",
    "Hence, the first print you saw is $2.0$ because self value in main memory is initialized as $2$ and buffer value for neighbor is $0$ due to zero initialization. You may curious that isn't `bf.accumulate` of agent $0$ will accumulate value $1$ into the buffer? Actually it is not likely because note in agent `0` and `1` these two function is executed almost simultaneously. Hence, the buffer hasn't been updated yet. However, after we added `barrier` function, it is guaranteed that `win_update` in agent $0$ is finished. Hence, the second print funciton, you will see the value is 3 because the buffer value is updated into 1 at that time.\n",
    "\n",
    "Now, let see how to build asynchronous push-sum algorithm:"
   ]
  },
  {
   "cell_type": "code",
   "execution_count": 16,
   "id": "bottom-appliance",
   "metadata": {
    "id": "cd204540d8b3"
   },
   "outputs": [],
   "source": [
    "%%px\n",
    "# Set up the average consensus problem.\n",
    "x = torch.randn(10, dtype=torch.double)\n",
    "x_bar = bf.allreduce(x, average=True)\n",
    "mse = [torch.norm(x-x_bar, p=2) / torch.norm(x_bar, p=2)]\n",
    "p = torch.DoubleTensor([1.0])\n",
    "x_ext = torch.cat([x, p], 0)\n",
    "# Instead of initalize the buffer with same value as x_ext,\n",
    "# we initialize it as zero for accumulation.\n",
    "bf.win_create(x_ext, name=\"x_ext\", zero_init=True) \n",
    "outdegree = len(bf.out_neighbor_ranks())\n",
    "indegree = len(bf.in_neighbor_ranks())\n",
    "\n",
    "dst_weights = {rank: 1.0 / (outdegree + 1) for rank in bf.out_neighbor_ranks()}\n",
    "self_weight = 1/(1+outdegree)"
   ]
  },
  {
   "cell_type": "markdown",
   "id": "minor-leone",
   "metadata": {
    "id": "578c7fd04d26"
   },
   "source": [
    "But it is not enough with accumulate only. \n",
    "We designate the local buffer of one agent for all incoming neighbors. This means the `win_accumulate` from different agents sends to common destination agent is independent. This property is very crucial to algorithm implementation because you no longer need to consider the data racing problem between the two agents sends to common destinations.\n",
    "On the other hand, it is possible that the `win_update` and the corresponding `win_accumulate` from other agents operate on the same window object *simulatenously*.\n",
    "Since agent $k$ cannot know when the incoming neighbor agent $k'$ will execute the `win_accumulate`, it is impossible to write the code completely avoid that. Consider the following example, the `win_update` at Node 1 may read the old value or the updated value from Node 2, but you cannot control.\n",
    "\n",
    "<img src=\"win_race.png\" alt=\"win_race.png\" width=\"400\"/> \n",
    "\n",
    "This data racing can be problematic for the push-sum algorithm. It can easily break the key mass conservation property  of push-sum algorithm, i.e., the sum of $p$ and $x$ over all agent is always constant.\n",
    "\n",
    "\n",
    "Fortunately, it is very easy to avoid this situation through the **distributed mutex**. It is same usage as normal mutext that when agent $k$ want to update its local window object it has to acquire the mutex first. If it cannot acquire the mutex. it has to wait until the mutex is available. The difference from the normal mutex is that this mutex can also be acquired by neighbor agents. Hence, when an agent $k'$ wants to accumulate some value to the remote window object at agent $k$, it has to acquire the mutex of agent $k'$ first as well.\n",
    "To use this distributed mutex, you just need to set the `require_mutex` argument in `win_accumulate` to be True. (`win_put` and `win_get` have the same argument as well.)"
   ]
  },
  {
   "cell_type": "markdown",
   "id": "silver-europe",
   "metadata": {
    "id": "69edcd9c448d"
   },
   "source": [
    "Besides the `win_accumulate` which is the writing side of function, we also need to change the behavior of `win_update` for asynchronous push-sum as well, which is the reading side. One obvious thing is that we need to set `require_mutex` as true. A less obvious thing is that we need clean the buffer in the window. Note by default `win_update` only compute the average value between self and neighbors and leave the value in the buffer untouched. In this case, `win_accumulate` will continue adding the values. Instead, what we want is move the value from buffer to local value, i.e. let self value to be the sum of self and neighbor, and  let the neighbor value to be zero. It is doable though `win_update` with the proper `self_weight`, `neighbor_weigth` and `reset` argument. But it is boilerplate, so we introduce a new function `win_update_then_collect`.\n",
    "\n",
    "Now we are ready to present the asynchronous push-sum algorithm:"
   ]
  },
  {
   "cell_type": "code",
   "execution_count": 17,
   "id": "happy-chrome",
   "metadata": {
    "id": "9ec5f46e3542"
   },
   "outputs": [],
   "source": [
    "%%px\n",
    "def push_sum_alg(x, self_weight, dst_weights, name):\n",
    "    global mse\n",
    "    bf.win_accumulate(x, self_weight=self_weight,\n",
    "                      dst_weights=dst_weights, name=name, require_mutex=True)\n",
    "    bf.win_update_then_collect(name=\"x_ext\")\n",
    "    x, associated_p = x_ext[:-1], x_ext[-1]\n",
    "    mse.append(torch.norm(x/associated_p-x_bar, p=2) / torch.norm(x_bar, p=2))\n",
    "    return x_ext"
   ]
  },
  {
   "cell_type": "code",
   "execution_count": 18,
   "id": "finite-hacker",
   "metadata": {
    "id": "69f833f4d063"
   },
   "outputs": [
    {
     "name": "stdout",
     "output_type": "stream",
     "text": [
      "iteration 95\r"
     ]
    }
   ],
   "source": [
    "for i in range(100):\n",
    "    if i % 5 == 0:\n",
    "        print(f\"iteration {i}\", end=\"\\r\")\n",
    "    %px x_ext = push_sum_alg(x_ext, self_weight, dst_weights, name=\"x_ext\")"
   ]
  },
  {
   "cell_type": "code",
   "execution_count": 19,
   "id": "reduced-yemen",
   "metadata": {
    "id": "d5cdfdb1b8fd"
   },
   "outputs": [
    {
     "name": "stdout",
     "output_type": "stream",
     "text": [
      "[stdout:0] associated p at 0 is 1.00427521234524\n",
      "[stdout:1] associated p at 2 is 0.991455734193527\n",
      "[stdout:2] associated p at 1 is 1.0000002021018388\n",
      "[stdout:3] associated p at 3 is 1.004276265183896\n"
     ]
    }
   ],
   "source": [
    "%%px \n",
    "# Do not forget to sync at last!\n",
    "bf.barrier()\n",
    "bf.win_update_then_collect(name=\"x_ext\")\n",
    "x, associated_p = x_ext[:-1], x_ext[-1]\n",
    "print(f\"associated p at {bf.rank()} is {associated_p}\")\n",
    "mse.append(torch.norm(x/associated_p - x_bar, p=2) /\n",
    "           torch.norm(x_bar, p=2))\n",
    "assert bf.win_free(name=\"x_ext\")"
   ]
  },
  {
   "cell_type": "code",
   "execution_count": 20,
   "id": "exclusive-denver",
   "metadata": {
    "id": "57e79aaa4083"
   },
   "outputs": [
    {
     "data": {
      "text/plain": [
       "Text(0.5, 0, 'Local update counts')"
      ]
     },
     "execution_count": 20,
     "metadata": {},
     "output_type": "execute_result"
    },
    {
     "data": {
      "image/png": "[encoded data removed]",
      "text/plain": [
       "<Figure size 432x288 with 1 Axes>"
      ]
     },
     "metadata": {
      "needs_background": "light"
     },
     "output_type": "display_data"
    }
   ],
   "source": [
    "mse_list = rc[:].pull(\"mse\")\n",
    "for i, mse in enumerate(mse_list):\n",
    "    plt.semilogy(mse, label=\"agent \" + str(i))\n",
    "plt.legend()\n",
    "plt.xlabel(\"Local update counts\")"
   ]
  },
  {
   "cell_type": "markdown",
   "id": "ordinary-faculty",
   "metadata": {
    "id": "1250e1dedcaa"
   },
   "source": [
    "# Asynchronous push-sum algorithm over the dynamic topology\n",
    "\n",
    "Last, let's present the push-sum combining the asynchronous operation over dynamic topology.\n",
    "The nice convergence property will gurantee that under very mild condition, push-sum algorithm will converge to the mean of all agents no matter what the order of asynchronous operations between agents is and how different the dynamic topologies change with time."
   ]
  },
  {
   "cell_type": "code",
   "execution_count": 21,
   "id": "breathing-pontiac",
   "metadata": {
    "id": "710c26ce81da"
   },
   "outputs": [],
   "source": [
    "%%px\n",
    "bf.win_free()\n",
    "\n",
    "# Set up the average consensus problem.\n",
    "x = torch.randn(10, dtype=torch.double)\n",
    "x_bar = bf.allreduce(x, average=True)\n",
    "mse = [torch.norm(x-x_bar, p=2) / torch.norm(x_bar, p=2)]\n",
    "p = torch.DoubleTensor([1.0])\n",
    "x_ext = torch.cat([x, p], 0)\n",
    "# Instead of initalize the buffer with same value as x_ext,\n",
    "# we initialize it as zero for accumulation.\n",
    "bf.win_create(x_ext, name=\"x_ext\", zero_init=True) \n",
    "outdegree = len(bf.out_neighbor_ranks())\n",
    "indegree = len(bf.in_neighbor_ranks())"
   ]
  },
  {
   "cell_type": "code",
   "execution_count": 22,
   "id": "graduate-latter",
   "metadata": {
    "id": "e43962f48408"
   },
   "outputs": [],
   "source": [
    "%%px\n",
    "def dynamic_push_sum_alg(i, x, self_weight, dst_weights, name):\n",
    "    global mse\n",
    "    num_out_neighbors = len(bf.out_neighbor_ranks())\n",
    "    sent_neighbor = bf.out_neighbor_ranks()[i % num_out_neighbors]\n",
    "    dst_weights = {sent_neighbor: 0.5}\n",
    "    self_weight = 0.5\n",
    "    bf.win_accumulate(x, self_weight=self_weight,\n",
    "                      dst_weights=dst_weights, name=name, require_mutex=True)\n",
    "    bf.win_update_then_collect(name=\"x_ext\")\n",
    "    x, associated_p = x_ext[:-1], x_ext[-1]\n",
    "    mse.append(torch.norm(x/associated_p-x_bar, p=2) / torch.norm(x_bar, p=2))\n",
    "    return x_ext"
   ]
  },
  {
   "cell_type": "code",
   "execution_count": 23,
   "id": "sapphire-guitar",
   "metadata": {
    "id": "4c4c91ce980f"
   },
   "outputs": [
    {
     "name": "stdout",
     "output_type": "stream",
     "text": [
      "iteration 95\r"
     ]
    }
   ],
   "source": [
    "for i in range(100):\n",
    "    if i % 5 == 0:\n",
    "        print(f\"iteration {i}\", end=\"\\r\")\n",
    "    rc[:].push({\"i\": i})\n",
    "    %px x_ext = dynamic_push_sum_alg(i, x_ext, self_weight, dst_weights, name=\"x_ext\")"
   ]
  },
  {
   "cell_type": "code",
   "execution_count": 24,
   "id": "cellular-japanese",
   "metadata": {
    "id": "191197546cc6"
   },
   "outputs": [
    {
     "name": "stdout",
     "output_type": "stream",
     "text": [
      "[stdout:0] associated p at 0 is 0.832190677523613\n",
      "[stdout:1] associated p at 2 is 1.5\n",
      "[stdout:2] associated p at 1 is 0.667809322476387\n",
      "[stdout:3] associated p at 3 is 1.0\n"
     ]
    }
   ],
   "source": [
    "%%px \n",
    "# Do not forget to sync at last!\n",
    "bf.barrier()\n",
    "bf.win_update_then_collect(name=\"x_ext\")\n",
    "x, associated_p = x_ext[:-1], x_ext[-1]\n",
    "print(f\"associated p at {bf.rank()} is {associated_p}\")\n",
    "mse.append(torch.norm(x/associated_p - x_bar, p=2) /\n",
    "           torch.norm(x_bar, p=2))\n",
    "assert bf.win_free(name=\"x_ext\")"
   ]
  },
  {
   "cell_type": "code",
   "execution_count": 25,
   "id": "deadly-president",
   "metadata": {
    "id": "9b5218a8046e"
   },
   "outputs": [
    {
     "data": {
      "text/plain": [
       "Text(0.5, 0, 'Local update counts')"
      ]
     },
     "execution_count": 25,
     "metadata": {},
     "output_type": "execute_result"
    },
    {
     "data": {
      "image/png": "[encoded data removed]",
      "text/plain": [
       "<Figure size 432x288 with 1 Axes>"
      ]
     },
     "metadata": {
      "needs_background": "light"
     },
     "output_type": "display_data"
    }
   ],
   "source": [
    "mse_list = rc[:].pull(\"mse\")\n",
    "for i, mse in enumerate(mse_list):\n",
    "    plt.semilogy(mse, label=\"agent \" + str(i))\n",
    "plt.legend()\n",
    "plt.xlabel(\"Local update counts\")"
   ]
  },
  {
   "cell_type": "markdown",
   "id": "experienced-aluminum",
   "metadata": {
    "id": "210556144ea8"
   },
   "source": [
    "# Other features\n",
    "\n",
    "Similar as the `neighbor_allreduce`, we also provided the nonblocking version of all window functions, such as `win_put_nonblocking`, etc. We didn't illustrated in this notebook. The reader can try to use the nonblocking version of window operation to build an asynchronous Adapt-With-Combination algorithm, which combines nonblocking, asynchrnous, gradient, consensus communication features."
   ]
  }
 ],
 "metadata": {
  "colab": {
   "name": "Asynchronous Communication.ipynb",
   "toc_visible": true
  },
  "kernelspec": {
   "display_name": "Python 3",
   "name": "python3"
  }
 },
 "nbformat": 4,
 "nbformat_minor": 0
}

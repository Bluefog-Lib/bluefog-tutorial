{
 "cells": [
  {
   "cell_type": "markdown",
   "id": "historic-discipline",
   "metadata": {
    "heading_collapsed": true
   },
   "source": [
    "# Asynchronous communication\n",
    "\n",
    "## Background \n",
    "\n",
    "## Goal"
   ]
  },
  {
   "cell_type": "code",
   "execution_count": 86,
   "id": "regional-reach",
   "metadata": {
    "ExecuteTime": {
     "end_time": "2021-01-26T05:55:10.888590Z",
     "start_time": "2021-01-26T05:55:10.695304Z"
    },
    "hidden": true
   },
   "outputs": [],
   "source": [
    "import torch\n",
    "import networkx as nx\n",
    "import ipyparallel as ipp\n",
    "import matplotlib.pyplot as plt\n",
    "\n",
    "%matplotlib inline"
   ]
  },
  {
   "cell_type": "code",
   "execution_count": 134,
   "id": "joined-maple",
   "metadata": {
    "ExecuteTime": {
     "end_time": "2021-01-26T07:46:55.402774Z",
     "start_time": "2021-01-26T07:46:55.364804Z"
    },
    "hidden": true
   },
   "outputs": [
    {
     "data": {
      "text/plain": [
       "[0, 1, 2, 3]"
      ]
     },
     "execution_count": 134,
     "metadata": {},
     "output_type": "execute_result"
    }
   ],
   "source": [
    "rc = ipp.Client(profile=\"bluefog\")\n",
    "rc.block=True\n",
    "rc.ids"
   ]
  },
  {
   "cell_type": "code",
   "execution_count": 136,
   "id": "unusual-question",
   "metadata": {
    "ExecuteTime": {
     "end_time": "2021-01-26T07:47:30.480116Z",
     "start_time": "2021-01-26T07:47:29.442730Z"
    },
    "hidden": true
   },
   "outputs": [],
   "source": [
    "%%px\n",
    "import torch\n",
    "import bluefog.torch as bf\n",
    "\n",
    "bf.init()"
   ]
  },
  {
   "cell_type": "markdown",
   "id": "modified-cuisine",
   "metadata": {
    "heading_collapsed": true
   },
   "source": [
    "# Asynchronous Operation in BlueFog\n",
    "\n",
    "Asynchronous operation may have different meaning in different context. \n",
    "> In BlueFog, *asynchronous operation* means the operation executing in agent $k$ is independent from the operation running in  other agent $k'$. \n",
    "\n",
    "*Note the difference between the asynchronous operation and nonblocking operation introduced before.*\n",
    "\n",
    "For example, `neighbor_allreduce()` is NOT asynchronous operation because it will be finished in agent $k$ only when the other agents $k'$ finished the call as well. In other words, all collective communication operation in BlueFog is classified as *synchronous* operation. Similarly, the basic send-recieve communication pair can be the asynchronous operation since the send operation in agent $k$ is dependent in the recieve operation of other agent.\n"
   ]
  },
  {
   "cell_type": "markdown",
   "id": "accompanied-texas",
   "metadata": {
    "hidden": true
   },
   "source": [
    "BlueFog built the asynchronous operation and algorithm is based upon the *One-sided communication ops*, which is introduced in MPI-2. The most notable feature of one-sided communication is indicated by the name that allows the communication ops of one process to be decoupled from the behavior of another process. [Here](https://pages.tacc.utexas.edu/~eijkhout/pcse/html/mpi-onesided.html) is a nice introduction for the MPI one-sided communication ops.  \n",
    "\n",
    "This decoupled behavior can bring us lots of benefits:\n",
    "\n",
    "- Heterogenous Env?\n",
    "- Idle time?\n",
    "- New code pattern?"
   ]
  },
  {
   "cell_type": "markdown",
   "id": "obvious-declaration",
   "metadata": {
    "hidden": true
   },
   "source": [
    "Now, we formally introduce the asynchronous operation in BlueFog. The first concept is called **window**. A window in each processor (agent) is an area of memory, available to one-sided transfers.\n",
    "\n",
    "<img src=\"one-sided-window.jpeg\" alt=\"window.jpeg\" width=\"700\"/>"
   ]
  },
  {
   "cell_type": "markdown",
   "id": "rural-cologne",
   "metadata": {
    "hidden": true
   },
   "source": [
    "Therefore, creating a window is always the first step to use the one-sided communication.\n",
    "In Bluefog, each window must be associated with a unique name, which will be the identity to operate the window in the future. The following example shows how you can create a window named `x`. The memory size of that window is exactly the same size as the the shape of tensor you provided."
   ]
  },
  {
   "cell_type": "code",
   "execution_count": 88,
   "id": "olympic-doctor",
   "metadata": {
    "ExecuteTime": {
     "end_time": "2021-01-26T05:55:30.439739Z",
     "start_time": "2021-01-26T05:55:29.444681Z"
    },
    "hidden": true
   },
   "outputs": [
    {
     "name": "stdout",
     "output_type": "stream",
     "text": [
      "[stdout:0] tensor([2.])\n",
      "[stdout:1] tensor([1.])\n",
      "[stdout:2] tensor([0.])\n",
      "[stdout:3] tensor([3.])\n"
     ]
    }
   ],
   "source": [
    "%%px\n",
    "topo = bf.load_topology()\n",
    "x = torch.FloatTensor([bf.rank()])\n",
    "bf.win_create(x, name=\"x\")\n",
    "print(x)"
   ]
  },
  {
   "cell_type": "markdown",
   "id": "radical-relative",
   "metadata": {
    "hidden": true
   },
   "source": [
    "The shape and the name of one window is immutable, i.e., as long as you create it, you cannot modify it.\n",
    "If you want to change it, you have to manually free it through `bf.win_free` then create a new one through `bf.win_create` again:"
   ]
  },
  {
   "cell_type": "code",
   "execution_count": 89,
   "id": "banned-remove",
   "metadata": {
    "ExecuteTime": {
     "end_time": "2021-01-26T05:55:40.220197Z",
     "start_time": "2021-01-26T05:55:40.071272Z"
    },
    "hidden": true
   },
   "outputs": [
    {
     "name": "stdout",
     "output_type": "stream",
     "text": [
      "[stdout:0] tensor([2., 2.])\n",
      "[stdout:1] tensor([1., 1.])\n",
      "[stdout:2] tensor([0., 0.])\n",
      "[stdout:3] tensor([3., 3.])\n"
     ]
    }
   ],
   "source": [
    "%%px\n",
    "x = torch.FloatTensor([bf.rank(), bf.rank()])\n",
    "# If you uncomment the following code, you will encouter\n",
    "# the assertion failure. It is because we require each\n",
    "# window has a unique name.\n",
    "# assert bf.win_create(x, name=\"x\")\n",
    "\n",
    "# However, you can free previous window named \"x\".\n",
    "# and create a new one\n",
    "assert bf.win_free(name=\"x\")\n",
    "assert bf.win_create(x, name=\"x\")\n",
    "print(x)"
   ]
  },
  {
   "cell_type": "markdown",
   "id": "provincial-bubble",
   "metadata": {
    "hidden": true
   },
   "source": [
    "A unique property of `win_create` in BlueFog is that it is related with the underlying topology actually. Let's plot the default topology first."
   ]
  },
  {
   "cell_type": "code",
   "execution_count": 90,
   "id": "modern-glucose",
   "metadata": {
    "ExecuteTime": {
     "end_time": "2021-01-26T05:55:41.805527Z",
     "start_time": "2021-01-26T05:55:41.397105Z"
    },
    "hidden": true
   },
   "outputs": [
    {
     "data": {
      "image/png": "[encoded data removed]",
      "text/plain": [
       "<Figure size 432x288 with 1 Axes>"
      ]
     },
     "metadata": {},
     "output_type": "display_data"
    }
   ],
   "source": [
    "topo = rc[0].pull(\"topo\", targets=0)\n",
    "nx.draw_circular(topo)"
   ]
  },
  {
   "cell_type": "markdown",
   "id": "compliant-france",
   "metadata": {
    "hidden": true
   },
   "source": [
    "We assume there are four agents and the topology used is Exponential 2 graph. What happened after `win_create` called is illustrated:\n",
    "<img src=\"bf_win_create.png\" alt=\"win_create.png\" width=\"600\"/> \n",
    "\n",
    "After this call, each process will allocate the number of incoming neighbor’s windows as buffer, which is illustrated in the figure as red square. Each buffer is dedicated to one neighbor. You don’t need to know which one is dedicated to which neighbor because these buffers are invisible to the python frontend. The only way to interact with them is through the win_update."
   ]
  },
  {
   "cell_type": "markdown",
   "id": "toxic-wheat",
   "metadata": {
    "hidden": true
   },
   "source": [
    "## Interacte with window object in BlueFog\n",
    "\n",
    "Two basic operation to interact the data in the window is `win_get` and `win_put` operation. As their name indicate, they allow to put the data in local memory to window of the remote windows or get the data in remote memory into local window.\n",
    "\n",
    "<img src=\"one-sided-getput.jpeg\" alt=\"getput.jpeg\" width=\"700\"/>\n",
    "\n",
    "win_get is one of three main methods to exchange the information between the processes in window. By default, it will get (fetch) the incoming neighbor’s local value into the its own buffer. Note it doesn’t need the sender to do anything."
   ]
  },
  {
   "cell_type": "code",
   "execution_count": 79,
   "id": "fresh-rebate",
   "metadata": {
    "ExecuteTime": {
     "end_time": "2021-01-25T06:31:31.413129Z",
     "start_time": "2021-01-25T06:31:31.372144Z"
    },
    "hidden": true
   },
   "outputs": [
    {
     "name": "stdout",
     "output_type": "stream",
     "text": [
      "[stdout:2] tensor([0., 0.])\n"
     ]
    }
   ],
   "source": [
    "%%px\n",
    "\n",
    "if bf.rank() == 0:\n",
    "    bf.win_get(name=\"x\")\n",
    "    print(x)  # the value of x is not changed."
   ]
  },
  {
   "cell_type": "markdown",
   "id": "detailed-tragedy",
   "metadata": {
    "hidden": true
   },
   "source": [
    "As you see before, the value of `x` is still 0 afte the `win_get` operations from the neighbors. Why it don't update the value? It is because when you get the value from your neighbors, BlueFog do not update that value into the main window memory. Instead, it just put that value into the buffer of that window for future usage as shown in the following figure.\n",
    "\n",
    "The main reason to design like this style is like non-blocking function:\n",
    "\n",
    "> ```python\n",
    "handle = bf.win_get_nonblocking(name=\"x\")\n",
    "SomeOperation(x)\n",
    "bf.win_wait(handle)\n",
    "> ```\n",
    "\n",
    "Now, you should not worry about data racing problem -- whether the value `x` is applied some operation first or replaced by win_get value or in the mixing situation.\n"
   ]
  },
  {
   "cell_type": "markdown",
   "id": "noticed-belfast",
   "metadata": {
    "ExecuteTime": {
     "end_time": "2021-01-24T04:28:32.035059Z",
     "start_time": "2021-01-24T04:28:32.031607Z"
    },
    "hidden": true
   },
   "source": [
    "<img src=\"bf_win_get.png\" alt=\"win_get.png\" width=\"600\"/> "
   ]
  },
  {
   "cell_type": "markdown",
   "id": "prime-embassy",
   "metadata": {
    "hidden": true
   },
   "source": [
    "In order to interact with the value in the buffer, you have to explicitly call the `win_update` function, which is the bridge to connect the value of buffers (corresponding to the neighbor value) with the local value. It has two functionalities. One is to update the buffer to make sure that the neighbor value, which may be changed through win_put or win_get, is synchronized and visible to local memory. Another is it updates the local value to the average of self and neighbor’s value.\n",
    "\n",
    "<img src=\"bf_win_update.png\" alt=\"bf_win_update.png\" width=\"600\"/> "
   ]
  },
  {
   "cell_type": "code",
   "execution_count": 80,
   "id": "difficult-greek",
   "metadata": {
    "ExecuteTime": {
     "end_time": "2021-01-25T06:31:33.674042Z",
     "start_time": "2021-01-25T06:31:33.633453Z"
    },
    "hidden": true
   },
   "outputs": [
    {
     "name": "stdout",
     "output_type": "stream",
     "text": [
      "[stdout:0] 3: tensor([3., 3.])\n",
      "[stdout:1] 1: tensor([1., 1.])\n",
      "[stdout:2] 0: tensor([1.6667, 1.6667])\n",
      "[stdout:3] 2: tensor([2., 2.])\n"
     ]
    }
   ],
   "source": [
    "%%px\n",
    "bf.win_update(name=\"x\")\n",
    "print(f\"{bf.rank()}: {x}\")"
   ]
  },
  {
   "cell_type": "markdown",
   "id": "desperate-brook",
   "metadata": {
    "hidden": true
   },
   "source": [
    "Now you see that the value of `x` in rank 0 is updated. (In four neighbor and exp2 graph case, it's value is 1.66 because $(0+2+3)/3$. Meanwhile, the value of `x` in other ranks are unchanged."
   ]
  },
  {
   "cell_type": "markdown",
   "id": "stylish-washer",
   "metadata": {
    "hidden": true
   },
   "source": [
    "Similar as the `neighbor_allreduce` function, `win_get()` has `src_weights` argument to control the weight of receiving information and which neighbor to recieve the information."
   ]
  },
  {
   "cell_type": "code",
   "execution_count": 112,
   "id": "inside-merchandise",
   "metadata": {
    "ExecuteTime": {
     "end_time": "2021-01-26T06:29:17.293030Z",
     "start_time": "2021-01-26T06:29:17.167153Z"
    },
    "hidden": true
   },
   "outputs": [
    {
     "name": "stdout",
     "output_type": "stream",
     "text": [
      "[stdout:0] Rank 2: tensor([2.])\n",
      "[stdout:1] Rank 1: tensor([1.])\n",
      "[stdout:2] Rank 0: tensor([0.6000])\n",
      "[stdout:3] Rank 3: tensor([3.])\n"
     ]
    }
   ],
   "source": [
    "%%px\n",
    "y = (torch.FloatTensor([bf.rank()]))\n",
    "assert bf.win_create(y, name=\"y\")\n",
    "if bf.rank() == 0:\n",
    "    bf.win_get(src_weights={bf.size()-1: 0.5}, name=\"y\")\n",
    "    bf.win_update(name=\"y\", self_weight=1.0, neighbor_weights={bf.size()-1: 0.4})\n",
    "print(f\"Rank {bf.rank()}: {y}\")\n",
    "assert bf.win_free(name=\"y\")"
   ]
  },
  {
   "cell_type": "markdown",
   "id": "interpreted-jefferson",
   "metadata": {
    "hidden": true
   },
   "source": [
    "Let's see the status of window object in above code step-by-step (assuming 4 nodes under exponential-2 graph):\n",
    "1. All ranks create create a window with initial value: \\[rank\\]\n",
    "2. For rank 0: \n",
    "    The window intialized \\[0\\] for self and \\[0,0\\] for neighbors.\n",
    "    It called `win_get` the value from agent 3 only with weight 0.5. Hence, after this step the window object became:\n",
    "    \\[0\\] for self and \\[0, 1.5\\].\n",
    "3. For rank 0:\n",
    "    It updates local value with self value 1.0 and neighbor weights 0.4 for rank 3, this produces $(0 \\times 1.0 + 1.5  \\times 0.4)=0.6$.\n",
    "4. Last, all agents printed their local value. You saw the value of `x` is 0.4 as we calculated and freed the window.\n"
   ]
  },
  {
   "cell_type": "markdown",
   "id": "technological-drilling",
   "metadata": {
    "hidden": true
   },
   "source": [
    "There are another operations `win_put` shown in the next figure, which is very similar as `win_get`. So we leave the user to explore this function.\n",
    "\n",
    "<img src=\"bf_win_put.png\" alt=\"bf_win_put.png\" width=\"600\"/> "
   ]
  },
  {
   "cell_type": "markdown",
   "id": "digital-collector",
   "metadata": {
    "heading_collapsed": true
   },
   "source": [
    "# Asynchronous \"Average Consensus\" algorithm\n",
    "\n",
    "Now you can use these window operation to build simple asynchonous Average Consensus. "
   ]
  },
  {
   "cell_type": "code",
   "execution_count": 138,
   "id": "preceding-review",
   "metadata": {
    "ExecuteTime": {
     "end_time": "2021-01-26T07:47:59.573663Z",
     "start_time": "2021-01-26T07:47:59.452182Z"
    },
    "hidden": true
   },
   "outputs": [],
   "source": [
    "%%px\n",
    "try:\n",
    "    bf.win_free(name=\"x\")\n",
    "except:\n",
    "    pass\n",
    "# Set up the average consensus problem.\n",
    "x = torch.randn(1, dtype=torch.double)\n",
    "x_bar = bf.allreduce(x, average=True)\n",
    "\n",
    "assert bf.win_create(x, name=\"x\", zero_init=True)"
   ]
  },
  {
   "cell_type": "code",
   "execution_count": 139,
   "id": "refined-rings",
   "metadata": {
    "ExecuteTime": {
     "end_time": "2021-01-26T07:48:01.521860Z",
     "start_time": "2021-01-26T07:48:01.499811Z"
    },
    "hidden": true
   },
   "outputs": [],
   "source": [
    "%%px\n",
    "def async_consensus_step(x):\n",
    "    bf.win_put(x, name=\"x\")\n",
    "    bf.win_update(name=\"x\")  # notice it is inplace update"
   ]
  },
  {
   "cell_type": "code",
   "execution_count": 140,
   "id": "centered-closure",
   "metadata": {
    "ExecuteTime": {
     "end_time": "2021-01-26T07:48:02.772883Z",
     "start_time": "2021-01-26T07:48:02.163191Z"
    },
    "hidden": true
   },
   "outputs": [],
   "source": [
    "x_bar = rc[0].pull(\"x_bar\", block=True)\n",
    "x_list = []\n",
    "for i in range(15):\n",
    "    %px async_consensus_step(x)\n",
    "    x_list.append(rc[:].pull(\"x\", block=True))"
   ]
  },
  {
   "cell_type": "code",
   "execution_count": 143,
   "id": "copyrighted-obligation",
   "metadata": {
    "ExecuteTime": {
     "end_time": "2021-01-27T05:52:43.390297Z",
     "start_time": "2021-01-27T05:52:42.703001Z"
    },
    "hidden": true
   },
   "outputs": [
    {
     "data": {
      "text/plain": [
       "Text(0, 0.5, 'value')"
      ]
     },
     "execution_count": 143,
     "metadata": {},
     "output_type": "execute_result"
    },
    {
     "data": {
      "image/png": "[encoded data removed]",
      "text/plain": [
       "<Figure size 432x288 with 1 Axes>"
      ]
     },
     "metadata": {
      "needs_background": "light"
     },
     "output_type": "display_data"
    }
   ],
   "source": [
    "plt.plot(x_list)\n",
    "plt.axhline(x_bar, linestyle=\"--\", color=\"k\")\n",
    "plt.legend([f\"agent {i}\" for i in range(len(x_list[0]))])\n",
    "plt.xlabel(\"relative time\")\n",
    "plt.ylabel(\"value\")"
   ]
  },
  {
   "cell_type": "markdown",
   "id": "collectible-negative",
   "metadata": {
    "ExecuteTime": {
     "end_time": "2021-01-26T07:45:30.631401Z",
     "start_time": "2021-01-26T07:45:30.617469Z"
    },
    "hidden": true
   },
   "source": [
    "You see from the above the figure that all agents reached some consensus value but that value is not the same as the mean of initial value. That is mainly because the asynchronous essense breaks the unbias property of average consensus algorithm. Fortunately, it is easy to correct its bias and the algorithm is the same push-sum algorithm we introduced in previous section."
   ]
  },
  {
   "cell_type": "markdown",
   "id": "interracial-bankruptcy",
   "metadata": {
    "heading_collapsed": true
   },
   "source": [
    "# Asynchronous Push-Sum Consensus Algorithm\n",
    "\n",
    "Recall the Push-Sum consensus algorithm in synchronized behavior is\n",
    "\n",
    "For each agent $i$, run it in parallel:\n",
    "$$\n",
    "    x_{i, k+1} = \\sum_{j\\in \\mathcal{N}_i} w_{ij}^{(k)} x_{j,k}\\\\\n",
    "    p_{i, k+1} = \\sum_{j\\in \\mathcal{N}_i} w_{ij}^{(k)} p_{j,k}\\\\\n",
    "    y_{i, k+1} = x_{i, k+1} / p_{i, k+1}\n",
    "$$\n",
    "\n",
    "In asynchronous style, the mathametical equation becomes tricky to represent it. we are no longer able to use the global iteration/time $k$. Instead, we will use the logical event counter $e$, which acts similar as iteration $k$ but with different definition.\n",
    "\n",
    "[TODO] Add a figure of global counter\n",
    "\n",
    "There are two ways to descibe it -- with *push* view or *pull* view, one is based on the events that the data is pushed to the neighbors and another is based on the events that the data is recieved from neighbors. It is easy to describe the `push` view in words but not easy to write in words. So we will first use words to describte the push mode in words then give the equation description in equations: \n",
    "\n",
    "- Push view:<br />\n",
    "    When at agent $i$ is ready to push a information: Split the data $x_i$ into $|\\mathcal{N}_i|$ pieces. Each piece only holds the partial of $x_i$ according to the weights, i.e. $a_{ij} x_i$ and do the same thing for $p_i$ as well. Then push this information to the corresponding neighbors for adding. \n",
    "    \n",
    "- Pull view:<br />\n",
    "Let's use $e$ to denote the global event counter and assume that $j$ is the agent rank that triggers the event $e$.\n",
    "\\begin{align}\n",
    "    x_{i, e+1} =&\\; x_{i, e} + w_{ij}^{(k)} x_{j,k}\\;\\; {\\rm if}\\; i\\neq j\\;\\; {\\rm else}\\; w_{jj} x_{j, e}\\\\\n",
    "    p_{i, e+1} =&\\; x_{i, e} + w_{ij}^{(k)} p_{j,k}\\;\\; {\\rm if}\\; i\\neq j\\;\\; {\\rm else}\\; w_{jj} p_{j, e}\\\\\n",
    "    y_{i, e+1} =&\\; x_{i, e+1} / p_{i, e_i+1}\n",
    "\\end{align}"
   ]
  },
  {
   "cell_type": "markdown",
   "id": "arbitrary-uncertainty",
   "metadata": {
    "hidden": true
   },
   "source": [
    "If you do not get the intuition of equations, it will be much clear if we re-write above equations over all agents by introducing the stacking matrix:\n",
    "\n",
    "$$\n",
    "    X_{e} = \\left[ \\begin{array}{c}\n",
    "    -x^T_{1,e}- \\\\ \n",
    "    -x^T_{2,e}- \\\\ \n",
    "   \\cdots \\\\\n",
    "   -x^T_{N, e}-\n",
    "  \\end{array} \\right]\n",
    "$$\n",
    "\n",
    "Under this notation, the first equation of **synchronous** mode is equivalent to \n",
    "$$\n",
    "    X_{k+1} = W^{(k)} X_k\n",
    "$$\n",
    "where matrix $W^{(k)} = [w_{ij}]$ (it is doubly stochastic matrix).\n",
    "\n",
    "The first equation of **asynchronous** mode is\n",
    "$$\n",
    "    X_{k+1} = W^{(e)} X_k\n",
    "$$\n",
    "where matrix $W^{(e)}$ is (again assuming $i'$ is the agent that trigger the event $e$.)\n",
    "$$\n",
    "    W^{(e)} = \\left[ \\begin{array}{ccccc}\n",
    "    1 &      & w_{1i'} &   &\\\\\n",
    "      &\\ddots& \\vdots &   &\\\\\n",
    "      &      & w_{i'i'}   &   &\\\\\n",
    "      &      & \\vdots & \\ddots&\\\\\n",
    "      &      & w_{Ni'} &   & 1\n",
    "  \\end{array} \\right]\n",
    "$$\n",
    "Note now that $W^{(e)}$ is no longer a doubly stochastic matrix but a column stochastic matrix, i.e. the summation of each column is 1 but not the sum of rows. One key property that you should verify, we call it mass conservation property, is \n",
    "$$\n",
    "    \\sum_{i} x_{i, e} =  \\sum_{i} x_{i, e'},\\;\\; \\forall e, e'\n",
    "$$"
   ]
  },
  {
   "cell_type": "markdown",
   "id": "liked-pavilion",
   "metadata": {
    "hidden": true
   },
   "source": [
    "It should be clear now that we need a new function called `win_accumulate`, which is similar to `win_put` that sends data to remote window object. But it accumulate (add) the value onto the remove window object instead of overwriting the data.\n",
    "<img src=\"bf_win_accum.png\" alt=\"bf_win_accumulate.png\" width=\"600\"/> "
   ]
  },
  {
   "cell_type": "code",
   "execution_count": null,
   "id": "appointed-tucson",
   "metadata": {
    "hidden": true
   },
   "outputs": [],
   "source": [
    "%%px\n",
    "y = torch.DoubleTensor([bf.rank() + 1])\n",
    "bf.win_create(y, name=\"y\")\n",
    "if bf.rank() == 0:\n",
    "    bf.win_accumulate()"
   ]
  },
  {
   "cell_type": "code",
   "execution_count": 145,
   "id": "bottom-appliance",
   "metadata": {
    "ExecuteTime": {
     "end_time": "2021-01-27T06:33:17.308512Z",
     "start_time": "2021-01-27T06:21:01.735499Z"
    },
    "hidden": true
   },
   "outputs": [
    {
     "ename": "KeyboardInterrupt",
     "evalue": "",
     "output_type": "error",
     "traceback": [
      "\u001b[0;31m---------------------------------------------------------------------------\u001b[0m",
      "\u001b[0;31mKeyboardInterrupt\u001b[0m                         Traceback (most recent call last)",
      "\u001b[0;32m<ipython-input-145-7d8e299c489a>\u001b[0m in \u001b[0;36m<module>\u001b[0;34m\u001b[0m\n\u001b[0;32m----> 1\u001b[0;31m \u001b[0mget_ipython\u001b[0m\u001b[0;34m(\u001b[0m\u001b[0;34m)\u001b[0m\u001b[0;34m.\u001b[0m\u001b[0mrun_cell_magic\u001b[0m\u001b[0;34m(\u001b[0m\u001b[0;34m'px'\u001b[0m\u001b[0;34m,\u001b[0m \u001b[0;34m''\u001b[0m\u001b[0;34m,\u001b[0m \u001b[0;34m'# Set up the average consensus problem.\\nx = torch.randn(10, dtype=torch.double)\\nx_bar = bf.allreduce(x, average=True)\\nmse = [torch.norm(x-x_bar, p=2) / torch.norm(x_bar, p=2)]\\np = torch.DoubleTensor([1.0])\\nx_ext = torch.cat([x, p], 0)\\n# Instead of initalize the buffer with same value as x_ext,\\n# we initialize it as zero for accumulation.\\nbf.win_create(x_ext, name=\"x_ext\", zero_init=True) \\noutdegree = len(bf.out_neighbor_ranks())\\nindegree = len(bf.in_neighbor_ranks())\\n\\ndst_weights = {rank: 1.0 / (outdegree + 1) for rank in bf.out_neighbor_ranks()}\\nself_weight = 1/(1+outdegree)\\n'\u001b[0m\u001b[0;34m)\u001b[0m\u001b[0;34m\u001b[0m\u001b[0;34m\u001b[0m\u001b[0m\n\u001b[0m",
      "\u001b[0;32m~/anaconda3/lib/python3.7/site-packages/IPython/core/interactiveshell.py\u001b[0m in \u001b[0;36mrun_cell_magic\u001b[0;34m(self, magic_name, line, cell)\u001b[0m\n\u001b[1;32m   2356\u001b[0m             \u001b[0;32mwith\u001b[0m \u001b[0mself\u001b[0m\u001b[0;34m.\u001b[0m\u001b[0mbuiltin_trap\u001b[0m\u001b[0;34m:\u001b[0m\u001b[0;34m\u001b[0m\u001b[0;34m\u001b[0m\u001b[0m\n\u001b[1;32m   2357\u001b[0m                 \u001b[0margs\u001b[0m \u001b[0;34m=\u001b[0m \u001b[0;34m(\u001b[0m\u001b[0mmagic_arg_s\u001b[0m\u001b[0;34m,\u001b[0m \u001b[0mcell\u001b[0m\u001b[0;34m)\u001b[0m\u001b[0;34m\u001b[0m\u001b[0;34m\u001b[0m\u001b[0m\n\u001b[0;32m-> 2358\u001b[0;31m                 \u001b[0mresult\u001b[0m \u001b[0;34m=\u001b[0m \u001b[0mfn\u001b[0m\u001b[0;34m(\u001b[0m\u001b[0;34m*\u001b[0m\u001b[0margs\u001b[0m\u001b[0;34m,\u001b[0m \u001b[0;34m**\u001b[0m\u001b[0mkwargs\u001b[0m\u001b[0;34m)\u001b[0m\u001b[0;34m\u001b[0m\u001b[0;34m\u001b[0m\u001b[0m\n\u001b[0m\u001b[1;32m   2359\u001b[0m             \u001b[0;32mreturn\u001b[0m \u001b[0mresult\u001b[0m\u001b[0;34m\u001b[0m\u001b[0;34m\u001b[0m\u001b[0m\n\u001b[1;32m   2360\u001b[0m \u001b[0;34m\u001b[0m\u001b[0m\n",
      "\u001b[0;32m~/anaconda3/lib/python3.7/site-packages/ipyparallel/client/magics.py\u001b[0m in \u001b[0;36mcell_px\u001b[0;34m(self, line, cell)\u001b[0m\n\u001b[1;32m    319\u001b[0m             ar = self.parallel_execute(cell, block=block,\n\u001b[1;32m    320\u001b[0m                                 \u001b[0mgroupby\u001b[0m\u001b[0;34m=\u001b[0m\u001b[0margs\u001b[0m\u001b[0;34m.\u001b[0m\u001b[0mgroupby\u001b[0m\u001b[0;34m,\u001b[0m\u001b[0;34m\u001b[0m\u001b[0;34m\u001b[0m\u001b[0m\n\u001b[0;32m--> 321\u001b[0;31m                                 \u001b[0msave_name\u001b[0m\u001b[0;34m=\u001b[0m\u001b[0margs\u001b[0m\u001b[0;34m.\u001b[0m\u001b[0msave_name\u001b[0m\u001b[0;34m,\u001b[0m\u001b[0;34m\u001b[0m\u001b[0;34m\u001b[0m\u001b[0m\n\u001b[0m\u001b[1;32m    322\u001b[0m             )\n\u001b[1;32m    323\u001b[0m         \u001b[0;32mfinally\u001b[0m\u001b[0;34m:\u001b[0m\u001b[0;34m\u001b[0m\u001b[0;34m\u001b[0m\u001b[0m\n",
      "\u001b[0;32m~/anaconda3/lib/python3.7/site-packages/ipyparallel/client/magics.py\u001b[0m in \u001b[0;36mparallel_execute\u001b[0;34m(self, cell, block, groupby, save_name)\u001b[0m\n\u001b[1;32m    281\u001b[0m \u001b[0;34m\u001b[0m\u001b[0m\n\u001b[1;32m    282\u001b[0m         \u001b[0;32mif\u001b[0m \u001b[0mblock\u001b[0m\u001b[0;34m:\u001b[0m\u001b[0;34m\u001b[0m\u001b[0;34m\u001b[0m\u001b[0m\n\u001b[0;32m--> 283\u001b[0;31m             \u001b[0mresult\u001b[0m\u001b[0;34m.\u001b[0m\u001b[0mget\u001b[0m\u001b[0;34m(\u001b[0m\u001b[0;34m)\u001b[0m\u001b[0;34m\u001b[0m\u001b[0;34m\u001b[0m\u001b[0m\n\u001b[0m\u001b[1;32m    284\u001b[0m             \u001b[0mresult\u001b[0m\u001b[0;34m.\u001b[0m\u001b[0mdisplay_outputs\u001b[0m\u001b[0;34m(\u001b[0m\u001b[0mgroupby\u001b[0m\u001b[0;34m)\u001b[0m\u001b[0;34m\u001b[0m\u001b[0;34m\u001b[0m\u001b[0m\n\u001b[1;32m    285\u001b[0m         \u001b[0;32melse\u001b[0m\u001b[0;34m:\u001b[0m\u001b[0;34m\u001b[0m\u001b[0;34m\u001b[0m\u001b[0m\n",
      "\u001b[0;32m~/anaconda3/lib/python3.7/site-packages/ipyparallel/client/asyncresult.py\u001b[0m in \u001b[0;36mget\u001b[0;34m(self, timeout)\u001b[0m\n\u001b[1;32m    161\u001b[0m         \"\"\"\n\u001b[1;32m    162\u001b[0m         \u001b[0;32mif\u001b[0m \u001b[0;32mnot\u001b[0m \u001b[0mself\u001b[0m\u001b[0;34m.\u001b[0m\u001b[0mready\u001b[0m\u001b[0;34m(\u001b[0m\u001b[0;34m)\u001b[0m\u001b[0;34m:\u001b[0m\u001b[0;34m\u001b[0m\u001b[0;34m\u001b[0m\u001b[0m\n\u001b[0;32m--> 163\u001b[0;31m             \u001b[0mself\u001b[0m\u001b[0;34m.\u001b[0m\u001b[0mwait\u001b[0m\u001b[0;34m(\u001b[0m\u001b[0mtimeout\u001b[0m\u001b[0;34m)\u001b[0m\u001b[0;34m\u001b[0m\u001b[0;34m\u001b[0m\u001b[0m\n\u001b[0m\u001b[1;32m    164\u001b[0m \u001b[0;34m\u001b[0m\u001b[0m\n\u001b[1;32m    165\u001b[0m         \u001b[0;32mif\u001b[0m \u001b[0mself\u001b[0m\u001b[0;34m.\u001b[0m\u001b[0m_ready\u001b[0m\u001b[0;34m:\u001b[0m\u001b[0;34m\u001b[0m\u001b[0;34m\u001b[0m\u001b[0m\n",
      "\u001b[0;32m~/anaconda3/lib/python3.7/site-packages/ipyparallel/client/asyncresult.py\u001b[0m in \u001b[0;36mwait\u001b[0;34m(self, timeout)\u001b[0m\n\u001b[1;32m    211\u001b[0m             \u001b[0mtimeout\u001b[0m \u001b[0;34m=\u001b[0m \u001b[0;32mNone\u001b[0m\u001b[0;34m\u001b[0m\u001b[0;34m\u001b[0m\u001b[0m\n\u001b[1;32m    212\u001b[0m \u001b[0;34m\u001b[0m\u001b[0m\n\u001b[0;32m--> 213\u001b[0;31m         \u001b[0mself\u001b[0m\u001b[0;34m.\u001b[0m\u001b[0m_ready_event\u001b[0m\u001b[0;34m.\u001b[0m\u001b[0mwait\u001b[0m\u001b[0;34m(\u001b[0m\u001b[0mtimeout\u001b[0m\u001b[0;34m)\u001b[0m\u001b[0;34m\u001b[0m\u001b[0;34m\u001b[0m\u001b[0m\n\u001b[0m\u001b[1;32m    214\u001b[0m         \u001b[0mself\u001b[0m\u001b[0;34m.\u001b[0m\u001b[0mwait_for_output\u001b[0m\u001b[0;34m(\u001b[0m\u001b[0;36m0\u001b[0m\u001b[0;34m)\u001b[0m\u001b[0;34m\u001b[0m\u001b[0;34m\u001b[0m\u001b[0m\n\u001b[1;32m    215\u001b[0m         \u001b[0;32mreturn\u001b[0m \u001b[0mself\u001b[0m\u001b[0;34m.\u001b[0m\u001b[0m_ready\u001b[0m\u001b[0;34m\u001b[0m\u001b[0;34m\u001b[0m\u001b[0m\n",
      "\u001b[0;32m~/anaconda3/lib/python3.7/threading.py\u001b[0m in \u001b[0;36mwait\u001b[0;34m(self, timeout)\u001b[0m\n\u001b[1;32m    550\u001b[0m             \u001b[0msignaled\u001b[0m \u001b[0;34m=\u001b[0m \u001b[0mself\u001b[0m\u001b[0;34m.\u001b[0m\u001b[0m_flag\u001b[0m\u001b[0;34m\u001b[0m\u001b[0;34m\u001b[0m\u001b[0m\n\u001b[1;32m    551\u001b[0m             \u001b[0;32mif\u001b[0m \u001b[0;32mnot\u001b[0m \u001b[0msignaled\u001b[0m\u001b[0;34m:\u001b[0m\u001b[0;34m\u001b[0m\u001b[0;34m\u001b[0m\u001b[0m\n\u001b[0;32m--> 552\u001b[0;31m                 \u001b[0msignaled\u001b[0m \u001b[0;34m=\u001b[0m \u001b[0mself\u001b[0m\u001b[0;34m.\u001b[0m\u001b[0m_cond\u001b[0m\u001b[0;34m.\u001b[0m\u001b[0mwait\u001b[0m\u001b[0;34m(\u001b[0m\u001b[0mtimeout\u001b[0m\u001b[0;34m)\u001b[0m\u001b[0;34m\u001b[0m\u001b[0;34m\u001b[0m\u001b[0m\n\u001b[0m\u001b[1;32m    553\u001b[0m             \u001b[0;32mreturn\u001b[0m \u001b[0msignaled\u001b[0m\u001b[0;34m\u001b[0m\u001b[0;34m\u001b[0m\u001b[0m\n\u001b[1;32m    554\u001b[0m \u001b[0;34m\u001b[0m\u001b[0m\n",
      "\u001b[0;32m~/anaconda3/lib/python3.7/threading.py\u001b[0m in \u001b[0;36mwait\u001b[0;34m(self, timeout)\u001b[0m\n\u001b[1;32m    294\u001b[0m         \u001b[0;32mtry\u001b[0m\u001b[0;34m:\u001b[0m    \u001b[0;31m# restore state no matter what (e.g., KeyboardInterrupt)\u001b[0m\u001b[0;34m\u001b[0m\u001b[0;34m\u001b[0m\u001b[0m\n\u001b[1;32m    295\u001b[0m             \u001b[0;32mif\u001b[0m \u001b[0mtimeout\u001b[0m \u001b[0;32mis\u001b[0m \u001b[0;32mNone\u001b[0m\u001b[0;34m:\u001b[0m\u001b[0;34m\u001b[0m\u001b[0;34m\u001b[0m\u001b[0m\n\u001b[0;32m--> 296\u001b[0;31m                 \u001b[0mwaiter\u001b[0m\u001b[0;34m.\u001b[0m\u001b[0macquire\u001b[0m\u001b[0;34m(\u001b[0m\u001b[0;34m)\u001b[0m\u001b[0;34m\u001b[0m\u001b[0;34m\u001b[0m\u001b[0m\n\u001b[0m\u001b[1;32m    297\u001b[0m                 \u001b[0mgotit\u001b[0m \u001b[0;34m=\u001b[0m \u001b[0;32mTrue\u001b[0m\u001b[0;34m\u001b[0m\u001b[0;34m\u001b[0m\u001b[0m\n\u001b[1;32m    298\u001b[0m             \u001b[0;32melse\u001b[0m\u001b[0;34m:\u001b[0m\u001b[0;34m\u001b[0m\u001b[0;34m\u001b[0m\u001b[0m\n",
      "\u001b[0;31mKeyboardInterrupt\u001b[0m: "
     ]
    }
   ],
   "source": [
    "%%px\n",
    "# Set up the average consensus problem.\n",
    "x = torch.randn(10, dtype=torch.double)\n",
    "x_bar = bf.allreduce(x, average=True)\n",
    "mse = [torch.norm(x-x_bar, p=2) / torch.norm(x_bar, p=2)]\n",
    "p = torch.DoubleTensor([1.0])\n",
    "x_ext = torch.cat([x, p], 0)\n",
    "# Instead of initalize the buffer with same value as x_ext,\n",
    "# we initialize it as zero for accumulation.\n",
    "bf.win_create(x_ext, name=\"x_ext\", zero_init=True) \n",
    "outdegree = len(bf.out_neighbor_ranks())\n",
    "indegree = len(bf.in_neighbor_ranks())\n",
    "\n",
    "dst_weights = {rank: 1.0 / (outdegree + 1) for rank in bf.out_neighbor_ranks()}\n",
    "self_weight = 1/(1+outdegree)"
   ]
  },
  {
   "cell_type": "markdown",
   "id": "minor-leone",
   "metadata": {
    "hidden": true
   },
   "source": [
    "But it is not enough with accumulate only. \n",
    "We designate the local buffer of one agent for all incoming neighbors. This means the `win_accumulate` from different agents sends to common destination agent is independent. This property is very crucial to algorithm implementation because you no longer need to consider the data racing problem between the two agents sends to common destinations.\n",
    "On the other hand, it is possible that the `win_update` and the corresponding `win_accumulate` from other agents operate on the same window object *simulatenously*.\n",
    "Since agent $k$ cannot know when the incoming neighbor agent $k'$ will execute the `win_accumulate`, it is impossible to write the code completely avoid that. Consider the following example, the `win_update` at Node 1 may read the old value or the updated value from Node 2, but you cannot control.\n",
    "\n",
    "<img src=\"win_race.png\" alt=\"win_race.png\" width=\"400\"/> \n",
    "\n",
    "This data racing can be problematic for the push-sum algorithm. It can easily break the key mass conservation property  of push-sum algorithm, i.e., the sum of $p$ and $x$ over all agent is always constant.\n",
    "\n",
    "\n",
    "Fortunately, it is very easy to avoid this situation through the **distributed mutex**. It is same usage as normal mutext that when agent $k$ want to update its local window object it has to acquire the mutex first. If it cannot acquire the mutex. it has to wait until the mutex is available. The difference from the normal mutex is that this mutex can also be acquired by neighbor agents. Hence, when an agent $k'$ wants to accumulate some value to the remote window object at agent $k$, it has to acquire the mutex of agent $k'$ first as well.\n",
    "To use this distributed mutex, you just need to set the `require_mutex` argument in `win_accumulate` to be True. (`win_put` and `win_get` have the same argument as well.)"
   ]
  },
  {
   "cell_type": "markdown",
   "id": "silver-europe",
   "metadata": {
    "hidden": true
   },
   "source": [
    "Besides the `win_accumulate` which is the writing side of function, we also need to change the behavior of `win_update` for asynchronous push-sum as well, which is the reading side. One obvious thing is that we need to set `require_mutex` as true. A less obvious thing is that we need clean the buffer in the window. Note by default `win_update` only compute the average value between self and neighbors and leave the value in the buffer untouched. In this case, `win_accumulate` will continue adding the values. Instead, what we want is move the value from buffer to local value, i.e. let self value to be the sum of self and neighbor, and  let the neighbor value to be zero. It is doable though `win_update` with the proper `self_weight`, `neighbor_weigth` and `reset` argument. But it is boilerplate, so we introduce a new function `win_update_then_collect`.\n",
    "\n",
    "Now we are ready to present the asynchronous push-sum algorithm:"
   ]
  },
  {
   "cell_type": "code",
   "execution_count": 82,
   "id": "happy-chrome",
   "metadata": {
    "ExecuteTime": {
     "end_time": "2021-01-25T06:31:38.842586Z",
     "start_time": "2021-01-25T06:31:38.808214Z"
    },
    "hidden": true
   },
   "outputs": [],
   "source": [
    "%%px\n",
    "def push_sum_alg(x, self_weight, dst_weights, name):\n",
    "    global mse\n",
    "    bf.win_accumulate(x, self_weight=self_weight,\n",
    "                      dst_weights=dst_weights, name=name, require_mutex=True)\n",
    "    bf.win_update_then_collect(name=\"x_ext\")\n",
    "    x, associated_p = x_ext[:-1], x_ext[-1]\n",
    "    mse.append(torch.norm(x/associated_p-x_bar, p=2) / torch.norm(x_bar, p=2))\n",
    "    return x_ext"
   ]
  },
  {
   "cell_type": "code",
   "execution_count": 83,
   "id": "finite-hacker",
   "metadata": {
    "ExecuteTime": {
     "end_time": "2021-01-25T06:31:51.671580Z",
     "start_time": "2021-01-25T06:31:48.574848Z"
    },
    "hidden": true
   },
   "outputs": [
    {
     "name": "stdout",
     "output_type": "stream",
     "text": [
      "iteration 95\r"
     ]
    }
   ],
   "source": [
    "for i in range(100):\n",
    "    if i % 5 == 0:\n",
    "        print(f\"iteration {i}\", end=\"\\r\")\n",
    "    %px x_ext = push_sum_alg(x_ext, self_weight, dst_weights, name=\"x_ext\")"
   ]
  },
  {
   "cell_type": "code",
   "execution_count": 84,
   "id": "reduced-yemen",
   "metadata": {
    "ExecuteTime": {
     "end_time": "2021-01-25T06:31:52.720757Z",
     "start_time": "2021-01-25T06:31:52.612099Z"
    },
    "hidden": true
   },
   "outputs": [
    {
     "name": "stdout",
     "output_type": "stream",
     "text": [
      "[stdout:0] associated p at 3 is 0.8898182700777674\n",
      "[stdout:1] associated p at 1 is 0.9986694222075904\n",
      "[stdout:2] associated p at 0 is 1.4583914147304218\n",
      "[stdout:3] associated p at 2 is 0.6531283116099893\n"
     ]
    }
   ],
   "source": [
    "%%px \n",
    "# Do not forget to sync at last!\n",
    "bf.barrier()\n",
    "bf.win_update_then_collect(name=\"x_ext\")\n",
    "x, associated_p = x_ext[:-1], x_ext[-1]\n",
    "print(f\"associated p at {bf.rank()} is {associated_p}\")\n",
    "mse.append(torch.norm(x/associated_p - x_bar, p=2) /\n",
    "           torch.norm(x_bar, p=2))\n",
    "assert bf.win_free(name=\"x_ext\")"
   ]
  },
  {
   "cell_type": "code",
   "execution_count": 85,
   "id": "exclusive-denver",
   "metadata": {
    "ExecuteTime": {
     "end_time": "2021-01-25T06:31:53.802744Z",
     "start_time": "2021-01-25T06:31:53.467159Z"
    },
    "hidden": true
   },
   "outputs": [
    {
     "data": {
      "text/plain": [
       "Text(0.5, 0, 'Local update counts')"
      ]
     },
     "execution_count": 85,
     "metadata": {},
     "output_type": "execute_result"
    },
    {
     "data": {
      "image/png": "[encoded data removed]",
      "text/plain": [
       "<Figure size 432x288 with 1 Axes>"
      ]
     },
     "metadata": {
      "needs_background": "light"
     },
     "output_type": "display_data"
    }
   ],
   "source": [
    "mse_list = rc[:].pull(\"mse\")\n",
    "for i, mse in enumerate(mse_list):\n",
    "    plt.semilogy(mse, label=\"agent \" + str(i))\n",
    "plt.legend()\n",
    "plt.xlabel(\"Local update counts\")"
   ]
  },
  {
   "cell_type": "code",
   "execution_count": 41,
   "id": "oriental-disorder",
   "metadata": {
    "ExecuteTime": {
     "end_time": "2021-01-25T06:23:09.014299Z",
     "start_time": "2021-01-25T06:23:08.975051Z"
    },
    "hidden": true
   },
   "outputs": [],
   "source": [
    "%px bf.resume()"
   ]
  },
  {
   "cell_type": "markdown",
   "id": "ordinary-faculty",
   "metadata": {
    "heading_collapsed": true
   },
   "source": [
    "# Asynchronous push-sum algorithm over the dynamic topology\n",
    "\n",
    "Last, let's present the push-sum combining the asynchronous operation over dynamic topology.\n",
    "The nice convergence property will gurantee that under very mild condition, push-sum algorithm will converge to the mean of all agents no matter what the order of asynchronous operations between agents is and how different the dynamic topologies change with time."
   ]
  },
  {
   "cell_type": "code",
   "execution_count": null,
   "id": "breathing-pontiac",
   "metadata": {
    "hidden": true
   },
   "outputs": [],
   "source": [
    "%%px\n",
    "try:\n",
    "    bf.win_free(name=\"x_ext\")\n",
    "except:\n",
    "    pass\n",
    "\n",
    "# Set up the average consensus problem.\n",
    "x = torch.randn(10, dtype=torch.double)\n",
    "x_bar = bf.allreduce(x, average=True)\n",
    "mse = [torch.norm(x-x_bar, p=2) / torch.norm(x_bar, p=2)]\n",
    "p = torch.DoubleTensor([1.0])\n",
    "x_ext = torch.cat([x, p], 0)\n",
    "# Instead of initalize the buffer with same value as x_ext,\n",
    "# we initialize it as zero for accumulation.\n",
    "bf.win_create(x_ext, name=\"x_ext\", zero_init=True) \n",
    "outdegree = len(bf.out_neighbor_ranks())\n",
    "indegree = len(bf.in_neighbor_ranks())\n"
   ]
  },
  {
   "cell_type": "code",
   "execution_count": null,
   "id": "graduate-latter",
   "metadata": {
    "hidden": true
   },
   "outputs": [],
   "source": [
    "%%px\n",
    "def dynamic_push_sum_alg(i, x, self_weight, dst_weights, name):\n",
    "    global mse\n",
    "    num_out_neighbors = len(bf.out_neighbor_ranks())\n",
    "    sent_neighbor = bf.out_neighbor_ranks()[i % num_out_neighbors]\n",
    "    dst_weights = {sent_neighbor: 0.5}\n",
    "    self_weight = 0.5\n",
    "    bf.win_accumulate(x, self_weight=self_weight,\n",
    "                      dst_weights=dst_weights, name=name, require_mutex=True)\n",
    "    bf.win_update_then_collect(name=\"x_ext\")\n",
    "    x, associated_p = x_ext[:-1], x_ext[-1]\n",
    "    mse.append(torch.norm(x/associated_p-x_bar, p=2) / torch.norm(x_bar, p=2))\n",
    "    return x_ext"
   ]
  },
  {
   "cell_type": "code",
   "execution_count": null,
   "id": "sapphire-guitar",
   "metadata": {
    "hidden": true
   },
   "outputs": [],
   "source": [
    "for i in range(100):\n",
    "    if i % 5 == 0:\n",
    "        print(f\"iteration {i}\", end=\"\\r\")\n",
    "    rc[:].push({\"i\", i})\n",
    "    %px x_ext = dynamic_push_sum_alg(i, x_ext, self_weight, dst_weights, name=\"x_ext\")"
   ]
  },
  {
   "cell_type": "code",
   "execution_count": null,
   "id": "cellular-japanese",
   "metadata": {
    "hidden": true
   },
   "outputs": [],
   "source": [
    "%%px \n",
    "# Do not forget to sync at last!\n",
    "bf.barrier()\n",
    "bf.win_update_then_collect(name=\"x_ext\")\n",
    "x, associated_p = x_ext[:-1], x_ext[-1]\n",
    "print(f\"associated p at {bf.rank()} is {associated_p}\")\n",
    "mse.append(torch.norm(x/associated_p - x_bar, p=2) /\n",
    "           torch.norm(x_bar, p=2))\n",
    "assert bf.win_free(name=\"x_ext\")"
   ]
  },
  {
   "cell_type": "code",
   "execution_count": null,
   "id": "deadly-president",
   "metadata": {
    "hidden": true
   },
   "outputs": [],
   "source": [
    "mse_list = rc[:].pull(\"mse\")\n",
    "for i, mse in enumerate(mse_list):\n",
    "    plt.semilogy(mse, label=\"agent \" + str(i))\n",
    "plt.legend()\n",
    "plt.xlabel(\"Local update counts\")"
   ]
  },
  {
   "cell_type": "code",
   "execution_count": null,
   "id": "exotic-stanley",
   "metadata": {
    "hidden": true
   },
   "outputs": [],
   "source": []
  }
 ],
 "metadata": {
  "kernelspec": {
   "display_name": "Python 3.7.3 64-bit ('base': conda)",
   "language": "python",
   "name": "python37364bitbasecondab45000257b1d4579a7afc8c939c94805"
  },
  "language_info": {
   "codemirror_mode": {
    "name": "ipython",
    "version": 3
   },
   "file_extension": ".py",
   "mimetype": "text/x-python",
   "name": "python",
   "nbconvert_exporter": "python",
   "pygments_lexer": "ipython3",
   "version": "3.7.3"
  },
  "toc": {
   "base_numbering": 1,
   "nav_menu": {},
   "number_sections": true,
   "sideBar": true,
   "skip_h1_title": false,
   "title_cell": "Table of Contents",
   "title_sidebar": "Contents",
   "toc_cell": false,
   "toc_position": {},
   "toc_section_display": true,
   "toc_window_display": false
  }
 },
 "nbformat": 4,
 "nbformat_minor": 5
}

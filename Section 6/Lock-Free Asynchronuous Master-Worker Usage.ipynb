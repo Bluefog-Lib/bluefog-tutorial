{
 "cells": [
  {
   "cell_type": "code",
   "execution_count": 2,
   "id": "baking-romance",
   "metadata": {
    "id": "d76edd1d2581"
   },
   "outputs": [],
   "source": [
    "import ipyparallel as ipp"
   ]
  },
  {
   "cell_type": "code",
   "execution_count": 41,
   "id": "bronze-regular",
   "metadata": {
    "id": "18ed81e20254"
   },
   "outputs": [
    {
     "data": {
      "text/plain": [
       "[0, 1, 2, 3]"
      ]
     },
     "execution_count": 41,
     "metadata": {},
     "output_type": "execute_result"
    }
   ],
   "source": [
    "rc = ipp.Client(profile=\"bluefog\")\n",
    "rc.ids"
   ]
  },
  {
   "cell_type": "code",
   "execution_count": 42,
   "id": "billion-balloon",
   "metadata": {
    "id": "e4beb458238c"
   },
   "outputs": [],
   "source": [
    "dview = rc[:]\n",
    "x = 0\n",
    "y = 2\n",
    "dview.push({\"x\": 0})\n",
    "handle = rc[0].apply_async(lambda : y + 1)"
   ]
  },
  {
   "cell_type": "code",
   "execution_count": 43,
   "id": "pharmaceutical-ecology",
   "metadata": {
    "id": "2950786a88de"
   },
   "outputs": [
    {
     "data": {
      "text/plain": [
       "{2: 9}"
      ]
     },
     "execution_count": 43,
     "metadata": {},
     "output_type": "execute_result"
    }
   ],
   "source": [
    "rc[2].push({\"x\": 8})\n",
    "ar = rc[2].apply_async(lambda: x+1)\n",
    "ar.get_dict()"
   ]
  },
  {
   "cell_type": "code",
   "execution_count": 45,
   "id": "dried-sodium",
   "metadata": {
    "id": "b042104a333c"
   },
   "outputs": [],
   "source": [
    "import concurrent.futures\n",
    "def execute_function_multithreaded(exec_command, args_list, max_workers=100):\n",
    "    \"\"\" Execute functions in multithread manner.\n",
    "\n",
    "    Args:\n",
    "        exec_command: Callable function to run.\n",
    "        args_list: The arguments list for exec_command, each element will be passed\n",
    "            into exec_command and run in multithread paralleled.\n",
    "        max_workers (int, optional): Defaults to 100.\n",
    "\n",
    "    Returns:\n",
    "        A dictionary that maps index to result of exec_command, i.e. index to the\n",
    "        result of exec_command taking \"index\"-th args in the args_list.\n",
    "    \"\"\"\n",
    "    results = {}\n",
    "    _max_workers = min(max_workers, len(args_list))\n",
    "    with concurrent.futures.ThreadPoolExecutor(max_workers=_max_workers) as executor:\n",
    "        futures_to_index = {executor.submit(exec_command, arg): index\n",
    "                            for index, arg in enumerate(args_list)}\n",
    "        for future in concurrent.futures.as_completed(futures_to_index):\n",
    "            index = futures_to_index[future]\n",
    "            results[index] = future.result()\n",
    "    return results"
   ]
  },
  {
   "cell_type": "code",
   "execution_count": 51,
   "id": "searching-annual",
   "metadata": {
    "id": "5eb99a5a710c"
   },
   "outputs": [],
   "source": [
    "def incremental(i):\n",
    "    global x\n",
    "    for _ in range(100):\n",
    "        rc[i].push({\"x\": x})\n",
    "        ar = rc[i].apply_async(lambda: x+1)\n",
    "        x = ar.get_dict()[i]\n",
    "    print(f\"{i}: {x}\")"
   ]
  },
  {
   "cell_type": "code",
   "execution_count": 52,
   "id": "blond-vintage",
   "metadata": {
    "id": "19edacd4f6f3"
   },
   "outputs": [],
   "source": [
    "x = 0"
   ]
  },
  {
   "cell_type": "code",
   "execution_count": 53,
   "id": "polished-infrastructure",
   "metadata": {
    "id": "d70060d117d6"
   },
   "outputs": [
    {
     "name": "stdout",
     "output_type": "stream",
     "text": [
      "0: 100\n",
      "1: 100\n",
      "3: 100\n",
      "2: 100\n"
     ]
    },
    {
     "data": {
      "text/plain": [
       "{0: None, 1: None, 3: None, 2: None}"
      ]
     },
     "execution_count": 53,
     "metadata": {},
     "output_type": "execute_result"
    }
   ],
   "source": [
    "execute_function_multithreaded(incremental, [0, 1, 2, 3], max_workers=4)"
   ]
  },
  {
   "cell_type": "code",
   "execution_count": 54,
   "id": "parental-mention",
   "metadata": {
    "id": "c20a3d117e63"
   },
   "outputs": [
    {
     "data": {
      "text/plain": [
       "100"
      ]
     },
     "execution_count": 54,
     "metadata": {},
     "output_type": "execute_result"
    }
   ],
   "source": [
    "x"
   ]
  },
  {
   "cell_type": "code",
   "execution_count": 55,
   "id": "southwest-response",
   "metadata": {
    "id": "6db6dca9ae92"
   },
   "outputs": [
    {
     "name": "stdout",
     "output_type": "stream",
     "text": [
      "[stdout:0] 99\n",
      "[stdout:1] 99\n",
      "[stdout:2] 99\n",
      "[stdout:3] 99\n"
     ]
    }
   ],
   "source": [
    "%px print(x)"
   ]
  }
 ],
 "metadata": {
  "colab": {
   "name": "Lock-Free Asynchronuous Master-Worker Usage.ipynb",
   "toc_visible": true
  },
  "kernelspec": {
   "display_name": "Python 3",
   "name": "python3"
  }
 },
 "nbformat": 4,
 "nbformat_minor": 0
}
